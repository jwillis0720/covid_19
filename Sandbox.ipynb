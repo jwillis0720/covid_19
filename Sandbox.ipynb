{
 "cells": [
  {
   "cell_type": "code",
   "execution_count": null,
   "metadata": {},
   "outputs": [],
   "source": [
    "import pandas as pd\n",
    "import numpy as np\n",
    "import callbacks\n",
    "\n",
    "MASTER_ALL, MASTER_PID, DATE_MAPPER = callbacks.serve_data(ret=True,serve_local=False)"
   ]
  },
  {
   "cell_type": "code",
   "execution_count": 5,
   "metadata": {},
   "outputs": [],
   "source": [
    "key_values = dict(zip(list(MASTER_PID.index), list(MASTER_PID['Text_Confirmed'].str.split('<br>').str.get(0))))\n"
   ]
  },
  {
   "cell_type": "code",
   "execution_count": 21,
   "metadata": {},
   "outputs": [],
   "source": [
    "key_values=pd.DataFrame(list(key_values.values()),index=key_values.keys(),columns=['name'])\n",
    "\n",
    "key_values[key_values['name'].str.strip().isin(['Worldwide','US'])].index"
   ]
  },
  {
   "cell_type": "code",
   "execution_count": null,
   "metadata": {},
   "outputs": [],
   "source": [
    "worldwide_df = mater_df[mater_df['granularity']=='country'].groupby(['Date','forcast']).sum().reset_index()"
   ]
  },
  {
   "cell_type": "code",
   "execution_count": null,
   "metadata": {},
   "outputs": [],
   "source": [
    "worldwide_df['country'] = 'worldwide'"
   ]
  },
  {
   "cell_type": "code",
   "execution_count": null,
   "metadata": {},
   "outputs": [],
   "source": [
    "mater_df = mater_df.append(worldwide_df).reset_index(drop=True)"
   ]
  },
  {
   "cell_type": "code",
   "execution_count": null,
   "metadata": {},
   "outputs": [],
   "source": [
    "latest_date = mater_df[mater_df['forcast'] == False].groupby('granularity').tail(1)['Date'].min()"
   ]
  },
  {
   "cell_type": "code",
   "execution_count": null,
   "metadata": {},
   "outputs": [],
   "source": [
    "mater_df[mater_df['Date']==latest_date].reset_index(drop=True)"
   ]
  },
  {
   "cell_type": "code",
   "execution_count": 3,
   "metadata": {},
   "outputs": [],
   "source": [
    "MASTER_ALL.to_pickle('Data/MASTER_ALL.pkl',compression='gzip')"
   ]
  },
  {
   "cell_type": "code",
   "execution_count": 4,
   "metadata": {},
   "outputs": [],
   "source": [
    "MASTER_PID.to_pickle('Data/MASTER_PID.pkl',compression='gzip')"
   ]
  },
  {
   "cell_type": "code",
   "execution_count": null,
   "metadata": {},
   "outputs": [],
   "source": [
    "from_pickle = pd.read_pickle('MASTER_ALL.pkl',compression='gzip')"
   ]
  },
  {
   "cell_type": "code",
   "execution_count": null,
   "metadata": {},
   "outputs": [],
   "source": [
    "key_values = dict(zip(list(MASTER_PID.index),list(MASTER_PID['Text_Confirmed'].str.split('<br>').str.get(0))))\n",
    "[{'label':key_values[x].replace('US','United States'), 'value':x} for x in key_values]"
   ]
  },
  {
   "cell_type": "code",
   "execution_count": null,
   "metadata": {},
   "outputs": [],
   "source": [
    "from_pickle.reset_index()['Date']"
   ]
  },
  {
   "cell_type": "code",
   "execution_count": null,
   "metadata": {},
   "outputs": [],
   "source": [
    "max_size = 1500\n",
    "\n",
    "bins, ret_bins = pd.qcut(MASTER_ALL[MASTER_ALL['confirmed'] >= 1]['confirmed'], q=[\n",
    "                             0, .5, 0.6, 0.70, 0.75, 0.8, 0.85, 0.9, 0.95, 0.999, 1], duplicates='drop', retbins=True)    \n",
    "yellows = [\"#606056\", \"#6e6e56\", \"#7b7c55\", \"#898a54\", \"#979953\",\n",
    "           \"#a5a850\", \"#b4b74d\", \"#c3c649\", \"#d2d643\", \"#e2e53c\"]\n",
    "reds = [\"#5a4f4f\", \"#704d4d\", \"#854b4a\", \"#994746\", \"#ac4340\",\n",
    "        \"#be3c3a\", \"#cf3531\", \"#e02a27\", \"#f01c19\", \"#ff0000\"]\n",
    "labels = np.geomspace(1, max_size, num=len(ret_bins)-1)\n",
    "MASTER_ALL['CSize'] = pd.cut(MASTER_ALL['confirmed'],bins=ret_bins,labels=labels).astype(float).fillna(0)\n",
    "MASTER_ALL['DSize'] = pd.cut(MASTER_ALL['deaths'],bins=ret_bins,labels=labels).astype(float).fillna(0)\n",
    "MASTER_ALL['CColor'] = pd.cut(MASTER_ALL['confirmed'], bins=ret_bins, labels=yellows).astype(str).replace({'nan': 'white'})\n",
    "MASTER_ALL['DColor'] = pd.cut(MASTER_ALL['deaths'], bins=ret_bins, labels=reds).astype(str).replace({'nan': 'white'})"
   ]
  },
  {
   "cell_type": "code",
   "execution_count": null,
   "metadata": {
    "code_folding": []
   },
   "outputs": [],
   "source": [
    "from plotly import graph_objects as go\n",
    "from datetime import timedelta\n",
    "mapbox_style = 'mapbox://styles/jwillis0720/ck89nznm609pg1ipadkyrelvb'\n",
    "mapbox_access_token = open('./.mapbox_token').readlines()[0]\n",
    "def get_closest_inerval(n,s='max'):\n",
    "    import math\n",
    "    d = math.floor(math.log(abs(n)) / math.log(10)) \n",
    "    scale = 10**d\n",
    "    if s == 'max':\n",
    "        return math.ceil(n/scale) *scale\n",
    "    return math.floor(n/scale) *scale\n",
    "\n",
    "def plot_map(dataframe,metrics,zoom,center):\n",
    "    fig = go.Figure()\n",
    "    data_traces = []\n",
    "    if not metrics or dataframe.empty:\n",
    "        data_traces.append(go.Scattermapbox(\n",
    "            lon=[],\n",
    "            lat=[]\n",
    "        ))\n",
    "\n",
    "    dataframe = dataframe.reset_index()\n",
    "    dataframe = dataframe[dataframe['Date'] == latest_date + timedelta(days=2)]\n",
    "    dataframe = dataframe[dataframe['CSize'] > 0].sort_values('CSize')[::-1]\n",
    "    if 'confirmed' in metrics and not dataframe.empty:\n",
    "        # First Do Confirmed\n",
    "        gb_confirmed = dataframe.groupby('CSize')\n",
    "        \n",
    "        ##Do this so we can sort them if need be\n",
    "        for group in gb_confirmed:\n",
    "            plotting_df = group[1]\n",
    "            sizes = plotting_df['confirmed']\n",
    "            ##This should be so, but okay\n",
    "            sizes[sizes < 1] = 1\n",
    "            name = \"{}-{}\".format(get_closest_inerval(int(plotting_df['confirmed'].min()),'min'),\n",
    "                                  get_closest_inerval(int(plotting_df['confirmed'].max()),'max'))\n",
    "            data = go.Scattermapbox(\n",
    "                lon=plotting_df['lon'],\n",
    "                lat=plotting_df['lat'],\n",
    "                customdata=plotting_df['pid'],\n",
    "                text=plotting_df['Text_Confirmed'],\n",
    "                hoverinfo='text',\n",
    "                name=name,\n",
    "                mode='markers',\n",
    "                marker=dict(\n",
    "                    opacity=0.85,\n",
    "                    sizemin=3,\n",
    "                    size=plotting_df['CSize'],\n",
    "                    color=plotting_df['CColor'],\n",
    "                    sizemode='area'\n",
    "                )\n",
    "            )\n",
    "            fig.add_trace(data)\n",
    "            #data_traces.append(data)\n",
    "\n",
    "    if 'deaths' in metrics and not dataframe.empty:\n",
    "        #Second Do Confirmed\n",
    "        dataframe = dataframe[dataframe['deaths'] > 1]\n",
    "        gb_deaths = dataframe.groupby('DSize')\n",
    "        \n",
    "        ##Do this so we can sort them if need be\n",
    "        for group in gb_deaths:\n",
    "            plotting_df = group[1]\n",
    "            ##This should be so, but okay\n",
    "            print(int(plotting_df['deaths'].min()))\n",
    "            name = \"{}-{}\".format(get_closest_inerval(int(plotting_df['deaths'].min()),'min'),\n",
    "                                  get_closest_inerval(int(plotting_df['deaths'].max()),'max'))\n",
    "            data = go.Scattermapbox(\n",
    "                lon=plotting_df['lon'],\n",
    "                lat=plotting_df['lat'],\n",
    "                customdata=plotting_df['pid'],\n",
    "                text=plotting_df['Text_Deaths'],\n",
    "                hoverinfo='text',\n",
    "                name=name,\n",
    "                mode='markers',\n",
    "                marker=dict(\n",
    "                    opacity=0.85,\n",
    "                    sizemin=3,\n",
    "                    size=plotting_df['DSize'],\n",
    "                    color=plotting_df['DColor'],\n",
    "                    sizemode='area'\n",
    "                )\n",
    "            )\n",
    "            fig.add_trace(data)\n",
    "\n",
    "    annotations = []\n",
    "    layout = dict(\n",
    "        autosize=True,\n",
    "        showlegend=True,\n",
    "        mapbox=dict(\n",
    "            accesstoken=mapbox_access_token,\n",
    "            style=mapbox_style,\n",
    "            zoom=zoom,\n",
    "            center=center\n",
    "        ),\n",
    "        hovermode=\"closest\",\n",
    "        margin=dict(r=0, l=0, t=0, b=0),\n",
    "        dragmode=\"pan\",\n",
    "        legend=dict(\n",
    "            x=0.00,\n",
    "            y=0.00,\n",
    "            orientation='v',\n",
    "            traceorder=\"normal\",\n",
    "            font=dict(\n",
    "                family=\"Montserrat\",\n",
    "                color=\"white\",\n",
    "                size=16\n",
    "            ),\n",
    "            bgcolor='rgba(0,0,0,0.6)'\n",
    "            #\n",
    "        ),\n",
    "        plot_bgcolor='rgba(0,0,0,0)',\n",
    "        paper_bgcolor='rgba(0,0,0,0)'\n",
    "    )\n",
    "    fig.update_layout(layout)\n",
    "    return fig\n",
    "    #return {'data': data_traces, 'layout': layout}\n",
    "gb = plot_map(MASTER_ALL,['confirmed','deaths'],None,None)\n",
    "gb.show()"
   ]
  },
  {
   "cell_type": "code",
   "execution_count": null,
   "metadata": {},
   "outputs": [],
   "source": []
  },
  {
   "cell_type": "code",
   "execution_count": null,
   "metadata": {},
   "outputs": [],
   "source": [
    "10**d"
   ]
  },
  {
   "cell_type": "code",
   "execution_count": null,
   "metadata": {},
   "outputs": [],
   "source": []
  }
 ],
 "metadata": {
  "kernelspec": {
   "display_name": "Python 3",
   "language": "python",
   "name": "python3"
  },
  "language_info": {
   "codemirror_mode": {
    "name": "ipython",
    "version": 3
   },
   "file_extension": ".py",
   "mimetype": "text/x-python",
   "name": "python",
   "nbconvert_exporter": "python",
   "pygments_lexer": "ipython3",
   "version": "3.7.7"
  },
  "toc": {
   "base_numbering": 1,
   "nav_menu": {},
   "number_sections": true,
   "sideBar": true,
   "skip_h1_title": false,
   "title_cell": "Table of Contents",
   "title_sidebar": "Contents",
   "toc_cell": false,
   "toc_position": {},
   "toc_section_display": true,
   "toc_window_display": false
  }
 },
 "nbformat": 4,
 "nbformat_minor": 2
}
