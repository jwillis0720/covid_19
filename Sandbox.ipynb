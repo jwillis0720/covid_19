{
 "cells": [
  {
   "cell_type": "code",
   "execution_count": 50,
   "metadata": {},
   "outputs": [
    {
     "name": "stdout",
     "output_type": "stream",
     "text": [
      "The autoreload extension is already loaded. To reload it, use:\n",
      "  %reload_ext autoreload\n"
     ]
    }
   ],
   "source": [
    "%load_ext autoreload\n",
    "\n",
    "from tools import write_pandas_to_gsheet\n",
    "\n"
   ]
  },
  {
   "cell_type": "code",
   "execution_count": 650,
   "metadata": {
    "code_folding": []
   },
   "outputs": [
    {
     "name": "stdout",
     "output_type": "stream",
     "text": [
      "Data/csbs_df_Archive_3_26_2020.csv.gz\n",
      "2020-03-22 00:00:00 2020-03-21 00:00:00 219 181 Quebec\n",
      "2020-03-16 00:00:00 2020-03-15 00:00:00 180 171 Iceland\n",
      "2020-03-20 00:00:00 2020-03-19 00:00:00 409 330 Iceland\n",
      "2020-03-21 00:00:00 2020-03-20 00:00:00 330 244 India\n",
      "2020-03-21 00:00:00 2020-03-20 00:00:00 53 49 Kazakhstan\n",
      "2020-03-19 00:00:00 2020-03-18 00:00:00 217 202 Philippines\n",
      "2020-03-22 00:00:00 2020-03-21 00:00:00 185 178 Slovakia\n",
      "2020-03-25 00:00:00 2020-03-24 00:00:00 -1 59 West Bank and Gaza\n",
      "Syncing Data\n",
      "Uploaded provence_df_per_day.csv.gz\n",
      "Uploaded jhu_df_time.csv.gz\n",
      "Uploaded country_df_per_day.csv.gz\n",
      "Uploaded Merged_df.csv.gz\n",
      "Uploaded csbs_df_Archive_03_25_2020.csv.gz\n",
      "Uploaded per_day_stats_by_country.csv.gz\n",
      "Uploaded jhu_df.csv.gz\n",
      "Uploaded csbs_df.csv.gz\n",
      "Uploaded csbs_df_Archive_3_26_2020.csv.gz\n",
      "Uploaded per_day_stats_by_state.csv.gz\n",
      "Uploaded per_day_stats_by_county.csv.gz\n",
      "Uploaded combined_time_scales.csv.gz\n"
     ]
    }
   ],
   "source": [
    "import warnings\n",
    "import pandas as pd\n",
    "import glob\n",
    "import os\n",
    "import logging\n",
    "import boto3\n",
    "from botocore.exceptions import ClientError\n",
    "import COVID19Py\n",
    "import pandas\n",
    "\n",
    "# Cancel copy warnings of pandas\n",
    "warnings.filterwarnings(\n",
    "    \"ignore\", category=pd.core.common.SettingWithCopyWarning)\n",
    "\n",
    "\n",
    "def upload_file(file_name, bucket, object_name=None):\n",
    "    \"\"\"Upload a file to an S3 bucket\n",
    "\n",
    "    :param file_name: File to upload\n",
    "    :param bucket: Bucket to upload to\n",
    "    :param object_name: S3 object name. If not specified then file_name is used\n",
    "    :return: True if file was uploaded, else False\n",
    "    \"\"\"\n",
    "\n",
    "    # If S3 object_name was not specified, use file_name\n",
    "    if object_name is None:\n",
    "        object_name = file_name\n",
    "\n",
    "    # Upload the file\n",
    "    s3_client = boto3.client('s3')\n",
    "    try:\n",
    "        response = s3_client.upload_file(\n",
    "            file_name, bucket, object_name,  ExtraArgs={'ACL': 'public-read'})\n",
    "    except ClientError as e:\n",
    "        logging.error(e)\n",
    "        return False\n",
    "    return True\n",
    "\n",
    "\n",
    "def parse_timeline_date_api_json(json,source):\n",
    "    for_pandas = []\n",
    "    \n",
    "    status_dfs = []\n",
    "    if 'timelines' not in json['locations'][0].keys():\n",
    "        raise ReferenceError('This is not a timeline json')\n",
    "    \n",
    "    dates = []\n",
    "    timestamp = []\n",
    "    confirmed = []\n",
    "    deaths = []\n",
    "    location = []\n",
    "    ids = []\n",
    "    lats = []\n",
    "    lons = []\n",
    "    province = []\n",
    "    country_code = []\n",
    "    country = []\n",
    "    county = []\n",
    "    for location in json['locations']:\n",
    "        d = list(location['timelines']['confirmed']['timeline'].keys())\n",
    "        size_len = len(d)\n",
    "        confirmed_ = list(location['timelines']['confirmed']['timeline'].values())\n",
    "        deaths_ = list(location['timelines']['deaths']['timeline'].values())\n",
    "        timestamp += pandas.to_datetime(d)\n",
    "        assert(len(confirmed_) == len(deaths_) == size_len)\n",
    "        ids += [location['id']]*size_len\n",
    "        lats += [location['coordinates']['latitude']]*size_len\n",
    "        lons +=  [location['coordinates']['longitude']]*size_len\n",
    "        province += [location['province']]*size_len\n",
    "        country_code += [location['country_code']]*size_len\n",
    "        country +=  [location['country']]*size_len\n",
    "        if 'county' in location.keys():\n",
    "            county += [location['county']]*size_len\n",
    "        else:\n",
    "            county += ['']*size_len\n",
    "        confirmed += confirmed_\n",
    "        deaths += deaths_\n",
    "\n",
    "    #print(len(lats),len(lons),len(timestamp))\n",
    "    df = pandas.DataFrame({'id':ids,'lat':lats,'lon':lons,'Timestamp':timestamp,'Date':\"\",'province':province,'country_code':country_code,'country':country,'county':county,'confirmed':confirmed,'deaths':deaths})\n",
    "    df['source'] = source\n",
    "    df['Date'] = df['Timestamp'].dt.date\n",
    "    df['Date'] = pandas.to_datetime(df['Date'])\n",
    "    return df\n",
    "                    \n",
    "\n",
    "def parse_current_date_api_json(json, source):\n",
    "    for_pandas = []\n",
    "    confirmed = []\n",
    "    deaths = []\n",
    "    recovered = []\n",
    "    for location in json['locations']:\n",
    "        entry = {\n",
    "            'id': location['id'],\n",
    "            'lat': location['coordinates']['latitude'],\n",
    "            'lon': location['coordinates']['longitude'],\n",
    "            'Timestamp': pandas.to_datetime(location['last_updated']),\n",
    "            'Date': \"\",\n",
    "            'province': location['province'],\n",
    "            'country_code': location['country_code'],\n",
    "            'country': location['country'],\n",
    "            'county':'',\n",
    "            'confirmed': location['latest']['confirmed'],\n",
    "            'deaths': location['latest']['deaths']}\n",
    "        if 'county' in location.keys():\n",
    "            entry['county'] = location['county']\n",
    "        if 'state' in location.keys():\n",
    "            entry['state'] = location['state']\n",
    "        entry['source'] = source\n",
    "        for_pandas.append(entry)\n",
    "    df = pd.DataFrame(for_pandas)\n",
    "    df['Date'] = df['Timestamp'].dt.date\n",
    "    df['Date'] = pandas.to_datetime(df['Date'])\n",
    "    return df\n",
    "\n",
    "def per_x_cases(grouper, df):\n",
    "    new_cases_by_country = []\n",
    "    date_mapper = pd.DataFrame(\n",
    "        df['Date'].unique(), columns=['Date']).sort_values('Date').reset_index(drop=True)\n",
    "    dates = date_mapper['Date']\n",
    "    #print(dates)\n",
    "    sub_group = df[df[grouper] != \"\"]\n",
    "    groupers = sub_group[grouper].unique()\n",
    "\n",
    "    for group in groupers:\n",
    "        sub_country = sub_group[sub_group[grouper] == group]\n",
    "        new_cases_by_country.append(\n",
    "            {grouper: group, 'Date': dates[0],\n",
    "             'New Cases': sub_country.loc[sub_country['Date'] == dates[0], 'confirmed'].sum(),\n",
    "             'New Deaths': 0})\n",
    "        for date_index in range(1, len(dates)):\n",
    "            current_date = dates[date_index]\n",
    "            day_before = dates[date_index-1]\n",
    "            # print(current_date,day_before)\n",
    "            t_c, t_d = sub_country.loc[sub_country['Date']\n",
    "                                            == current_date, :].sum()[['confirmed', 'deaths']]\n",
    "\n",
    "            y_c, y_d = sub_country.loc[sub_country['Date']\n",
    "                                            == day_before, :].sum()[['confirmed', 'deaths']]\n",
    "\n",
    "            new_cases = t_c - y_c\n",
    "            new_deaths = t_d - y_d\n",
    "            if new_cases < 0:\n",
    "                new_cases = 0\n",
    "            if new_deaths < 0:\n",
    "                new_deaths = 0\n",
    "                print(current_date,day_before,t_c,y_c,group)\n",
    "                #return sub_country\n",
    "            new_cases_by_country.append(\n",
    "                {grouper: group, 'Date': current_date, 'New Cases': new_cases,\n",
    "                 'New Deaths': new_deaths})\n",
    "    return pd.DataFrame(new_cases_by_country)\n",
    "\n",
    "\n",
    "\n",
    "##Get current streaming API\n",
    "covid19_csbs = COVID19Py.COVID19(data_source=\"csbs\").getAll(timelines=True)\n",
    "covid19_jhu = COVID19Py.COVID19(data_source=\"jhu\").getAll(timelines=True)\n",
    "\n",
    "\n",
    "##Gets current values\n",
    "jhu_current = parse_current_date_api_json(covid19_jhu,'JHU')\n",
    "csbs_current = parse_current_date_api_json(covid19_csbs,'CSBS')\n",
    "\n",
    "##Gets timeline values\n",
    "jhu_time = parse_timeline_date_api_json(covid19_jhu,'JHU')\n",
    "\n",
    "##Get Date text\n",
    "csbs_current['Date_text'] = csbs_current['Timestamp'].dt.strftime('%m/%d/%y')\n",
    "jhu_time['Date_text'] = jhu_time['Timestamp'].dt.strftime('%m/%d/%y')\n",
    "jhu_current['Date_text'] = jhu_current['Timestamp'].dt.strftime('%m/%d/%y')\n",
    "\n",
    "\n",
    "##Lets get the current one\n",
    "csbs_df_past = pd.read_csv(\n",
    "    'https://jordansdatabucket.s3-us-west-2.amazonaws.com/covid19data/csbs_df.csv.gz', index_col=0)\n",
    "csbs_df_past['Timestamp'] = pd.to_datetime(csbs_df_past['Date'])\n",
    "csbs_df_past['Date'] = csbs_df_past['Timestamp'].dt.date\n",
    "csbs_df_past['Date'] = pandas.to_datetime(csbs_df_past['Date'])\n",
    "csbs_df_past['Date_text'] = csbs_df_past['Timestamp'].dt.strftime('%m/%d/%y')\n",
    "\n",
    "#sort for columns\n",
    "csbs_df_past = csbs_df_past[csbs_current.columns]\n",
    "\n",
    "##This should be okay since we stored it this way\n",
    "csbs_df_past = csbs_df_past.sort_values('confirmed')[::-1].groupby(['lat','lon','Date','province','country_code','country','county','source']).head(1)\n",
    "\n",
    "##Before we merge lets write out todays date\n",
    "today = date.today()\n",
    "csbs_current.to_csv('Data/csbs_df_Archive_{}_{}_{}.csv.gz'.format(today.month,today.day,today.year))\n",
    "print('Data/csbs_df_Archive_{}_{}_{}.csv.gz'.format(today.month,today.day,today.year))\n",
    "\n",
    "##Lets add together the past and current\n",
    "csbs_new = pd.concat([csbs_df_past,csbs_current])\n",
    "\n",
    "##lets ensure that csbs_new has just one date\n",
    "csbs_new = csbs_new.sort_values('confirmed').groupby(['Date','province','country_code','country','county','source']).head(1)\n",
    "csbs_new['Timestamp'] = pandas.to_datetime(csbs_new['Timestamp'],utc=True)\n",
    "csbs_new['Date_text'] = csbs_new['Timestamp'].dt.strftime('%m/%d/%y')\n",
    "\n",
    "##Make a Date Mapper\n",
    "date_mapper = pd.DataFrame(\n",
    "    pd.to_datetime(jhu_time['Date']).unique(), columns=['Date'])\n",
    "date_mapper['Date_text'] = date_mapper['Date'].dt.strftime('%m/%d/%y')\n",
    "\n",
    "# provence_df_per_day = per_x_cases('province', jhu_df_time, date_mapper)\n",
    "# country_df_per_day = per_x_cases('country', jhu_df_time, date_mapper)\n",
    "# print('Generated Data')\n",
    "\n",
    "##We can combine both csbs and jhu for one awesome timescale\n",
    "combined_time_scales = pandas.concat([jhu_time,csbs_new])\n",
    "\n",
    "##Now get a per day basis\n",
    "province_df = per_x_cases('province',jhu_time)\n",
    "country_df = per_x_cases('country',jhu_time)\n",
    "\n",
    "assert((jhu_time.groupby(['Date','country','province']).count() == 1).all().all())\n",
    "assert((csbs_new.groupby(['Date','country','province','county']).count() == 1).all().all())\n",
    "assert((jhu_current.groupby(['Date','country','province','county']).count() == 1).all().all())\n",
    "assert((all_time_scales.groupby(['Date','country','province','county']).count() == 1).all().all())\n",
    "assert((jhu_current.columns == csbs_new.columns).all())\n",
    "\n",
    "\n",
    "##Lets Write everything out\n",
    "jhu_current.to_csv('Data/jhu_df.csv.gz', compression='gzip')\n",
    "\n",
    "##Write Out Time Course\n",
    "jhu_time.to_csv('Data/jhu_df_time.csv.gz', compression='gzip')\n",
    "\n",
    "##Write out Current CSV\n",
    "csbs_new.to_csv('Data/csbs_df.csv.gz', compression='gzip')\n",
    "\n",
    "##Write oute combined time course\n",
    "combined_time_scales.to_csv('Data/combined_time_scales.csv.gz',compression='gzip')\n",
    "\n",
    "##Province\n",
    "province_jh.to_csv('Data/per_day_stats_by_state.csv.gz')\n",
    "\n",
    "##Province per case by day\n",
    "country_df.to_csv('Data/per_day_stats_by_country.csv.gz')\n",
    "\n",
    "\n",
    "# provence_df_per_day.to_csv(\n",
    "#     'Data/provence_df_per_day.csv.gz', compression='gzip')\n",
    "# country_df_per_day.to_csv('Data/country_df_per_day.csv.gz', compression='gzip')\n",
    "\n",
    "\n",
    "print('Syncing Data')\n",
    "ea = ExtraArgs = {'ACL': 'public-read'}\n",
    "gs = glob.glob('Data/*.csv.gz')\n",
    "for file in gs:\n",
    "    upload_file(file, 'jordansdatabucket', os.path.join(\n",
    "        'covid19data', os.path.basename(file)))\n",
    "    print(\"Uploaded \" + os.path.basename(file))"
   ]
  },
  {
   "cell_type": "code",
   "execution_count": 651,
   "metadata": {},
   "outputs": [],
   "source": [
    "jhu_df_time = jhu_time\n",
    "\n",
    "date_mapper = pd.DataFrame(\n",
    "    jhu_df_time['Date'].unique(), columns=['Date'])\n",
    "date_mapper['Date_text'] = date_mapper['Date'].dt.strftime('%m/%d/%y')"
   ]
  },
  {
   "cell_type": "code",
   "execution_count": 672,
   "metadata": {},
   "outputs": [],
   "source": [
    "csbs_df = csbs_new"
   ]
  },
  {
   "cell_type": "code",
   "execution_count": 733,
   "metadata": {},
   "outputs": [
    {
     "data": {
      "application/vnd.plotly.v1+json": {
       "config": {
        "plotlyServerURL": "https://plot.ly"
       },
       "data": [
        {
         "customdata": [
          "Australian Capital Territory",
          "New South Wales",
          "Northern Territory",
          "Queensland",
          "South Australia",
          "Tasmania",
          "Victoria",
          "Western Australia",
          "Alberta",
          "British Columbia",
          "Grand Princess",
          "Manitoba",
          "New Brunswick",
          "Newfoundland and Labrador",
          "Nova Scotia",
          "Ontario",
          "Prince Edward Island",
          "Quebec",
          "Saskatchewan",
          "Anhui",
          "Beijing",
          "Chongqing",
          "Fujian",
          "Gansu",
          "Guangdong",
          "Guangxi",
          "Guizhou",
          "Hainan",
          "Hebei",
          "Heilongjiang",
          "Henan",
          "Hong Kong",
          "Hubei",
          "Hunan",
          "Inner Mongolia",
          "Jiangsu",
          "Jiangxi",
          "Jilin",
          "Liaoning",
          "Macau",
          "Ningxia",
          "Qinghai",
          "Shaanxi",
          "Shandong",
          "Shanghai",
          "Shanxi",
          "Sichuan",
          "Tianjin",
          "Tibet",
          "Xinjiang",
          "Yunnan",
          "Zhejiang",
          "Faroe Islands",
          "Greenland",
          "French Guiana",
          "French Polynesia",
          "Guadeloupe",
          "Mayotte",
          "New Caledonia",
          "Reunion",
          "Saint Barthelemy",
          "St Martin",
          "Martinique",
          "Aruba",
          "Curacao",
          "Sint Maarten",
          "Bermuda",
          "Cayman Islands",
          "Channel Islands",
          "Gibraltar",
          "Isle of Man",
          "Montserrat",
          "Diamond Princess",
          "Recovered",
          "Alabama",
          "Alaska",
          "Arizona",
          "Arkansas",
          "California",
          "Colorado",
          "Connecticut",
          "Delaware",
          "District of Columbia",
          "Florida",
          "Georgia",
          "Guam",
          "Hawaii",
          "Idaho",
          "Illinois",
          "Indiana",
          "Iowa",
          "Kansas",
          "Kentucky",
          "Louisiana",
          "Maine",
          "Maryland",
          "Massachusetts",
          "Michigan",
          "Minnesota",
          "Mississippi",
          "Missouri",
          "Montana",
          "Nebraska",
          "Nevada",
          "New Hampshire",
          "New Jersey",
          "New Mexico",
          "New York",
          "North Carolina",
          "North Dakota",
          "Ohio",
          "Oklahoma",
          "Oregon",
          "Pennsylvania",
          "Puerto Rico",
          "Rhode Island",
          "South Carolina",
          "South Dakota",
          "Tennessee",
          "Texas",
          "Utah",
          "Vermont",
          "Virginia",
          "Washington",
          "West Virginia",
          "Wisconsin",
          "Wyoming"
         ],
         "hoverinfo": "text",
         "lat": [
          -35.46021090492017,
          -33.883132903441414,
          -12.484368878060192,
          -28.03959501806471,
          -34.91945004140204,
          -41.45656139809333,
          -37.81277488460031,
          -31.937087597491363,
          53.9682671997051,
          49.29914707204656,
          37.67815046547106,
          53.810293430034235,
          46.53660934058207,
          53.101436267948394,
          44.70833338705605,
          51.2445026679423,
          46.4861602345794,
          52.94738023667701,
          52.960555977786754,
          31.824565138845443,
          40.18023454304851,
          30.047337489532804,
          26.047892058437807,
          37.82031063276194,
          23.322776774969803,
          23.82325876968761,
          26.8025029317283,
          19.22656106504962,
          39.50436602718271,
          47.87129088147617,
          33.902335685469616,
          22.300485022513982,
          31.00690848044727,
          27.576674084574584,
          44.067489146432656,
          32.97727520094533,
          27.59671755972259,
          43.65358313585137,
          41.25588555724143,
          22.13908071298837,
          37.324203182670395,
          35.7460335963907,
          35.21586362075332,
          36.331824692969256,
          31.219099781242765,
          37.56936752151246,
          30.60987882968527,
          39.3084422789228,
          31.688481189612048,
          41.12072728388344,
          24.957689416111787,
          29.179263940839594,
          61.88772527996684,
          71.68853434601682,
          3.890314102342775,
          -17.67106032283741,
          16.238067159998934,
          -12.798729617305645,
          -20.885680028569105,
          -21.11782807167626,
          17.919931736403814,
          18.06406920079376,
          14.647738113229039,
          12.533482671034395,
          12.130598724852065,
          18.039688826666907,
          32.314466220804825,
          19.303082104341875,
          49.38721309857725,
          36.11252331946119,
          54.211939657873955,
          16.760304450073615,
          -0.07318351947740175,
          -0.007187830114398677,
          33.54565541173611,
          61.20126974808062,
          33.35034438294193,
          34.74375489509043,
          34.04091678853479,
          39.7324763840856,
          41.161078537883846,
          39.660361457268976,
          38.92858393715015,
          25.611408787718155,
          33.78599109915417,
          13.519746275303278,
          21.312580163130136,
          43.410614607031505,
          41.84864059869881,
          39.76965725429493,
          41.66541597521715,
          38.892864417651445,
          38.15705179446064,
          30.040759669998348,
          43.79199382370929,
          39.13986498468426,
          42.531395317731736,
          42.29903117562983,
          44.983742098653366,
          32.230542648408445,
          38.58302493647216,
          45.515326289076434,
          41.320070941890066,
          36.22710733750824,
          43.05120531559921,
          40.95308682842174,
          35.05611402381165,
          40.70792548002589,
          35.24238276248225,
          46.96538105599354,
          41.44406391567863,
          35.57776655771167,
          45.569957057433975,
          39.944743367381875,
          18.231161266279813,
          41.82589416096059,
          34.348407186309124,
          44.44224324086775,
          36.166896180983514,
          32.77403184448262,
          40.74770210505919,
          44.45364534709684,
          38.83893208229747,
          47.50110112659335,
          39.664859208344716,
          43.01261980787827,
          43.03179559024509
         ],
         "lon": [
          149.04912388251847,
          151.2199239421181,
          130.8276610062864,
          153.41853822483193,
          138.59397901840052,
          145.96333852153774,
          144.9402177023746,
          115.84873226627136,
          -116.54467250943308,
          -123.14978717156961,
          -122.67021245032427,
          -98.83196991671419,
          -66.47447853987407,
          -57.69543542629168,
          -63.74980326678746,
          -85.33445318193465,
          -63.39801731332797,
          -73.5335966996395,
          -106.48161749255735,
          117.22039953321185,
          116.40459798560242,
          107.87861309058701,
          117.99644941131905,
          101.04883435200541,
          113.45500983134683,
          108.79235228878191,
          106.8966378735092,
          109.76748475869562,
          116.13891144007762,
          127.7590211681839,
          113.6210537395631,
          114.1696470998291,
          112.28440877111528,
          111.69968509984302,
          113.97833907298563,
          119.46071175600979,
          115.71501518141268,
          126.1740082655524,
          122.61138735591014,
          113.51156211771784,
          106.14903655166056,
          95.97095374190484,
          108.8619585179382,
          118.1420380506776,
          121.46526543565615,
          112.30580500108813,
          102.69297802491394,
          117.3321077928458,
          88.10390958416971,
          85.22591023346638,
          101.511382945726,
          120.07605585248312,
          -6.880833854683946,
          -42.58184505799194,
          -53.08250524950395,
          149.40920335673226,
          -61.58042174016236,
          45.18628519322542,
          165.66006753953542,
          55.247060898002964,
          -62.81899651800284,
          -63.03408244462615,
          -60.99208776688517,
          -70.05742561418676,
          -68.97940443216262,
          -63.08418651670943,
          -64.75857025183271,
          -81.25985214547875,
          -2.358217261523964,
          -5.34050846677727,
          -4.533813915694219,
          -62.18710579398189,
          0.011962216457385632,
          -0.013148627878746167,
          -86.88502054566797,
          -149.88632271580147,
          -112.4682028368107,
          -92.3265081568083,
          -118.24631126638874,
          -104.97649986045927,
          -73.26741779766951,
          -75.56194857880429,
          -77.04961185330436,
          -80.53619498165511,
          -84.44229899398167,
          144.8530807989021,
          -157.8255610377253,
          -114.00011085539258,
          -87.80920494147928,
          -86.12973764386554,
          -91.60000428558722,
          -94.8134731188595,
          -85.65419475509034,
          -89.89818216060814,
          -70.26896804564805,
          -77.20610389983241,
          -71.39977315696525,
          -83.42280340106582,
          -93.46990998171592,
          -90.45726565731638,
          -90.2079531120089,
          -111.17445311508003,
          -96.16419881066273,
          -115.06590644334185,
          -70.93327208185305,
          -74.06260211329592,
          -106.67268820993343,
          -73.97824117907166,
          -80.80849863154022,
          -100.49108170334333,
          -81.65606091229746,
          -97.51098844081191,
          -123.0941043477975,
          -75.16220876456977,
          -66.47917095191173,
          -71.4094984186358,
          -80.5888328546954,
          -98.29542705371598,
          -86.77742211019094,
          -96.8079140563234,
          -111.90387266318314,
          -73.04391820674603,
          -77.31614563844006,
          -121.7848195510706,
          -80.07613632667216,
          -87.92296351685411,
          -108.61549469734825
         ],
         "marker": {
          "color": "yellow",
          "size": [
           39,
           1029,
           6,
           443,
           170,
           36,
           466,
           175,
           358,
           617,
           13,
           35,
           18,
           35,
           68,
           688,
           5,
           1342,
           72,
           990,
           561,
           578,
           322,
           136,
           1433,
           254,
           146,
           168,
           319,
           484,
           1274,
           410,
           67801,
           1018,
           77,
           638,
           936,
           94,
           127,
           30,
           75,
           18,
           250,
           769,
           433,
           134,
           547,
           145,
           1,
           76,
           176,
           1241,
           132,
           6,
           28,
           25,
           73,
           36,
           14,
           111,
           3,
           11,
           66,
           17,
           6,
           3,
           7,
           8,
           46,
           26,
           23,
           1,
           0,
           0,
           242,
           42,
           326,
           218,
           2628,
           894,
           618,
           104,
           187,
           1467,
           1020,
           32,
           70,
           81,
           1537,
           369,
           123,
           102,
           144,
           1376,
           118,
           351,
           1074,
           1795,
           262,
           320,
           277,
           51,
           71,
           270,
           108,
           3030,
           100,
           26376,
           512,
           36,
           567,
           106,
           210,
           946,
           39,
           101,
           342,
           30,
           742,
           1027,
           298,
           95,
           304,
           2421,
           39,
           481,
           37
          ],
          "sizemin": 10,
          "sizeref": 339.005
         },
         "mode": "markers",
         "name": "cases",
         "text": [
          "Australian Capital Territory<br>Total Cases at 03/25/20 : 39",
          "New South Wales<br>Total Cases at 03/25/20 : 1,029",
          "Northern Territory<br>Total Cases at 03/25/20 : 6",
          "Queensland<br>Total Cases at 03/25/20 : 443",
          "South Australia<br>Total Cases at 03/25/20 : 170",
          "Tasmania<br>Total Cases at 03/25/20 : 36",
          "Victoria<br>Total Cases at 03/25/20 : 466",
          "Western Australia<br>Total Cases at 03/25/20 : 175",
          "Alberta<br>Total Cases at 03/25/20 : 358",
          "British Columbia<br>Total Cases at 03/25/20 : 617",
          "Grand Princess<br>Total Cases at 03/25/20 : 13",
          "Manitoba<br>Total Cases at 03/25/20 : 35",
          "New Brunswick<br>Total Cases at 03/25/20 : 18",
          "Newfoundland and Labrador<br>Total Cases at 03/25/20 : 35",
          "Nova Scotia<br>Total Cases at 03/25/20 : 68",
          "Ontario<br>Total Cases at 03/25/20 : 688",
          "Prince Edward Island<br>Total Cases at 03/25/20 : 5",
          "Quebec<br>Total Cases at 03/25/20 : 1,342",
          "Saskatchewan<br>Total Cases at 03/25/20 : 72",
          "Anhui<br>Total Cases at 03/25/20 : 990",
          "Beijing<br>Total Cases at 03/25/20 : 561",
          "Chongqing<br>Total Cases at 03/25/20 : 578",
          "Fujian<br>Total Cases at 03/25/20 : 322",
          "Gansu<br>Total Cases at 03/25/20 : 136",
          "Guangdong<br>Total Cases at 03/25/20 : 1,433",
          "Guangxi<br>Total Cases at 03/25/20 : 254",
          "Guizhou<br>Total Cases at 03/25/20 : 146",
          "Hainan<br>Total Cases at 03/25/20 : 168",
          "Hebei<br>Total Cases at 03/25/20 : 319",
          "Heilongjiang<br>Total Cases at 03/25/20 : 484",
          "Henan<br>Total Cases at 03/25/20 : 1,274",
          "Hong Kong<br>Total Cases at 03/25/20 : 410",
          "Hubei<br>Total Cases at 03/25/20 : 67,801",
          "Hunan<br>Total Cases at 03/25/20 : 1,018",
          "Inner Mongolia<br>Total Cases at 03/25/20 : 77",
          "Jiangsu<br>Total Cases at 03/25/20 : 638",
          "Jiangxi<br>Total Cases at 03/25/20 : 936",
          "Jilin<br>Total Cases at 03/25/20 : 94",
          "Liaoning<br>Total Cases at 03/25/20 : 127",
          "Macau<br>Total Cases at 03/25/20 : 30",
          "Ningxia<br>Total Cases at 03/25/20 : 75",
          "Qinghai<br>Total Cases at 03/25/20 : 18",
          "Shaanxi<br>Total Cases at 03/25/20 : 250",
          "Shandong<br>Total Cases at 03/25/20 : 769",
          "Shanghai<br>Total Cases at 03/25/20 : 433",
          "Shanxi<br>Total Cases at 03/25/20 : 134",
          "Sichuan<br>Total Cases at 03/25/20 : 547",
          "Tianjin<br>Total Cases at 03/25/20 : 145",
          "Tibet<br>Total Cases at 03/25/20 : 1",
          "Xinjiang<br>Total Cases at 03/25/20 : 76",
          "Yunnan<br>Total Cases at 03/25/20 : 176",
          "Zhejiang<br>Total Cases at 03/25/20 : 1,241",
          "Faroe Islands<br>Total Cases at 03/25/20 : 132",
          "Greenland<br>Total Cases at 03/25/20 : 6",
          "French Guiana<br>Total Cases at 03/25/20 : 28",
          "French Polynesia<br>Total Cases at 03/25/20 : 25",
          "Guadeloupe<br>Total Cases at 03/25/20 : 73",
          "Mayotte<br>Total Cases at 03/25/20 : 36",
          "New Caledonia<br>Total Cases at 03/25/20 : 14",
          "Reunion<br>Total Cases at 03/25/20 : 111",
          "Saint Barthelemy<br>Total Cases at 03/25/20 : 3",
          "St Martin<br>Total Cases at 03/25/20 : 11",
          "Martinique<br>Total Cases at 03/25/20 : 66",
          "Aruba<br>Total Cases at 03/25/20 : 17",
          "Curacao<br>Total Cases at 03/25/20 : 6",
          "Sint Maarten<br>Total Cases at 03/25/20 : 3",
          "Bermuda<br>Total Cases at 03/25/20 : 7",
          "Cayman Islands<br>Total Cases at 03/25/20 : 8",
          "Channel Islands<br>Total Cases at 03/25/20 : 46",
          "Gibraltar<br>Total Cases at 03/25/20 : 26",
          "Isle of Man<br>Total Cases at 03/25/20 : 23",
          "Montserrat<br>Total Cases at 03/25/20 : 1",
          "Diamond Princess<br>Total Cases at 03/25/20 : 0",
          "Recovered<br>Total Cases at 03/25/20 : 0",
          "Alabama<br>Total Cases at 03/25/20 : 242",
          "Alaska<br>Total Cases at 03/25/20 : 42",
          "Arizona<br>Total Cases at 03/25/20 : 326",
          "Arkansas<br>Total Cases at 03/25/20 : 218",
          "California<br>Total Cases at 03/25/20 : 2,628",
          "Colorado<br>Total Cases at 03/25/20 : 894",
          "Connecticut<br>Total Cases at 03/25/20 : 618",
          "Delaware<br>Total Cases at 03/25/20 : 104",
          "District of Columbia<br>Total Cases at 03/25/20 : 187",
          "Florida<br>Total Cases at 03/25/20 : 1,467",
          "Georgia<br>Total Cases at 03/25/20 : 1,020",
          "Guam<br>Total Cases at 03/25/20 : 32",
          "Hawaii<br>Total Cases at 03/25/20 : 70",
          "Idaho<br>Total Cases at 03/25/20 : 81",
          "Illinois<br>Total Cases at 03/25/20 : 1,537",
          "Indiana<br>Total Cases at 03/25/20 : 369",
          "Iowa<br>Total Cases at 03/25/20 : 123",
          "Kansas<br>Total Cases at 03/25/20 : 102",
          "Kentucky<br>Total Cases at 03/25/20 : 144",
          "Louisiana<br>Total Cases at 03/25/20 : 1,376",
          "Maine<br>Total Cases at 03/25/20 : 118",
          "Maryland<br>Total Cases at 03/25/20 : 351",
          "Massachusetts<br>Total Cases at 03/25/20 : 1,074",
          "Michigan<br>Total Cases at 03/25/20 : 1,795",
          "Minnesota<br>Total Cases at 03/25/20 : 262",
          "Mississippi<br>Total Cases at 03/25/20 : 320",
          "Missouri<br>Total Cases at 03/25/20 : 277",
          "Montana<br>Total Cases at 03/25/20 : 51",
          "Nebraska<br>Total Cases at 03/25/20 : 71",
          "Nevada<br>Total Cases at 03/25/20 : 270",
          "New Hampshire<br>Total Cases at 03/25/20 : 108",
          "New Jersey<br>Total Cases at 03/25/20 : 3,030",
          "New Mexico<br>Total Cases at 03/25/20 : 100",
          "New York<br>Total Cases at 03/25/20 : 26,376",
          "North Carolina<br>Total Cases at 03/25/20 : 512",
          "North Dakota<br>Total Cases at 03/25/20 : 36",
          "Ohio<br>Total Cases at 03/25/20 : 567",
          "Oklahoma<br>Total Cases at 03/25/20 : 106",
          "Oregon<br>Total Cases at 03/25/20 : 210",
          "Pennsylvania<br>Total Cases at 03/25/20 : 946",
          "Puerto Rico<br>Total Cases at 03/25/20 : 39",
          "Rhode Island<br>Total Cases at 03/25/20 : 101",
          "South Carolina<br>Total Cases at 03/25/20 : 342",
          "South Dakota<br>Total Cases at 03/25/20 : 30",
          "Tennessee<br>Total Cases at 03/25/20 : 742",
          "Texas<br>Total Cases at 03/25/20 : 1,027",
          "Utah<br>Total Cases at 03/25/20 : 298",
          "Vermont<br>Total Cases at 03/25/20 : 95",
          "Virginia<br>Total Cases at 03/25/20 : 304",
          "Washington<br>Total Cases at 03/25/20 : 2,421",
          "West Virginia<br>Total Cases at 03/25/20 : 39",
          "Wisconsin<br>Total Cases at 03/25/20 : 481",
          "Wyoming<br>Total Cases at 03/25/20 : 37"
         ],
         "textposition": "top right",
         "type": "scattermapbox"
        }
       ],
       "layout": {
        "autosize": true,
        "dragmode": "pan",
        "hovermode": "closest",
        "legend": {
         "bgcolor": "rgba(0,0,0,0)",
         "font": {
          "color": "white",
          "family": "sans-serif",
          "size": 14
         },
         "traceorder": "normal",
         "x": 0.92,
         "y": 1
        },
        "mapbox": {
         "accesstoken": "pk.eyJ1IjoiandpbGxpczA3MjAiLCJhIjoiY2s4MHhoYmF6MDFoODNpcnVyNGR2bWk1bSJ9.YNwklD1Aa6DihVblHr3GVg\n",
         "center": {
          "lat": 15.74,
          "lon": -1.4
         },
         "style": "dark",
         "zoom": 1.6
        },
        "margin": {
         "b": 0,
         "l": 0,
         "r": 0,
         "t": 0
        },
        "showlegend": true,
        "template": {
         "data": {
          "bar": [
           {
            "error_x": {
             "color": "#2a3f5f"
            },
            "error_y": {
             "color": "#2a3f5f"
            },
            "marker": {
             "line": {
              "color": "#E5ECF6",
              "width": 0.5
             }
            },
            "type": "bar"
           }
          ],
          "barpolar": [
           {
            "marker": {
             "line": {
              "color": "#E5ECF6",
              "width": 0.5
             }
            },
            "type": "barpolar"
           }
          ],
          "carpet": [
           {
            "aaxis": {
             "endlinecolor": "#2a3f5f",
             "gridcolor": "white",
             "linecolor": "white",
             "minorgridcolor": "white",
             "startlinecolor": "#2a3f5f"
            },
            "baxis": {
             "endlinecolor": "#2a3f5f",
             "gridcolor": "white",
             "linecolor": "white",
             "minorgridcolor": "white",
             "startlinecolor": "#2a3f5f"
            },
            "type": "carpet"
           }
          ],
          "choropleth": [
           {
            "colorbar": {
             "outlinewidth": 0,
             "ticks": ""
            },
            "type": "choropleth"
           }
          ],
          "contour": [
           {
            "colorbar": {
             "outlinewidth": 0,
             "ticks": ""
            },
            "colorscale": [
             [
              0,
              "#0d0887"
             ],
             [
              0.1111111111111111,
              "#46039f"
             ],
             [
              0.2222222222222222,
              "#7201a8"
             ],
             [
              0.3333333333333333,
              "#9c179e"
             ],
             [
              0.4444444444444444,
              "#bd3786"
             ],
             [
              0.5555555555555556,
              "#d8576b"
             ],
             [
              0.6666666666666666,
              "#ed7953"
             ],
             [
              0.7777777777777778,
              "#fb9f3a"
             ],
             [
              0.8888888888888888,
              "#fdca26"
             ],
             [
              1,
              "#f0f921"
             ]
            ],
            "type": "contour"
           }
          ],
          "contourcarpet": [
           {
            "colorbar": {
             "outlinewidth": 0,
             "ticks": ""
            },
            "type": "contourcarpet"
           }
          ],
          "heatmap": [
           {
            "colorbar": {
             "outlinewidth": 0,
             "ticks": ""
            },
            "colorscale": [
             [
              0,
              "#0d0887"
             ],
             [
              0.1111111111111111,
              "#46039f"
             ],
             [
              0.2222222222222222,
              "#7201a8"
             ],
             [
              0.3333333333333333,
              "#9c179e"
             ],
             [
              0.4444444444444444,
              "#bd3786"
             ],
             [
              0.5555555555555556,
              "#d8576b"
             ],
             [
              0.6666666666666666,
              "#ed7953"
             ],
             [
              0.7777777777777778,
              "#fb9f3a"
             ],
             [
              0.8888888888888888,
              "#fdca26"
             ],
             [
              1,
              "#f0f921"
             ]
            ],
            "type": "heatmap"
           }
          ],
          "heatmapgl": [
           {
            "colorbar": {
             "outlinewidth": 0,
             "ticks": ""
            },
            "colorscale": [
             [
              0,
              "#0d0887"
             ],
             [
              0.1111111111111111,
              "#46039f"
             ],
             [
              0.2222222222222222,
              "#7201a8"
             ],
             [
              0.3333333333333333,
              "#9c179e"
             ],
             [
              0.4444444444444444,
              "#bd3786"
             ],
             [
              0.5555555555555556,
              "#d8576b"
             ],
             [
              0.6666666666666666,
              "#ed7953"
             ],
             [
              0.7777777777777778,
              "#fb9f3a"
             ],
             [
              0.8888888888888888,
              "#fdca26"
             ],
             [
              1,
              "#f0f921"
             ]
            ],
            "type": "heatmapgl"
           }
          ],
          "histogram": [
           {
            "marker": {
             "colorbar": {
              "outlinewidth": 0,
              "ticks": ""
             }
            },
            "type": "histogram"
           }
          ],
          "histogram2d": [
           {
            "colorbar": {
             "outlinewidth": 0,
             "ticks": ""
            },
            "colorscale": [
             [
              0,
              "#0d0887"
             ],
             [
              0.1111111111111111,
              "#46039f"
             ],
             [
              0.2222222222222222,
              "#7201a8"
             ],
             [
              0.3333333333333333,
              "#9c179e"
             ],
             [
              0.4444444444444444,
              "#bd3786"
             ],
             [
              0.5555555555555556,
              "#d8576b"
             ],
             [
              0.6666666666666666,
              "#ed7953"
             ],
             [
              0.7777777777777778,
              "#fb9f3a"
             ],
             [
              0.8888888888888888,
              "#fdca26"
             ],
             [
              1,
              "#f0f921"
             ]
            ],
            "type": "histogram2d"
           }
          ],
          "histogram2dcontour": [
           {
            "colorbar": {
             "outlinewidth": 0,
             "ticks": ""
            },
            "colorscale": [
             [
              0,
              "#0d0887"
             ],
             [
              0.1111111111111111,
              "#46039f"
             ],
             [
              0.2222222222222222,
              "#7201a8"
             ],
             [
              0.3333333333333333,
              "#9c179e"
             ],
             [
              0.4444444444444444,
              "#bd3786"
             ],
             [
              0.5555555555555556,
              "#d8576b"
             ],
             [
              0.6666666666666666,
              "#ed7953"
             ],
             [
              0.7777777777777778,
              "#fb9f3a"
             ],
             [
              0.8888888888888888,
              "#fdca26"
             ],
             [
              1,
              "#f0f921"
             ]
            ],
            "type": "histogram2dcontour"
           }
          ],
          "mesh3d": [
           {
            "colorbar": {
             "outlinewidth": 0,
             "ticks": ""
            },
            "type": "mesh3d"
           }
          ],
          "parcoords": [
           {
            "line": {
             "colorbar": {
              "outlinewidth": 0,
              "ticks": ""
             }
            },
            "type": "parcoords"
           }
          ],
          "pie": [
           {
            "automargin": true,
            "type": "pie"
           }
          ],
          "scatter": [
           {
            "marker": {
             "colorbar": {
              "outlinewidth": 0,
              "ticks": ""
             }
            },
            "type": "scatter"
           }
          ],
          "scatter3d": [
           {
            "line": {
             "colorbar": {
              "outlinewidth": 0,
              "ticks": ""
             }
            },
            "marker": {
             "colorbar": {
              "outlinewidth": 0,
              "ticks": ""
             }
            },
            "type": "scatter3d"
           }
          ],
          "scattercarpet": [
           {
            "marker": {
             "colorbar": {
              "outlinewidth": 0,
              "ticks": ""
             }
            },
            "type": "scattercarpet"
           }
          ],
          "scattergeo": [
           {
            "marker": {
             "colorbar": {
              "outlinewidth": 0,
              "ticks": ""
             }
            },
            "type": "scattergeo"
           }
          ],
          "scattergl": [
           {
            "marker": {
             "colorbar": {
              "outlinewidth": 0,
              "ticks": ""
             }
            },
            "type": "scattergl"
           }
          ],
          "scattermapbox": [
           {
            "marker": {
             "colorbar": {
              "outlinewidth": 0,
              "ticks": ""
             }
            },
            "type": "scattermapbox"
           }
          ],
          "scatterpolar": [
           {
            "marker": {
             "colorbar": {
              "outlinewidth": 0,
              "ticks": ""
             }
            },
            "type": "scatterpolar"
           }
          ],
          "scatterpolargl": [
           {
            "marker": {
             "colorbar": {
              "outlinewidth": 0,
              "ticks": ""
             }
            },
            "type": "scatterpolargl"
           }
          ],
          "scatterternary": [
           {
            "marker": {
             "colorbar": {
              "outlinewidth": 0,
              "ticks": ""
             }
            },
            "type": "scatterternary"
           }
          ],
          "surface": [
           {
            "colorbar": {
             "outlinewidth": 0,
             "ticks": ""
            },
            "colorscale": [
             [
              0,
              "#0d0887"
             ],
             [
              0.1111111111111111,
              "#46039f"
             ],
             [
              0.2222222222222222,
              "#7201a8"
             ],
             [
              0.3333333333333333,
              "#9c179e"
             ],
             [
              0.4444444444444444,
              "#bd3786"
             ],
             [
              0.5555555555555556,
              "#d8576b"
             ],
             [
              0.6666666666666666,
              "#ed7953"
             ],
             [
              0.7777777777777778,
              "#fb9f3a"
             ],
             [
              0.8888888888888888,
              "#fdca26"
             ],
             [
              1,
              "#f0f921"
             ]
            ],
            "type": "surface"
           }
          ],
          "table": [
           {
            "cells": {
             "fill": {
              "color": "#EBF0F8"
             },
             "line": {
              "color": "white"
             }
            },
            "header": {
             "fill": {
              "color": "#C8D4E3"
             },
             "line": {
              "color": "white"
             }
            },
            "type": "table"
           }
          ]
         },
         "layout": {
          "annotationdefaults": {
           "arrowcolor": "#2a3f5f",
           "arrowhead": 0,
           "arrowwidth": 1
          },
          "coloraxis": {
           "colorbar": {
            "outlinewidth": 0,
            "ticks": ""
           }
          },
          "colorscale": {
           "diverging": [
            [
             0,
             "#8e0152"
            ],
            [
             0.1,
             "#c51b7d"
            ],
            [
             0.2,
             "#de77ae"
            ],
            [
             0.3,
             "#f1b6da"
            ],
            [
             0.4,
             "#fde0ef"
            ],
            [
             0.5,
             "#f7f7f7"
            ],
            [
             0.6,
             "#e6f5d0"
            ],
            [
             0.7,
             "#b8e186"
            ],
            [
             0.8,
             "#7fbc41"
            ],
            [
             0.9,
             "#4d9221"
            ],
            [
             1,
             "#276419"
            ]
           ],
           "sequential": [
            [
             0,
             "#0d0887"
            ],
            [
             0.1111111111111111,
             "#46039f"
            ],
            [
             0.2222222222222222,
             "#7201a8"
            ],
            [
             0.3333333333333333,
             "#9c179e"
            ],
            [
             0.4444444444444444,
             "#bd3786"
            ],
            [
             0.5555555555555556,
             "#d8576b"
            ],
            [
             0.6666666666666666,
             "#ed7953"
            ],
            [
             0.7777777777777778,
             "#fb9f3a"
            ],
            [
             0.8888888888888888,
             "#fdca26"
            ],
            [
             1,
             "#f0f921"
            ]
           ],
           "sequentialminus": [
            [
             0,
             "#0d0887"
            ],
            [
             0.1111111111111111,
             "#46039f"
            ],
            [
             0.2222222222222222,
             "#7201a8"
            ],
            [
             0.3333333333333333,
             "#9c179e"
            ],
            [
             0.4444444444444444,
             "#bd3786"
            ],
            [
             0.5555555555555556,
             "#d8576b"
            ],
            [
             0.6666666666666666,
             "#ed7953"
            ],
            [
             0.7777777777777778,
             "#fb9f3a"
            ],
            [
             0.8888888888888888,
             "#fdca26"
            ],
            [
             1,
             "#f0f921"
            ]
           ]
          },
          "colorway": [
           "#636efa",
           "#EF553B",
           "#00cc96",
           "#ab63fa",
           "#FFA15A",
           "#19d3f3",
           "#FF6692",
           "#B6E880",
           "#FF97FF",
           "#FECB52"
          ],
          "font": {
           "color": "#2a3f5f"
          },
          "geo": {
           "bgcolor": "white",
           "lakecolor": "white",
           "landcolor": "#E5ECF6",
           "showlakes": true,
           "showland": true,
           "subunitcolor": "white"
          },
          "hoverlabel": {
           "align": "left"
          },
          "hovermode": "closest",
          "mapbox": {
           "style": "light"
          },
          "paper_bgcolor": "white",
          "plot_bgcolor": "#E5ECF6",
          "polar": {
           "angularaxis": {
            "gridcolor": "white",
            "linecolor": "white",
            "ticks": ""
           },
           "bgcolor": "#E5ECF6",
           "radialaxis": {
            "gridcolor": "white",
            "linecolor": "white",
            "ticks": ""
           }
          },
          "scene": {
           "xaxis": {
            "backgroundcolor": "#E5ECF6",
            "gridcolor": "white",
            "gridwidth": 2,
            "linecolor": "white",
            "showbackground": true,
            "ticks": "",
            "zerolinecolor": "white"
           },
           "yaxis": {
            "backgroundcolor": "#E5ECF6",
            "gridcolor": "white",
            "gridwidth": 2,
            "linecolor": "white",
            "showbackground": true,
            "ticks": "",
            "zerolinecolor": "white"
           },
           "zaxis": {
            "backgroundcolor": "#E5ECF6",
            "gridcolor": "white",
            "gridwidth": 2,
            "linecolor": "white",
            "showbackground": true,
            "ticks": "",
            "zerolinecolor": "white"
           }
          },
          "shapedefaults": {
           "line": {
            "color": "#2a3f5f"
           }
          },
          "ternary": {
           "aaxis": {
            "gridcolor": "white",
            "linecolor": "white",
            "ticks": ""
           },
           "baxis": {
            "gridcolor": "white",
            "linecolor": "white",
            "ticks": ""
           },
           "bgcolor": "#E5ECF6",
           "caxis": {
            "gridcolor": "white",
            "linecolor": "white",
            "ticks": ""
           }
          },
          "title": {
           "x": 0.05
          },
          "xaxis": {
           "automargin": true,
           "gridcolor": "white",
           "linecolor": "white",
           "ticks": "",
           "title": {
            "standoff": 15
           },
           "zerolinecolor": "white",
           "zerolinewidth": 2
          },
          "yaxis": {
           "automargin": true,
           "gridcolor": "white",
           "linecolor": "white",
           "ticks": "",
           "title": {
            "standoff": 15
           },
           "zerolinecolor": "white",
           "zerolinewidth": 2
          }
         }
        },
        "title": {
         "text": "The Corona is Coming"
        }
       }
      },
      "text/html": [
       "<div>\n",
       "        \n",
       "        \n",
       "            <div id=\"d1f9c6e4-03a7-4f6f-9912-0a1cd59989ff\" class=\"plotly-graph-div\" style=\"height:525px; width:100%;\"></div>\n",
       "            <script type=\"text/javascript\">\n",
       "                require([\"plotly\"], function(Plotly) {\n",
       "                    window.PLOTLYENV=window.PLOTLYENV || {};\n",
       "                    \n",
       "                if (document.getElementById(\"d1f9c6e4-03a7-4f6f-9912-0a1cd59989ff\")) {\n",
       "                    Plotly.newPlot(\n",
       "                        'd1f9c6e4-03a7-4f6f-9912-0a1cd59989ff',\n",
       "                        [{\"customdata\": [\"Australian Capital Territory\", \"New South Wales\", \"Northern Territory\", \"Queensland\", \"South Australia\", \"Tasmania\", \"Victoria\", \"Western Australia\", \"Alberta\", \"British Columbia\", \"Grand Princess\", \"Manitoba\", \"New Brunswick\", \"Newfoundland and Labrador\", \"Nova Scotia\", \"Ontario\", \"Prince Edward Island\", \"Quebec\", \"Saskatchewan\", \"Anhui\", \"Beijing\", \"Chongqing\", \"Fujian\", \"Gansu\", \"Guangdong\", \"Guangxi\", \"Guizhou\", \"Hainan\", \"Hebei\", \"Heilongjiang\", \"Henan\", \"Hong Kong\", \"Hubei\", \"Hunan\", \"Inner Mongolia\", \"Jiangsu\", \"Jiangxi\", \"Jilin\", \"Liaoning\", \"Macau\", \"Ningxia\", \"Qinghai\", \"Shaanxi\", \"Shandong\", \"Shanghai\", \"Shanxi\", \"Sichuan\", \"Tianjin\", \"Tibet\", \"Xinjiang\", \"Yunnan\", \"Zhejiang\", \"Faroe Islands\", \"Greenland\", \"French Guiana\", \"French Polynesia\", \"Guadeloupe\", \"Mayotte\", \"New Caledonia\", \"Reunion\", \"Saint Barthelemy\", \"St Martin\", \"Martinique\", \"Aruba\", \"Curacao\", \"Sint Maarten\", \"Bermuda\", \"Cayman Islands\", \"Channel Islands\", \"Gibraltar\", \"Isle of Man\", \"Montserrat\", \"Diamond Princess\", \"Recovered\", \"Alabama\", \"Alaska\", \"Arizona\", \"Arkansas\", \"California\", \"Colorado\", \"Connecticut\", \"Delaware\", \"District of Columbia\", \"Florida\", \"Georgia\", \"Guam\", \"Hawaii\", \"Idaho\", \"Illinois\", \"Indiana\", \"Iowa\", \"Kansas\", \"Kentucky\", \"Louisiana\", \"Maine\", \"Maryland\", \"Massachusetts\", \"Michigan\", \"Minnesota\", \"Mississippi\", \"Missouri\", \"Montana\", \"Nebraska\", \"Nevada\", \"New Hampshire\", \"New Jersey\", \"New Mexico\", \"New York\", \"North Carolina\", \"North Dakota\", \"Ohio\", \"Oklahoma\", \"Oregon\", \"Pennsylvania\", \"Puerto Rico\", \"Rhode Island\", \"South Carolina\", \"South Dakota\", \"Tennessee\", \"Texas\", \"Utah\", \"Vermont\", \"Virginia\", \"Washington\", \"West Virginia\", \"Wisconsin\", \"Wyoming\"], \"hoverinfo\": \"text\", \"lat\": [-35.46021090492017, -33.883132903441414, -12.484368878060192, -28.03959501806471, -34.91945004140204, -41.45656139809333, -37.81277488460031, -31.937087597491363, 53.9682671997051, 49.29914707204656, 37.67815046547106, 53.810293430034235, 46.53660934058207, 53.101436267948394, 44.70833338705605, 51.2445026679423, 46.4861602345794, 52.94738023667701, 52.960555977786754, 31.824565138845443, 40.18023454304851, 30.047337489532804, 26.047892058437807, 37.82031063276194, 23.322776774969803, 23.82325876968761, 26.8025029317283, 19.22656106504962, 39.50436602718271, 47.87129088147617, 33.902335685469616, 22.300485022513982, 31.00690848044727, 27.576674084574584, 44.067489146432656, 32.97727520094533, 27.59671755972259, 43.65358313585137, 41.25588555724143, 22.13908071298837, 37.324203182670395, 35.7460335963907, 35.21586362075332, 36.331824692969256, 31.219099781242765, 37.56936752151246, 30.60987882968527, 39.3084422789228, 31.688481189612048, 41.12072728388344, 24.957689416111787, 29.179263940839594, 61.88772527996684, 71.68853434601682, 3.890314102342775, -17.67106032283741, 16.238067159998934, -12.798729617305645, -20.885680028569105, -21.11782807167626, 17.919931736403814, 18.06406920079376, 14.647738113229039, 12.533482671034395, 12.130598724852065, 18.039688826666907, 32.314466220804825, 19.303082104341875, 49.38721309857725, 36.11252331946119, 54.211939657873955, 16.760304450073615, -0.07318351947740175, -0.007187830114398677, 33.54565541173611, 61.20126974808062, 33.35034438294193, 34.74375489509043, 34.04091678853479, 39.7324763840856, 41.161078537883846, 39.660361457268976, 38.92858393715015, 25.611408787718155, 33.78599109915417, 13.519746275303278, 21.312580163130136, 43.410614607031505, 41.84864059869881, 39.76965725429493, 41.66541597521715, 38.892864417651445, 38.15705179446064, 30.040759669998348, 43.79199382370929, 39.13986498468426, 42.531395317731736, 42.29903117562983, 44.983742098653366, 32.230542648408445, 38.58302493647216, 45.515326289076434, 41.320070941890066, 36.22710733750824, 43.05120531559921, 40.95308682842174, 35.05611402381165, 40.70792548002589, 35.24238276248225, 46.96538105599354, 41.44406391567863, 35.57776655771167, 45.569957057433975, 39.944743367381875, 18.231161266279813, 41.82589416096059, 34.348407186309124, 44.44224324086775, 36.166896180983514, 32.77403184448262, 40.74770210505919, 44.45364534709684, 38.83893208229747, 47.50110112659335, 39.664859208344716, 43.01261980787827, 43.03179559024509], \"lon\": [149.04912388251847, 151.2199239421181, 130.8276610062864, 153.41853822483193, 138.59397901840052, 145.96333852153774, 144.9402177023746, 115.84873226627136, -116.54467250943308, -123.14978717156961, -122.67021245032427, -98.83196991671419, -66.47447853987407, -57.69543542629168, -63.74980326678746, -85.33445318193465, -63.39801731332797, -73.5335966996395, -106.48161749255735, 117.22039953321185, 116.40459798560242, 107.87861309058701, 117.99644941131905, 101.04883435200541, 113.45500983134683, 108.79235228878191, 106.8966378735092, 109.76748475869562, 116.13891144007762, 127.7590211681839, 113.6210537395631, 114.1696470998291, 112.28440877111528, 111.69968509984302, 113.97833907298563, 119.46071175600979, 115.71501518141268, 126.1740082655524, 122.61138735591014, 113.51156211771784, 106.14903655166056, 95.97095374190484, 108.8619585179382, 118.1420380506776, 121.46526543565615, 112.30580500108813, 102.69297802491394, 117.3321077928458, 88.10390958416971, 85.22591023346638, 101.511382945726, 120.07605585248312, -6.880833854683946, -42.58184505799194, -53.08250524950395, 149.40920335673226, -61.58042174016236, 45.18628519322542, 165.66006753953542, 55.247060898002964, -62.81899651800284, -63.03408244462615, -60.99208776688517, -70.05742561418676, -68.97940443216262, -63.08418651670943, -64.75857025183271, -81.25985214547875, -2.358217261523964, -5.34050846677727, -4.533813915694219, -62.18710579398189, 0.011962216457385632, -0.013148627878746167, -86.88502054566797, -149.88632271580147, -112.4682028368107, -92.3265081568083, -118.24631126638874, -104.97649986045927, -73.26741779766951, -75.56194857880429, -77.04961185330436, -80.53619498165511, -84.44229899398167, 144.8530807989021, -157.8255610377253, -114.00011085539258, -87.80920494147928, -86.12973764386554, -91.60000428558722, -94.8134731188595, -85.65419475509034, -89.89818216060814, -70.26896804564805, -77.20610389983241, -71.39977315696525, -83.42280340106582, -93.46990998171592, -90.45726565731638, -90.2079531120089, -111.17445311508003, -96.16419881066273, -115.06590644334185, -70.93327208185305, -74.06260211329592, -106.67268820993343, -73.97824117907166, -80.80849863154022, -100.49108170334333, -81.65606091229746, -97.51098844081191, -123.0941043477975, -75.16220876456977, -66.47917095191173, -71.4094984186358, -80.5888328546954, -98.29542705371598, -86.77742211019094, -96.8079140563234, -111.90387266318314, -73.04391820674603, -77.31614563844006, -121.7848195510706, -80.07613632667216, -87.92296351685411, -108.61549469734825], \"marker\": {\"color\": \"yellow\", \"size\": [39, 1029, 6, 443, 170, 36, 466, 175, 358, 617, 13, 35, 18, 35, 68, 688, 5, 1342, 72, 990, 561, 578, 322, 136, 1433, 254, 146, 168, 319, 484, 1274, 410, 67801, 1018, 77, 638, 936, 94, 127, 30, 75, 18, 250, 769, 433, 134, 547, 145, 1, 76, 176, 1241, 132, 6, 28, 25, 73, 36, 14, 111, 3, 11, 66, 17, 6, 3, 7, 8, 46, 26, 23, 1, 0, 0, 242, 42, 326, 218, 2628, 894, 618, 104, 187, 1467, 1020, 32, 70, 81, 1537, 369, 123, 102, 144, 1376, 118, 351, 1074, 1795, 262, 320, 277, 51, 71, 270, 108, 3030, 100, 26376, 512, 36, 567, 106, 210, 946, 39, 101, 342, 30, 742, 1027, 298, 95, 304, 2421, 39, 481, 37], \"sizemin\": 10, \"sizeref\": 339.005}, \"mode\": \"markers\", \"name\": \"cases\", \"text\": [\"Australian Capital Territory<br>Total Cases at 03/25/20 : 39\", \"New South Wales<br>Total Cases at 03/25/20 : 1,029\", \"Northern Territory<br>Total Cases at 03/25/20 : 6\", \"Queensland<br>Total Cases at 03/25/20 : 443\", \"South Australia<br>Total Cases at 03/25/20 : 170\", \"Tasmania<br>Total Cases at 03/25/20 : 36\", \"Victoria<br>Total Cases at 03/25/20 : 466\", \"Western Australia<br>Total Cases at 03/25/20 : 175\", \"Alberta<br>Total Cases at 03/25/20 : 358\", \"British Columbia<br>Total Cases at 03/25/20 : 617\", \"Grand Princess<br>Total Cases at 03/25/20 : 13\", \"Manitoba<br>Total Cases at 03/25/20 : 35\", \"New Brunswick<br>Total Cases at 03/25/20 : 18\", \"Newfoundland and Labrador<br>Total Cases at 03/25/20 : 35\", \"Nova Scotia<br>Total Cases at 03/25/20 : 68\", \"Ontario<br>Total Cases at 03/25/20 : 688\", \"Prince Edward Island<br>Total Cases at 03/25/20 : 5\", \"Quebec<br>Total Cases at 03/25/20 : 1,342\", \"Saskatchewan<br>Total Cases at 03/25/20 : 72\", \"Anhui<br>Total Cases at 03/25/20 : 990\", \"Beijing<br>Total Cases at 03/25/20 : 561\", \"Chongqing<br>Total Cases at 03/25/20 : 578\", \"Fujian<br>Total Cases at 03/25/20 : 322\", \"Gansu<br>Total Cases at 03/25/20 : 136\", \"Guangdong<br>Total Cases at 03/25/20 : 1,433\", \"Guangxi<br>Total Cases at 03/25/20 : 254\", \"Guizhou<br>Total Cases at 03/25/20 : 146\", \"Hainan<br>Total Cases at 03/25/20 : 168\", \"Hebei<br>Total Cases at 03/25/20 : 319\", \"Heilongjiang<br>Total Cases at 03/25/20 : 484\", \"Henan<br>Total Cases at 03/25/20 : 1,274\", \"Hong Kong<br>Total Cases at 03/25/20 : 410\", \"Hubei<br>Total Cases at 03/25/20 : 67,801\", \"Hunan<br>Total Cases at 03/25/20 : 1,018\", \"Inner Mongolia<br>Total Cases at 03/25/20 : 77\", \"Jiangsu<br>Total Cases at 03/25/20 : 638\", \"Jiangxi<br>Total Cases at 03/25/20 : 936\", \"Jilin<br>Total Cases at 03/25/20 : 94\", \"Liaoning<br>Total Cases at 03/25/20 : 127\", \"Macau<br>Total Cases at 03/25/20 : 30\", \"Ningxia<br>Total Cases at 03/25/20 : 75\", \"Qinghai<br>Total Cases at 03/25/20 : 18\", \"Shaanxi<br>Total Cases at 03/25/20 : 250\", \"Shandong<br>Total Cases at 03/25/20 : 769\", \"Shanghai<br>Total Cases at 03/25/20 : 433\", \"Shanxi<br>Total Cases at 03/25/20 : 134\", \"Sichuan<br>Total Cases at 03/25/20 : 547\", \"Tianjin<br>Total Cases at 03/25/20 : 145\", \"Tibet<br>Total Cases at 03/25/20 : 1\", \"Xinjiang<br>Total Cases at 03/25/20 : 76\", \"Yunnan<br>Total Cases at 03/25/20 : 176\", \"Zhejiang<br>Total Cases at 03/25/20 : 1,241\", \"Faroe Islands<br>Total Cases at 03/25/20 : 132\", \"Greenland<br>Total Cases at 03/25/20 : 6\", \"French Guiana<br>Total Cases at 03/25/20 : 28\", \"French Polynesia<br>Total Cases at 03/25/20 : 25\", \"Guadeloupe<br>Total Cases at 03/25/20 : 73\", \"Mayotte<br>Total Cases at 03/25/20 : 36\", \"New Caledonia<br>Total Cases at 03/25/20 : 14\", \"Reunion<br>Total Cases at 03/25/20 : 111\", \"Saint Barthelemy<br>Total Cases at 03/25/20 : 3\", \"St Martin<br>Total Cases at 03/25/20 : 11\", \"Martinique<br>Total Cases at 03/25/20 : 66\", \"Aruba<br>Total Cases at 03/25/20 : 17\", \"Curacao<br>Total Cases at 03/25/20 : 6\", \"Sint Maarten<br>Total Cases at 03/25/20 : 3\", \"Bermuda<br>Total Cases at 03/25/20 : 7\", \"Cayman Islands<br>Total Cases at 03/25/20 : 8\", \"Channel Islands<br>Total Cases at 03/25/20 : 46\", \"Gibraltar<br>Total Cases at 03/25/20 : 26\", \"Isle of Man<br>Total Cases at 03/25/20 : 23\", \"Montserrat<br>Total Cases at 03/25/20 : 1\", \"Diamond Princess<br>Total Cases at 03/25/20 : 0\", \"Recovered<br>Total Cases at 03/25/20 : 0\", \"Alabama<br>Total Cases at 03/25/20 : 242\", \"Alaska<br>Total Cases at 03/25/20 : 42\", \"Arizona<br>Total Cases at 03/25/20 : 326\", \"Arkansas<br>Total Cases at 03/25/20 : 218\", \"California<br>Total Cases at 03/25/20 : 2,628\", \"Colorado<br>Total Cases at 03/25/20 : 894\", \"Connecticut<br>Total Cases at 03/25/20 : 618\", \"Delaware<br>Total Cases at 03/25/20 : 104\", \"District of Columbia<br>Total Cases at 03/25/20 : 187\", \"Florida<br>Total Cases at 03/25/20 : 1,467\", \"Georgia<br>Total Cases at 03/25/20 : 1,020\", \"Guam<br>Total Cases at 03/25/20 : 32\", \"Hawaii<br>Total Cases at 03/25/20 : 70\", \"Idaho<br>Total Cases at 03/25/20 : 81\", \"Illinois<br>Total Cases at 03/25/20 : 1,537\", \"Indiana<br>Total Cases at 03/25/20 : 369\", \"Iowa<br>Total Cases at 03/25/20 : 123\", \"Kansas<br>Total Cases at 03/25/20 : 102\", \"Kentucky<br>Total Cases at 03/25/20 : 144\", \"Louisiana<br>Total Cases at 03/25/20 : 1,376\", \"Maine<br>Total Cases at 03/25/20 : 118\", \"Maryland<br>Total Cases at 03/25/20 : 351\", \"Massachusetts<br>Total Cases at 03/25/20 : 1,074\", \"Michigan<br>Total Cases at 03/25/20 : 1,795\", \"Minnesota<br>Total Cases at 03/25/20 : 262\", \"Mississippi<br>Total Cases at 03/25/20 : 320\", \"Missouri<br>Total Cases at 03/25/20 : 277\", \"Montana<br>Total Cases at 03/25/20 : 51\", \"Nebraska<br>Total Cases at 03/25/20 : 71\", \"Nevada<br>Total Cases at 03/25/20 : 270\", \"New Hampshire<br>Total Cases at 03/25/20 : 108\", \"New Jersey<br>Total Cases at 03/25/20 : 3,030\", \"New Mexico<br>Total Cases at 03/25/20 : 100\", \"New York<br>Total Cases at 03/25/20 : 26,376\", \"North Carolina<br>Total Cases at 03/25/20 : 512\", \"North Dakota<br>Total Cases at 03/25/20 : 36\", \"Ohio<br>Total Cases at 03/25/20 : 567\", \"Oklahoma<br>Total Cases at 03/25/20 : 106\", \"Oregon<br>Total Cases at 03/25/20 : 210\", \"Pennsylvania<br>Total Cases at 03/25/20 : 946\", \"Puerto Rico<br>Total Cases at 03/25/20 : 39\", \"Rhode Island<br>Total Cases at 03/25/20 : 101\", \"South Carolina<br>Total Cases at 03/25/20 : 342\", \"South Dakota<br>Total Cases at 03/25/20 : 30\", \"Tennessee<br>Total Cases at 03/25/20 : 742\", \"Texas<br>Total Cases at 03/25/20 : 1,027\", \"Utah<br>Total Cases at 03/25/20 : 298\", \"Vermont<br>Total Cases at 03/25/20 : 95\", \"Virginia<br>Total Cases at 03/25/20 : 304\", \"Washington<br>Total Cases at 03/25/20 : 2,421\", \"West Virginia<br>Total Cases at 03/25/20 : 39\", \"Wisconsin<br>Total Cases at 03/25/20 : 481\", \"Wyoming<br>Total Cases at 03/25/20 : 37\"], \"textposition\": \"top right\", \"type\": \"scattermapbox\"}],\n",
       "                        {\"autosize\": true, \"dragmode\": \"pan\", \"hovermode\": \"closest\", \"legend\": {\"bgcolor\": \"rgba(0,0,0,0)\", \"font\": {\"color\": \"white\", \"family\": \"sans-serif\", \"size\": 14}, \"traceorder\": \"normal\", \"x\": 0.92, \"y\": 1}, \"mapbox\": {\"accesstoken\": \"pk.eyJ1IjoiandpbGxpczA3MjAiLCJhIjoiY2s4MHhoYmF6MDFoODNpcnVyNGR2bWk1bSJ9.YNwklD1Aa6DihVblHr3GVg\\n\", \"center\": {\"lat\": 15.74, \"lon\": -1.4}, \"style\": \"dark\", \"zoom\": 1.6}, \"margin\": {\"b\": 0, \"l\": 0, \"r\": 0, \"t\": 0}, \"showlegend\": true, \"template\": {\"data\": {\"bar\": [{\"error_x\": {\"color\": \"#2a3f5f\"}, \"error_y\": {\"color\": \"#2a3f5f\"}, \"marker\": {\"line\": {\"color\": \"#E5ECF6\", \"width\": 0.5}}, \"type\": \"bar\"}], \"barpolar\": [{\"marker\": {\"line\": {\"color\": \"#E5ECF6\", \"width\": 0.5}}, \"type\": \"barpolar\"}], \"carpet\": [{\"aaxis\": {\"endlinecolor\": \"#2a3f5f\", \"gridcolor\": \"white\", \"linecolor\": \"white\", \"minorgridcolor\": \"white\", \"startlinecolor\": \"#2a3f5f\"}, \"baxis\": {\"endlinecolor\": \"#2a3f5f\", \"gridcolor\": \"white\", \"linecolor\": \"white\", \"minorgridcolor\": \"white\", \"startlinecolor\": \"#2a3f5f\"}, \"type\": \"carpet\"}], \"choropleth\": [{\"colorbar\": {\"outlinewidth\": 0, \"ticks\": \"\"}, \"type\": \"choropleth\"}], \"contour\": [{\"colorbar\": {\"outlinewidth\": 0, \"ticks\": \"\"}, \"colorscale\": [[0.0, \"#0d0887\"], [0.1111111111111111, \"#46039f\"], [0.2222222222222222, \"#7201a8\"], [0.3333333333333333, \"#9c179e\"], [0.4444444444444444, \"#bd3786\"], [0.5555555555555556, \"#d8576b\"], [0.6666666666666666, \"#ed7953\"], [0.7777777777777778, \"#fb9f3a\"], [0.8888888888888888, \"#fdca26\"], [1.0, \"#f0f921\"]], \"type\": \"contour\"}], \"contourcarpet\": [{\"colorbar\": {\"outlinewidth\": 0, \"ticks\": \"\"}, \"type\": \"contourcarpet\"}], \"heatmap\": [{\"colorbar\": {\"outlinewidth\": 0, \"ticks\": \"\"}, \"colorscale\": [[0.0, \"#0d0887\"], [0.1111111111111111, \"#46039f\"], [0.2222222222222222, \"#7201a8\"], [0.3333333333333333, \"#9c179e\"], [0.4444444444444444, \"#bd3786\"], [0.5555555555555556, \"#d8576b\"], [0.6666666666666666, \"#ed7953\"], [0.7777777777777778, \"#fb9f3a\"], [0.8888888888888888, \"#fdca26\"], [1.0, \"#f0f921\"]], \"type\": \"heatmap\"}], \"heatmapgl\": [{\"colorbar\": {\"outlinewidth\": 0, \"ticks\": \"\"}, \"colorscale\": [[0.0, \"#0d0887\"], [0.1111111111111111, \"#46039f\"], [0.2222222222222222, \"#7201a8\"], [0.3333333333333333, \"#9c179e\"], [0.4444444444444444, \"#bd3786\"], [0.5555555555555556, \"#d8576b\"], [0.6666666666666666, \"#ed7953\"], [0.7777777777777778, \"#fb9f3a\"], [0.8888888888888888, \"#fdca26\"], [1.0, \"#f0f921\"]], \"type\": \"heatmapgl\"}], \"histogram\": [{\"marker\": {\"colorbar\": {\"outlinewidth\": 0, \"ticks\": \"\"}}, \"type\": \"histogram\"}], \"histogram2d\": [{\"colorbar\": {\"outlinewidth\": 0, \"ticks\": \"\"}, \"colorscale\": [[0.0, \"#0d0887\"], [0.1111111111111111, \"#46039f\"], [0.2222222222222222, \"#7201a8\"], [0.3333333333333333, \"#9c179e\"], [0.4444444444444444, \"#bd3786\"], [0.5555555555555556, \"#d8576b\"], [0.6666666666666666, \"#ed7953\"], [0.7777777777777778, \"#fb9f3a\"], [0.8888888888888888, \"#fdca26\"], [1.0, \"#f0f921\"]], \"type\": \"histogram2d\"}], \"histogram2dcontour\": [{\"colorbar\": {\"outlinewidth\": 0, \"ticks\": \"\"}, \"colorscale\": [[0.0, \"#0d0887\"], [0.1111111111111111, \"#46039f\"], [0.2222222222222222, \"#7201a8\"], [0.3333333333333333, \"#9c179e\"], [0.4444444444444444, \"#bd3786\"], [0.5555555555555556, \"#d8576b\"], [0.6666666666666666, \"#ed7953\"], [0.7777777777777778, \"#fb9f3a\"], [0.8888888888888888, \"#fdca26\"], [1.0, \"#f0f921\"]], \"type\": \"histogram2dcontour\"}], \"mesh3d\": [{\"colorbar\": {\"outlinewidth\": 0, \"ticks\": \"\"}, \"type\": \"mesh3d\"}], \"parcoords\": [{\"line\": {\"colorbar\": {\"outlinewidth\": 0, \"ticks\": \"\"}}, \"type\": \"parcoords\"}], \"pie\": [{\"automargin\": true, \"type\": \"pie\"}], \"scatter\": [{\"marker\": {\"colorbar\": {\"outlinewidth\": 0, \"ticks\": \"\"}}, \"type\": \"scatter\"}], \"scatter3d\": [{\"line\": {\"colorbar\": {\"outlinewidth\": 0, \"ticks\": \"\"}}, \"marker\": {\"colorbar\": {\"outlinewidth\": 0, \"ticks\": \"\"}}, \"type\": \"scatter3d\"}], \"scattercarpet\": [{\"marker\": {\"colorbar\": {\"outlinewidth\": 0, \"ticks\": \"\"}}, \"type\": \"scattercarpet\"}], \"scattergeo\": [{\"marker\": {\"colorbar\": {\"outlinewidth\": 0, \"ticks\": \"\"}}, \"type\": \"scattergeo\"}], \"scattergl\": [{\"marker\": {\"colorbar\": {\"outlinewidth\": 0, \"ticks\": \"\"}}, \"type\": \"scattergl\"}], \"scattermapbox\": [{\"marker\": {\"colorbar\": {\"outlinewidth\": 0, \"ticks\": \"\"}}, \"type\": \"scattermapbox\"}], \"scatterpolar\": [{\"marker\": {\"colorbar\": {\"outlinewidth\": 0, \"ticks\": \"\"}}, \"type\": \"scatterpolar\"}], \"scatterpolargl\": [{\"marker\": {\"colorbar\": {\"outlinewidth\": 0, \"ticks\": \"\"}}, \"type\": \"scatterpolargl\"}], \"scatterternary\": [{\"marker\": {\"colorbar\": {\"outlinewidth\": 0, \"ticks\": \"\"}}, \"type\": \"scatterternary\"}], \"surface\": [{\"colorbar\": {\"outlinewidth\": 0, \"ticks\": \"\"}, \"colorscale\": [[0.0, \"#0d0887\"], [0.1111111111111111, \"#46039f\"], [0.2222222222222222, \"#7201a8\"], [0.3333333333333333, \"#9c179e\"], [0.4444444444444444, \"#bd3786\"], [0.5555555555555556, \"#d8576b\"], [0.6666666666666666, \"#ed7953\"], [0.7777777777777778, \"#fb9f3a\"], [0.8888888888888888, \"#fdca26\"], [1.0, \"#f0f921\"]], \"type\": \"surface\"}], \"table\": [{\"cells\": {\"fill\": {\"color\": \"#EBF0F8\"}, \"line\": {\"color\": \"white\"}}, \"header\": {\"fill\": {\"color\": \"#C8D4E3\"}, \"line\": {\"color\": \"white\"}}, \"type\": \"table\"}]}, \"layout\": {\"annotationdefaults\": {\"arrowcolor\": \"#2a3f5f\", \"arrowhead\": 0, \"arrowwidth\": 1}, \"coloraxis\": {\"colorbar\": {\"outlinewidth\": 0, \"ticks\": \"\"}}, \"colorscale\": {\"diverging\": [[0, \"#8e0152\"], [0.1, \"#c51b7d\"], [0.2, \"#de77ae\"], [0.3, \"#f1b6da\"], [0.4, \"#fde0ef\"], [0.5, \"#f7f7f7\"], [0.6, \"#e6f5d0\"], [0.7, \"#b8e186\"], [0.8, \"#7fbc41\"], [0.9, \"#4d9221\"], [1, \"#276419\"]], \"sequential\": [[0.0, \"#0d0887\"], [0.1111111111111111, \"#46039f\"], [0.2222222222222222, \"#7201a8\"], [0.3333333333333333, \"#9c179e\"], [0.4444444444444444, \"#bd3786\"], [0.5555555555555556, \"#d8576b\"], [0.6666666666666666, \"#ed7953\"], [0.7777777777777778, \"#fb9f3a\"], [0.8888888888888888, \"#fdca26\"], [1.0, \"#f0f921\"]], \"sequentialminus\": [[0.0, \"#0d0887\"], [0.1111111111111111, \"#46039f\"], [0.2222222222222222, \"#7201a8\"], [0.3333333333333333, \"#9c179e\"], [0.4444444444444444, \"#bd3786\"], [0.5555555555555556, \"#d8576b\"], [0.6666666666666666, \"#ed7953\"], [0.7777777777777778, \"#fb9f3a\"], [0.8888888888888888, \"#fdca26\"], [1.0, \"#f0f921\"]]}, \"colorway\": [\"#636efa\", \"#EF553B\", \"#00cc96\", \"#ab63fa\", \"#FFA15A\", \"#19d3f3\", \"#FF6692\", \"#B6E880\", \"#FF97FF\", \"#FECB52\"], \"font\": {\"color\": \"#2a3f5f\"}, \"geo\": {\"bgcolor\": \"white\", \"lakecolor\": \"white\", \"landcolor\": \"#E5ECF6\", \"showlakes\": true, \"showland\": true, \"subunitcolor\": \"white\"}, \"hoverlabel\": {\"align\": \"left\"}, \"hovermode\": \"closest\", \"mapbox\": {\"style\": \"light\"}, \"paper_bgcolor\": \"white\", \"plot_bgcolor\": \"#E5ECF6\", \"polar\": {\"angularaxis\": {\"gridcolor\": \"white\", \"linecolor\": \"white\", \"ticks\": \"\"}, \"bgcolor\": \"#E5ECF6\", \"radialaxis\": {\"gridcolor\": \"white\", \"linecolor\": \"white\", \"ticks\": \"\"}}, \"scene\": {\"xaxis\": {\"backgroundcolor\": \"#E5ECF6\", \"gridcolor\": \"white\", \"gridwidth\": 2, \"linecolor\": \"white\", \"showbackground\": true, \"ticks\": \"\", \"zerolinecolor\": \"white\"}, \"yaxis\": {\"backgroundcolor\": \"#E5ECF6\", \"gridcolor\": \"white\", \"gridwidth\": 2, \"linecolor\": \"white\", \"showbackground\": true, \"ticks\": \"\", \"zerolinecolor\": \"white\"}, \"zaxis\": {\"backgroundcolor\": \"#E5ECF6\", \"gridcolor\": \"white\", \"gridwidth\": 2, \"linecolor\": \"white\", \"showbackground\": true, \"ticks\": \"\", \"zerolinecolor\": \"white\"}}, \"shapedefaults\": {\"line\": {\"color\": \"#2a3f5f\"}}, \"ternary\": {\"aaxis\": {\"gridcolor\": \"white\", \"linecolor\": \"white\", \"ticks\": \"\"}, \"baxis\": {\"gridcolor\": \"white\", \"linecolor\": \"white\", \"ticks\": \"\"}, \"bgcolor\": \"#E5ECF6\", \"caxis\": {\"gridcolor\": \"white\", \"linecolor\": \"white\", \"ticks\": \"\"}}, \"title\": {\"x\": 0.05}, \"xaxis\": {\"automargin\": true, \"gridcolor\": \"white\", \"linecolor\": \"white\", \"ticks\": \"\", \"title\": {\"standoff\": 15}, \"zerolinecolor\": \"white\", \"zerolinewidth\": 2}, \"yaxis\": {\"automargin\": true, \"gridcolor\": \"white\", \"linecolor\": \"white\", \"ticks\": \"\", \"title\": {\"standoff\": 15}, \"zerolinecolor\": \"white\", \"zerolinewidth\": 2}}}, \"title\": {\"text\": \"The Corona is Coming\"}},\n",
       "                        {\"responsive\": true}\n",
       "                    ).then(function(){\n",
       "                            \n",
       "var gd = document.getElementById('d1f9c6e4-03a7-4f6f-9912-0a1cd59989ff');\n",
       "var x = new MutationObserver(function (mutations, observer) {{\n",
       "        var display = window.getComputedStyle(gd).display;\n",
       "        if (!display || display === 'none') {{\n",
       "            console.log([gd, 'removed!']);\n",
       "            Plotly.purge(gd);\n",
       "            observer.disconnect();\n",
       "        }}\n",
       "}});\n",
       "\n",
       "// Listen for the removal of the full notebook cells\n",
       "var notebookContainer = gd.closest('#notebook-container');\n",
       "if (notebookContainer) {{\n",
       "    x.observe(notebookContainer, {childList: true});\n",
       "}}\n",
       "\n",
       "// Listen for the clearing of the current output cell\n",
       "var outputEl = gd.closest('.output');\n",
       "if (outputEl) {{\n",
       "    x.observe(outputEl, {childList: true});\n",
       "}}\n",
       "\n",
       "                        })\n",
       "                };\n",
       "                });\n",
       "            </script>\n",
       "        </div>"
      ]
     },
     "metadata": {},
     "output_type": "display_data"
    }
   ],
   "source": [
    "import sys\n",
    "import warnings\n",
    "import numpy as np\n",
    "import pandas as pd\n",
    "import argparse\n",
    "import pprint\n",
    "from datetime import date, timedelta\n",
    "try:\n",
    "    import dash\n",
    "    import dash_core_components as dcc\n",
    "    import dash_html_components as html\n",
    "    from dash.exceptions import PreventUpdate\n",
    "    import dash_table\n",
    "    from dash.dependencies import Input, Output, State\n",
    "    import plotly.graph_objects as go\n",
    "    import plotly.express as px\n",
    "    from plotly.subplots import make_subplots\n",
    "except ImportError:\n",
    "    sys.exit('Please install dash, e.g, pip install dash')\n",
    "\n",
    "mapbox_style = 'dark'\n",
    "mapbox_access_token = open('.mapbox_token').readlines()[0]\n",
    "\n",
    "def get_graph_state(date_int, group, metrics, figure):\n",
    "    \n",
    "    if not figure:\n",
    "        lat = 15.74\n",
    "        lon = -1.4\n",
    "        zoom = 1.6\n",
    "    elif \"layout\" in figure:\n",
    "        lat = figure[\"layout\"][\"mapbox\"]['center'][\"lat\"]\n",
    "        lon = figure[\"layout\"][\"mapbox\"]['center'][\"lon\"]\n",
    "        zoom = figure[\"layout\"][\"mapbox\"][\"zoom\"]\n",
    "\n",
    "    if 'cases' in metrics:\n",
    "        normalizer = 'confirmed'\n",
    "    else:\n",
    "        normalizer = 'deaths'\n",
    "\n",
    "    official_date = date_mapper.iloc[date_int]['Date']\n",
    "    # print(date_int, official_date)\n",
    "\n",
    "    if group == 'country':\n",
    "        country_mapper = jhu_df_time[\n",
    "            jhu_df_time['Date'] == official_date].groupby(\n",
    "            'country', as_index=False).apply(lambda x: x.sort_values('confirmed')[::-1].head(1)[['country', 'lat', 'lon']])\n",
    "        sub_df = jhu_df_time[\n",
    "            jhu_df_time['Date'] == official_date].groupby('country', as_index=False).sum()[['country', 'confirmed', 'deaths']].merge(\n",
    "                country_mapper, on=['country'])\n",
    "        sizeref = 2. * jhu_df_time.groupby(\n",
    "            ['Date', group]).sum().max()[normalizer] / (20 ** 2)\n",
    "\n",
    "        print(sub_df.columns)\n",
    "        \n",
    "\n",
    "    elif group == 'province':\n",
    "        sub_df = jhu_df_time[jhu_df_time[group] != '']\n",
    "#         province_mapper = sub_df[\n",
    "#             sub_df['Date'] == official_date].groupby(\n",
    "#                 group, as_index=False).apply(lambda x: x.sort_values('confirmed')[::-1].head(1)[[group, 'lat', 'lon']])\n",
    "        sub_df = sub_df[\n",
    "            sub_df['Date'] == official_date]#.groupby(group, as_index=False)#.sum()[['province', 'confirmed', 'deaths']]#.merge(province_mapper, on=['province'])\n",
    "\n",
    "    \n",
    "#         # Now do it for the CSBS\n",
    "        sub_df_csbs = csbs_df[csbs_df[group] != '']\n",
    "        sub_df_csbs = sub_df_csbs[sub_df_csbs['Date'] == official_date]\n",
    "        province_mapper = csbs_df.sort_values('confirmed')[::-1].groupby(\n",
    "            group, as_index=False).head(1)[[group,  'lat', 'lon']]\n",
    "        sub_df_csbs = sub_df_csbs.groupby(group, as_index=False).sum()[\n",
    "            ['province', 'confirmed', 'deaths']].merge(province_mapper, on=['province'])\n",
    "        sub_df = pd.concat([sub_df, sub_df_csbs])\n",
    "        sizeref = 2. * jhu_df_time[jhu_df_time['province'] !=''].groupby(\n",
    "            ['Date', group]).sum().max()[normalizer] / (20 ** 2)\n",
    "\n",
    "    elif group == 'county':\n",
    "        sub_df = csbs_df.groupby(\n",
    "            ['county', 'state', 'lat', 'lon'], as_index=False).sum()\n",
    "        sub_df.rename({'cases': 'confirmed'}, axis=1, inplace=1)\n",
    "        sizeref = 2. * sub_df.max()[normalizer] / (20 ** 2)\n",
    "\n",
    "    sub_df['Text_Cases'] = sub_df[group] + '<br>Total Cases at {} : '.format(\n",
    "        official_date.strftime('%m/%d/%y')) + sub_df['confirmed'].apply(lambda x: \"{:,}\".format(int(x)))\n",
    "    sub_df['Text_Death'] = sub_df[group] + '<br>Total Deaths at {} : '.format(\n",
    "        official_date.strftime('%m/%d/%y')) + sub_df['deaths'].apply(lambda x: \"{:,}\".format(int(x)))\n",
    "\n",
    "    sub_df.loc[sub_df['confirmed'] < 0, 'confirmed'] = 0    \n",
    "    fig = go.Figure()\n",
    "    if 'cases' in metrics:\n",
    "        fig.add_trace(go.Scattermapbox(\n",
    "            lon=sub_df['lon'].astype(float) +\n",
    "            np.random.normal(0, .02, len(sub_df['lon'])),\n",
    "            lat=sub_df['lat'].astype(float) +\n",
    "            np.random.normal(0, .02, len(sub_df['lat'])),\n",
    "            customdata=sub_df[group],\n",
    "            textposition='top right',\n",
    "            text=sub_df['Text_Cases'],\n",
    "            hoverinfo='text',\n",
    "            mode='markers',\n",
    "            name='cases',\n",
    "            marker=dict(\n",
    "                sizeref=sizeref,\n",
    "                sizemin=10,\n",
    "                size=sub_df['confirmed'],\n",
    "                color='yellow')))\n",
    "\n",
    "    if 'deaths' in metrics:\n",
    "        fig.add_trace(go.Scattermapbox(\n",
    "            lon=sub_df['lon'] +\n",
    "            np.random.normal(0, .02, len(sub_df['lon'])),\n",
    "            lat=sub_df['lat'] +\n",
    "            np.random.normal(0, .02, len(sub_df['lat'])),\n",
    "            customdata=sub_df[group],\n",
    "            textposition='top right',\n",
    "            text=sub_df['Text_Death'],\n",
    "            hoverinfo='text',\n",
    "            name='deaths',\n",
    "            mode='markers',\n",
    "            marker=dict(\n",
    "                sizeref=sizeref,\n",
    "                sizemin=10,\n",
    "                size=sub_df['deaths'],\n",
    "                color='red')))\n",
    "\n",
    "    if not metrics:\n",
    "        fig.add_trace(go.Scattermapbox(\n",
    "            lon=[],\n",
    "            lat=[]\n",
    "        ))\n",
    "    layout = dict(\n",
    "        title_text='The Corona is Coming',\n",
    "        autosize=True,\n",
    "        showlegend=True,\n",
    "        mapbox=dict(\n",
    "            accesstoken=mapbox_access_token,\n",
    "            style=mapbox_style,\n",
    "            zoom=zoom,\n",
    "            center=dict(lat=lat, lon=lon)\n",
    "        ),\n",
    "        hovermode=\"closest\",\n",
    "        margin=dict(r=0, l=0, t=0, b=0),\n",
    "        dragmode=\"pan\",\n",
    "        legend=dict(\n",
    "            x=0.92,\n",
    "            y=1,\n",
    "            traceorder=\"normal\",\n",
    "            font=dict(\n",
    "                family=\"sans-serif\",\n",
    "                size=14,\n",
    "                color=\"white\"\n",
    "            ),\n",
    "            bgcolor='rgba(0,0,0,0)',\n",
    "            # bordercolor=\"\",\n",
    "            # borderwidth=2\n",
    "        )\n",
    "    )\n",
    "\n",
    "    fig.update_layout(layout)\n",
    "    return fig\n",
    "\n",
    "f = get_graph_state(63,'province',['cases'],None)\n",
    "f.show()"
   ]
  },
  {
   "cell_type": "code",
   "execution_count": 730,
   "metadata": {},
   "outputs": [
    {
     "data": {
      "text/plain": [
       "1898.375"
      ]
     },
     "execution_count": 730,
     "metadata": {},
     "output_type": "execute_result"
    }
   ],
   "source": [
    "2. * jhu_df_time.groupby(\n",
    "            ['Date', group]).sum().max()['confirmed'] / (20 ** 2)"
   ]
  },
  {
   "cell_type": "code",
   "execution_count": 735,
   "metadata": {},
   "outputs": [],
   "source": [
    "sub_df = csbs_df[csbs_df['Date'] == official_date]\n",
    "sub_df = csbs_df.groupby(\n",
    "    ['county', 'province', 'lat', 'lon'], as_index=False).sum()\n",
    "sub_df.rename({'cases': 'confirmed'}, axis=1, inplace=1)\n",
    "sizeref = 2. * sub_df.max()['confirmed'] / (20 ** 2)"
   ]
  },
  {
   "cell_type": "code",
   "execution_count": 739,
   "metadata": {},
   "outputs": [
    {
     "data": {
      "text/html": [
       "<div>\n",
       "<style scoped>\n",
       "    .dataframe tbody tr th:only-of-type {\n",
       "        vertical-align: middle;\n",
       "    }\n",
       "\n",
       "    .dataframe tbody tr th {\n",
       "        vertical-align: top;\n",
       "    }\n",
       "\n",
       "    .dataframe thead th {\n",
       "        text-align: right;\n",
       "    }\n",
       "</style>\n",
       "<table border=\"1\" class=\"dataframe\">\n",
       "  <thead>\n",
       "    <tr style=\"text-align: right;\">\n",
       "      <th></th>\n",
       "      <th>county</th>\n",
       "      <th>province</th>\n",
       "      <th>lat</th>\n",
       "      <th>lon</th>\n",
       "      <th>id</th>\n",
       "      <th>confirmed</th>\n",
       "      <th>deaths</th>\n",
       "    </tr>\n",
       "  </thead>\n",
       "  <tbody>\n",
       "    <tr>\n",
       "      <th>1793</th>\n",
       "      <td>New York</td>\n",
       "      <td>New York</td>\n",
       "      <td>40.7146</td>\n",
       "      <td>-74.0071</td>\n",
       "      <td>0</td>\n",
       "      <td>28716</td>\n",
       "      <td>317</td>\n",
       "    </tr>\n",
       "    <tr>\n",
       "      <th>1794</th>\n",
       "      <td>New York</td>\n",
       "      <td>New York</td>\n",
       "      <td>40.71455</td>\n",
       "      <td>-74.00714</td>\n",
       "      <td>0</td>\n",
       "      <td>20011</td>\n",
       "      <td>280</td>\n",
       "    </tr>\n",
       "  </tbody>\n",
       "</table>\n",
       "</div>"
      ],
      "text/plain": [
       "        county  province       lat        lon  id  confirmed  deaths\n",
       "1793  New York  New York   40.7146   -74.0071   0      28716     317\n",
       "1794  New York  New York  40.71455  -74.00714   0      20011     280"
      ]
     },
     "execution_count": 739,
     "metadata": {},
     "output_type": "execute_result"
    }
   ],
   "source": [
    "sub_df.groupby('county').get_group('New York')"
   ]
  },
  {
   "cell_type": "code",
   "execution_count": 701,
   "metadata": {},
   "outputs": [],
   "source": [
    "sub_df = jhu_df_time[jhu_df_time[group] != '']\n",
    "\n",
    "sub_df = sub_df[\n",
    "    sub_df['Date'] == official_date]#.groupby(group, as_index=False)#.sum()[['province', 'confirmed', 'deaths']]#.merge(province_mapper, on=['province'])\n",
    "\n",
    "\n",
    "#         # Now do it for the CSBS\n",
    "sub_df_csbs = csbs_df[csbs_df[group] != '']\n",
    "sub_df_csbs = sub_df_csbs[sub_df_csbs['Date'] == official_date]\n",
    "province_mapper = csbs_df.sort_values('confirmed')[::-1].groupby(\n",
    "    group, as_index=False).head(1)[[group,  'lat', 'lon']]\n",
    "#sub_df_csbs = csbs_df.groupby(group, as_index=False).sum()[\n",
    "#    ['province', 'confirmed', 'deaths']].merge(province_mapper, on=['province'])\n",
    "#sub_df = pd.concat([sub_df, sub_df_csbs])\n",
    "#sizeref = 2. * jhu_df_time.groupby(\n",
    "#    ['Date', group]).sum().max()[normalizer] / (20 ** 2)\n"
   ]
  },
  {
   "cell_type": "code",
   "execution_count": null,
   "metadata": {},
   "outputs": [],
   "source": []
  },
  {
   "cell_type": "code",
   "execution_count": 694,
   "metadata": {},
   "outputs": [],
   "source": [
    "province_mapper = csbs_df.sort_values('confirmed')[::-1].groupby(\n",
    "    group, as_index=False).head(1)[[group,  'lat', 'lon']]"
   ]
  },
  {
   "cell_type": "code",
   "execution_count": 703,
   "metadata": {},
   "outputs": [
    {
     "data": {
      "text/plain": [
       "26376"
      ]
     },
     "execution_count": 703,
     "metadata": {},
     "output_type": "execute_result"
    }
   ],
   "source": [
    "sub_df_csbs.groupby(group, as_index=False).get_group('New York').sum()['confirmed']"
   ]
  },
  {
   "cell_type": "code",
   "execution_count": null,
   "metadata": {},
   "outputs": [],
   "source": []
  }
 ],
 "metadata": {
  "kernelspec": {
   "display_name": "Python 3",
   "language": "python",
   "name": "python3"
  },
  "language_info": {
   "codemirror_mode": {
    "name": "ipython",
    "version": 3
   },
   "file_extension": ".py",
   "mimetype": "text/x-python",
   "name": "python",
   "nbconvert_exporter": "python",
   "pygments_lexer": "ipython3",
   "version": "3.7.4"
  },
  "toc": {
   "base_numbering": 1,
   "nav_menu": {},
   "number_sections": true,
   "sideBar": true,
   "skip_h1_title": false,
   "title_cell": "Table of Contents",
   "title_sidebar": "Contents",
   "toc_cell": false,
   "toc_position": {},
   "toc_section_display": true,
   "toc_window_display": false
  }
 },
 "nbformat": 4,
 "nbformat_minor": 2
}
