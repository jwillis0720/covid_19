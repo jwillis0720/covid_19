{
 "cells": [
  {
   "cell_type": "code",
   "execution_count": 157,
   "metadata": {},
   "outputs": [],
   "source": [
    "import callbacks\n",
    "import numpy as np"
   ]
  },
  {
   "cell_type": "code",
   "execution_count": 138,
   "metadata": {},
   "outputs": [
    {
     "name": "stdout",
     "output_type": "stream",
     "text": [
      "Grabbing from S3\n"
     ]
    }
   ],
   "source": [
    "MASTER_ALL, MASTER_PID, DATE_MAPPER, KEY_VALUE = callbacks.serve_data(ret=True)"
   ]
  },
  {
   "cell_type": "code",
   "execution_count": 159,
   "metadata": {},
   "outputs": [],
   "source": [
    "MASTER_ALL['per_capita_confirmed'] = MASTER_ALL['confirmed']/MASTER_ALL['pop']\n",
    "MASTER_ALL['per_capita_deaths'] = MASTMER_ALL['deaths']/MASTER_ALL['pop']\n",
    "\n",
    "max_size=1500\n",
    "\n",
    "bins, ret_bins = pd.qcut(MASTER_ALL[(MASTER_ALL['per_capita_confirmed'] >= 0) & (MASTER_ALL['country'] != 'worldwide')]['per_capita_confirmed'], q=[\n",
    "    0, .5, 0.6, 0.70, 0.75, 0.8, 0.85, 0.9, 0.95, 0.999, 1], duplicates='drop', retbins=True)\n",
    "yellows = [\"#606056\", \"#6e6e56\", \"#7b7c55\", \"#898a54\", \"#979953\",\n",
    "           \"#a5a850\", \"#b4b74d\", \"#c3c649\", \"#d2d643\", \"#e2e53c\"]\n",
    "reds = [\"#5a4f4f\", \"#704d4d\", \"#854b4a\", \"#994746\", \"#ac4340\",\n",
    "        \"#be3c3a\", \"#cf3531\", \"#e02a27\", \"#f01c19\", \"#ff0000\"]\n",
    "labels = np.geomspace(1, max_size, num=len(ret_bins)-1)\n",
    "MASTER_ALL['per_capita_CSize'] = pd.cut(MASTER_ALL['per_capita_confirmed'], bins=ret_bins, labels=labels).astype(float).fillna(0)\n",
    "MASTER_ALL['per_capita_DSize'] = pd.cut(MASTER_ALL['per_capita_deaths'], bins=ret_bins, labels=labels).astype(float).fillna(0)\n",
    "MASTER_ALL['per_capita_CColor'] = pd.cut(MASTER_ALL['per_capita_confirmed'], bins=ret_bins,\n",
    "                              labels=yellows[2:]).astype(str).replace({'nan': 'white'})\n",
    "MASTER_ALL['per_capita_DColor'] = pd.cut(MASTER_ALL['per_capita_deaths'], bins=ret_bins,\n",
    "                              labels=reds[2:]).astype(str).replace({'nan': 'white'})\n",
    "\n",
    "MASTER_ALL['Text_Confirmed'].str.split(':').str.get(\n",
    "                    0) + \":1 in \" + (1/MASTER_ALL['per_capita_confirmed']).replace(\n",
    "                        np.inf, 0).astype(int).apply(lambda x: \"{:,}\".format(x))"
   ]
  }
 ],
 "metadata": {
  "kernelspec": {
   "display_name": "Python 3",
   "language": "python",
   "name": "python3"
  },
  "language_info": {
   "codemirror_mode": {
    "name": "ipython",
    "version": 3
   },
   "file_extension": ".py",
   "mimetype": "text/x-python",
   "name": "python",
   "nbconvert_exporter": "python",
   "pygments_lexer": "ipython3",
   "version": "3.7.4"
  },
  "toc": {
   "base_numbering": 1,
   "nav_menu": {},
   "number_sections": true,
   "sideBar": true,
   "skip_h1_title": false,
   "title_cell": "Table of Contents",
   "title_sidebar": "Contents",
   "toc_cell": false,
   "toc_position": {},
   "toc_section_display": true,
   "toc_window_display": false
  }
 },
 "nbformat": 4,
 "nbformat_minor": 2
}
