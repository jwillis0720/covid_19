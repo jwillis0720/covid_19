{
 "cells": [
  {
   "cell_type": "code",
   "execution_count": 1,
   "metadata": {
    "ExecuteTime": {
     "end_time": "2020-03-22T05:27:50.443998Z",
     "start_time": "2020-03-22T05:27:50.436699Z"
    }
   },
   "outputs": [],
   "source": [
    "states_abbreviations_mapper = {\n",
    "        'AK': 'Alaska',\n",
    "        'AL': 'Alabama',\n",
    "        'AR': 'Arkansas',\n",
    "        'AS': 'American Samoa',\n",
    "        'AZ': 'Arizona',\n",
    "        'CA': 'California',\n",
    "        'CO': 'Colorado',\n",
    "        'CT': 'Connecticut',\n",
    "        'DC': 'District of Columbia',\n",
    "        'DE': 'Delaware',\n",
    "        'FL': 'Florida',\n",
    "        'GA': 'Georgia',\n",
    "        'GU': 'Guam',\n",
    "        'HI': 'Hawaii',\n",
    "        'IA': 'Iowa',\n",
    "        'ID': 'Idaho',\n",
    "        'IL': 'Illinois',\n",
    "        'IN': 'Indiana',\n",
    "        'KS': 'Kansas',\n",
    "        'KY': 'Kentucky',\n",
    "        'LA': 'Louisiana',\n",
    "        'MA': 'Massachusetts',\n",
    "        'MD': 'Maryland',\n",
    "        'ME': 'Maine',\n",
    "        'MI': 'Michigan',\n",
    "        'MN': 'Minnesota',\n",
    "        'MO': 'Missouri',\n",
    "        'MP': 'Northern Mariana Islands',\n",
    "        'MS': 'Mississippi',\n",
    "        'MT': 'Montana',\n",
    "        'NA': 'National',\n",
    "        'NC': 'North Carolina',\n",
    "        'ND': 'North Dakota',\n",
    "        'NE': 'Nebraska',\n",
    "        'NH': 'New Hampshire',\n",
    "        'NJ': 'New Jersey',\n",
    "        'NM': 'New Mexico',\n",
    "        'NV': 'Nevada',\n",
    "        'NY': 'New York',\n",
    "        'OH': 'Ohio',\n",
    "        'OK': 'Oklahoma',\n",
    "        'OR': 'Oregon',\n",
    "        'PA': 'Pennsylvania',\n",
    "        'PR': 'Puerto Rico',\n",
    "        'RI': 'Rhode Island',\n",
    "        'SC': 'South Carolina',\n",
    "        'SD': 'South Dakota',\n",
    "        'TN': 'Tennessee',\n",
    "        'TX': 'Texas',\n",
    "        'UT': 'Utah',\n",
    "        'VA': 'Virginia',\n",
    "        'VI': 'Virgin Islands',\n",
    "        'VT': 'Vermont',\n",
    "        'WA': 'Washington',\n",
    "        'WI': 'Wisconsin',\n",
    "        'WV': 'West Virginia',\n",
    "        'WY': 'Wyoming'\n",
    "}"
   ]
  },
  {
   "cell_type": "code",
   "execution_count": 2,
   "metadata": {
    "ExecuteTime": {
     "end_time": "2020-03-22T05:29:04.794303Z",
     "start_time": "2020-03-22T05:29:01.673403Z"
    },
    "code_folding": [
     104
    ]
   },
   "outputs": [],
   "source": [
    "import pandas as pd\n",
    "import warnings\n",
    "import plotly.graph_objects as go\n",
    "import numpy as np\n",
    "\n",
    "##I know I'm setting with a copy\n",
    "warnings.filterwarnings(\"ignore\",category=pd.core.common.SettingWithCopyWarning)\n",
    "\n",
    "BASE_URL = 'https://raw.githubusercontent.com/CSSEGISandData/COVID-19/master/'\n",
    "TS_CONFIRMED_CASES = 'csse_covid_19_data/csse_covid_19_time_series/time_series_19-covid-Confirmed.csv'\n",
    "TS_DEATH_CASES = 'csse_covid_19_data/csse_covid_19_time_series/time_series_19-covid-Deaths.csv'\n",
    "TS_RECOVERED_CASES = 'csse_covid_19_data/csse_covid_19_time_series/time_series_19-covid-Recovered.csv'\n",
    "mapbox_access_token = \"pk.eyJ1IjoiandpbGxpczA3MjAiLCJhIjoiY2s4MHhoYmF6MDFoODNpcnVyNGR2bWk1bSJ9.YNwklD1Aa6DihVblHr3GVg\"\n",
    "#mapbox_style = \"mapbox://styles/plotlymapbox/cjvprkf3t1kns1cqjxuxmwixz\"\n",
    "mapbox_style = 'dark'\n",
    "\n",
    "def get_time_series(url):\n",
    "    time_series_df = pd.read_csv(BASE_URL+url)\n",
    "    return time_series_df.set_index(\n",
    "        ['Province/State','Country/Region','Lat','Long']).transpose().unstack(\n",
    "            fill_value=\"\").reset_index().rename({'level_4':'Date',0:'Cases'},axis=1)\n",
    "\n",
    "\n",
    "def parse_into_city(df):\n",
    "    df['City'] = df['Province/State'].apply(\n",
    "        lambda x: x.split(', ')[0] if len(x.split(', '))==2 else \"\")\n",
    "    df['State'] = df['Province/State'].apply(\n",
    "        lambda x: states_abbreviations_mapper[x.split(', ')[1].replace('.','').strip()] if len(x.split(', '))==2 else x)\n",
    "    return df[df['City'] == ''],df[df['City'] != '']\n",
    "\n",
    "\n",
    "\n",
    "# Confirmed Cases\n",
    "confirmed_cases = get_time_series(TS_CONFIRMED_CASES)\n",
    "us_confirmed_cases = confirmed_cases[confirmed_cases['Country/Region'] == 'US']\n",
    "world_confirmed_cases = confirmed_cases[confirmed_cases['Country/Region'] != 'US']\n",
    "\n",
    "# US Specific confirmed cases. Can parse out by city too\n",
    "us_confirmed_cases_by_state, us_confirmed_cases_by_city = parse_into_city(\n",
    "    us_confirmed_cases)\n",
    "\n",
    "# Death Cases\n",
    "death_cases = get_time_series(TS_DEATH_CASES)\n",
    "us_death_cases = death_cases[death_cases['Country/Region'] == 'US']\n",
    "world_death_cases = death_cases[death_cases['Country/Region'] != 'US']\n",
    "\n",
    "\n",
    "# US Specific death cases. Can parse out by city too\n",
    "us_death_cases_by_state, us_death_cases_by_city = parse_into_city(\n",
    "    us_death_cases)\n",
    "\n",
    "# Recovered Cases\n",
    "recovered_cases = get_time_series(TS_RECOVERED_CASES)\n",
    "us_recovered_cases = recovered_cases[recovered_cases['Country/Region'] == 'US']\n",
    "world_recovered_cases = recovered_cases[recovered_cases['Country/Region'] != 'US']\n",
    "\n",
    "# US Specific death cases. Can parse out by city too\n",
    "us_recovered_cases_by_state, us_recovered_cases_by_city = parse_into_city(\n",
    "    us_recovered_cases)\n",
    "\n",
    "# Coerce dates\n",
    "us_confirmed_cases_by_city['Date'] = pd.to_datetime(\n",
    "    us_confirmed_cases_by_city['Date'], format='%m/%d/%y')\n",
    "\n",
    "us_confirmed_cases_by_state['Date'] = pd.to_datetime(\n",
    "    us_confirmed_cases_by_state['Date'], format='%m/%d/%y')\n",
    "\n",
    "us_death_cases_by_city['Date'] = pd.to_datetime(\n",
    "    us_death_cases_by_city['Date'], format='%m/%d/%y')\n",
    "\n",
    "us_death_cases_by_state['Date'] = pd.to_datetime(\n",
    "    us_death_cases_by_state['Date'], format='%m/%d/%y')\n",
    "\n",
    "us_recovered_cases_by_state['Date'] = pd.to_datetime(\n",
    "    us_recovered_cases_by_state['Date'], format='%m/%d/%y')\n",
    "\n",
    "us_recovered_cases_by_state['Date'] = pd.to_datetime(\n",
    "    us_recovered_cases_by_state['Date'], format='%m/%d/%y')\n",
    "\n",
    "world_confirmed_cases['Date'] = pd.to_datetime(\n",
    "    world_confirmed_cases['Date'], format='%m/%d/%y')\n",
    "\n",
    "world_death_cases['Date'] = pd.to_datetime(\n",
    "    world_death_cases['Date'], format='%m/%d/%y')\n",
    "\n",
    "world_recovered_cases['Date'] = pd.to_datetime(\n",
    "    world_recovered_cases['Date'], format='%m/%d/%y')\n",
    "\n",
    "\n",
    "\n",
    "to_date_cases_by_city = us_confirmed_cases_by_city.groupby(\n",
    "    ['City', 'State'], as_index=False).sum()\n",
    "\n",
    "\n",
    "date_mapper = pd.DataFrame(\n",
    "    us_confirmed_cases_by_city['Date'].unique(), columns=['Date'])\n",
    "date_mapper['Date_text'] = date_mapper['Date'].dt.strftime('%m/%d/%y')\n",
    "\n",
    "min_date = min(date_mapper.index)\n",
    "max_date = max(date_mapper.index)\n",
    "\n",
    "\n",
    "centroid_country_mapper = world_confirmed_cases.groupby('Country/Region').apply(lambda x: x.sort_values('Cases')[::-1].iloc[0][['Lat','Long']])\n",
    "centroid_country_mapper = {x[0]: {'\"Long':x[1]['Long'],'Lat':x[1]['Lat']} for x in centroid_country_mapper.iterrows()}\n",
    "def get_graph_state(date_int):\n",
    "    print(date_int)\n",
    "    # Get initial zoom and shit if the figure is already drawn\n",
    "#     if not figure:\n",
    "\n",
    "    lat = 36.017295\n",
    "    lon = -39.471056\n",
    "    zoom = 1.5\n",
    "#     elif \"layout\" in figure:\n",
    "#         lat = figure[\"layout\"][\"mapbox\"][\"lat\"]\n",
    "#         lon = figure[\"layout\"][\"mapbox\"][\"lon\"]\n",
    "#         zoom = figure[\"layout\"][\"mapbox\"][\"zoom\"]\n",
    "\n",
    "    official_date = date_mapper.iloc[date_int]['Date']\n",
    "    print(date_int, official_date)\n",
    "\n",
    "    df_confirmed = us_confirmed_cases_by_state[\n",
    "        us_confirmed_cases_by_state['Date'] == official_date].groupby('Province/State Country/Region Lat Long'.split(),as_index=False).sum()\n",
    "    df_confirmed.rename({'Cases':'Ongoing'},axis=1,inplace=1)\n",
    "    df_confirmed['text'] = df_confirmed['Province/State'] + '<br>Total Cases {}: '.format(\n",
    "        official_date.strftime('%m/%d/%y')) + df_confirmed['Ongoing'].astype(str)\n",
    "    \n",
    "    \n",
    "    df_death = us_death_cases_by_state[\n",
    "        us_death_cases_by_state['Date'] == official_date].groupby('Province/State Country/Region Lat Long'.split(),as_index=False).sum()\n",
    "    df_death.rename({'Cases':'Deaths'},axis=1,inplace=1)\n",
    "    df_death['text'] = df_death['Province/State'] + '<br>Total Deaths {}: '.format(\n",
    "        official_date.strftime('%m/%d/%y')) + df_death['Deaths'].astype(str)\n",
    "    \n",
    "    \n",
    "    df_recover = us_recovered_cases_by_state[\n",
    "        us_recovered_cases_by_state['Date'] == official_date].groupby('Province/State Country/Region Lat Long'.split(),as_index=False).sum()\n",
    "    df_recover.rename({'Cases':'Recovered'},axis=1,inplace=1)\n",
    "    df_recover['text'] = df_recover['Province/State'] + '<br>Total Recovered {}: '.format(\n",
    "        official_date.strftime('%m/%d/%y')) + df_recover['Recovered'].astype(str)\n",
    "    \n",
    "\n",
    "\n",
    "    \n",
    "    sizeref = 2. * world_confirmed_cases.groupby(['Date','Country/Region']).sum().max()['Cases']/ (20 ** 2)\n",
    "\n",
    "    \n",
    "    # Has to take in a figure state eventually\n",
    "    fig = go.Figure()\n",
    "    fig.add_trace(go.Scattermapbox(\n",
    "        lon=df_confirmed['Long']+np.random.normal(0,.02,len(df_confirmed['Long'])),\n",
    "        lat=df_confirmed['Lat']+np.random.normal(0,.02,len(df_confirmed['Lat'])),\n",
    "        text=df_confirmed['text'],\n",
    "        customdata=df_confirmed['Province/State'],\n",
    "        hoverinfo='text',\n",
    "        textposition='top right',\n",
    "        mode='markers',\n",
    "        marker=dict(\n",
    "            sizeref=sizeref,\n",
    "            sizemin=3,\n",
    "            size=df_confirmed['Ongoing'],\n",
    "            color='yellow')))\n",
    "    \n",
    "    \n",
    "    fig.add_trace(go.Scattermapbox(\n",
    "        lon=df_death['Long']+np.random.normal(0,.02,len(df_death['Long'])),\n",
    "        lat=df_death['Lat']+np.random.normal(0,.02,len(df_death['Long'])),\n",
    "        text=df_death['text'],\n",
    "        customdata=df_death['Province/State'],\n",
    "        hoverinfo='text',\n",
    "        textposition='top right',\n",
    "        mode='markers',\n",
    "        marker=dict(\n",
    "            sizeref=sizeref,\n",
    "            sizemin=2,\n",
    "            size=df_death['Deaths'],\n",
    "            color='red')))\n",
    "\n",
    "    \n",
    "    fig.add_trace(go.Scattermapbox(\n",
    "        lon=df_recover['Long']+np.random.normal(0,.05,len(df_recover['Long'])),\n",
    "        lat=df_recover['Lat']+np.random.normal(0,.05,len(df_recover['Lat'])),\n",
    "        text=df_recover['text'],\n",
    "        customdata=df_recover['Province/State'],\n",
    "        hoverinfo='text',\n",
    "        textposition='top right',\n",
    "        mode='markers',\n",
    "        marker=dict(\n",
    "            sizeref=sizeref,\n",
    "            sizemin=2,\n",
    "            size=df_recover['Recovered'],\n",
    "            color='green')))\n",
    "    \n",
    "    \n",
    "    world_confirmed = world_confirmed_cases[\n",
    "    world_confirmed_cases['Date'] == official_date].groupby('Country/Region'.split(),as_index=False).sum()\n",
    "    world_confirmed.rename({'Cases':'Ongoing'},axis=1,inplace=1)\n",
    "    world_confirmed['text'] = world_confirmed['Country/Region'] + '<br>Total Cases {}: '.format(\n",
    "        official_date.strftime('%m/%d/%y')) + world_confirmed['Ongoing'].map('{:,}'.format)\n",
    "    world_confirmed['Lat'] = world_confirmed['Country/Region'].apply(lambda x: centroid_country_mapper[x]['Lat'])\n",
    "    world_confirmed['Long'] = world_confirmed['Country/Region'].apply(lambda x: centroid_country_mapper[x]['Long'])\n",
    "\n",
    "    world_dead = world_death_cases[\n",
    "        world_death_cases['Date'] == official_date].groupby('Country/Region'.split(),as_index=False).sum()\n",
    "    world_dead.rename({'Cases':'Dead'},axis=1,inplace=1)\n",
    "    world_dead['text'] = world_dead['Country/Region'] + '<br>Total Dead {}: '.format(\n",
    "        official_date.strftime('%m/%d/%y')) + world_dead['Dead'].map('{:,}'.format)\n",
    "    world_dead['Lat'] = world_dead['Country/Region'].apply(lambda x: centroid_country_mapper[x]['Lat'])\n",
    "    world_dead['Long'] = world_dead['Country/Region'].apply(lambda x: centroid_country_mapper[x]['Long'])\n",
    "    \n",
    "    \n",
    "    world_recovered = world_recovered_cases[\n",
    "        world_recovered_cases['Date'] == official_date].groupby('Country/Region'.split(),as_index=False).sum()\n",
    "    world_recovered.rename({'Cases':'Recovered'},axis=1,inplace=1)\n",
    "    world_recovered['text'] = world_recovered['Country/Region'] + '<br>Total Recovered {}: '.format(\n",
    "        official_date.strftime('%m/%d/%y')) + world_recovered['Recovered'].map('{:,}'.format)\n",
    "    world_recovered['Lat'] = world_recovered['Country/Region'].apply(lambda x: centroid_country_mapper[x]['Lat'])\n",
    "    world_recovered['Long'] = world_recovered['Country/Region'].apply(lambda x: centroid_country_mapper[x]['Long'])\n",
    "    \n",
    "    \n",
    "    \n",
    "    fig.add_trace(go.Scattermapbox(\n",
    "        lon=world_confirmed['Long'],\n",
    "        lat=world_confirmed['Lat'],\n",
    "        text=world_confirmed['text'],\n",
    "        customdata=world_confirmed['Country/Region'],\n",
    "        hoverinfo='text',\n",
    "        textposition='top right',\n",
    "        mode='markers',\n",
    "        marker=dict(\n",
    "            sizeref=sizeref,\n",
    "            sizemin=3,\n",
    "            size=world_confirmed['Ongoing'],\n",
    "            color='yellow')))\n",
    "    \n",
    "    fig.add_trace(go.Scattermapbox(\n",
    "        lon=world_dead['Long']+np.random.normal(0,.05,len(world_dead['Long'])),\n",
    "        lat=world_dead['Lat']+np.random.normal(0,.05,len(world_dead['Lat'])),\n",
    "        text=world_dead['text'],\n",
    "        customdata=world_dead['Country/Region'],\n",
    "        hoverinfo='text',\n",
    "        textposition='top right',\n",
    "        mode='markers',\n",
    "        marker=dict(\n",
    "            sizeref=sizeref,\n",
    "            sizemin=3,\n",
    "            size=world_dead['Dead'],\n",
    "            color='red')))\n",
    "    \n",
    "    fig.add_trace(go.Scattermapbox(\n",
    "        lon=world_recovered['Long']+np.random.normal(0,.05,len(world_recovered['Long'])),\n",
    "        lat=world_recovered['Lat']+np.random.normal(0,.05,len(world_recovered['Lat'])),\n",
    "        text=world_recovered['text'],\n",
    "        customdata=world_recovered['Country/Region'],\n",
    "        hoverinfo='text',\n",
    "        textposition='top right',\n",
    "        mode='markers',\n",
    "        marker=dict(\n",
    "            sizeref=sizeref,\n",
    "            sizemin=3,\n",
    "            size=world_recovered['Recovered'],\n",
    "            color='green')))\n",
    "\n",
    "\n",
    "    layout = dict(\n",
    "        title_text='The Corona is Coming',\n",
    "        autosize=True,\n",
    "        showlegend=False,\n",
    "        mapbox=dict(\n",
    "            accesstoken=mapbox_access_token,\n",
    "            style=mapbox_style,\n",
    "            zoom=zoom,\n",
    "            center=dict(lat=lat, lon=lon)\n",
    "        ),\n",
    "        hovermode=\"closest\",\n",
    "        margin=dict(r=0, l=0, t=0, b=0),\n",
    "        dragmode=\"pan\",\n",
    "    )\n",
    "\n",
    "    fig.update_layout(layout)\n",
    "    return fig\n"
   ]
  },
  {
   "cell_type": "code",
   "execution_count": 8,
   "metadata": {
    "ExecuteTime": {
     "end_time": "2020-03-22T05:31:07.893342Z",
     "start_time": "2020-03-22T05:31:07.887573Z"
    }
   },
   "outputs": [
    {
     "data": {
      "text/plain": [
       "<pandas.core.groupby.generic.DataFrameGroupBy object at 0x11ae86630>"
      ]
     },
     "execution_count": 8,
     "metadata": {},
     "output_type": "execute_result"
    }
   ],
   "source": [
    "world_confirmed_cases.groupby(['Date','Country/Region'])"
   ]
  },
  {
   "cell_type": "code",
   "execution_count": 56,
   "metadata": {
    "ExecuteTime": {
     "end_time": "2020-03-22T05:59:43.131098Z",
     "start_time": "2020-03-22T05:59:36.486798Z"
    }
   },
   "outputs": [],
   "source": [
    "new_cases_by_country = []\n",
    "\n",
    "countries = world_confirmed_cases['Country/Region'].unique()\n",
    "dates = date_mapper['Date']   \n",
    "\n",
    "for country in countries:\n",
    "    sub_country = world_confirmed_cases[world_confirmed_cases['Country/Region']==country]\n",
    "    new_cases_by_country.append(\n",
    "        {'Country':country,'Date':dates[0],\n",
    "         'New Cases': sub_country.loc[sub_country['Date']==dates[0],'Cases'].iloc[0]})\n",
    "    for date_index in range(1,len(dates)):\n",
    "        current_date = dates[date_index]\n",
    "        day_before = dates[date_index-1]\n",
    "        #print(current_date,day_before)\n",
    "        total_today = sub_country.loc[sub_country['Date'] == current_date,'Cases'].iloc[0]\n",
    "        total_yesterday =  sub_country.loc[sub_country['Date'] == day_before,'Cases'].iloc[0]\n",
    "        new_cases = total_today - total_yesterday\n",
    "        new_cases_by_country.append(\n",
    "            {'Country':country,'Date':current_date,'New Cases': new_cases} )\n",
    "        \n",
    "\n",
    "new_cases_by_country = pd.DataFrame(new_cases_by_country)"
   ]
  },
  {
   "cell_type": "code",
   "execution_count": 60,
   "metadata": {
    "ExecuteTime": {
     "end_time": "2020-03-22T06:02:32.887054Z",
     "start_time": "2020-03-22T06:02:32.883105Z"
    }
   },
   "outputs": [],
   "source": [
    "sub_df = new_cases_by_country[new_cases_by_country['Country']=='China']"
   ]
  },
  {
   "cell_type": "code",
   "execution_count": null,
   "metadata": {},
   "outputs": [],
   "source": [
    "sub_df"
   ]
  },
  {
   "cell_type": "code",
   "execution_count": 65,
   "metadata": {
    "ExecuteTime": {
     "end_time": "2020-03-22T06:04:25.626526Z",
     "start_time": "2020-03-22T06:04:25.483327Z"
    }
   },
   "outputs": [
    {
     "data": {
      "application/vnd.plotly.v1+json": {
       "config": {
        "plotlyServerURL": "https://plot.ly"
       },
       "data": [
        {
         "marker": {
          "color": "rgb(55, 83, 109)"
         },
         "name": "China",
         "type": "bar",
         "x": [
          "01/22/20",
          "01/23/20",
          "01/24/20",
          "01/25/20",
          "01/26/20",
          "01/27/20",
          "01/28/20",
          "01/29/20",
          "01/30/20",
          "01/31/20",
          "02/01/20",
          "02/02/20",
          "02/03/20",
          "02/04/20",
          "02/05/20",
          "02/06/20",
          "02/07/20",
          "02/08/20",
          "02/09/20",
          "02/10/20",
          "02/11/20",
          "02/12/20",
          "02/13/20",
          "02/14/20",
          "02/15/20",
          "02/16/20",
          "02/17/20",
          "02/18/20",
          "02/19/20",
          "02/20/20",
          "02/21/20",
          "02/22/20",
          "02/23/20",
          "02/24/20",
          "02/25/20",
          "02/26/20",
          "02/27/20",
          "02/28/20",
          "02/29/20",
          "03/01/20",
          "03/02/20",
          "03/03/20",
          "03/04/20",
          "03/05/20",
          "03/06/20",
          "03/07/20",
          "03/08/20",
          "03/09/20",
          "03/10/20",
          "03/11/20",
          "03/12/20",
          "03/13/20",
          "03/14/20",
          "03/15/20",
          "03/16/20",
          "03/17/20",
          "03/18/20",
          "03/19/20",
          "03/20/20",
          "03/21/20"
         ],
         "y": [
          444,
          0,
          105,
          212,
          297,
          365,
          2131,
          0,
          1349,
          903,
          1347,
          4024,
          2345,
          3156,
          2987,
          2447,
          2841,
          2147,
          2531,
          2097,
          1638,
          0,
          14840,
          6200,
          1843,
          1933,
          1807,
          1693,
          349,
          411,
          220,
          1422,
          0,
          203,
          499,
          401,
          409,
          318,
          423,
          570,
          196,
          114,
          115,
          134,
          126,
          74,
          41,
          36,
          17,
          13,
          8,
          5,
          4,
          4,
          4,
          1,
          1,
          0,
          0,
          0
         ]
        }
       ],
       "layout": {
        "bargap": 0.15,
        "bargroupgap": 0.1,
        "barmode": "group",
        "legend": {
         "bgcolor": "rgba(255, 255, 255, 0)",
         "bordercolor": "rgba(255, 255, 0, 0)",
         "x": 0,
         "y": 1
        },
        "template": {
         "data": {
          "bar": [
           {
            "error_x": {
             "color": "#2a3f5f"
            },
            "error_y": {
             "color": "#2a3f5f"
            },
            "marker": {
             "line": {
              "color": "#E5ECF6",
              "width": 0.5
             }
            },
            "type": "bar"
           }
          ],
          "barpolar": [
           {
            "marker": {
             "line": {
              "color": "#E5ECF6",
              "width": 0.5
             }
            },
            "type": "barpolar"
           }
          ],
          "carpet": [
           {
            "aaxis": {
             "endlinecolor": "#2a3f5f",
             "gridcolor": "white",
             "linecolor": "white",
             "minorgridcolor": "white",
             "startlinecolor": "#2a3f5f"
            },
            "baxis": {
             "endlinecolor": "#2a3f5f",
             "gridcolor": "white",
             "linecolor": "white",
             "minorgridcolor": "white",
             "startlinecolor": "#2a3f5f"
            },
            "type": "carpet"
           }
          ],
          "choropleth": [
           {
            "colorbar": {
             "outlinewidth": 0,
             "ticks": ""
            },
            "type": "choropleth"
           }
          ],
          "contour": [
           {
            "colorbar": {
             "outlinewidth": 0,
             "ticks": ""
            },
            "colorscale": [
             [
              0,
              "#0d0887"
             ],
             [
              0.1111111111111111,
              "#46039f"
             ],
             [
              0.2222222222222222,
              "#7201a8"
             ],
             [
              0.3333333333333333,
              "#9c179e"
             ],
             [
              0.4444444444444444,
              "#bd3786"
             ],
             [
              0.5555555555555556,
              "#d8576b"
             ],
             [
              0.6666666666666666,
              "#ed7953"
             ],
             [
              0.7777777777777778,
              "#fb9f3a"
             ],
             [
              0.8888888888888888,
              "#fdca26"
             ],
             [
              1,
              "#f0f921"
             ]
            ],
            "type": "contour"
           }
          ],
          "contourcarpet": [
           {
            "colorbar": {
             "outlinewidth": 0,
             "ticks": ""
            },
            "type": "contourcarpet"
           }
          ],
          "heatmap": [
           {
            "colorbar": {
             "outlinewidth": 0,
             "ticks": ""
            },
            "colorscale": [
             [
              0,
              "#0d0887"
             ],
             [
              0.1111111111111111,
              "#46039f"
             ],
             [
              0.2222222222222222,
              "#7201a8"
             ],
             [
              0.3333333333333333,
              "#9c179e"
             ],
             [
              0.4444444444444444,
              "#bd3786"
             ],
             [
              0.5555555555555556,
              "#d8576b"
             ],
             [
              0.6666666666666666,
              "#ed7953"
             ],
             [
              0.7777777777777778,
              "#fb9f3a"
             ],
             [
              0.8888888888888888,
              "#fdca26"
             ],
             [
              1,
              "#f0f921"
             ]
            ],
            "type": "heatmap"
           }
          ],
          "heatmapgl": [
           {
            "colorbar": {
             "outlinewidth": 0,
             "ticks": ""
            },
            "colorscale": [
             [
              0,
              "#0d0887"
             ],
             [
              0.1111111111111111,
              "#46039f"
             ],
             [
              0.2222222222222222,
              "#7201a8"
             ],
             [
              0.3333333333333333,
              "#9c179e"
             ],
             [
              0.4444444444444444,
              "#bd3786"
             ],
             [
              0.5555555555555556,
              "#d8576b"
             ],
             [
              0.6666666666666666,
              "#ed7953"
             ],
             [
              0.7777777777777778,
              "#fb9f3a"
             ],
             [
              0.8888888888888888,
              "#fdca26"
             ],
             [
              1,
              "#f0f921"
             ]
            ],
            "type": "heatmapgl"
           }
          ],
          "histogram": [
           {
            "marker": {
             "colorbar": {
              "outlinewidth": 0,
              "ticks": ""
             }
            },
            "type": "histogram"
           }
          ],
          "histogram2d": [
           {
            "colorbar": {
             "outlinewidth": 0,
             "ticks": ""
            },
            "colorscale": [
             [
              0,
              "#0d0887"
             ],
             [
              0.1111111111111111,
              "#46039f"
             ],
             [
              0.2222222222222222,
              "#7201a8"
             ],
             [
              0.3333333333333333,
              "#9c179e"
             ],
             [
              0.4444444444444444,
              "#bd3786"
             ],
             [
              0.5555555555555556,
              "#d8576b"
             ],
             [
              0.6666666666666666,
              "#ed7953"
             ],
             [
              0.7777777777777778,
              "#fb9f3a"
             ],
             [
              0.8888888888888888,
              "#fdca26"
             ],
             [
              1,
              "#f0f921"
             ]
            ],
            "type": "histogram2d"
           }
          ],
          "histogram2dcontour": [
           {
            "colorbar": {
             "outlinewidth": 0,
             "ticks": ""
            },
            "colorscale": [
             [
              0,
              "#0d0887"
             ],
             [
              0.1111111111111111,
              "#46039f"
             ],
             [
              0.2222222222222222,
              "#7201a8"
             ],
             [
              0.3333333333333333,
              "#9c179e"
             ],
             [
              0.4444444444444444,
              "#bd3786"
             ],
             [
              0.5555555555555556,
              "#d8576b"
             ],
             [
              0.6666666666666666,
              "#ed7953"
             ],
             [
              0.7777777777777778,
              "#fb9f3a"
             ],
             [
              0.8888888888888888,
              "#fdca26"
             ],
             [
              1,
              "#f0f921"
             ]
            ],
            "type": "histogram2dcontour"
           }
          ],
          "mesh3d": [
           {
            "colorbar": {
             "outlinewidth": 0,
             "ticks": ""
            },
            "type": "mesh3d"
           }
          ],
          "parcoords": [
           {
            "line": {
             "colorbar": {
              "outlinewidth": 0,
              "ticks": ""
             }
            },
            "type": "parcoords"
           }
          ],
          "pie": [
           {
            "automargin": true,
            "type": "pie"
           }
          ],
          "scatter": [
           {
            "marker": {
             "colorbar": {
              "outlinewidth": 0,
              "ticks": ""
             }
            },
            "type": "scatter"
           }
          ],
          "scatter3d": [
           {
            "line": {
             "colorbar": {
              "outlinewidth": 0,
              "ticks": ""
             }
            },
            "marker": {
             "colorbar": {
              "outlinewidth": 0,
              "ticks": ""
             }
            },
            "type": "scatter3d"
           }
          ],
          "scattercarpet": [
           {
            "marker": {
             "colorbar": {
              "outlinewidth": 0,
              "ticks": ""
             }
            },
            "type": "scattercarpet"
           }
          ],
          "scattergeo": [
           {
            "marker": {
             "colorbar": {
              "outlinewidth": 0,
              "ticks": ""
             }
            },
            "type": "scattergeo"
           }
          ],
          "scattergl": [
           {
            "marker": {
             "colorbar": {
              "outlinewidth": 0,
              "ticks": ""
             }
            },
            "type": "scattergl"
           }
          ],
          "scattermapbox": [
           {
            "marker": {
             "colorbar": {
              "outlinewidth": 0,
              "ticks": ""
             }
            },
            "type": "scattermapbox"
           }
          ],
          "scatterpolar": [
           {
            "marker": {
             "colorbar": {
              "outlinewidth": 0,
              "ticks": ""
             }
            },
            "type": "scatterpolar"
           }
          ],
          "scatterpolargl": [
           {
            "marker": {
             "colorbar": {
              "outlinewidth": 0,
              "ticks": ""
             }
            },
            "type": "scatterpolargl"
           }
          ],
          "scatterternary": [
           {
            "marker": {
             "colorbar": {
              "outlinewidth": 0,
              "ticks": ""
             }
            },
            "type": "scatterternary"
           }
          ],
          "surface": [
           {
            "colorbar": {
             "outlinewidth": 0,
             "ticks": ""
            },
            "colorscale": [
             [
              0,
              "#0d0887"
             ],
             [
              0.1111111111111111,
              "#46039f"
             ],
             [
              0.2222222222222222,
              "#7201a8"
             ],
             [
              0.3333333333333333,
              "#9c179e"
             ],
             [
              0.4444444444444444,
              "#bd3786"
             ],
             [
              0.5555555555555556,
              "#d8576b"
             ],
             [
              0.6666666666666666,
              "#ed7953"
             ],
             [
              0.7777777777777778,
              "#fb9f3a"
             ],
             [
              0.8888888888888888,
              "#fdca26"
             ],
             [
              1,
              "#f0f921"
             ]
            ],
            "type": "surface"
           }
          ],
          "table": [
           {
            "cells": {
             "fill": {
              "color": "#EBF0F8"
             },
             "line": {
              "color": "white"
             }
            },
            "header": {
             "fill": {
              "color": "#C8D4E3"
             },
             "line": {
              "color": "white"
             }
            },
            "type": "table"
           }
          ]
         },
         "layout": {
          "annotationdefaults": {
           "arrowcolor": "#2a3f5f",
           "arrowhead": 0,
           "arrowwidth": 1
          },
          "coloraxis": {
           "colorbar": {
            "outlinewidth": 0,
            "ticks": ""
           }
          },
          "colorscale": {
           "diverging": [
            [
             0,
             "#8e0152"
            ],
            [
             0.1,
             "#c51b7d"
            ],
            [
             0.2,
             "#de77ae"
            ],
            [
             0.3,
             "#f1b6da"
            ],
            [
             0.4,
             "#fde0ef"
            ],
            [
             0.5,
             "#f7f7f7"
            ],
            [
             0.6,
             "#e6f5d0"
            ],
            [
             0.7,
             "#b8e186"
            ],
            [
             0.8,
             "#7fbc41"
            ],
            [
             0.9,
             "#4d9221"
            ],
            [
             1,
             "#276419"
            ]
           ],
           "sequential": [
            [
             0,
             "#0d0887"
            ],
            [
             0.1111111111111111,
             "#46039f"
            ],
            [
             0.2222222222222222,
             "#7201a8"
            ],
            [
             0.3333333333333333,
             "#9c179e"
            ],
            [
             0.4444444444444444,
             "#bd3786"
            ],
            [
             0.5555555555555556,
             "#d8576b"
            ],
            [
             0.6666666666666666,
             "#ed7953"
            ],
            [
             0.7777777777777778,
             "#fb9f3a"
            ],
            [
             0.8888888888888888,
             "#fdca26"
            ],
            [
             1,
             "#f0f921"
            ]
           ],
           "sequentialminus": [
            [
             0,
             "#0d0887"
            ],
            [
             0.1111111111111111,
             "#46039f"
            ],
            [
             0.2222222222222222,
             "#7201a8"
            ],
            [
             0.3333333333333333,
             "#9c179e"
            ],
            [
             0.4444444444444444,
             "#bd3786"
            ],
            [
             0.5555555555555556,
             "#d8576b"
            ],
            [
             0.6666666666666666,
             "#ed7953"
            ],
            [
             0.7777777777777778,
             "#fb9f3a"
            ],
            [
             0.8888888888888888,
             "#fdca26"
            ],
            [
             1,
             "#f0f921"
            ]
           ]
          },
          "colorway": [
           "#636efa",
           "#EF553B",
           "#00cc96",
           "#ab63fa",
           "#FFA15A",
           "#19d3f3",
           "#FF6692",
           "#B6E880",
           "#FF97FF",
           "#FECB52"
          ],
          "font": {
           "color": "#2a3f5f"
          },
          "geo": {
           "bgcolor": "white",
           "lakecolor": "white",
           "landcolor": "#E5ECF6",
           "showlakes": true,
           "showland": true,
           "subunitcolor": "white"
          },
          "hoverlabel": {
           "align": "left"
          },
          "hovermode": "closest",
          "mapbox": {
           "style": "light"
          },
          "paper_bgcolor": "white",
          "plot_bgcolor": "#E5ECF6",
          "polar": {
           "angularaxis": {
            "gridcolor": "white",
            "linecolor": "white",
            "ticks": ""
           },
           "bgcolor": "#E5ECF6",
           "radialaxis": {
            "gridcolor": "white",
            "linecolor": "white",
            "ticks": ""
           }
          },
          "scene": {
           "xaxis": {
            "backgroundcolor": "#E5ECF6",
            "gridcolor": "white",
            "gridwidth": 2,
            "linecolor": "white",
            "showbackground": true,
            "ticks": "",
            "zerolinecolor": "white"
           },
           "yaxis": {
            "backgroundcolor": "#E5ECF6",
            "gridcolor": "white",
            "gridwidth": 2,
            "linecolor": "white",
            "showbackground": true,
            "ticks": "",
            "zerolinecolor": "white"
           },
           "zaxis": {
            "backgroundcolor": "#E5ECF6",
            "gridcolor": "white",
            "gridwidth": 2,
            "linecolor": "white",
            "showbackground": true,
            "ticks": "",
            "zerolinecolor": "white"
           }
          },
          "shapedefaults": {
           "line": {
            "color": "#2a3f5f"
           }
          },
          "ternary": {
           "aaxis": {
            "gridcolor": "white",
            "linecolor": "white",
            "ticks": ""
           },
           "baxis": {
            "gridcolor": "white",
            "linecolor": "white",
            "ticks": ""
           },
           "bgcolor": "#E5ECF6",
           "caxis": {
            "gridcolor": "white",
            "linecolor": "white",
            "ticks": ""
           }
          },
          "title": {
           "x": 0.05
          },
          "xaxis": {
           "automargin": true,
           "gridcolor": "white",
           "linecolor": "white",
           "ticks": "",
           "title": {
            "standoff": 15
           },
           "zerolinecolor": "white",
           "zerolinewidth": 2
          },
          "yaxis": {
           "automargin": true,
           "gridcolor": "white",
           "linecolor": "white",
           "ticks": "",
           "title": {
            "standoff": 15
           },
           "zerolinecolor": "white",
           "zerolinewidth": 2
          }
         }
        },
        "title": {
         "text": "New Cases Per Day"
        },
        "xaxis": {
         "tickfont": {
          "size": 14
         }
        },
        "yaxis": {
         "tickfont": {
          "size": 14
         },
         "title": {
          "font": {
           "size": 16
          },
          "text": "New Cases"
         }
        }
       }
      },
      "text/html": [
       "<div>\n",
       "        \n",
       "        \n",
       "            <div id=\"91e61796-cc0e-4658-8af6-20cf6d906c3a\" class=\"plotly-graph-div\" style=\"height:525px; width:100%;\"></div>\n",
       "            <script type=\"text/javascript\">\n",
       "                require([\"plotly\"], function(Plotly) {\n",
       "                    window.PLOTLYENV=window.PLOTLYENV || {};\n",
       "                    \n",
       "                if (document.getElementById(\"91e61796-cc0e-4658-8af6-20cf6d906c3a\")) {\n",
       "                    Plotly.newPlot(\n",
       "                        '91e61796-cc0e-4658-8af6-20cf6d906c3a',\n",
       "                        [{\"marker\": {\"color\": \"rgb(55, 83, 109)\"}, \"name\": \"China\", \"type\": \"bar\", \"x\": [\"01/22/20\", \"01/23/20\", \"01/24/20\", \"01/25/20\", \"01/26/20\", \"01/27/20\", \"01/28/20\", \"01/29/20\", \"01/30/20\", \"01/31/20\", \"02/01/20\", \"02/02/20\", \"02/03/20\", \"02/04/20\", \"02/05/20\", \"02/06/20\", \"02/07/20\", \"02/08/20\", \"02/09/20\", \"02/10/20\", \"02/11/20\", \"02/12/20\", \"02/13/20\", \"02/14/20\", \"02/15/20\", \"02/16/20\", \"02/17/20\", \"02/18/20\", \"02/19/20\", \"02/20/20\", \"02/21/20\", \"02/22/20\", \"02/23/20\", \"02/24/20\", \"02/25/20\", \"02/26/20\", \"02/27/20\", \"02/28/20\", \"02/29/20\", \"03/01/20\", \"03/02/20\", \"03/03/20\", \"03/04/20\", \"03/05/20\", \"03/06/20\", \"03/07/20\", \"03/08/20\", \"03/09/20\", \"03/10/20\", \"03/11/20\", \"03/12/20\", \"03/13/20\", \"03/14/20\", \"03/15/20\", \"03/16/20\", \"03/17/20\", \"03/18/20\", \"03/19/20\", \"03/20/20\", \"03/21/20\"], \"y\": [444, 0, 105, 212, 297, 365, 2131, 0, 1349, 903, 1347, 4024, 2345, 3156, 2987, 2447, 2841, 2147, 2531, 2097, 1638, 0, 14840, 6200, 1843, 1933, 1807, 1693, 349, 411, 220, 1422, 0, 203, 499, 401, 409, 318, 423, 570, 196, 114, 115, 134, 126, 74, 41, 36, 17, 13, 8, 5, 4, 4, 4, 1, 1, 0, 0, 0]}],\n",
       "                        {\"bargap\": 0.15, \"bargroupgap\": 0.1, \"barmode\": \"group\", \"legend\": {\"bgcolor\": \"rgba(255, 255, 255, 0)\", \"bordercolor\": \"rgba(255, 255, 0, 0)\", \"x\": 0, \"y\": 1.0}, \"template\": {\"data\": {\"bar\": [{\"error_x\": {\"color\": \"#2a3f5f\"}, \"error_y\": {\"color\": \"#2a3f5f\"}, \"marker\": {\"line\": {\"color\": \"#E5ECF6\", \"width\": 0.5}}, \"type\": \"bar\"}], \"barpolar\": [{\"marker\": {\"line\": {\"color\": \"#E5ECF6\", \"width\": 0.5}}, \"type\": \"barpolar\"}], \"carpet\": [{\"aaxis\": {\"endlinecolor\": \"#2a3f5f\", \"gridcolor\": \"white\", \"linecolor\": \"white\", \"minorgridcolor\": \"white\", \"startlinecolor\": \"#2a3f5f\"}, \"baxis\": {\"endlinecolor\": \"#2a3f5f\", \"gridcolor\": \"white\", \"linecolor\": \"white\", \"minorgridcolor\": \"white\", \"startlinecolor\": \"#2a3f5f\"}, \"type\": \"carpet\"}], \"choropleth\": [{\"colorbar\": {\"outlinewidth\": 0, \"ticks\": \"\"}, \"type\": \"choropleth\"}], \"contour\": [{\"colorbar\": {\"outlinewidth\": 0, \"ticks\": \"\"}, \"colorscale\": [[0.0, \"#0d0887\"], [0.1111111111111111, \"#46039f\"], [0.2222222222222222, \"#7201a8\"], [0.3333333333333333, \"#9c179e\"], [0.4444444444444444, \"#bd3786\"], [0.5555555555555556, \"#d8576b\"], [0.6666666666666666, \"#ed7953\"], [0.7777777777777778, \"#fb9f3a\"], [0.8888888888888888, \"#fdca26\"], [1.0, \"#f0f921\"]], \"type\": \"contour\"}], \"contourcarpet\": [{\"colorbar\": {\"outlinewidth\": 0, \"ticks\": \"\"}, \"type\": \"contourcarpet\"}], \"heatmap\": [{\"colorbar\": {\"outlinewidth\": 0, \"ticks\": \"\"}, \"colorscale\": [[0.0, \"#0d0887\"], [0.1111111111111111, \"#46039f\"], [0.2222222222222222, \"#7201a8\"], [0.3333333333333333, \"#9c179e\"], [0.4444444444444444, \"#bd3786\"], [0.5555555555555556, \"#d8576b\"], [0.6666666666666666, \"#ed7953\"], [0.7777777777777778, \"#fb9f3a\"], [0.8888888888888888, \"#fdca26\"], [1.0, \"#f0f921\"]], \"type\": \"heatmap\"}], \"heatmapgl\": [{\"colorbar\": {\"outlinewidth\": 0, \"ticks\": \"\"}, \"colorscale\": [[0.0, \"#0d0887\"], [0.1111111111111111, \"#46039f\"], [0.2222222222222222, \"#7201a8\"], [0.3333333333333333, \"#9c179e\"], [0.4444444444444444, \"#bd3786\"], [0.5555555555555556, \"#d8576b\"], [0.6666666666666666, \"#ed7953\"], [0.7777777777777778, \"#fb9f3a\"], [0.8888888888888888, \"#fdca26\"], [1.0, \"#f0f921\"]], \"type\": \"heatmapgl\"}], \"histogram\": [{\"marker\": {\"colorbar\": {\"outlinewidth\": 0, \"ticks\": \"\"}}, \"type\": \"histogram\"}], \"histogram2d\": [{\"colorbar\": {\"outlinewidth\": 0, \"ticks\": \"\"}, \"colorscale\": [[0.0, \"#0d0887\"], [0.1111111111111111, \"#46039f\"], [0.2222222222222222, \"#7201a8\"], [0.3333333333333333, \"#9c179e\"], [0.4444444444444444, \"#bd3786\"], [0.5555555555555556, \"#d8576b\"], [0.6666666666666666, \"#ed7953\"], [0.7777777777777778, \"#fb9f3a\"], [0.8888888888888888, \"#fdca26\"], [1.0, \"#f0f921\"]], \"type\": \"histogram2d\"}], \"histogram2dcontour\": [{\"colorbar\": {\"outlinewidth\": 0, \"ticks\": \"\"}, \"colorscale\": [[0.0, \"#0d0887\"], [0.1111111111111111, \"#46039f\"], [0.2222222222222222, \"#7201a8\"], [0.3333333333333333, \"#9c179e\"], [0.4444444444444444, \"#bd3786\"], [0.5555555555555556, \"#d8576b\"], [0.6666666666666666, \"#ed7953\"], [0.7777777777777778, \"#fb9f3a\"], [0.8888888888888888, \"#fdca26\"], [1.0, \"#f0f921\"]], \"type\": \"histogram2dcontour\"}], \"mesh3d\": [{\"colorbar\": {\"outlinewidth\": 0, \"ticks\": \"\"}, \"type\": \"mesh3d\"}], \"parcoords\": [{\"line\": {\"colorbar\": {\"outlinewidth\": 0, \"ticks\": \"\"}}, \"type\": \"parcoords\"}], \"pie\": [{\"automargin\": true, \"type\": \"pie\"}], \"scatter\": [{\"marker\": {\"colorbar\": {\"outlinewidth\": 0, \"ticks\": \"\"}}, \"type\": \"scatter\"}], \"scatter3d\": [{\"line\": {\"colorbar\": {\"outlinewidth\": 0, \"ticks\": \"\"}}, \"marker\": {\"colorbar\": {\"outlinewidth\": 0, \"ticks\": \"\"}}, \"type\": \"scatter3d\"}], \"scattercarpet\": [{\"marker\": {\"colorbar\": {\"outlinewidth\": 0, \"ticks\": \"\"}}, \"type\": \"scattercarpet\"}], \"scattergeo\": [{\"marker\": {\"colorbar\": {\"outlinewidth\": 0, \"ticks\": \"\"}}, \"type\": \"scattergeo\"}], \"scattergl\": [{\"marker\": {\"colorbar\": {\"outlinewidth\": 0, \"ticks\": \"\"}}, \"type\": \"scattergl\"}], \"scattermapbox\": [{\"marker\": {\"colorbar\": {\"outlinewidth\": 0, \"ticks\": \"\"}}, \"type\": \"scattermapbox\"}], \"scatterpolar\": [{\"marker\": {\"colorbar\": {\"outlinewidth\": 0, \"ticks\": \"\"}}, \"type\": \"scatterpolar\"}], \"scatterpolargl\": [{\"marker\": {\"colorbar\": {\"outlinewidth\": 0, \"ticks\": \"\"}}, \"type\": \"scatterpolargl\"}], \"scatterternary\": [{\"marker\": {\"colorbar\": {\"outlinewidth\": 0, \"ticks\": \"\"}}, \"type\": \"scatterternary\"}], \"surface\": [{\"colorbar\": {\"outlinewidth\": 0, \"ticks\": \"\"}, \"colorscale\": [[0.0, \"#0d0887\"], [0.1111111111111111, \"#46039f\"], [0.2222222222222222, \"#7201a8\"], [0.3333333333333333, \"#9c179e\"], [0.4444444444444444, \"#bd3786\"], [0.5555555555555556, \"#d8576b\"], [0.6666666666666666, \"#ed7953\"], [0.7777777777777778, \"#fb9f3a\"], [0.8888888888888888, \"#fdca26\"], [1.0, \"#f0f921\"]], \"type\": \"surface\"}], \"table\": [{\"cells\": {\"fill\": {\"color\": \"#EBF0F8\"}, \"line\": {\"color\": \"white\"}}, \"header\": {\"fill\": {\"color\": \"#C8D4E3\"}, \"line\": {\"color\": \"white\"}}, \"type\": \"table\"}]}, \"layout\": {\"annotationdefaults\": {\"arrowcolor\": \"#2a3f5f\", \"arrowhead\": 0, \"arrowwidth\": 1}, \"coloraxis\": {\"colorbar\": {\"outlinewidth\": 0, \"ticks\": \"\"}}, \"colorscale\": {\"diverging\": [[0, \"#8e0152\"], [0.1, \"#c51b7d\"], [0.2, \"#de77ae\"], [0.3, \"#f1b6da\"], [0.4, \"#fde0ef\"], [0.5, \"#f7f7f7\"], [0.6, \"#e6f5d0\"], [0.7, \"#b8e186\"], [0.8, \"#7fbc41\"], [0.9, \"#4d9221\"], [1, \"#276419\"]], \"sequential\": [[0.0, \"#0d0887\"], [0.1111111111111111, \"#46039f\"], [0.2222222222222222, \"#7201a8\"], [0.3333333333333333, \"#9c179e\"], [0.4444444444444444, \"#bd3786\"], [0.5555555555555556, \"#d8576b\"], [0.6666666666666666, \"#ed7953\"], [0.7777777777777778, \"#fb9f3a\"], [0.8888888888888888, \"#fdca26\"], [1.0, \"#f0f921\"]], \"sequentialminus\": [[0.0, \"#0d0887\"], [0.1111111111111111, \"#46039f\"], [0.2222222222222222, \"#7201a8\"], [0.3333333333333333, \"#9c179e\"], [0.4444444444444444, \"#bd3786\"], [0.5555555555555556, \"#d8576b\"], [0.6666666666666666, \"#ed7953\"], [0.7777777777777778, \"#fb9f3a\"], [0.8888888888888888, \"#fdca26\"], [1.0, \"#f0f921\"]]}, \"colorway\": [\"#636efa\", \"#EF553B\", \"#00cc96\", \"#ab63fa\", \"#FFA15A\", \"#19d3f3\", \"#FF6692\", \"#B6E880\", \"#FF97FF\", \"#FECB52\"], \"font\": {\"color\": \"#2a3f5f\"}, \"geo\": {\"bgcolor\": \"white\", \"lakecolor\": \"white\", \"landcolor\": \"#E5ECF6\", \"showlakes\": true, \"showland\": true, \"subunitcolor\": \"white\"}, \"hoverlabel\": {\"align\": \"left\"}, \"hovermode\": \"closest\", \"mapbox\": {\"style\": \"light\"}, \"paper_bgcolor\": \"white\", \"plot_bgcolor\": \"#E5ECF6\", \"polar\": {\"angularaxis\": {\"gridcolor\": \"white\", \"linecolor\": \"white\", \"ticks\": \"\"}, \"bgcolor\": \"#E5ECF6\", \"radialaxis\": {\"gridcolor\": \"white\", \"linecolor\": \"white\", \"ticks\": \"\"}}, \"scene\": {\"xaxis\": {\"backgroundcolor\": \"#E5ECF6\", \"gridcolor\": \"white\", \"gridwidth\": 2, \"linecolor\": \"white\", \"showbackground\": true, \"ticks\": \"\", \"zerolinecolor\": \"white\"}, \"yaxis\": {\"backgroundcolor\": \"#E5ECF6\", \"gridcolor\": \"white\", \"gridwidth\": 2, \"linecolor\": \"white\", \"showbackground\": true, \"ticks\": \"\", \"zerolinecolor\": \"white\"}, \"zaxis\": {\"backgroundcolor\": \"#E5ECF6\", \"gridcolor\": \"white\", \"gridwidth\": 2, \"linecolor\": \"white\", \"showbackground\": true, \"ticks\": \"\", \"zerolinecolor\": \"white\"}}, \"shapedefaults\": {\"line\": {\"color\": \"#2a3f5f\"}}, \"ternary\": {\"aaxis\": {\"gridcolor\": \"white\", \"linecolor\": \"white\", \"ticks\": \"\"}, \"baxis\": {\"gridcolor\": \"white\", \"linecolor\": \"white\", \"ticks\": \"\"}, \"bgcolor\": \"#E5ECF6\", \"caxis\": {\"gridcolor\": \"white\", \"linecolor\": \"white\", \"ticks\": \"\"}}, \"title\": {\"x\": 0.05}, \"xaxis\": {\"automargin\": true, \"gridcolor\": \"white\", \"linecolor\": \"white\", \"ticks\": \"\", \"title\": {\"standoff\": 15}, \"zerolinecolor\": \"white\", \"zerolinewidth\": 2}, \"yaxis\": {\"automargin\": true, \"gridcolor\": \"white\", \"linecolor\": \"white\", \"ticks\": \"\", \"title\": {\"standoff\": 15}, \"zerolinecolor\": \"white\", \"zerolinewidth\": 2}}}, \"title\": {\"text\": \"New Cases Per Day\"}, \"xaxis\": {\"tickfont\": {\"size\": 14}}, \"yaxis\": {\"tickfont\": {\"size\": 14}, \"title\": {\"font\": {\"size\": 16}, \"text\": \"New Cases\"}}},\n",
       "                        {\"responsive\": true}\n",
       "                    ).then(function(){\n",
       "                            \n",
       "var gd = document.getElementById('91e61796-cc0e-4658-8af6-20cf6d906c3a');\n",
       "var x = new MutationObserver(function (mutations, observer) {{\n",
       "        var display = window.getComputedStyle(gd).display;\n",
       "        if (!display || display === 'none') {{\n",
       "            console.log([gd, 'removed!']);\n",
       "            Plotly.purge(gd);\n",
       "            observer.disconnect();\n",
       "        }}\n",
       "}});\n",
       "\n",
       "// Listen for the removal of the full notebook cells\n",
       "var notebookContainer = gd.closest('#notebook-container');\n",
       "if (notebookContainer) {{\n",
       "    x.observe(notebookContainer, {childList: true});\n",
       "}}\n",
       "\n",
       "// Listen for the clearing of the current output cell\n",
       "var outputEl = gd.closest('.output');\n",
       "if (outputEl) {{\n",
       "    x.observe(outputEl, {childList: true});\n",
       "}}\n",
       "\n",
       "                        })\n",
       "                };\n",
       "                });\n",
       "            </script>\n",
       "        </div>"
      ]
     },
     "metadata": {},
     "output_type": "display_data"
    }
   ],
   "source": [
    "import plotly.graph_objects as go\n",
    "\n",
    "dates = date_mapper['Date_text'].unique()\n",
    "\n",
    "fig = go.Figure()\n",
    "fig.add_trace(go.Bar(x=dates,\n",
    "                y=sub_df['New Cases'],\n",
    "                name='China' ,\n",
    "                marker_color='rgb(55, 83, 109)'\n",
    "                ))\n",
    "# fig.add_trace(go.Bar(x=years,\n",
    "#                 y=[16, 13, 10, 11, 28, 37, 43, 55, 56, 88, 105, 156, 270,\n",
    "#                    299, 340, 403, 549, 499],\n",
    "#                 name='China',\n",
    "#                 marker_color='rgb(26, 118, 255)'\n",
    "#                 ))\n",
    "\n",
    "fig.update_layout(\n",
    "    title='New Cases Per Day',\n",
    "    xaxis_tickfont_size=14,\n",
    "    yaxis=dict(\n",
    "        title='New Cases',\n",
    "        titlefont_size=16,\n",
    "        tickfont_size=14,\n",
    "    ),\n",
    "    legend=dict(\n",
    "        x=0,\n",
    "        y=1.0,\n",
    "        bgcolor='rgba(255, 255, 255, 0)',\n",
    "        bordercolor='rgba(255, 255, 0, 0)'\n",
    "    ),\n",
    "    barmode='group',\n",
    "    bargap=0.15, # gap between bars of adjacent location coordinates.\n",
    "    bargroupgap=0.1 # gap between bars of the same location coordinate.\n",
    ")\n",
    "fig.show()"
   ]
  },
  {
   "cell_type": "code",
   "execution_count": 57,
   "metadata": {
    "ExecuteTime": {
     "end_time": "2020-03-22T05:59:46.538566Z",
     "start_time": "2020-03-22T05:59:46.526844Z"
    }
   },
   "outputs": [
    {
     "data": {
      "text/html": [
       "<div>\n",
       "<style scoped>\n",
       "    .dataframe tbody tr th:only-of-type {\n",
       "        vertical-align: middle;\n",
       "    }\n",
       "\n",
       "    .dataframe tbody tr th {\n",
       "        vertical-align: top;\n",
       "    }\n",
       "\n",
       "    .dataframe thead th {\n",
       "        text-align: right;\n",
       "    }\n",
       "</style>\n",
       "<table border=\"1\" class=\"dataframe\">\n",
       "  <thead>\n",
       "    <tr style=\"text-align: right;\">\n",
       "      <th></th>\n",
       "      <th>Country</th>\n",
       "      <th>Date</th>\n",
       "      <th>New Cases</th>\n",
       "    </tr>\n",
       "  </thead>\n",
       "  <tbody>\n",
       "    <tr>\n",
       "      <th>0</th>\n",
       "      <td>Thailand</td>\n",
       "      <td>2020-01-22</td>\n",
       "      <td>2</td>\n",
       "    </tr>\n",
       "    <tr>\n",
       "      <th>1</th>\n",
       "      <td>Thailand</td>\n",
       "      <td>2020-01-23</td>\n",
       "      <td>1</td>\n",
       "    </tr>\n",
       "    <tr>\n",
       "      <th>2</th>\n",
       "      <td>Thailand</td>\n",
       "      <td>2020-01-24</td>\n",
       "      <td>2</td>\n",
       "    </tr>\n",
       "    <tr>\n",
       "      <th>3</th>\n",
       "      <td>Thailand</td>\n",
       "      <td>2020-01-25</td>\n",
       "      <td>2</td>\n",
       "    </tr>\n",
       "    <tr>\n",
       "      <th>4</th>\n",
       "      <td>Thailand</td>\n",
       "      <td>2020-01-26</td>\n",
       "      <td>1</td>\n",
       "    </tr>\n",
       "    <tr>\n",
       "      <th>...</th>\n",
       "      <td>...</td>\n",
       "      <td>...</td>\n",
       "      <td>...</td>\n",
       "    </tr>\n",
       "    <tr>\n",
       "      <th>9895</th>\n",
       "      <td>Uganda</td>\n",
       "      <td>2020-03-17</td>\n",
       "      <td>0</td>\n",
       "    </tr>\n",
       "    <tr>\n",
       "      <th>9896</th>\n",
       "      <td>Uganda</td>\n",
       "      <td>2020-03-18</td>\n",
       "      <td>0</td>\n",
       "    </tr>\n",
       "    <tr>\n",
       "      <th>9897</th>\n",
       "      <td>Uganda</td>\n",
       "      <td>2020-03-19</td>\n",
       "      <td>0</td>\n",
       "    </tr>\n",
       "    <tr>\n",
       "      <th>9898</th>\n",
       "      <td>Uganda</td>\n",
       "      <td>2020-03-20</td>\n",
       "      <td>0</td>\n",
       "    </tr>\n",
       "    <tr>\n",
       "      <th>9899</th>\n",
       "      <td>Uganda</td>\n",
       "      <td>2020-03-21</td>\n",
       "      <td>1</td>\n",
       "    </tr>\n",
       "  </tbody>\n",
       "</table>\n",
       "<p>9900 rows × 3 columns</p>\n",
       "</div>"
      ],
      "text/plain": [
       "       Country       Date  New Cases\n",
       "0     Thailand 2020-01-22          2\n",
       "1     Thailand 2020-01-23          1\n",
       "2     Thailand 2020-01-24          2\n",
       "3     Thailand 2020-01-25          2\n",
       "4     Thailand 2020-01-26          1\n",
       "...        ...        ...        ...\n",
       "9895    Uganda 2020-03-17          0\n",
       "9896    Uganda 2020-03-18          0\n",
       "9897    Uganda 2020-03-19          0\n",
       "9898    Uganda 2020-03-20          0\n",
       "9899    Uganda 2020-03-21          1\n",
       "\n",
       "[9900 rows x 3 columns]"
      ]
     },
     "execution_count": 57,
     "metadata": {},
     "output_type": "execute_result"
    }
   ],
   "source": []
  },
  {
   "cell_type": "code",
   "execution_count": null,
   "metadata": {},
   "outputs": [],
   "source": []
  }
 ],
 "metadata": {
  "kernelspec": {
   "display_name": "Python 3",
   "language": "python",
   "name": "python3"
  },
  "language_info": {
   "codemirror_mode": {
    "name": "ipython",
    "version": 3
   },
   "file_extension": ".py",
   "mimetype": "text/x-python",
   "name": "python",
   "nbconvert_exporter": "python",
   "pygments_lexer": "ipython3",
   "version": "3.7.3"
  },
  "toc": {
   "base_numbering": 1,
   "nav_menu": {},
   "number_sections": true,
   "sideBar": true,
   "skip_h1_title": false,
   "title_cell": "Table of Contents",
   "title_sidebar": "Contents",
   "toc_cell": false,
   "toc_position": {},
   "toc_section_display": true,
   "toc_window_display": false
  }
 },
 "nbformat": 4,
 "nbformat_minor": 2
}
