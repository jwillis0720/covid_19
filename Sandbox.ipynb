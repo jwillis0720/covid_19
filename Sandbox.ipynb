{
 "cells": [
  {
   "cell_type": "code",
   "execution_count": 3,
   "metadata": {},
   "outputs": [],
   "source": [
    "import sys\n",
    "import warnings\n",
    "import numpy as np\n",
    "import pandas as pd\n",
    "import argparse\n",
    "import pprint\n",
    "import plotly.graph_objects as go\n",
    "import plotly.express as p"
   ]
  },
  {
   "cell_type": "code",
   "execution_count": 47,
   "metadata": {},
   "outputs": [],
   "source": [
    "states_abbreviations_mapper = {\n",
    "    'AK': 'Alaska',\n",
    "    'AL': 'Alabama',\n",
    "    'AR': 'Arkansas',\n",
    "    'AS': 'American Samoa',\n",
    "    'AZ': 'Arizona',\n",
    "    'CA': 'California',\n",
    "    'CO': 'Colorado',\n",
    "    'CT': 'Connecticut',\n",
    "    'DC': 'District of Columbia',\n",
    "    'DE': 'Delaware',\n",
    "    'FL': 'Florida',\n",
    "    'GA': 'Georgia',\n",
    "    'GU': 'Guam',\n",
    "    'HI': 'Hawaii',\n",
    "    'IA': 'Iowa',\n",
    "    'ID': 'Idaho',\n",
    "    'IL': 'Illinois',\n",
    "    'IN': 'Indiana',\n",
    "    'KS': 'Kansas',\n",
    "    'KY': 'Kentucky',\n",
    "    'LA': 'Louisiana',\n",
    "    'MA': 'Massachusetts',\n",
    "    'MD': 'Maryland',\n",
    "    'ME': 'Maine',\n",
    "    'MI': 'Michigan',\n",
    "    'MN': 'Minnesota',\n",
    "    'MO': 'Missouri',\n",
    "    'MP': 'Northern Mariana Islands',\n",
    "    'MS': 'Mississippi',\n",
    "    'MT': 'Montana',\n",
    "    'NA': 'National',\n",
    "    'NC': 'North Carolina',\n",
    "    'ND': 'North Dakota',\n",
    "    'NE': 'Nebraska',\n",
    "    'NH': 'New Hampshire',\n",
    "    'NJ': 'New Jersey',\n",
    "    'NM': 'New Mexico',\n",
    "    'NV': 'Nevada',\n",
    "    'NY': 'New York',\n",
    "    'OH': 'Ohio',\n",
    "    'OK': 'Oklahoma',\n",
    "    'OR': 'Oregon',\n",
    "    'PA': 'Pennsylvania',\n",
    "    'PR': 'Puerto Rico',\n",
    "    'RI': 'Rhode Island',\n",
    "    'SC': 'South Carolina',\n",
    "    'SD': 'South Dakota',\n",
    "    'TN': 'Tennessee',\n",
    "    'TX': 'Texas',\n",
    "    'UT': 'Utah',\n",
    "    'VA': 'Virginia',\n",
    "    'VI': 'Virgin Islands',\n",
    "    'VT': 'Vermont',\n",
    "    'WA': 'Washington',\n",
    "    'WI': 'Wisconsin',\n",
    "    'WV': 'West Virginia',\n",
    "    'WY': 'Wyoming'\n",
    "}\n",
    "\n",
    "\n",
    "# mapbox_style = \"mapbox://styles/plotlymapbox/cjvprkf3t1kns1cqjxuxmwixz\"\n",
    "mapbox_style = 'dark'\n",
    "mapbox_access_token = open('.mapbox_token').readlines()[0]\n",
    "\n",
    "# Import from S3:\n",
    "merged_df = pd.read_csv(\n",
    "    'https://jordansdatabucket.s3-us-west-2.amazonaws.com/covid19data/Merged_df.csv.gz', index_col=0).fillna('')\n",
    "per_day_stats_by_state = pd.read_csv(\n",
    "    'https://jordansdatabucket.s3-us-west-2.amazonaws.com/covid19data/per_day_stats_by_state.csv.gz', index_col=0)\n",
    "per_day_stats_by_country = pd.read_csv(\n",
    "    'https://jordansdatabucket.s3-us-west-2.amazonaws.com/covid19data/per_day_stats_by_country.csv.gz', index_col=0)\n",
    "per_day_stats_by_county = pd.read_csv(\n",
    "    'https://jordansdatabucket.s3-us-west-2.amazonaws.com/covid19data/per_day_stats_by_county.csv.gz', index_col=0)\n",
    "\n",
    "\n",
    "merged_df['Date'] = pd.to_datetime(merged_df['Date'])\n",
    "per_day_stats_by_state['Date'] = pd.to_datetime(\n",
    "    per_day_stats_by_state['Date']).fillna('')\n",
    "per_day_stats_by_country['Date'] = pd.to_datetime(\n",
    "    per_day_stats_by_country['Date']).fillna('')\n",
    "per_day_stats_by_county['Date'] = pd.to_datetime(\n",
    "    per_day_stats_by_county['Date']).fillna('')\n",
    "\n",
    "date_mapper = pd.DataFrame(\n",
    "    merged_df['Date'].unique(), columns=['Date'])\n",
    "date_mapper['Date_text'] = date_mapper['Date'].dt.strftime('%m/%d/%y')\n",
    "min_date = min(date_mapper.index)\n",
    "max_date = max(date_mapper.index)\n",
    "\n",
    "centroid_country_mapper = merged_df.groupby(\n",
    "    'Country/Region').apply(lambda x: x.sort_values('Cases')[::-1].iloc[0][['Lat', 'Long']])\n",
    "centroid_country_mapper = {x[0]: {'Long': x[1]['Long'], 'Lat': x[1]['Lat']}\n",
    "                           for x in centroid_country_mapper.iterrows()}\n"
   ]
  },
  {
   "cell_type": "code",
   "execution_count": 55,
   "metadata": {},
   "outputs": [
    {
     "data": {
      "text/plain": [
       "2370"
      ]
     },
     "execution_count": 55,
     "metadata": {},
     "output_type": "execute_result"
    }
   ],
   "source": [
    "merged_df[merged_df['County'] != \"\"]['Cases']"
   ]
  },
  {
   "cell_type": "code",
   "execution_count": 123,
   "metadata": {},
   "outputs": [
    {
     "name": "stdout",
     "output_type": "stream",
     "text": [
      "Province/State ['active']\n",
      "60 2020-03-22 00:00:00\n"
     ]
    },
    {
     "data": {
      "application/vnd.plotly.v1+json": {
       "config": {
        "plotlyServerURL": "https://plot.ly"
       },
       "data": [
        {
         "customdata": [
          "Alabama",
          "Alaska",
          "Alberta",
          "Anhui",
          "Arizona",
          "Arkansas",
          "Aruba",
          "Australian Capital Territory",
          "Beijing",
          "Bermuda",
          "British Columbia",
          "California",
          "Cayman Islands",
          "Channel Islands",
          "Chongqing",
          "Colorado",
          "Connecticut",
          "Curacao",
          "Delaware",
          "Denmark",
          "Diamond Princess",
          "District of Columbia",
          "Faroe Islands",
          "Florida",
          "France",
          "French Guiana",
          "French Polynesia",
          "From Diamond Princess",
          "Fujian",
          "Gansu",
          "Georgia",
          "Gibraltar",
          "Grand Princess",
          "Greenland",
          "Guadeloupe",
          "Guam",
          "Guangdong",
          "Guangxi",
          "Guizhou",
          "Hainan",
          "Hawaii",
          "Hebei",
          "Heilongjiang",
          "Henan",
          "Hong Kong",
          "Hubei",
          "Hunan",
          "Idaho",
          "Illinois",
          "Indiana",
          "Inner Mongolia",
          "Iowa",
          "Isle of Man",
          "Jiangsu",
          "Jiangxi",
          "Jilin",
          "Kansas",
          "Kentucky",
          "Liaoning",
          "Louisiana",
          "Macau",
          "Maine",
          "Manitoba",
          "Maryland",
          "Massachusetts",
          "Mayotte",
          "Michigan",
          "Minnesota",
          "Mississippi",
          "Missouri",
          "Montana",
          "Montserrat",
          "Nebraska",
          "Netherlands",
          "Nevada",
          "New Brunswick",
          "New Caledonia",
          "New Hampshire",
          "New Jersey",
          "New Mexico",
          "New South Wales",
          "New York",
          "Newfoundland and Labrador",
          "Ningxia",
          "North Carolina",
          "North Dakota",
          "Northern Territory",
          "Northwest Territories",
          "Nova Scotia",
          "Ohio",
          "Oklahoma",
          "Ontario",
          "Oregon",
          "Pennsylvania",
          "Prince Edward Island",
          "Puerto Rico",
          "Qinghai",
          "Quebec",
          "Queensland",
          "Reunion",
          "Rhode Island",
          "Saint Barthelemy",
          "Saskatchewan",
          "Shaanxi",
          "Shandong",
          "Shanghai",
          "Shanxi",
          "Sichuan",
          "Sint Maarten",
          "South Australia",
          "South Carolina",
          "South Dakota",
          "St Martin",
          "Tasmania",
          "Tennessee",
          "Texas",
          "Tianjin",
          "Tibet",
          "United Kingdom",
          "Utah",
          "Vermont",
          "Victoria",
          "Virgin Islands",
          "Virginia",
          "Washington",
          "West Virginia",
          "Western Australia",
          "Wisconsin",
          "Wyoming",
          "Xinjiang",
          "Yunnan",
          "Zhejiang"
         ],
         "hoverinfo": "text",
         "lat": [
          32.33090813397732,
          61.37772897410247,
          53.92327030797331,
          31.814724372928158,
          33.715426923080834,
          34.954737989702586,
          12.467770817926345,
          -35.458273788830475,
          40.181616618364856,
          32.32598969514662,
          49.237088703145574,
          36.11473625103725,
          19.350145918006135,
          49.36825104419833,
          30.052157879124092,
          39.054601267991906,
          41.58886898343996,
          12.195621572473154,
          39.35313350048781,
          56.245972045331975,
          70.8776164497979,
          38.875618323053786,
          61.91479304317146,
          27.799960803921753,
          46.230308845047844,
          3.9129107760106767,
          -17.669649304832113,
          35.454329874036524,
          26.095122069265603,
          37.82600523657041,
          33.04953539831446,
          36.17181298842002,
          75.30353536608386,
          71.72751312662683,
          16.253887745961674,
          13.459582566136309,
          23.319484973155806,
          23.854149373873277,
          26.859588332163277,
          19.200174875525153,
          21.058062775554728,
          39.57795659430886,
          47.85525273087553,
          33.86837826099091,
          22.339811135340966,
          30.946430123884763,
          27.616628935486165,
          44.224773863837534,
          40.34408497966099,
          39.83595461132887,
          44.10015641429011,
          41.99723259709075,
          54.23351434926926,
          32.96393281207521,
          27.61273516690752,
          43.67726660216792,
          38.552410912695656,
          37.707704885637945,
          41.298921869472444,
          31.240968704420254,
          22.154610586816798,
          44.697726743528314,
          53.76697329528159,
          39.085873241547105,
          42.238398613878715,
          -12.83763587110246,
          43.35771121159571,
          45.692921862284216,
          32.72204560893823,
          38.46929598862834,
          46.91738431549852,
          16.74901523180557,
          41.11200937604991,
          52.184215375968044,
          38.36882721871025,
          46.574565785936926,
          -20.921911750744098,
          43.427797134603004,
          40.295078788613544,
          34.85612661745101,
          -33.87945581351258,
          42.14499469145421,
          53.109960576276855,
          37.264596599673254,
          35.648148032489324,
          47.54224845261259,
          -12.47866663396357,
          64.8373714162587,
          44.675089575071176,
          40.37059128039361,
          35.5521800592151,
          51.21568816994249,
          44.596721768513845,
          40.5930726715308,
          46.51902415758465,
          18.223142857211467,
          35.77072378109561,
          52.964651214460474,
          -27.991958693977523,
          -21.152403252964696,
          41.68711533219957,
          17.89757697163108,
          52.93120137817133,
          35.20430667779477,
          36.354358157596934,
          31.19454419551836,
          37.588558959539434,
          30.599970381889214,
          18.023750935696015,
          -34.91938745870431,
          33.878897681414344,
          44.2553351574113,
          18.057833214228438,
          -41.497444664894736,
          35.78417948969176,
          31.099416846286246,
          39.285590917959084,
          31.670741740153645,
          55.397693439635994,
          40.14452374907603,
          44.0350770514181,
          -37.81777074920814,
          18.332418136273,
          37.78825523949391,
          47.42677002776873,
          38.480108321045286,
          -31.95644625601361,
          44.267683250724176,
          42.73625347891933,
          41.12028373868924,
          24.97177543467466,
          29.19373306302617
         ],
         "lon": [
          -86.90212883603412,
          -152.41527242222517,
          -116.59580057145313,
          117.22512886562338,
          -111.43459430692208,
          -92.36273022155675,
          -70.05223800201249,
          149.00089356914256,
          116.39652610126385,
          -64.74924629699511,
          -123.1082623488366,
          -119.68320680434094,
          -81.27464414533756,
          -2.3675707338865295,
          107.85647743630163,
          -105.27644997998559,
          -72.75279993749736,
          -68.99653069472822,
          -75.52646751144901,
          9.524620777622644,
          279.2801364896023,
          -77.04670823908762,
          -6.902353606672771,
          -81.6763755689501,
          2.2260881049776975,
          -53.13543341186304,
          149.4200140542784,
          139.67475300877425,
          117.97351346960819,
          101.06062487883145,
          -83.65398349904656,
          -5.3538033494418915,
          -245.3428556480469,
          -42.61327641940217,
          -61.57098113334353,
          144.8253379855327,
          113.42483772974998,
          108.75965306895274,
          106.89082425560848,
          109.74730439434404,
          -157.50835686326639,
          116.11483378715698,
          127.76668986604878,
          113.6052301612438,
          114.22384681132083,
          112.29622262838554,
          111.70428816463243,
          -114.51178280201762,
          -88.98590472238978,
          -86.26773122041062,
          113.96219601566504,
          -93.20960934474249,
          -4.579235930484161,
          119.46087435029168,
          115.74375562996866,
          126.19693343118033,
          -96.7338950098511,
          -84.68037809370833,
          122.65922839493473,
          -91.84529343224229,
          113.59089365085258,
          -69.41735797986372,
          -98.80887224143663,
          -76.8086374485669,
          -71.53075287811461,
          45.16933192953771,
          -84.56383425828744,
          -93.8920446523606,
          -89.687105638861,
          -92.28591660816336,
          -110.42969456810728,
          -62.16654189906196,
          -98.25272933164963,
          5.271827016171398,
          -117.06154533126292,
          -66.4700680139725,
          165.65084210123945,
          -71.55696905921069,
          -74.52781192116828,
          -106.26078539561132,
          151.17147202866482,
          -74.95278939910573,
          -57.648385422197435,
          106.13059486098138,
          -79.8097413990181,
          -99.75658443707911,
          130.8529642186481,
          -124.87576765684219,
          -63.71568887336228,
          -82.79022834456127,
          -96.91122608533053,
          -85.32813677134499,
          -122.07144836570959,
          -77.21960349733575,
          -63.39746925792659,
          -66.59190530477457,
          96.00029820829278,
          -73.50482126825676,
          153.33711227818242,
          55.242908760383926,
          -71.50687872827712,
          -62.8639813886536,
          -106.4303582135324,
          108.88346359014815,
          118.14541502087553,
          121.48873580423455,
          112.31817997028108,
          102.7131974512702,
          -63.0808582979978,
          138.5818824345662,
          -80.95868506338448,
          -99.45331495395747,
          -63.0386635264319,
          145.97900527576112,
          -86.71202196468356,
          -97.5875929720059,
          117.31241155960366,
          88.09565574639888,
          -3.4456697438053783,
          -111.87133483668318,
          -72.74617461265542,
          144.9644751961867,
          -64.89746619730224,
          -78.18992023691158,
          -121.4901811051036,
          -80.95992850184324,
          115.8292260522009,
          -89.5823164137447,
          -107.2797188403588,
          85.2069016332399,
          101.4960206544191,
          120.13541782636395
         ],
         "marker": {
          "color": "orange",
          "size": [
           138,
           21,
           257,
           978,
           148,
           165,
           8,
           19,
           498,
           2,
           404,
           1582,
           1,
           32,
           565,
           464,
           213,
           1,
           47,
           1369,
           745,
           98,
           115,
           804,
           14670,
           18,
           15,
           0,
           305,
           132,
           554,
           15,
           41,
           4,
           56,
           25,
           1391,
           250,
           142,
           156,
           48,
           307,
           458,
           1229,
           309,
           61512,
           1010,
           42,
           1031,
           189,
           73,
           90,
           5,
           633,
           934,
           91,
           60,
           93,
           122,
           797,
           20,
           89,
           19,
           238,
           636,
           11,
           1019,
           167,
           205,
           94,
           31,
           1,
           51,
           3846,
           186,
           17,
           4,
           65,
           1874,
           57,
           521,
           15559,
           6,
           75,
           302,
           28,
           3,
           1,
           28,
           349,
           63,
           415,
           153,
           503,
           2,
           21,
           18,
           209,
           221,
           47,
           83,
           3,
           52,
           242,
           752,
           386,
           133,
           537,
           1,
           100,
           190,
           19,
           4,
           22,
           501,
           615,
           131,
           1,
           5121,
           179,
           48,
           296,
           3,
           209,
           1806,
           12,
           118,
           373,
           24,
           70,
           172,
           1235
          ],
          "sizemin": 3,
          "sizeref": 152.1184
         },
         "mode": "markers",
         "text": [
          "Alabama<br>Total Active at 03/22/20 : 138",
          "Alaska<br>Total Active at 03/22/20 : 21",
          "Alberta<br>Total Active at 03/22/20 : 257",
          "Anhui<br>Total Active at 03/22/20 : 978",
          "Arizona<br>Total Active at 03/22/20 : 148",
          "Arkansas<br>Total Active at 03/22/20 : 165",
          "Aruba<br>Total Active at 03/22/20 : 8",
          "Australian Capital Territory<br>Total Active at 03/22/20 : 19",
          "Beijing<br>Total Active at 03/22/20 : 498",
          "Bermuda<br>Total Active at 03/22/20 : 2",
          "British Columbia<br>Total Active at 03/22/20 : 404",
          "California<br>Total Active at 03/22/20 : 1,582",
          "Cayman Islands<br>Total Active at 03/22/20 : 1",
          "Channel Islands<br>Total Active at 03/22/20 : 32",
          "Chongqing<br>Total Active at 03/22/20 : 565",
          "Colorado<br>Total Active at 03/22/20 : 464",
          "Connecticut<br>Total Active at 03/22/20 : 213",
          "Curacao<br>Total Active at 03/22/20 : 1",
          "Delaware<br>Total Active at 03/22/20 : 47",
          "Denmark<br>Total Active at 03/22/20 : 1,369",
          "Diamond Princess<br>Total Active at 03/22/20 : 745",
          "District of Columbia<br>Total Active at 03/22/20 : 98",
          "Faroe Islands<br>Total Active at 03/22/20 : 115",
          "Florida<br>Total Active at 03/22/20 : 804",
          "France<br>Total Active at 03/22/20 : 14,670",
          "French Guiana<br>Total Active at 03/22/20 : 18",
          "French Polynesia<br>Total Active at 03/22/20 : 15",
          "From Diamond Princess<br>Total Active at 03/22/20 : 0",
          "Fujian<br>Total Active at 03/22/20 : 305",
          "Gansu<br>Total Active at 03/22/20 : 132",
          "Georgia<br>Total Active at 03/22/20 : 554",
          "Gibraltar<br>Total Active at 03/22/20 : 15",
          "Grand Princess<br>Total Active at 03/22/20 : 41",
          "Greenland<br>Total Active at 03/22/20 : 4",
          "Guadeloupe<br>Total Active at 03/22/20 : 56",
          "Guam<br>Total Active at 03/22/20 : 25",
          "Guangdong<br>Total Active at 03/22/20 : 1,391",
          "Guangxi<br>Total Active at 03/22/20 : 250",
          "Guizhou<br>Total Active at 03/22/20 : 142",
          "Hainan<br>Total Active at 03/22/20 : 156",
          "Hawaii<br>Total Active at 03/22/20 : 48",
          "Hebei<br>Total Active at 03/22/20 : 307",
          "Heilongjiang<br>Total Active at 03/22/20 : 458",
          "Henan<br>Total Active at 03/22/20 : 1,229",
          "Hong Kong<br>Total Active at 03/22/20 : 309",
          "Hubei<br>Total Active at 03/22/20 : 61,512",
          "Hunan<br>Total Active at 03/22/20 : 1,010",
          "Idaho<br>Total Active at 03/22/20 : 42",
          "Illinois<br>Total Active at 03/22/20 : 1,031",
          "Indiana<br>Total Active at 03/22/20 : 189",
          "Inner Mongolia<br>Total Active at 03/22/20 : 73",
          "Iowa<br>Total Active at 03/22/20 : 90",
          "Isle of Man<br>Total Active at 03/22/20 : 5",
          "Jiangsu<br>Total Active at 03/22/20 : 633",
          "Jiangxi<br>Total Active at 03/22/20 : 934",
          "Jilin<br>Total Active at 03/22/20 : 91",
          "Kansas<br>Total Active at 03/22/20 : 60",
          "Kentucky<br>Total Active at 03/22/20 : 93",
          "Liaoning<br>Total Active at 03/22/20 : 122",
          "Louisiana<br>Total Active at 03/22/20 : 797",
          "Macau<br>Total Active at 03/22/20 : 20",
          "Maine<br>Total Active at 03/22/20 : 89",
          "Manitoba<br>Total Active at 03/22/20 : 19",
          "Maryland<br>Total Active at 03/22/20 : 238",
          "Massachusetts<br>Total Active at 03/22/20 : 636",
          "Mayotte<br>Total Active at 03/22/20 : 11",
          "Michigan<br>Total Active at 03/22/20 : 1,019",
          "Minnesota<br>Total Active at 03/22/20 : 167",
          "Mississippi<br>Total Active at 03/22/20 : 205",
          "Missouri<br>Total Active at 03/22/20 : 94",
          "Montana<br>Total Active at 03/22/20 : 31",
          "Montserrat<br>Total Active at 03/22/20 : 1",
          "Nebraska<br>Total Active at 03/22/20 : 51",
          "Netherlands<br>Total Active at 03/22/20 : 3,846",
          "Nevada<br>Total Active at 03/22/20 : 186",
          "New Brunswick<br>Total Active at 03/22/20 : 17",
          "New Caledonia<br>Total Active at 03/22/20 : 4",
          "New Hampshire<br>Total Active at 03/22/20 : 65",
          "New Jersey<br>Total Active at 03/22/20 : 1,874",
          "New Mexico<br>Total Active at 03/22/20 : 57",
          "New South Wales<br>Total Active at 03/22/20 : 521",
          "New York<br>Total Active at 03/22/20 : 15,559",
          "Newfoundland and Labrador<br>Total Active at 03/22/20 : 6",
          "Ningxia<br>Total Active at 03/22/20 : 75",
          "North Carolina<br>Total Active at 03/22/20 : 302",
          "North Dakota<br>Total Active at 03/22/20 : 28",
          "Northern Territory<br>Total Active at 03/22/20 : 3",
          "Northwest Territories<br>Total Active at 03/22/20 : 1",
          "Nova Scotia<br>Total Active at 03/22/20 : 28",
          "Ohio<br>Total Active at 03/22/20 : 349",
          "Oklahoma<br>Total Active at 03/22/20 : 63",
          "Ontario<br>Total Active at 03/22/20 : 415",
          "Oregon<br>Total Active at 03/22/20 : 153",
          "Pennsylvania<br>Total Active at 03/22/20 : 503",
          "Prince Edward Island<br>Total Active at 03/22/20 : 2",
          "Puerto Rico<br>Total Active at 03/22/20 : 21",
          "Qinghai<br>Total Active at 03/22/20 : 18",
          "Quebec<br>Total Active at 03/22/20 : 209",
          "Queensland<br>Total Active at 03/22/20 : 221",
          "Reunion<br>Total Active at 03/22/20 : 47",
          "Rhode Island<br>Total Active at 03/22/20 : 83",
          "Saint Barthelemy<br>Total Active at 03/22/20 : 3",
          "Saskatchewan<br>Total Active at 03/22/20 : 52",
          "Shaanxi<br>Total Active at 03/22/20 : 242",
          "Shandong<br>Total Active at 03/22/20 : 752",
          "Shanghai<br>Total Active at 03/22/20 : 386",
          "Shanxi<br>Total Active at 03/22/20 : 133",
          "Sichuan<br>Total Active at 03/22/20 : 537",
          "Sint Maarten<br>Total Active at 03/22/20 : 1",
          "South Australia<br>Total Active at 03/22/20 : 100",
          "South Carolina<br>Total Active at 03/22/20 : 190",
          "South Dakota<br>Total Active at 03/22/20 : 19",
          "St Martin<br>Total Active at 03/22/20 : 4",
          "Tasmania<br>Total Active at 03/22/20 : 22",
          "Tennessee<br>Total Active at 03/22/20 : 501",
          "Texas<br>Total Active at 03/22/20 : 615",
          "Tianjin<br>Total Active at 03/22/20 : 131",
          "Tibet<br>Total Active at 03/22/20 : 1",
          "United Kingdom<br>Total Active at 03/22/20 : 5,121",
          "Utah<br>Total Active at 03/22/20 : 179",
          "Vermont<br>Total Active at 03/22/20 : 48",
          "Victoria<br>Total Active at 03/22/20 : 296",
          "Virgin Islands<br>Total Active at 03/22/20 : 3",
          "Virginia<br>Total Active at 03/22/20 : 209",
          "Washington<br>Total Active at 03/22/20 : 1,806",
          "West Virginia<br>Total Active at 03/22/20 : 12",
          "Western Australia<br>Total Active at 03/22/20 : 118",
          "Wisconsin<br>Total Active at 03/22/20 : 373",
          "Wyoming<br>Total Active at 03/22/20 : 24",
          "Xinjiang<br>Total Active at 03/22/20 : 70",
          "Yunnan<br>Total Active at 03/22/20 : 172",
          "Zhejiang<br>Total Active at 03/22/20 : 1,235"
         ],
         "textposition": "top right",
         "type": "scattermapbox"
        }
       ],
       "layout": {
        "autosize": true,
        "dragmode": "pan",
        "hovermode": "closest",
        "mapbox": {
         "accesstoken": "pk.eyJ1IjoiandpbGxpczA3MjAiLCJhIjoiY2s4MHhoYmF6MDFoODNpcnVyNGR2bWk1bSJ9.YNwklD1Aa6DihVblHr3GVg\n",
         "center": {
          "lat": 15.74,
          "lon": -1.4
         },
         "style": "dark",
         "zoom": 1.6
        },
        "margin": {
         "b": 0,
         "l": 0,
         "r": 0,
         "t": 0
        },
        "showlegend": false,
        "template": {
         "data": {
          "bar": [
           {
            "error_x": {
             "color": "#2a3f5f"
            },
            "error_y": {
             "color": "#2a3f5f"
            },
            "marker": {
             "line": {
              "color": "#E5ECF6",
              "width": 0.5
             }
            },
            "type": "bar"
           }
          ],
          "barpolar": [
           {
            "marker": {
             "line": {
              "color": "#E5ECF6",
              "width": 0.5
             }
            },
            "type": "barpolar"
           }
          ],
          "carpet": [
           {
            "aaxis": {
             "endlinecolor": "#2a3f5f",
             "gridcolor": "white",
             "linecolor": "white",
             "minorgridcolor": "white",
             "startlinecolor": "#2a3f5f"
            },
            "baxis": {
             "endlinecolor": "#2a3f5f",
             "gridcolor": "white",
             "linecolor": "white",
             "minorgridcolor": "white",
             "startlinecolor": "#2a3f5f"
            },
            "type": "carpet"
           }
          ],
          "choropleth": [
           {
            "colorbar": {
             "outlinewidth": 0,
             "ticks": ""
            },
            "type": "choropleth"
           }
          ],
          "contour": [
           {
            "colorbar": {
             "outlinewidth": 0,
             "ticks": ""
            },
            "colorscale": [
             [
              0,
              "#0d0887"
             ],
             [
              0.1111111111111111,
              "#46039f"
             ],
             [
              0.2222222222222222,
              "#7201a8"
             ],
             [
              0.3333333333333333,
              "#9c179e"
             ],
             [
              0.4444444444444444,
              "#bd3786"
             ],
             [
              0.5555555555555556,
              "#d8576b"
             ],
             [
              0.6666666666666666,
              "#ed7953"
             ],
             [
              0.7777777777777778,
              "#fb9f3a"
             ],
             [
              0.8888888888888888,
              "#fdca26"
             ],
             [
              1,
              "#f0f921"
             ]
            ],
            "type": "contour"
           }
          ],
          "contourcarpet": [
           {
            "colorbar": {
             "outlinewidth": 0,
             "ticks": ""
            },
            "type": "contourcarpet"
           }
          ],
          "heatmap": [
           {
            "colorbar": {
             "outlinewidth": 0,
             "ticks": ""
            },
            "colorscale": [
             [
              0,
              "#0d0887"
             ],
             [
              0.1111111111111111,
              "#46039f"
             ],
             [
              0.2222222222222222,
              "#7201a8"
             ],
             [
              0.3333333333333333,
              "#9c179e"
             ],
             [
              0.4444444444444444,
              "#bd3786"
             ],
             [
              0.5555555555555556,
              "#d8576b"
             ],
             [
              0.6666666666666666,
              "#ed7953"
             ],
             [
              0.7777777777777778,
              "#fb9f3a"
             ],
             [
              0.8888888888888888,
              "#fdca26"
             ],
             [
              1,
              "#f0f921"
             ]
            ],
            "type": "heatmap"
           }
          ],
          "heatmapgl": [
           {
            "colorbar": {
             "outlinewidth": 0,
             "ticks": ""
            },
            "colorscale": [
             [
              0,
              "#0d0887"
             ],
             [
              0.1111111111111111,
              "#46039f"
             ],
             [
              0.2222222222222222,
              "#7201a8"
             ],
             [
              0.3333333333333333,
              "#9c179e"
             ],
             [
              0.4444444444444444,
              "#bd3786"
             ],
             [
              0.5555555555555556,
              "#d8576b"
             ],
             [
              0.6666666666666666,
              "#ed7953"
             ],
             [
              0.7777777777777778,
              "#fb9f3a"
             ],
             [
              0.8888888888888888,
              "#fdca26"
             ],
             [
              1,
              "#f0f921"
             ]
            ],
            "type": "heatmapgl"
           }
          ],
          "histogram": [
           {
            "marker": {
             "colorbar": {
              "outlinewidth": 0,
              "ticks": ""
             }
            },
            "type": "histogram"
           }
          ],
          "histogram2d": [
           {
            "colorbar": {
             "outlinewidth": 0,
             "ticks": ""
            },
            "colorscale": [
             [
              0,
              "#0d0887"
             ],
             [
              0.1111111111111111,
              "#46039f"
             ],
             [
              0.2222222222222222,
              "#7201a8"
             ],
             [
              0.3333333333333333,
              "#9c179e"
             ],
             [
              0.4444444444444444,
              "#bd3786"
             ],
             [
              0.5555555555555556,
              "#d8576b"
             ],
             [
              0.6666666666666666,
              "#ed7953"
             ],
             [
              0.7777777777777778,
              "#fb9f3a"
             ],
             [
              0.8888888888888888,
              "#fdca26"
             ],
             [
              1,
              "#f0f921"
             ]
            ],
            "type": "histogram2d"
           }
          ],
          "histogram2dcontour": [
           {
            "colorbar": {
             "outlinewidth": 0,
             "ticks": ""
            },
            "colorscale": [
             [
              0,
              "#0d0887"
             ],
             [
              0.1111111111111111,
              "#46039f"
             ],
             [
              0.2222222222222222,
              "#7201a8"
             ],
             [
              0.3333333333333333,
              "#9c179e"
             ],
             [
              0.4444444444444444,
              "#bd3786"
             ],
             [
              0.5555555555555556,
              "#d8576b"
             ],
             [
              0.6666666666666666,
              "#ed7953"
             ],
             [
              0.7777777777777778,
              "#fb9f3a"
             ],
             [
              0.8888888888888888,
              "#fdca26"
             ],
             [
              1,
              "#f0f921"
             ]
            ],
            "type": "histogram2dcontour"
           }
          ],
          "mesh3d": [
           {
            "colorbar": {
             "outlinewidth": 0,
             "ticks": ""
            },
            "type": "mesh3d"
           }
          ],
          "parcoords": [
           {
            "line": {
             "colorbar": {
              "outlinewidth": 0,
              "ticks": ""
             }
            },
            "type": "parcoords"
           }
          ],
          "pie": [
           {
            "automargin": true,
            "type": "pie"
           }
          ],
          "scatter": [
           {
            "marker": {
             "colorbar": {
              "outlinewidth": 0,
              "ticks": ""
             }
            },
            "type": "scatter"
           }
          ],
          "scatter3d": [
           {
            "line": {
             "colorbar": {
              "outlinewidth": 0,
              "ticks": ""
             }
            },
            "marker": {
             "colorbar": {
              "outlinewidth": 0,
              "ticks": ""
             }
            },
            "type": "scatter3d"
           }
          ],
          "scattercarpet": [
           {
            "marker": {
             "colorbar": {
              "outlinewidth": 0,
              "ticks": ""
             }
            },
            "type": "scattercarpet"
           }
          ],
          "scattergeo": [
           {
            "marker": {
             "colorbar": {
              "outlinewidth": 0,
              "ticks": ""
             }
            },
            "type": "scattergeo"
           }
          ],
          "scattergl": [
           {
            "marker": {
             "colorbar": {
              "outlinewidth": 0,
              "ticks": ""
             }
            },
            "type": "scattergl"
           }
          ],
          "scattermapbox": [
           {
            "marker": {
             "colorbar": {
              "outlinewidth": 0,
              "ticks": ""
             }
            },
            "type": "scattermapbox"
           }
          ],
          "scatterpolar": [
           {
            "marker": {
             "colorbar": {
              "outlinewidth": 0,
              "ticks": ""
             }
            },
            "type": "scatterpolar"
           }
          ],
          "scatterpolargl": [
           {
            "marker": {
             "colorbar": {
              "outlinewidth": 0,
              "ticks": ""
             }
            },
            "type": "scatterpolargl"
           }
          ],
          "scatterternary": [
           {
            "marker": {
             "colorbar": {
              "outlinewidth": 0,
              "ticks": ""
             }
            },
            "type": "scatterternary"
           }
          ],
          "surface": [
           {
            "colorbar": {
             "outlinewidth": 0,
             "ticks": ""
            },
            "colorscale": [
             [
              0,
              "#0d0887"
             ],
             [
              0.1111111111111111,
              "#46039f"
             ],
             [
              0.2222222222222222,
              "#7201a8"
             ],
             [
              0.3333333333333333,
              "#9c179e"
             ],
             [
              0.4444444444444444,
              "#bd3786"
             ],
             [
              0.5555555555555556,
              "#d8576b"
             ],
             [
              0.6666666666666666,
              "#ed7953"
             ],
             [
              0.7777777777777778,
              "#fb9f3a"
             ],
             [
              0.8888888888888888,
              "#fdca26"
             ],
             [
              1,
              "#f0f921"
             ]
            ],
            "type": "surface"
           }
          ],
          "table": [
           {
            "cells": {
             "fill": {
              "color": "#EBF0F8"
             },
             "line": {
              "color": "white"
             }
            },
            "header": {
             "fill": {
              "color": "#C8D4E3"
             },
             "line": {
              "color": "white"
             }
            },
            "type": "table"
           }
          ]
         },
         "layout": {
          "annotationdefaults": {
           "arrowcolor": "#2a3f5f",
           "arrowhead": 0,
           "arrowwidth": 1
          },
          "coloraxis": {
           "colorbar": {
            "outlinewidth": 0,
            "ticks": ""
           }
          },
          "colorscale": {
           "diverging": [
            [
             0,
             "#8e0152"
            ],
            [
             0.1,
             "#c51b7d"
            ],
            [
             0.2,
             "#de77ae"
            ],
            [
             0.3,
             "#f1b6da"
            ],
            [
             0.4,
             "#fde0ef"
            ],
            [
             0.5,
             "#f7f7f7"
            ],
            [
             0.6,
             "#e6f5d0"
            ],
            [
             0.7,
             "#b8e186"
            ],
            [
             0.8,
             "#7fbc41"
            ],
            [
             0.9,
             "#4d9221"
            ],
            [
             1,
             "#276419"
            ]
           ],
           "sequential": [
            [
             0,
             "#0d0887"
            ],
            [
             0.1111111111111111,
             "#46039f"
            ],
            [
             0.2222222222222222,
             "#7201a8"
            ],
            [
             0.3333333333333333,
             "#9c179e"
            ],
            [
             0.4444444444444444,
             "#bd3786"
            ],
            [
             0.5555555555555556,
             "#d8576b"
            ],
            [
             0.6666666666666666,
             "#ed7953"
            ],
            [
             0.7777777777777778,
             "#fb9f3a"
            ],
            [
             0.8888888888888888,
             "#fdca26"
            ],
            [
             1,
             "#f0f921"
            ]
           ],
           "sequentialminus": [
            [
             0,
             "#0d0887"
            ],
            [
             0.1111111111111111,
             "#46039f"
            ],
            [
             0.2222222222222222,
             "#7201a8"
            ],
            [
             0.3333333333333333,
             "#9c179e"
            ],
            [
             0.4444444444444444,
             "#bd3786"
            ],
            [
             0.5555555555555556,
             "#d8576b"
            ],
            [
             0.6666666666666666,
             "#ed7953"
            ],
            [
             0.7777777777777778,
             "#fb9f3a"
            ],
            [
             0.8888888888888888,
             "#fdca26"
            ],
            [
             1,
             "#f0f921"
            ]
           ]
          },
          "colorway": [
           "#636efa",
           "#EF553B",
           "#00cc96",
           "#ab63fa",
           "#FFA15A",
           "#19d3f3",
           "#FF6692",
           "#B6E880",
           "#FF97FF",
           "#FECB52"
          ],
          "font": {
           "color": "#2a3f5f"
          },
          "geo": {
           "bgcolor": "white",
           "lakecolor": "white",
           "landcolor": "#E5ECF6",
           "showlakes": true,
           "showland": true,
           "subunitcolor": "white"
          },
          "hoverlabel": {
           "align": "left"
          },
          "hovermode": "closest",
          "mapbox": {
           "style": "light"
          },
          "paper_bgcolor": "white",
          "plot_bgcolor": "#E5ECF6",
          "polar": {
           "angularaxis": {
            "gridcolor": "white",
            "linecolor": "white",
            "ticks": ""
           },
           "bgcolor": "#E5ECF6",
           "radialaxis": {
            "gridcolor": "white",
            "linecolor": "white",
            "ticks": ""
           }
          },
          "scene": {
           "xaxis": {
            "backgroundcolor": "#E5ECF6",
            "gridcolor": "white",
            "gridwidth": 2,
            "linecolor": "white",
            "showbackground": true,
            "ticks": "",
            "zerolinecolor": "white"
           },
           "yaxis": {
            "backgroundcolor": "#E5ECF6",
            "gridcolor": "white",
            "gridwidth": 2,
            "linecolor": "white",
            "showbackground": true,
            "ticks": "",
            "zerolinecolor": "white"
           },
           "zaxis": {
            "backgroundcolor": "#E5ECF6",
            "gridcolor": "white",
            "gridwidth": 2,
            "linecolor": "white",
            "showbackground": true,
            "ticks": "",
            "zerolinecolor": "white"
           }
          },
          "shapedefaults": {
           "line": {
            "color": "#2a3f5f"
           }
          },
          "ternary": {
           "aaxis": {
            "gridcolor": "white",
            "linecolor": "white",
            "ticks": ""
           },
           "baxis": {
            "gridcolor": "white",
            "linecolor": "white",
            "ticks": ""
           },
           "bgcolor": "#E5ECF6",
           "caxis": {
            "gridcolor": "white",
            "linecolor": "white",
            "ticks": ""
           }
          },
          "title": {
           "x": 0.05
          },
          "xaxis": {
           "automargin": true,
           "gridcolor": "white",
           "linecolor": "white",
           "ticks": "",
           "title": {
            "standoff": 15
           },
           "zerolinecolor": "white",
           "zerolinewidth": 2
          },
          "yaxis": {
           "automargin": true,
           "gridcolor": "white",
           "linecolor": "white",
           "ticks": "",
           "title": {
            "standoff": 15
           },
           "zerolinecolor": "white",
           "zerolinewidth": 2
          }
         }
        },
        "title": {
         "text": "The Corona is Coming"
        }
       }
      },
      "text/html": [
       "<div>\n",
       "        \n",
       "        \n",
       "            <div id=\"4ea625f9-3554-4fe2-a2a8-5d092eadb61a\" class=\"plotly-graph-div\" style=\"height:525px; width:100%;\"></div>\n",
       "            <script type=\"text/javascript\">\n",
       "                require([\"plotly\"], function(Plotly) {\n",
       "                    window.PLOTLYENV=window.PLOTLYENV || {};\n",
       "                    \n",
       "                if (document.getElementById(\"4ea625f9-3554-4fe2-a2a8-5d092eadb61a\")) {\n",
       "                    Plotly.newPlot(\n",
       "                        '4ea625f9-3554-4fe2-a2a8-5d092eadb61a',\n",
       "                        [{\"customdata\": [\"Alabama\", \"Alaska\", \"Alberta\", \"Anhui\", \"Arizona\", \"Arkansas\", \"Aruba\", \"Australian Capital Territory\", \"Beijing\", \"Bermuda\", \"British Columbia\", \"California\", \"Cayman Islands\", \"Channel Islands\", \"Chongqing\", \"Colorado\", \"Connecticut\", \"Curacao\", \"Delaware\", \"Denmark\", \"Diamond Princess\", \"District of Columbia\", \"Faroe Islands\", \"Florida\", \"France\", \"French Guiana\", \"French Polynesia\", \"From Diamond Princess\", \"Fujian\", \"Gansu\", \"Georgia\", \"Gibraltar\", \"Grand Princess\", \"Greenland\", \"Guadeloupe\", \"Guam\", \"Guangdong\", \"Guangxi\", \"Guizhou\", \"Hainan\", \"Hawaii\", \"Hebei\", \"Heilongjiang\", \"Henan\", \"Hong Kong\", \"Hubei\", \"Hunan\", \"Idaho\", \"Illinois\", \"Indiana\", \"Inner Mongolia\", \"Iowa\", \"Isle of Man\", \"Jiangsu\", \"Jiangxi\", \"Jilin\", \"Kansas\", \"Kentucky\", \"Liaoning\", \"Louisiana\", \"Macau\", \"Maine\", \"Manitoba\", \"Maryland\", \"Massachusetts\", \"Mayotte\", \"Michigan\", \"Minnesota\", \"Mississippi\", \"Missouri\", \"Montana\", \"Montserrat\", \"Nebraska\", \"Netherlands\", \"Nevada\", \"New Brunswick\", \"New Caledonia\", \"New Hampshire\", \"New Jersey\", \"New Mexico\", \"New South Wales\", \"New York\", \"Newfoundland and Labrador\", \"Ningxia\", \"North Carolina\", \"North Dakota\", \"Northern Territory\", \"Northwest Territories\", \"Nova Scotia\", \"Ohio\", \"Oklahoma\", \"Ontario\", \"Oregon\", \"Pennsylvania\", \"Prince Edward Island\", \"Puerto Rico\", \"Qinghai\", \"Quebec\", \"Queensland\", \"Reunion\", \"Rhode Island\", \"Saint Barthelemy\", \"Saskatchewan\", \"Shaanxi\", \"Shandong\", \"Shanghai\", \"Shanxi\", \"Sichuan\", \"Sint Maarten\", \"South Australia\", \"South Carolina\", \"South Dakota\", \"St Martin\", \"Tasmania\", \"Tennessee\", \"Texas\", \"Tianjin\", \"Tibet\", \"United Kingdom\", \"Utah\", \"Vermont\", \"Victoria\", \"Virgin Islands\", \"Virginia\", \"Washington\", \"West Virginia\", \"Western Australia\", \"Wisconsin\", \"Wyoming\", \"Xinjiang\", \"Yunnan\", \"Zhejiang\"], \"hoverinfo\": \"text\", \"lat\": [32.33090813397732, 61.37772897410247, 53.92327030797331, 31.814724372928158, 33.715426923080834, 34.954737989702586, 12.467770817926345, -35.458273788830475, 40.181616618364856, 32.32598969514662, 49.237088703145574, 36.11473625103725, 19.350145918006135, 49.36825104419833, 30.052157879124092, 39.054601267991906, 41.58886898343996, 12.195621572473154, 39.35313350048781, 56.245972045331975, 70.8776164497979, 38.875618323053786, 61.91479304317146, 27.799960803921753, 46.230308845047844, 3.9129107760106767, -17.669649304832113, 35.454329874036524, 26.095122069265603, 37.82600523657041, 33.04953539831446, 36.17181298842002, 75.30353536608386, 71.72751312662683, 16.253887745961674, 13.459582566136309, 23.319484973155806, 23.854149373873277, 26.859588332163277, 19.200174875525153, 21.058062775554728, 39.57795659430886, 47.85525273087553, 33.86837826099091, 22.339811135340966, 30.946430123884763, 27.616628935486165, 44.224773863837534, 40.34408497966099, 39.83595461132887, 44.10015641429011, 41.99723259709075, 54.23351434926926, 32.96393281207521, 27.61273516690752, 43.67726660216792, 38.552410912695656, 37.707704885637945, 41.298921869472444, 31.240968704420254, 22.154610586816798, 44.697726743528314, 53.76697329528159, 39.085873241547105, 42.238398613878715, -12.83763587110246, 43.35771121159571, 45.692921862284216, 32.72204560893823, 38.46929598862834, 46.91738431549852, 16.74901523180557, 41.11200937604991, 52.184215375968044, 38.36882721871025, 46.574565785936926, -20.921911750744098, 43.427797134603004, 40.295078788613544, 34.85612661745101, -33.87945581351258, 42.14499469145421, 53.109960576276855, 37.264596599673254, 35.648148032489324, 47.54224845261259, -12.47866663396357, 64.8373714162587, 44.675089575071176, 40.37059128039361, 35.5521800592151, 51.21568816994249, 44.596721768513845, 40.5930726715308, 46.51902415758465, 18.223142857211467, 35.77072378109561, 52.964651214460474, -27.991958693977523, -21.152403252964696, 41.68711533219957, 17.89757697163108, 52.93120137817133, 35.20430667779477, 36.354358157596934, 31.19454419551836, 37.588558959539434, 30.599970381889214, 18.023750935696015, -34.91938745870431, 33.878897681414344, 44.2553351574113, 18.057833214228438, -41.497444664894736, 35.78417948969176, 31.099416846286246, 39.285590917959084, 31.670741740153645, 55.397693439635994, 40.14452374907603, 44.0350770514181, -37.81777074920814, 18.332418136273, 37.78825523949391, 47.42677002776873, 38.480108321045286, -31.95644625601361, 44.267683250724176, 42.73625347891933, 41.12028373868924, 24.97177543467466, 29.19373306302617], \"lon\": [-86.90212883603412, -152.41527242222517, -116.59580057145313, 117.22512886562338, -111.43459430692208, -92.36273022155675, -70.05223800201249, 149.00089356914256, 116.39652610126385, -64.74924629699511, -123.1082623488366, -119.68320680434094, -81.27464414533756, -2.3675707338865295, 107.85647743630163, -105.27644997998559, -72.75279993749736, -68.99653069472822, -75.52646751144901, 9.524620777622644, 279.2801364896023, -77.04670823908762, -6.902353606672771, -81.6763755689501, 2.2260881049776975, -53.13543341186304, 149.4200140542784, 139.67475300877425, 117.97351346960819, 101.06062487883145, -83.65398349904656, -5.3538033494418915, -245.3428556480469, -42.61327641940217, -61.57098113334353, 144.8253379855327, 113.42483772974998, 108.75965306895274, 106.89082425560848, 109.74730439434404, -157.50835686326639, 116.11483378715698, 127.76668986604878, 113.6052301612438, 114.22384681132083, 112.29622262838554, 111.70428816463243, -114.51178280201762, -88.98590472238978, -86.26773122041062, 113.96219601566504, -93.20960934474249, -4.579235930484161, 119.46087435029168, 115.74375562996866, 126.19693343118033, -96.7338950098511, -84.68037809370833, 122.65922839493473, -91.84529343224229, 113.59089365085258, -69.41735797986372, -98.80887224143663, -76.8086374485669, -71.53075287811461, 45.16933192953771, -84.56383425828744, -93.8920446523606, -89.687105638861, -92.28591660816336, -110.42969456810728, -62.16654189906196, -98.25272933164963, 5.271827016171398, -117.06154533126292, -66.4700680139725, 165.65084210123945, -71.55696905921069, -74.52781192116828, -106.26078539561132, 151.17147202866482, -74.95278939910573, -57.648385422197435, 106.13059486098138, -79.8097413990181, -99.75658443707911, 130.8529642186481, -124.87576765684219, -63.71568887336228, -82.79022834456127, -96.91122608533053, -85.32813677134499, -122.07144836570959, -77.21960349733575, -63.39746925792659, -66.59190530477457, 96.00029820829278, -73.50482126825676, 153.33711227818242, 55.242908760383926, -71.50687872827712, -62.8639813886536, -106.4303582135324, 108.88346359014815, 118.14541502087553, 121.48873580423455, 112.31817997028108, 102.7131974512702, -63.0808582979978, 138.5818824345662, -80.95868506338448, -99.45331495395747, -63.0386635264319, 145.97900527576112, -86.71202196468356, -97.5875929720059, 117.31241155960366, 88.09565574639888, -3.4456697438053783, -111.87133483668318, -72.74617461265542, 144.9644751961867, -64.89746619730224, -78.18992023691158, -121.4901811051036, -80.95992850184324, 115.8292260522009, -89.5823164137447, -107.2797188403588, 85.2069016332399, 101.4960206544191, 120.13541782636395], \"marker\": {\"color\": \"orange\", \"size\": [138.0, 21.0, 257.0, 978.0, 148.0, 165.0, 8.0, 19.0, 498.0, 2.0, 404.0, 1582.0, 1.0, 32.0, 565.0, 464.0, 213.0, 1.0, 47.0, 1369.0, 745.0, 98.0, 115.0, 804.0, 14670.0, 18.0, 15.0, 0.0, 305.0, 132.0, 554.0, 15.0, 41.0, 4.0, 56.0, 25.0, 1391.0, 250.0, 142.0, 156.0, 48.0, 307.0, 458.0, 1229.0, 309.0, 61512.0, 1010.0, 42.0, 1031.0, 189.0, 73.0, 90.0, 5.0, 633.0, 934.0, 91.0, 60.0, 93.0, 122.0, 797.0, 20.0, 89.0, 19.0, 238.0, 636.0, 11.0, 1019.0, 167.0, 205.0, 94.0, 31.0, 1.0, 51.0, 3846.0, 186.0, 17.0, 4.0, 65.0, 1874.0, 57.0, 521.0, 15559.0, 6.0, 75.0, 302.0, 28.0, 3.0, 1.0, 28.0, 349.0, 63.0, 415.0, 153.0, 503.0, 2.0, 21.0, 18.0, 209.0, 221.0, 47.0, 83.0, 3.0, 52.0, 242.0, 752.0, 386.0, 133.0, 537.0, 1.0, 100.0, 190.0, 19.0, 4.0, 22.0, 501.0, 615.0, 131.0, 1.0, 5121.0, 179.0, 48.0, 296.0, 3.0, 209.0, 1806.0, 12.0, 118.0, 373.0, 24.0, 70.0, 172.0, 1235.0], \"sizemin\": 3, \"sizeref\": 152.1184}, \"mode\": \"markers\", \"text\": [\"Alabama<br>Total Active at 03/22/20 : 138\", \"Alaska<br>Total Active at 03/22/20 : 21\", \"Alberta<br>Total Active at 03/22/20 : 257\", \"Anhui<br>Total Active at 03/22/20 : 978\", \"Arizona<br>Total Active at 03/22/20 : 148\", \"Arkansas<br>Total Active at 03/22/20 : 165\", \"Aruba<br>Total Active at 03/22/20 : 8\", \"Australian Capital Territory<br>Total Active at 03/22/20 : 19\", \"Beijing<br>Total Active at 03/22/20 : 498\", \"Bermuda<br>Total Active at 03/22/20 : 2\", \"British Columbia<br>Total Active at 03/22/20 : 404\", \"California<br>Total Active at 03/22/20 : 1,582\", \"Cayman Islands<br>Total Active at 03/22/20 : 1\", \"Channel Islands<br>Total Active at 03/22/20 : 32\", \"Chongqing<br>Total Active at 03/22/20 : 565\", \"Colorado<br>Total Active at 03/22/20 : 464\", \"Connecticut<br>Total Active at 03/22/20 : 213\", \"Curacao<br>Total Active at 03/22/20 : 1\", \"Delaware<br>Total Active at 03/22/20 : 47\", \"Denmark<br>Total Active at 03/22/20 : 1,369\", \"Diamond Princess<br>Total Active at 03/22/20 : 745\", \"District of Columbia<br>Total Active at 03/22/20 : 98\", \"Faroe Islands<br>Total Active at 03/22/20 : 115\", \"Florida<br>Total Active at 03/22/20 : 804\", \"France<br>Total Active at 03/22/20 : 14,670\", \"French Guiana<br>Total Active at 03/22/20 : 18\", \"French Polynesia<br>Total Active at 03/22/20 : 15\", \"From Diamond Princess<br>Total Active at 03/22/20 : 0\", \"Fujian<br>Total Active at 03/22/20 : 305\", \"Gansu<br>Total Active at 03/22/20 : 132\", \"Georgia<br>Total Active at 03/22/20 : 554\", \"Gibraltar<br>Total Active at 03/22/20 : 15\", \"Grand Princess<br>Total Active at 03/22/20 : 41\", \"Greenland<br>Total Active at 03/22/20 : 4\", \"Guadeloupe<br>Total Active at 03/22/20 : 56\", \"Guam<br>Total Active at 03/22/20 : 25\", \"Guangdong<br>Total Active at 03/22/20 : 1,391\", \"Guangxi<br>Total Active at 03/22/20 : 250\", \"Guizhou<br>Total Active at 03/22/20 : 142\", \"Hainan<br>Total Active at 03/22/20 : 156\", \"Hawaii<br>Total Active at 03/22/20 : 48\", \"Hebei<br>Total Active at 03/22/20 : 307\", \"Heilongjiang<br>Total Active at 03/22/20 : 458\", \"Henan<br>Total Active at 03/22/20 : 1,229\", \"Hong Kong<br>Total Active at 03/22/20 : 309\", \"Hubei<br>Total Active at 03/22/20 : 61,512\", \"Hunan<br>Total Active at 03/22/20 : 1,010\", \"Idaho<br>Total Active at 03/22/20 : 42\", \"Illinois<br>Total Active at 03/22/20 : 1,031\", \"Indiana<br>Total Active at 03/22/20 : 189\", \"Inner Mongolia<br>Total Active at 03/22/20 : 73\", \"Iowa<br>Total Active at 03/22/20 : 90\", \"Isle of Man<br>Total Active at 03/22/20 : 5\", \"Jiangsu<br>Total Active at 03/22/20 : 633\", \"Jiangxi<br>Total Active at 03/22/20 : 934\", \"Jilin<br>Total Active at 03/22/20 : 91\", \"Kansas<br>Total Active at 03/22/20 : 60\", \"Kentucky<br>Total Active at 03/22/20 : 93\", \"Liaoning<br>Total Active at 03/22/20 : 122\", \"Louisiana<br>Total Active at 03/22/20 : 797\", \"Macau<br>Total Active at 03/22/20 : 20\", \"Maine<br>Total Active at 03/22/20 : 89\", \"Manitoba<br>Total Active at 03/22/20 : 19\", \"Maryland<br>Total Active at 03/22/20 : 238\", \"Massachusetts<br>Total Active at 03/22/20 : 636\", \"Mayotte<br>Total Active at 03/22/20 : 11\", \"Michigan<br>Total Active at 03/22/20 : 1,019\", \"Minnesota<br>Total Active at 03/22/20 : 167\", \"Mississippi<br>Total Active at 03/22/20 : 205\", \"Missouri<br>Total Active at 03/22/20 : 94\", \"Montana<br>Total Active at 03/22/20 : 31\", \"Montserrat<br>Total Active at 03/22/20 : 1\", \"Nebraska<br>Total Active at 03/22/20 : 51\", \"Netherlands<br>Total Active at 03/22/20 : 3,846\", \"Nevada<br>Total Active at 03/22/20 : 186\", \"New Brunswick<br>Total Active at 03/22/20 : 17\", \"New Caledonia<br>Total Active at 03/22/20 : 4\", \"New Hampshire<br>Total Active at 03/22/20 : 65\", \"New Jersey<br>Total Active at 03/22/20 : 1,874\", \"New Mexico<br>Total Active at 03/22/20 : 57\", \"New South Wales<br>Total Active at 03/22/20 : 521\", \"New York<br>Total Active at 03/22/20 : 15,559\", \"Newfoundland and Labrador<br>Total Active at 03/22/20 : 6\", \"Ningxia<br>Total Active at 03/22/20 : 75\", \"North Carolina<br>Total Active at 03/22/20 : 302\", \"North Dakota<br>Total Active at 03/22/20 : 28\", \"Northern Territory<br>Total Active at 03/22/20 : 3\", \"Northwest Territories<br>Total Active at 03/22/20 : 1\", \"Nova Scotia<br>Total Active at 03/22/20 : 28\", \"Ohio<br>Total Active at 03/22/20 : 349\", \"Oklahoma<br>Total Active at 03/22/20 : 63\", \"Ontario<br>Total Active at 03/22/20 : 415\", \"Oregon<br>Total Active at 03/22/20 : 153\", \"Pennsylvania<br>Total Active at 03/22/20 : 503\", \"Prince Edward Island<br>Total Active at 03/22/20 : 2\", \"Puerto Rico<br>Total Active at 03/22/20 : 21\", \"Qinghai<br>Total Active at 03/22/20 : 18\", \"Quebec<br>Total Active at 03/22/20 : 209\", \"Queensland<br>Total Active at 03/22/20 : 221\", \"Reunion<br>Total Active at 03/22/20 : 47\", \"Rhode Island<br>Total Active at 03/22/20 : 83\", \"Saint Barthelemy<br>Total Active at 03/22/20 : 3\", \"Saskatchewan<br>Total Active at 03/22/20 : 52\", \"Shaanxi<br>Total Active at 03/22/20 : 242\", \"Shandong<br>Total Active at 03/22/20 : 752\", \"Shanghai<br>Total Active at 03/22/20 : 386\", \"Shanxi<br>Total Active at 03/22/20 : 133\", \"Sichuan<br>Total Active at 03/22/20 : 537\", \"Sint Maarten<br>Total Active at 03/22/20 : 1\", \"South Australia<br>Total Active at 03/22/20 : 100\", \"South Carolina<br>Total Active at 03/22/20 : 190\", \"South Dakota<br>Total Active at 03/22/20 : 19\", \"St Martin<br>Total Active at 03/22/20 : 4\", \"Tasmania<br>Total Active at 03/22/20 : 22\", \"Tennessee<br>Total Active at 03/22/20 : 501\", \"Texas<br>Total Active at 03/22/20 : 615\", \"Tianjin<br>Total Active at 03/22/20 : 131\", \"Tibet<br>Total Active at 03/22/20 : 1\", \"United Kingdom<br>Total Active at 03/22/20 : 5,121\", \"Utah<br>Total Active at 03/22/20 : 179\", \"Vermont<br>Total Active at 03/22/20 : 48\", \"Victoria<br>Total Active at 03/22/20 : 296\", \"Virgin Islands<br>Total Active at 03/22/20 : 3\", \"Virginia<br>Total Active at 03/22/20 : 209\", \"Washington<br>Total Active at 03/22/20 : 1,806\", \"West Virginia<br>Total Active at 03/22/20 : 12\", \"Western Australia<br>Total Active at 03/22/20 : 118\", \"Wisconsin<br>Total Active at 03/22/20 : 373\", \"Wyoming<br>Total Active at 03/22/20 : 24\", \"Xinjiang<br>Total Active at 03/22/20 : 70\", \"Yunnan<br>Total Active at 03/22/20 : 172\", \"Zhejiang<br>Total Active at 03/22/20 : 1,235\"], \"textposition\": \"top right\", \"type\": \"scattermapbox\"}],\n",
       "                        {\"autosize\": true, \"dragmode\": \"pan\", \"hovermode\": \"closest\", \"mapbox\": {\"accesstoken\": \"pk.eyJ1IjoiandpbGxpczA3MjAiLCJhIjoiY2s4MHhoYmF6MDFoODNpcnVyNGR2bWk1bSJ9.YNwklD1Aa6DihVblHr3GVg\\n\", \"center\": {\"lat\": 15.74, \"lon\": -1.4}, \"style\": \"dark\", \"zoom\": 1.6}, \"margin\": {\"b\": 0, \"l\": 0, \"r\": 0, \"t\": 0}, \"showlegend\": false, \"template\": {\"data\": {\"bar\": [{\"error_x\": {\"color\": \"#2a3f5f\"}, \"error_y\": {\"color\": \"#2a3f5f\"}, \"marker\": {\"line\": {\"color\": \"#E5ECF6\", \"width\": 0.5}}, \"type\": \"bar\"}], \"barpolar\": [{\"marker\": {\"line\": {\"color\": \"#E5ECF6\", \"width\": 0.5}}, \"type\": \"barpolar\"}], \"carpet\": [{\"aaxis\": {\"endlinecolor\": \"#2a3f5f\", \"gridcolor\": \"white\", \"linecolor\": \"white\", \"minorgridcolor\": \"white\", \"startlinecolor\": \"#2a3f5f\"}, \"baxis\": {\"endlinecolor\": \"#2a3f5f\", \"gridcolor\": \"white\", \"linecolor\": \"white\", \"minorgridcolor\": \"white\", \"startlinecolor\": \"#2a3f5f\"}, \"type\": \"carpet\"}], \"choropleth\": [{\"colorbar\": {\"outlinewidth\": 0, \"ticks\": \"\"}, \"type\": \"choropleth\"}], \"contour\": [{\"colorbar\": {\"outlinewidth\": 0, \"ticks\": \"\"}, \"colorscale\": [[0.0, \"#0d0887\"], [0.1111111111111111, \"#46039f\"], [0.2222222222222222, \"#7201a8\"], [0.3333333333333333, \"#9c179e\"], [0.4444444444444444, \"#bd3786\"], [0.5555555555555556, \"#d8576b\"], [0.6666666666666666, \"#ed7953\"], [0.7777777777777778, \"#fb9f3a\"], [0.8888888888888888, \"#fdca26\"], [1.0, \"#f0f921\"]], \"type\": \"contour\"}], \"contourcarpet\": [{\"colorbar\": {\"outlinewidth\": 0, \"ticks\": \"\"}, \"type\": \"contourcarpet\"}], \"heatmap\": [{\"colorbar\": {\"outlinewidth\": 0, \"ticks\": \"\"}, \"colorscale\": [[0.0, \"#0d0887\"], [0.1111111111111111, \"#46039f\"], [0.2222222222222222, \"#7201a8\"], [0.3333333333333333, \"#9c179e\"], [0.4444444444444444, \"#bd3786\"], [0.5555555555555556, \"#d8576b\"], [0.6666666666666666, \"#ed7953\"], [0.7777777777777778, \"#fb9f3a\"], [0.8888888888888888, \"#fdca26\"], [1.0, \"#f0f921\"]], \"type\": \"heatmap\"}], \"heatmapgl\": [{\"colorbar\": {\"outlinewidth\": 0, \"ticks\": \"\"}, \"colorscale\": [[0.0, \"#0d0887\"], [0.1111111111111111, \"#46039f\"], [0.2222222222222222, \"#7201a8\"], [0.3333333333333333, \"#9c179e\"], [0.4444444444444444, \"#bd3786\"], [0.5555555555555556, \"#d8576b\"], [0.6666666666666666, \"#ed7953\"], [0.7777777777777778, \"#fb9f3a\"], [0.8888888888888888, \"#fdca26\"], [1.0, \"#f0f921\"]], \"type\": \"heatmapgl\"}], \"histogram\": [{\"marker\": {\"colorbar\": {\"outlinewidth\": 0, \"ticks\": \"\"}}, \"type\": \"histogram\"}], \"histogram2d\": [{\"colorbar\": {\"outlinewidth\": 0, \"ticks\": \"\"}, \"colorscale\": [[0.0, \"#0d0887\"], [0.1111111111111111, \"#46039f\"], [0.2222222222222222, \"#7201a8\"], [0.3333333333333333, \"#9c179e\"], [0.4444444444444444, \"#bd3786\"], [0.5555555555555556, \"#d8576b\"], [0.6666666666666666, \"#ed7953\"], [0.7777777777777778, \"#fb9f3a\"], [0.8888888888888888, \"#fdca26\"], [1.0, \"#f0f921\"]], \"type\": \"histogram2d\"}], \"histogram2dcontour\": [{\"colorbar\": {\"outlinewidth\": 0, \"ticks\": \"\"}, \"colorscale\": [[0.0, \"#0d0887\"], [0.1111111111111111, \"#46039f\"], [0.2222222222222222, \"#7201a8\"], [0.3333333333333333, \"#9c179e\"], [0.4444444444444444, \"#bd3786\"], [0.5555555555555556, \"#d8576b\"], [0.6666666666666666, \"#ed7953\"], [0.7777777777777778, \"#fb9f3a\"], [0.8888888888888888, \"#fdca26\"], [1.0, \"#f0f921\"]], \"type\": \"histogram2dcontour\"}], \"mesh3d\": [{\"colorbar\": {\"outlinewidth\": 0, \"ticks\": \"\"}, \"type\": \"mesh3d\"}], \"parcoords\": [{\"line\": {\"colorbar\": {\"outlinewidth\": 0, \"ticks\": \"\"}}, \"type\": \"parcoords\"}], \"pie\": [{\"automargin\": true, \"type\": \"pie\"}], \"scatter\": [{\"marker\": {\"colorbar\": {\"outlinewidth\": 0, \"ticks\": \"\"}}, \"type\": \"scatter\"}], \"scatter3d\": [{\"line\": {\"colorbar\": {\"outlinewidth\": 0, \"ticks\": \"\"}}, \"marker\": {\"colorbar\": {\"outlinewidth\": 0, \"ticks\": \"\"}}, \"type\": \"scatter3d\"}], \"scattercarpet\": [{\"marker\": {\"colorbar\": {\"outlinewidth\": 0, \"ticks\": \"\"}}, \"type\": \"scattercarpet\"}], \"scattergeo\": [{\"marker\": {\"colorbar\": {\"outlinewidth\": 0, \"ticks\": \"\"}}, \"type\": \"scattergeo\"}], \"scattergl\": [{\"marker\": {\"colorbar\": {\"outlinewidth\": 0, \"ticks\": \"\"}}, \"type\": \"scattergl\"}], \"scattermapbox\": [{\"marker\": {\"colorbar\": {\"outlinewidth\": 0, \"ticks\": \"\"}}, \"type\": \"scattermapbox\"}], \"scatterpolar\": [{\"marker\": {\"colorbar\": {\"outlinewidth\": 0, \"ticks\": \"\"}}, \"type\": \"scatterpolar\"}], \"scatterpolargl\": [{\"marker\": {\"colorbar\": {\"outlinewidth\": 0, \"ticks\": \"\"}}, \"type\": \"scatterpolargl\"}], \"scatterternary\": [{\"marker\": {\"colorbar\": {\"outlinewidth\": 0, \"ticks\": \"\"}}, \"type\": \"scatterternary\"}], \"surface\": [{\"colorbar\": {\"outlinewidth\": 0, \"ticks\": \"\"}, \"colorscale\": [[0.0, \"#0d0887\"], [0.1111111111111111, \"#46039f\"], [0.2222222222222222, \"#7201a8\"], [0.3333333333333333, \"#9c179e\"], [0.4444444444444444, \"#bd3786\"], [0.5555555555555556, \"#d8576b\"], [0.6666666666666666, \"#ed7953\"], [0.7777777777777778, \"#fb9f3a\"], [0.8888888888888888, \"#fdca26\"], [1.0, \"#f0f921\"]], \"type\": \"surface\"}], \"table\": [{\"cells\": {\"fill\": {\"color\": \"#EBF0F8\"}, \"line\": {\"color\": \"white\"}}, \"header\": {\"fill\": {\"color\": \"#C8D4E3\"}, \"line\": {\"color\": \"white\"}}, \"type\": \"table\"}]}, \"layout\": {\"annotationdefaults\": {\"arrowcolor\": \"#2a3f5f\", \"arrowhead\": 0, \"arrowwidth\": 1}, \"coloraxis\": {\"colorbar\": {\"outlinewidth\": 0, \"ticks\": \"\"}}, \"colorscale\": {\"diverging\": [[0, \"#8e0152\"], [0.1, \"#c51b7d\"], [0.2, \"#de77ae\"], [0.3, \"#f1b6da\"], [0.4, \"#fde0ef\"], [0.5, \"#f7f7f7\"], [0.6, \"#e6f5d0\"], [0.7, \"#b8e186\"], [0.8, \"#7fbc41\"], [0.9, \"#4d9221\"], [1, \"#276419\"]], \"sequential\": [[0.0, \"#0d0887\"], [0.1111111111111111, \"#46039f\"], [0.2222222222222222, \"#7201a8\"], [0.3333333333333333, \"#9c179e\"], [0.4444444444444444, \"#bd3786\"], [0.5555555555555556, \"#d8576b\"], [0.6666666666666666, \"#ed7953\"], [0.7777777777777778, \"#fb9f3a\"], [0.8888888888888888, \"#fdca26\"], [1.0, \"#f0f921\"]], \"sequentialminus\": [[0.0, \"#0d0887\"], [0.1111111111111111, \"#46039f\"], [0.2222222222222222, \"#7201a8\"], [0.3333333333333333, \"#9c179e\"], [0.4444444444444444, \"#bd3786\"], [0.5555555555555556, \"#d8576b\"], [0.6666666666666666, \"#ed7953\"], [0.7777777777777778, \"#fb9f3a\"], [0.8888888888888888, \"#fdca26\"], [1.0, \"#f0f921\"]]}, \"colorway\": [\"#636efa\", \"#EF553B\", \"#00cc96\", \"#ab63fa\", \"#FFA15A\", \"#19d3f3\", \"#FF6692\", \"#B6E880\", \"#FF97FF\", \"#FECB52\"], \"font\": {\"color\": \"#2a3f5f\"}, \"geo\": {\"bgcolor\": \"white\", \"lakecolor\": \"white\", \"landcolor\": \"#E5ECF6\", \"showlakes\": true, \"showland\": true, \"subunitcolor\": \"white\"}, \"hoverlabel\": {\"align\": \"left\"}, \"hovermode\": \"closest\", \"mapbox\": {\"style\": \"light\"}, \"paper_bgcolor\": \"white\", \"plot_bgcolor\": \"#E5ECF6\", \"polar\": {\"angularaxis\": {\"gridcolor\": \"white\", \"linecolor\": \"white\", \"ticks\": \"\"}, \"bgcolor\": \"#E5ECF6\", \"radialaxis\": {\"gridcolor\": \"white\", \"linecolor\": \"white\", \"ticks\": \"\"}}, \"scene\": {\"xaxis\": {\"backgroundcolor\": \"#E5ECF6\", \"gridcolor\": \"white\", \"gridwidth\": 2, \"linecolor\": \"white\", \"showbackground\": true, \"ticks\": \"\", \"zerolinecolor\": \"white\"}, \"yaxis\": {\"backgroundcolor\": \"#E5ECF6\", \"gridcolor\": \"white\", \"gridwidth\": 2, \"linecolor\": \"white\", \"showbackground\": true, \"ticks\": \"\", \"zerolinecolor\": \"white\"}, \"zaxis\": {\"backgroundcolor\": \"#E5ECF6\", \"gridcolor\": \"white\", \"gridwidth\": 2, \"linecolor\": \"white\", \"showbackground\": true, \"ticks\": \"\", \"zerolinecolor\": \"white\"}}, \"shapedefaults\": {\"line\": {\"color\": \"#2a3f5f\"}}, \"ternary\": {\"aaxis\": {\"gridcolor\": \"white\", \"linecolor\": \"white\", \"ticks\": \"\"}, \"baxis\": {\"gridcolor\": \"white\", \"linecolor\": \"white\", \"ticks\": \"\"}, \"bgcolor\": \"#E5ECF6\", \"caxis\": {\"gridcolor\": \"white\", \"linecolor\": \"white\", \"ticks\": \"\"}}, \"title\": {\"x\": 0.05}, \"xaxis\": {\"automargin\": true, \"gridcolor\": \"white\", \"linecolor\": \"white\", \"ticks\": \"\", \"title\": {\"standoff\": 15}, \"zerolinecolor\": \"white\", \"zerolinewidth\": 2}, \"yaxis\": {\"automargin\": true, \"gridcolor\": \"white\", \"linecolor\": \"white\", \"ticks\": \"\", \"title\": {\"standoff\": 15}, \"zerolinecolor\": \"white\", \"zerolinewidth\": 2}}}, \"title\": {\"text\": \"The Corona is Coming\"}},\n",
       "                        {\"responsive\": true}\n",
       "                    ).then(function(){\n",
       "                            \n",
       "var gd = document.getElementById('4ea625f9-3554-4fe2-a2a8-5d092eadb61a');\n",
       "var x = new MutationObserver(function (mutations, observer) {{\n",
       "        var display = window.getComputedStyle(gd).display;\n",
       "        if (!display || display === 'none') {{\n",
       "            console.log([gd, 'removed!']);\n",
       "            Plotly.purge(gd);\n",
       "            observer.disconnect();\n",
       "        }}\n",
       "}});\n",
       "\n",
       "// Listen for the removal of the full notebook cells\n",
       "var notebookContainer = gd.closest('#notebook-container');\n",
       "if (notebookContainer) {{\n",
       "    x.observe(notebookContainer, {childList: true});\n",
       "}}\n",
       "\n",
       "// Listen for the clearing of the current output cell\n",
       "var outputEl = gd.closest('.output');\n",
       "if (outputEl) {{\n",
       "    x.observe(outputEl, {childList: true});\n",
       "}}\n",
       "\n",
       "                        })\n",
       "                };\n",
       "                });\n",
       "            </script>\n",
       "        </div>"
      ]
     },
     "metadata": {},
     "output_type": "display_data"
    }
   ],
   "source": [
    "def get_graph_state(date_int, group, metrics, figure):\n",
    "    # Get initial zoom and shit if the figure is already drawn\n",
    "    if not figure:\n",
    "        lat = 15.74\n",
    "        lon = -1.4\n",
    "        zoom = 1.6\n",
    "    elif \"layout\" in figure:\n",
    "        lat = figure[\"layout\"][\"mapbox\"]['center'][\"lat\"]\n",
    "        lon = figure[\"layout\"][\"mapbox\"]['center'][\"lon\"]\n",
    "        zoom = figure[\"layout\"][\"mapbox\"][\"zoom\"]\n",
    "\n",
    "    print(group, metrics)\n",
    "\n",
    "    official_date = date_mapper.iloc[date_int]['Date']\n",
    "    print(date_int, official_date)\n",
    "\n",
    "    \n",
    "\n",
    "    if group == 'Country/Region':\n",
    "        sub_df = merged_df[(merged_df['Date'] == official_date) & (merged_df[group]!=\"\")].groupby(\n",
    "            group).sum().reset_index()\n",
    "        sub_df['Lat'] = sub_df['Country/Region'].apply(\n",
    "            lambda x: centroid_country_mapper[x]['Lat'])\n",
    "        sub_df['Long'] = sub_df['Country/Region'].apply(\n",
    "            lambda x: centroid_country_mapper[x]['Long'])\n",
    "        sizeref = 2. * merged_df.groupby(\n",
    "            ['Date', group]).sum().max()['Cases'] / (20 ** 2)\n",
    "\n",
    "    \n",
    "    elif group == 'Province/State':\n",
    "        sub_df = merged_df[(merged_df['Date'] == official_date) & (merged_df[group]!=\"\") & (merged_df['County'] == '')].groupby(\n",
    "            group).sum().reset_index()\n",
    "        county_df = merged_df[(merged_df['Date'] == official_date) & (merged_df['County'] != '')].groupby(\n",
    "            group).sum().reset_index()\n",
    "        sub_df = sub_df.merge(county_df,on=['Province/State'],suffixes=('','_county'),how='outer').fillna(0) \n",
    "        sub_df['Cases'] = sub_df['Cases'] + sub_df['Cases_county']\n",
    "        sub_df['Deaths'] = sub_df['Deaths'] + sub_df['Deaths_county']\n",
    "        sub_df['Recovery'] = sub_df['Deaths'] + sub_df['Recovery_county']\n",
    "        sizeref = 2. * merged_df.groupby(\n",
    "            ['Date', group]).sum().max()['Cases'] / (50 ** 2)\n",
    "    \n",
    "    else:\n",
    "        sub_df = merged_df[(merged_df['Date'] == official_date) &  (merged_df['County'] != '')].groupby(\n",
    "            group).sum().reset_index()\n",
    "        sizeref = 2. * merged_df.groupby(\n",
    "            ['Date', group]).sum().max()['Cases'] / (50 ** 2)\n",
    "        \n",
    "        \n",
    "    sub_df['Active'] = sub_df['Cases'] - sub_df['Deaths'] - sub_df['Recovery']\n",
    "    sub_df['Text_Cases'] = sub_df[group] + '<br>Total Cases at {} : '.format(\n",
    "        official_date.strftime('%m/%d/%y')) + sub_df['Cases'].apply(lambda x: \"{:,}\".format(int(x)))\n",
    "    sub_df['Text_Death'] = sub_df[group] + '<br>Total Deaths at {} : '.format(\n",
    "        official_date.strftime('%m/%d/%y')) + sub_df['Deaths'].apply(lambda x: \"{:,}\".format(int(x)))\n",
    "    sub_df['Text_Recover'] = sub_df[group] + '<br>Total Recoveries at {} : '.format(\n",
    "        official_date.strftime('%m/%d/%y')) + sub_df['Recovery'].apply(lambda x: \"{:,}\".format(int(x)))\n",
    "    \n",
    "    sub_df['Text_Active'] = sub_df[group] + '<br>Total Active at {} : '.format(\n",
    "        official_date.strftime('%m/%d/%y')) + sub_df['Active'].apply(lambda x: \"{:,}\".format(int(x)))\n",
    "    \n",
    "    # Has to take in a figure state eventually\n",
    "    \n",
    "    fig = go.Figure()\n",
    "    \n",
    "    if 'cases' in metrics:\n",
    "        fig.add_trace(go.Scattermapbox(\n",
    "            lon=sub_df['Long'] +\n",
    "            np.random.normal(0, .02, len(sub_df['Long'])),\n",
    "            lat=sub_df['Lat'] +\n",
    "            np.random.normal(0, .02, len(sub_df['Lat'])),\n",
    "            customdata=sub_df[group],\n",
    "            textposition='top right',\n",
    "            text=sub_df['Text_Cases'],\n",
    "            hoverinfo='text',\n",
    "            mode='markers',\n",
    "            marker=dict(\n",
    "                sizeref=sizeref,\n",
    "                sizemin=3,\n",
    "                size=sub_df['Cases'],\n",
    "                color='yellow')))\n",
    "    \n",
    "    if 'deaths' in metrics:\n",
    "        fig.add_trace(go.Scattermapbox(\n",
    "            lon=sub_df['Long'] +\n",
    "            np.random.normal(0, .02, len(sub_df['Long'])),\n",
    "            lat=sub_df['Lat'] +\n",
    "            np.random.normal(0, .02, len(sub_df['Lat'])),\n",
    "            customdata=sub_df[group],\n",
    "            textposition='top right',\n",
    "            text=sub_df['Text_Death'],\n",
    "            hoverinfo='text',\n",
    "            mode='markers',\n",
    "            marker=dict(\n",
    "                sizeref=sizeref,\n",
    "                sizemin=3,\n",
    "                size=sub_df['Deaths'],\n",
    "                color='red')))\n",
    "    \n",
    "    if 'recovery' in metrics: \n",
    "        fig.add_trace(go.Scattermapbox(\n",
    "            lon=sub_df['Long'] +\n",
    "            np.random.normal(0, .02, len(sub_df['Long'])),\n",
    "            lat=sub_df['Lat'] +\n",
    "            np.random.normal(0, .02, len(sub_df['Lat'])),\n",
    "            customdata=sub_df[group],\n",
    "            textposition='top right',\n",
    "            text=sub_df['Text_Recover'],\n",
    "            hoverinfo='text',\n",
    "            mode='markers',\n",
    "            marker=dict(\n",
    "                sizeref=sizeref,\n",
    "                sizemin=3,\n",
    "                size=sub_df['Recovery'],\n",
    "                color='green')))\n",
    "    if 'active' in metrics:\n",
    "            fig.add_trace(go.Scattermapbox(\n",
    "            lon=sub_df['Long'] +\n",
    "            np.random.normal(0, .02, len(sub_df['Long'])),\n",
    "            lat=sub_df['Lat'] +\n",
    "            np.random.normal(0, .02, len(sub_df['Lat'])),\n",
    "            customdata=sub_df[group],\n",
    "            textposition='top right',\n",
    "            text=sub_df['Text_Active'],\n",
    "            hoverinfo='text',\n",
    "            mode='markers',\n",
    "            marker=dict(\n",
    "                sizeref=sizeref,\n",
    "                sizemin=3,\n",
    "                size=sub_df['Active'],\n",
    "                color='orange')))\n",
    "\n",
    "    layout = dict(\n",
    "        title_text='The Corona is Coming',\n",
    "        autosize=True,\n",
    "        showlegend=False,\n",
    "        mapbox=dict(\n",
    "            accesstoken=mapbox_access_token,\n",
    "            style=mapbox_style,\n",
    "            zoom=zoom,\n",
    "            center=dict(lat=lat, lon=lon)\n",
    "        ),\n",
    "        hovermode=\"closest\",\n",
    "        margin=dict(r=0, l=0, t=0, b=0),\n",
    "        dragmode=\"pan\",\n",
    "    )\n",
    "\n",
    "    fig.update_layout(layout)\n",
    "    return fig\n",
    "\n",
    "fig = get_graph_state(max_date,'Province/State',['active'],None)\n",
    "fig"
   ]
  },
  {
   "cell_type": "code",
   "execution_count": 72,
   "metadata": {},
   "outputs": [],
   "source": [
    "sub = state_df.merge(county_df,on=['Province/State'],suffixes=('','_county')) \n",
    "sub['Cases'] = sub['Cases'] + sub['Cases_county']\n",
    "sub['Deaths'] = sub['Deaths'] + sub['Deaths_county']\n",
    "sub['Recovery'] = sub['Deaths'] + sub['Recovery_county']"
   ]
  },
  {
   "cell_type": "code",
   "execution_count": 71,
   "metadata": {},
   "outputs": [
    {
     "data": {
      "text/html": [
       "<div>\n",
       "<style scoped>\n",
       "    .dataframe tbody tr th:only-of-type {\n",
       "        vertical-align: middle;\n",
       "    }\n",
       "\n",
       "    .dataframe tbody tr th {\n",
       "        vertical-align: top;\n",
       "    }\n",
       "\n",
       "    .dataframe thead th {\n",
       "        text-align: right;\n",
       "    }\n",
       "</style>\n",
       "<table border=\"1\" class=\"dataframe\">\n",
       "  <thead>\n",
       "    <tr style=\"text-align: right;\">\n",
       "      <th></th>\n",
       "      <th>Province/State</th>\n",
       "      <th>Lat</th>\n",
       "      <th>Long</th>\n",
       "      <th>Cases</th>\n",
       "      <th>Deaths</th>\n",
       "      <th>Recovery</th>\n",
       "      <th>Lat_county</th>\n",
       "      <th>Long_county</th>\n",
       "      <th>Cases_county</th>\n",
       "      <th>Deaths_county</th>\n",
       "      <th>Recovery_county</th>\n",
       "    </tr>\n",
       "  </thead>\n",
       "  <tbody>\n",
       "    <tr>\n",
       "      <th>0</th>\n",
       "      <td>Arizona</td>\n",
       "      <td>33.7298</td>\n",
       "      <td>-111.4312</td>\n",
       "      <td>152</td>\n",
       "      <td>2</td>\n",
       "      <td>0</td>\n",
       "      <td>98.1655</td>\n",
       "      <td>-335.3797</td>\n",
       "      <td>0</td>\n",
       "      <td>0</td>\n",
       "      <td>0</td>\n",
       "    </tr>\n",
       "    <tr>\n",
       "      <th>1</th>\n",
       "      <td>California</td>\n",
       "      <td>36.1162</td>\n",
       "      <td>-119.6816</td>\n",
       "      <td>1642</td>\n",
       "      <td>30</td>\n",
       "      <td>0</td>\n",
       "      <td>968.5389</td>\n",
       "      <td>-3143.5417</td>\n",
       "      <td>0</td>\n",
       "      <td>0</td>\n",
       "      <td>0</td>\n",
       "    </tr>\n",
       "    <tr>\n",
       "      <th>2</th>\n",
       "      <td>Colorado</td>\n",
       "      <td>39.0598</td>\n",
       "      <td>-105.3111</td>\n",
       "      <td>476</td>\n",
       "      <td>6</td>\n",
       "      <td>0</td>\n",
       "      <td>355.5969</td>\n",
       "      <td>-949.4127</td>\n",
       "      <td>0</td>\n",
       "      <td>0</td>\n",
       "      <td>0</td>\n",
       "    </tr>\n",
       "    <tr>\n",
       "      <th>3</th>\n",
       "      <td>Connecticut</td>\n",
       "      <td>41.5978</td>\n",
       "      <td>-72.7554</td>\n",
       "      <td>223</td>\n",
       "      <td>5</td>\n",
       "      <td>0</td>\n",
       "      <td>83.0426</td>\n",
       "      <td>-146.6474</td>\n",
       "      <td>0</td>\n",
       "      <td>0</td>\n",
       "      <td>0</td>\n",
       "    </tr>\n",
       "    <tr>\n",
       "      <th>4</th>\n",
       "      <td>Delaware</td>\n",
       "      <td>39.3185</td>\n",
       "      <td>-75.5071</td>\n",
       "      <td>47</td>\n",
       "      <td>0</td>\n",
       "      <td>0</td>\n",
       "      <td>39.5393</td>\n",
       "      <td>-75.6674</td>\n",
       "      <td>0</td>\n",
       "      <td>0</td>\n",
       "      <td>0</td>\n",
       "    </tr>\n",
       "    <tr>\n",
       "      <th>5</th>\n",
       "      <td>District of Columbia</td>\n",
       "      <td>38.8974</td>\n",
       "      <td>-77.0268</td>\n",
       "      <td>102</td>\n",
       "      <td>2</td>\n",
       "      <td>0</td>\n",
       "      <td>38.9072</td>\n",
       "      <td>-77.0369</td>\n",
       "      <td>0</td>\n",
       "      <td>0</td>\n",
       "      <td>0</td>\n",
       "    </tr>\n",
       "    <tr>\n",
       "      <th>6</th>\n",
       "      <td>Florida</td>\n",
       "      <td>27.7663</td>\n",
       "      <td>-81.6868</td>\n",
       "      <td>830</td>\n",
       "      <td>13</td>\n",
       "      <td>0</td>\n",
       "      <td>368.2484</td>\n",
       "      <td>-1074.5497</td>\n",
       "      <td>0</td>\n",
       "      <td>0</td>\n",
       "      <td>0</td>\n",
       "    </tr>\n",
       "    <tr>\n",
       "      <th>7</th>\n",
       "      <td>Georgia</td>\n",
       "      <td>33.0406</td>\n",
       "      <td>-83.6431</td>\n",
       "      <td>600</td>\n",
       "      <td>23</td>\n",
       "      <td>0</td>\n",
       "      <td>305.4701</td>\n",
       "      <td>-756.1757</td>\n",
       "      <td>0</td>\n",
       "      <td>0</td>\n",
       "      <td>0</td>\n",
       "    </tr>\n",
       "    <tr>\n",
       "      <th>8</th>\n",
       "      <td>Hawaii</td>\n",
       "      <td>21.0943</td>\n",
       "      <td>-157.4983</td>\n",
       "      <td>48</td>\n",
       "      <td>0</td>\n",
       "      <td>0</td>\n",
       "      <td>21.3070</td>\n",
       "      <td>-157.8584</td>\n",
       "      <td>0</td>\n",
       "      <td>0</td>\n",
       "      <td>0</td>\n",
       "    </tr>\n",
       "    <tr>\n",
       "      <th>9</th>\n",
       "      <td>Illinois</td>\n",
       "      <td>40.3495</td>\n",
       "      <td>-88.9861</td>\n",
       "      <td>1049</td>\n",
       "      <td>9</td>\n",
       "      <td>0</td>\n",
       "      <td>168.4279</td>\n",
       "      <td>-352.1932</td>\n",
       "      <td>0</td>\n",
       "      <td>0</td>\n",
       "      <td>0</td>\n",
       "    </tr>\n",
       "    <tr>\n",
       "      <th>10</th>\n",
       "      <td>Indiana</td>\n",
       "      <td>39.8494</td>\n",
       "      <td>-86.2583</td>\n",
       "      <td>201</td>\n",
       "      <td>6</td>\n",
       "      <td>0</td>\n",
       "      <td>322.4681</td>\n",
       "      <td>-680.4632</td>\n",
       "      <td>0</td>\n",
       "      <td>0</td>\n",
       "      <td>0</td>\n",
       "    </tr>\n",
       "    <tr>\n",
       "      <th>11</th>\n",
       "      <td>Iowa</td>\n",
       "      <td>42.0115</td>\n",
       "      <td>-93.2105</td>\n",
       "      <td>90</td>\n",
       "      <td>0</td>\n",
       "      <td>0</td>\n",
       "      <td>83.0611</td>\n",
       "      <td>-187.0762</td>\n",
       "      <td>0</td>\n",
       "      <td>0</td>\n",
       "      <td>0</td>\n",
       "    </tr>\n",
       "    <tr>\n",
       "      <th>12</th>\n",
       "      <td>Kansas</td>\n",
       "      <td>38.5266</td>\n",
       "      <td>-96.7265</td>\n",
       "      <td>64</td>\n",
       "      <td>2</td>\n",
       "      <td>0</td>\n",
       "      <td>38.8454</td>\n",
       "      <td>-94.8521</td>\n",
       "      <td>0</td>\n",
       "      <td>0</td>\n",
       "      <td>0</td>\n",
       "    </tr>\n",
       "    <tr>\n",
       "      <th>13</th>\n",
       "      <td>Kentucky</td>\n",
       "      <td>37.6681</td>\n",
       "      <td>-84.6701</td>\n",
       "      <td>99</td>\n",
       "      <td>3</td>\n",
       "      <td>0</td>\n",
       "      <td>114.6877</td>\n",
       "      <td>-254.4780</td>\n",
       "      <td>0</td>\n",
       "      <td>0</td>\n",
       "      <td>0</td>\n",
       "    </tr>\n",
       "    <tr>\n",
       "      <th>14</th>\n",
       "      <td>Louisiana</td>\n",
       "      <td>31.1695</td>\n",
       "      <td>-91.8678</td>\n",
       "      <td>837</td>\n",
       "      <td>20</td>\n",
       "      <td>0</td>\n",
       "      <td>59.6010</td>\n",
       "      <td>-180.1836</td>\n",
       "      <td>0</td>\n",
       "      <td>0</td>\n",
       "      <td>0</td>\n",
       "    </tr>\n",
       "    <tr>\n",
       "      <th>15</th>\n",
       "      <td>Maryland</td>\n",
       "      <td>39.0639</td>\n",
       "      <td>-76.8021</td>\n",
       "      <td>244</td>\n",
       "      <td>3</td>\n",
       "      <td>0</td>\n",
       "      <td>117.5235</td>\n",
       "      <td>-230.4763</td>\n",
       "      <td>0</td>\n",
       "      <td>0</td>\n",
       "      <td>0</td>\n",
       "    </tr>\n",
       "    <tr>\n",
       "      <th>16</th>\n",
       "      <td>Massachusetts</td>\n",
       "      <td>42.2302</td>\n",
       "      <td>-71.5301</td>\n",
       "      <td>646</td>\n",
       "      <td>5</td>\n",
       "      <td>0</td>\n",
       "      <td>254.3575</td>\n",
       "      <td>-429.3134</td>\n",
       "      <td>0</td>\n",
       "      <td>0</td>\n",
       "      <td>0</td>\n",
       "    </tr>\n",
       "    <tr>\n",
       "      <th>17</th>\n",
       "      <td>Michigan</td>\n",
       "      <td>43.3266</td>\n",
       "      <td>-84.5361</td>\n",
       "      <td>1037</td>\n",
       "      <td>9</td>\n",
       "      <td>0</td>\n",
       "      <td>84.8713</td>\n",
       "      <td>-166.6724</td>\n",
       "      <td>0</td>\n",
       "      <td>0</td>\n",
       "      <td>0</td>\n",
       "    </tr>\n",
       "    <tr>\n",
       "      <th>18</th>\n",
       "      <td>Minnesota</td>\n",
       "      <td>45.6945</td>\n",
       "      <td>-93.9002</td>\n",
       "      <td>169</td>\n",
       "      <td>1</td>\n",
       "      <td>0</td>\n",
       "      <td>179.1463</td>\n",
       "      <td>-372.4469</td>\n",
       "      <td>0</td>\n",
       "      <td>0</td>\n",
       "      <td>0</td>\n",
       "    </tr>\n",
       "    <tr>\n",
       "      <th>19</th>\n",
       "      <td>Missouri</td>\n",
       "      <td>38.4561</td>\n",
       "      <td>-92.2884</td>\n",
       "      <td>100</td>\n",
       "      <td>3</td>\n",
       "      <td>0</td>\n",
       "      <td>38.6103</td>\n",
       "      <td>-90.4125</td>\n",
       "      <td>0</td>\n",
       "      <td>0</td>\n",
       "      <td>0</td>\n",
       "    </tr>\n",
       "    <tr>\n",
       "      <th>20</th>\n",
       "      <td>Nebraska</td>\n",
       "      <td>41.1254</td>\n",
       "      <td>-98.2681</td>\n",
       "      <td>51</td>\n",
       "      <td>0</td>\n",
       "      <td>0</td>\n",
       "      <td>83.9860</td>\n",
       "      <td>-194.0673</td>\n",
       "      <td>0</td>\n",
       "      <td>0</td>\n",
       "      <td>0</td>\n",
       "    </tr>\n",
       "    <tr>\n",
       "      <th>21</th>\n",
       "      <td>Nevada</td>\n",
       "      <td>38.3135</td>\n",
       "      <td>-117.0554</td>\n",
       "      <td>190</td>\n",
       "      <td>2</td>\n",
       "      <td>0</td>\n",
       "      <td>76.6404</td>\n",
       "      <td>-234.6975</td>\n",
       "      <td>0</td>\n",
       "      <td>0</td>\n",
       "      <td>0</td>\n",
       "    </tr>\n",
       "    <tr>\n",
       "      <th>22</th>\n",
       "      <td>New Hampshire</td>\n",
       "      <td>43.4525</td>\n",
       "      <td>-71.5639</td>\n",
       "      <td>65</td>\n",
       "      <td>0</td>\n",
       "      <td>0</td>\n",
       "      <td>86.9019</td>\n",
       "      <td>-142.8758</td>\n",
       "      <td>0</td>\n",
       "      <td>0</td>\n",
       "      <td>0</td>\n",
       "    </tr>\n",
       "    <tr>\n",
       "      <th>23</th>\n",
       "      <td>New Jersey</td>\n",
       "      <td>40.2989</td>\n",
       "      <td>-74.5210</td>\n",
       "      <td>1914</td>\n",
       "      <td>20</td>\n",
       "      <td>0</td>\n",
       "      <td>324.0546</td>\n",
       "      <td>-595.1234</td>\n",
       "      <td>0</td>\n",
       "      <td>0</td>\n",
       "      <td>0</td>\n",
       "    </tr>\n",
       "    <tr>\n",
       "      <th>24</th>\n",
       "      <td>New Mexico</td>\n",
       "      <td>34.8405</td>\n",
       "      <td>-106.2485</td>\n",
       "      <td>57</td>\n",
       "      <td>0</td>\n",
       "      <td>0</td>\n",
       "      <td>68.9015</td>\n",
       "      <td>-213.3526</td>\n",
       "      <td>0</td>\n",
       "      <td>0</td>\n",
       "      <td>0</td>\n",
       "    </tr>\n",
       "    <tr>\n",
       "      <th>25</th>\n",
       "      <td>New York</td>\n",
       "      <td>42.1657</td>\n",
       "      <td>-74.9481</td>\n",
       "      <td>15793</td>\n",
       "      <td>117</td>\n",
       "      <td>0</td>\n",
       "      <td>289.5142</td>\n",
       "      <td>-516.2062</td>\n",
       "      <td>0</td>\n",
       "      <td>0</td>\n",
       "      <td>0</td>\n",
       "    </tr>\n",
       "    <tr>\n",
       "      <th>26</th>\n",
       "      <td>North Carolina</td>\n",
       "      <td>35.6301</td>\n",
       "      <td>-79.8064</td>\n",
       "      <td>302</td>\n",
       "      <td>0</td>\n",
       "      <td>0</td>\n",
       "      <td>105.7708</td>\n",
       "      <td>-238.3512</td>\n",
       "      <td>0</td>\n",
       "      <td>0</td>\n",
       "      <td>0</td>\n",
       "    </tr>\n",
       "    <tr>\n",
       "      <th>27</th>\n",
       "      <td>Ohio</td>\n",
       "      <td>40.3888</td>\n",
       "      <td>-82.7649</td>\n",
       "      <td>355</td>\n",
       "      <td>3</td>\n",
       "      <td>0</td>\n",
       "      <td>82.3024</td>\n",
       "      <td>-162.9277</td>\n",
       "      <td>0</td>\n",
       "      <td>0</td>\n",
       "      <td>0</td>\n",
       "    </tr>\n",
       "    <tr>\n",
       "      <th>28</th>\n",
       "      <td>Oklahoma</td>\n",
       "      <td>35.5653</td>\n",
       "      <td>-96.9289</td>\n",
       "      <td>67</td>\n",
       "      <td>2</td>\n",
       "      <td>0</td>\n",
       "      <td>36.1593</td>\n",
       "      <td>-95.9410</td>\n",
       "      <td>0</td>\n",
       "      <td>0</td>\n",
       "      <td>0</td>\n",
       "    </tr>\n",
       "    <tr>\n",
       "      <th>29</th>\n",
       "      <td>Oregon</td>\n",
       "      <td>44.5720</td>\n",
       "      <td>-122.0709</td>\n",
       "      <td>161</td>\n",
       "      <td>4</td>\n",
       "      <td>0</td>\n",
       "      <td>398.5963</td>\n",
       "      <td>-1099.4599</td>\n",
       "      <td>0</td>\n",
       "      <td>0</td>\n",
       "      <td>0</td>\n",
       "    </tr>\n",
       "    <tr>\n",
       "      <th>30</th>\n",
       "      <td>Pennsylvania</td>\n",
       "      <td>40.5908</td>\n",
       "      <td>-77.2098</td>\n",
       "      <td>509</td>\n",
       "      <td>3</td>\n",
       "      <td>0</td>\n",
       "      <td>243.2199</td>\n",
       "      <td>-451.6847</td>\n",
       "      <td>0</td>\n",
       "      <td>0</td>\n",
       "      <td>0</td>\n",
       "    </tr>\n",
       "    <tr>\n",
       "      <th>31</th>\n",
       "      <td>Rhode Island</td>\n",
       "      <td>41.6809</td>\n",
       "      <td>-71.5118</td>\n",
       "      <td>83</td>\n",
       "      <td>0</td>\n",
       "      <td>0</td>\n",
       "      <td>41.8882</td>\n",
       "      <td>-71.4774</td>\n",
       "      <td>0</td>\n",
       "      <td>0</td>\n",
       "      <td>0</td>\n",
       "    </tr>\n",
       "    <tr>\n",
       "      <th>32</th>\n",
       "      <td>South Carolina</td>\n",
       "      <td>33.8569</td>\n",
       "      <td>-80.9450</td>\n",
       "      <td>196</td>\n",
       "      <td>3</td>\n",
       "      <td>0</td>\n",
       "      <td>136.7488</td>\n",
       "      <td>-323.0037</td>\n",
       "      <td>0</td>\n",
       "      <td>0</td>\n",
       "      <td>0</td>\n",
       "    </tr>\n",
       "    <tr>\n",
       "      <th>33</th>\n",
       "      <td>South Dakota</td>\n",
       "      <td>44.2998</td>\n",
       "      <td>-99.4388</td>\n",
       "      <td>21</td>\n",
       "      <td>1</td>\n",
       "      <td>0</td>\n",
       "      <td>261.8372</td>\n",
       "      <td>-591.8012</td>\n",
       "      <td>0</td>\n",
       "      <td>0</td>\n",
       "      <td>0</td>\n",
       "    </tr>\n",
       "    <tr>\n",
       "      <th>34</th>\n",
       "      <td>Tennessee</td>\n",
       "      <td>35.7478</td>\n",
       "      <td>-86.6923</td>\n",
       "      <td>505</td>\n",
       "      <td>2</td>\n",
       "      <td>0</td>\n",
       "      <td>143.6724</td>\n",
       "      <td>-345.9547</td>\n",
       "      <td>0</td>\n",
       "      <td>0</td>\n",
       "      <td>0</td>\n",
       "    </tr>\n",
       "    <tr>\n",
       "      <th>35</th>\n",
       "      <td>Texas</td>\n",
       "      <td>31.0545</td>\n",
       "      <td>-97.5635</td>\n",
       "      <td>627</td>\n",
       "      <td>6</td>\n",
       "      <td>0</td>\n",
       "      <td>220.9515</td>\n",
       "      <td>-672.3147</td>\n",
       "      <td>0</td>\n",
       "      <td>0</td>\n",
       "      <td>0</td>\n",
       "    </tr>\n",
       "    <tr>\n",
       "      <th>36</th>\n",
       "      <td>Utah</td>\n",
       "      <td>40.1500</td>\n",
       "      <td>-111.8624</td>\n",
       "      <td>181</td>\n",
       "      <td>1</td>\n",
       "      <td>0</td>\n",
       "      <td>123.0530</td>\n",
       "      <td>-335.0459</td>\n",
       "      <td>0</td>\n",
       "      <td>0</td>\n",
       "      <td>0</td>\n",
       "    </tr>\n",
       "    <tr>\n",
       "      <th>37</th>\n",
       "      <td>Vermont</td>\n",
       "      <td>44.0459</td>\n",
       "      <td>-72.7107</td>\n",
       "      <td>52</td>\n",
       "      <td>2</td>\n",
       "      <td>0</td>\n",
       "      <td>43.0279</td>\n",
       "      <td>-73.1350</td>\n",
       "      <td>0</td>\n",
       "      <td>0</td>\n",
       "      <td>0</td>\n",
       "    </tr>\n",
       "    <tr>\n",
       "      <th>38</th>\n",
       "      <td>Virginia</td>\n",
       "      <td>37.7693</td>\n",
       "      <td>-78.1700</td>\n",
       "      <td>221</td>\n",
       "      <td>6</td>\n",
       "      <td>0</td>\n",
       "      <td>229.6991</td>\n",
       "      <td>-463.3949</td>\n",
       "      <td>0</td>\n",
       "      <td>0</td>\n",
       "      <td>0</td>\n",
       "    </tr>\n",
       "    <tr>\n",
       "      <th>39</th>\n",
       "      <td>Washington</td>\n",
       "      <td>47.4009</td>\n",
       "      <td>-121.4905</td>\n",
       "      <td>1996</td>\n",
       "      <td>95</td>\n",
       "      <td>0</td>\n",
       "      <td>570.5818</td>\n",
       "      <td>-1464.0977</td>\n",
       "      <td>0</td>\n",
       "      <td>0</td>\n",
       "      <td>0</td>\n",
       "    </tr>\n",
       "    <tr>\n",
       "      <th>40</th>\n",
       "      <td>Wisconsin</td>\n",
       "      <td>44.2685</td>\n",
       "      <td>-89.6165</td>\n",
       "      <td>381</td>\n",
       "      <td>4</td>\n",
       "      <td>0</td>\n",
       "      <td>87.7695</td>\n",
       "      <td>-181.9312</td>\n",
       "      <td>0</td>\n",
       "      <td>0</td>\n",
       "      <td>0</td>\n",
       "    </tr>\n",
       "  </tbody>\n",
       "</table>\n",
       "</div>"
      ],
      "text/plain": [
       "          Province/State      Lat      Long  Cases  Deaths  Recovery  \\\n",
       "0                Arizona  33.7298 -111.4312    152       2         0   \n",
       "1             California  36.1162 -119.6816   1642      30         0   \n",
       "2               Colorado  39.0598 -105.3111    476       6         0   \n",
       "3            Connecticut  41.5978  -72.7554    223       5         0   \n",
       "4               Delaware  39.3185  -75.5071     47       0         0   \n",
       "5   District of Columbia  38.8974  -77.0268    102       2         0   \n",
       "6                Florida  27.7663  -81.6868    830      13         0   \n",
       "7                Georgia  33.0406  -83.6431    600      23         0   \n",
       "8                 Hawaii  21.0943 -157.4983     48       0         0   \n",
       "9               Illinois  40.3495  -88.9861   1049       9         0   \n",
       "10               Indiana  39.8494  -86.2583    201       6         0   \n",
       "11                  Iowa  42.0115  -93.2105     90       0         0   \n",
       "12                Kansas  38.5266  -96.7265     64       2         0   \n",
       "13              Kentucky  37.6681  -84.6701     99       3         0   \n",
       "14             Louisiana  31.1695  -91.8678    837      20         0   \n",
       "15              Maryland  39.0639  -76.8021    244       3         0   \n",
       "16         Massachusetts  42.2302  -71.5301    646       5         0   \n",
       "17              Michigan  43.3266  -84.5361   1037       9         0   \n",
       "18             Minnesota  45.6945  -93.9002    169       1         0   \n",
       "19              Missouri  38.4561  -92.2884    100       3         0   \n",
       "20              Nebraska  41.1254  -98.2681     51       0         0   \n",
       "21                Nevada  38.3135 -117.0554    190       2         0   \n",
       "22         New Hampshire  43.4525  -71.5639     65       0         0   \n",
       "23            New Jersey  40.2989  -74.5210   1914      20         0   \n",
       "24            New Mexico  34.8405 -106.2485     57       0         0   \n",
       "25              New York  42.1657  -74.9481  15793     117         0   \n",
       "26        North Carolina  35.6301  -79.8064    302       0         0   \n",
       "27                  Ohio  40.3888  -82.7649    355       3         0   \n",
       "28              Oklahoma  35.5653  -96.9289     67       2         0   \n",
       "29                Oregon  44.5720 -122.0709    161       4         0   \n",
       "30          Pennsylvania  40.5908  -77.2098    509       3         0   \n",
       "31          Rhode Island  41.6809  -71.5118     83       0         0   \n",
       "32        South Carolina  33.8569  -80.9450    196       3         0   \n",
       "33          South Dakota  44.2998  -99.4388     21       1         0   \n",
       "34             Tennessee  35.7478  -86.6923    505       2         0   \n",
       "35                 Texas  31.0545  -97.5635    627       6         0   \n",
       "36                  Utah  40.1500 -111.8624    181       1         0   \n",
       "37               Vermont  44.0459  -72.7107     52       2         0   \n",
       "38              Virginia  37.7693  -78.1700    221       6         0   \n",
       "39            Washington  47.4009 -121.4905   1996      95         0   \n",
       "40             Wisconsin  44.2685  -89.6165    381       4         0   \n",
       "\n",
       "    Lat_county  Long_county  Cases_county  Deaths_county  Recovery_county  \n",
       "0      98.1655    -335.3797             0              0                0  \n",
       "1     968.5389   -3143.5417             0              0                0  \n",
       "2     355.5969    -949.4127             0              0                0  \n",
       "3      83.0426    -146.6474             0              0                0  \n",
       "4      39.5393     -75.6674             0              0                0  \n",
       "5      38.9072     -77.0369             0              0                0  \n",
       "6     368.2484   -1074.5497             0              0                0  \n",
       "7     305.4701    -756.1757             0              0                0  \n",
       "8      21.3070    -157.8584             0              0                0  \n",
       "9     168.4279    -352.1932             0              0                0  \n",
       "10    322.4681    -680.4632             0              0                0  \n",
       "11     83.0611    -187.0762             0              0                0  \n",
       "12     38.8454     -94.8521             0              0                0  \n",
       "13    114.6877    -254.4780             0              0                0  \n",
       "14     59.6010    -180.1836             0              0                0  \n",
       "15    117.5235    -230.4763             0              0                0  \n",
       "16    254.3575    -429.3134             0              0                0  \n",
       "17     84.8713    -166.6724             0              0                0  \n",
       "18    179.1463    -372.4469             0              0                0  \n",
       "19     38.6103     -90.4125             0              0                0  \n",
       "20     83.9860    -194.0673             0              0                0  \n",
       "21     76.6404    -234.6975             0              0                0  \n",
       "22     86.9019    -142.8758             0              0                0  \n",
       "23    324.0546    -595.1234             0              0                0  \n",
       "24     68.9015    -213.3526             0              0                0  \n",
       "25    289.5142    -516.2062             0              0                0  \n",
       "26    105.7708    -238.3512             0              0                0  \n",
       "27     82.3024    -162.9277             0              0                0  \n",
       "28     36.1593     -95.9410             0              0                0  \n",
       "29    398.5963   -1099.4599             0              0                0  \n",
       "30    243.2199    -451.6847             0              0                0  \n",
       "31     41.8882     -71.4774             0              0                0  \n",
       "32    136.7488    -323.0037             0              0                0  \n",
       "33    261.8372    -591.8012             0              0                0  \n",
       "34    143.6724    -345.9547             0              0                0  \n",
       "35    220.9515    -672.3147             0              0                0  \n",
       "36    123.0530    -335.0459             0              0                0  \n",
       "37     43.0279     -73.1350             0              0                0  \n",
       "38    229.6991    -463.3949             0              0                0  \n",
       "39    570.5818   -1464.0977             0              0                0  \n",
       "40     87.7695    -181.9312             0              0                0  "
      ]
     },
     "execution_count": 71,
     "metadata": {},
     "output_type": "execute_result"
    }
   ],
   "source": [
    "sub"
   ]
  },
  {
   "cell_type": "code",
   "execution_count": 63,
   "metadata": {},
   "outputs": [
    {
     "data": {
      "application/vnd.plotly.v1+json": {
       "config": {
        "plotlyServerURL": "https://plot.ly"
       },
       "data": [
        {
         "customdata": [
          "Alabama",
          "Alaska",
          "Alberta",
          "Anhui",
          "Arizona",
          "Arkansas",
          "Aruba",
          "Australian Capital Territory",
          "Beijing",
          "Bermuda",
          "British Columbia",
          "California",
          "Cayman Islands",
          "Channel Islands",
          "Chongqing",
          "Colorado",
          "Connecticut",
          "Curacao",
          "Delaware",
          "Denmark",
          "Diamond Princess",
          "District of Columbia",
          "Faroe Islands",
          "Florida",
          "France",
          "French Guiana",
          "French Polynesia",
          "From Diamond Princess",
          "Fujian",
          "Gansu",
          "Georgia",
          "Gibraltar",
          "Grand Princess",
          "Greenland",
          "Guadeloupe",
          "Guam",
          "Guangdong",
          "Guangxi",
          "Guizhou",
          "Hainan",
          "Hawaii",
          "Hebei",
          "Heilongjiang",
          "Henan",
          "Hong Kong",
          "Hubei",
          "Hunan",
          "Idaho",
          "Illinois",
          "Indiana",
          "Inner Mongolia",
          "Iowa",
          "Isle of Man",
          "Jiangsu",
          "Jiangxi",
          "Jilin",
          "Kansas",
          "Kentucky",
          "Liaoning",
          "Louisiana",
          "Macau",
          "Maine",
          "Manitoba",
          "Maryland",
          "Massachusetts",
          "Mayotte",
          "Michigan",
          "Minnesota",
          "Mississippi",
          "Missouri",
          "Montana",
          "Montserrat",
          "Nebraska",
          "Netherlands",
          "Nevada",
          "New Brunswick",
          "New Caledonia",
          "New Hampshire",
          "New Jersey",
          "New Mexico",
          "New South Wales",
          "New York",
          "Newfoundland and Labrador",
          "Ningxia",
          "North Carolina",
          "North Dakota",
          "Northern Territory",
          "Northwest Territories",
          "Nova Scotia",
          "Ohio",
          "Oklahoma",
          "Ontario",
          "Oregon",
          "Pennsylvania",
          "Prince Edward Island",
          "Puerto Rico",
          "Qinghai",
          "Quebec",
          "Queensland",
          "Reunion",
          "Rhode Island",
          "Saint Barthelemy",
          "Saskatchewan",
          "Shaanxi",
          "Shandong",
          "Shanghai",
          "Shanxi",
          "Sichuan",
          "Sint Maarten",
          "South Australia",
          "South Carolina",
          "South Dakota",
          "St Martin",
          "Tasmania",
          "Tennessee",
          "Texas",
          "Tianjin",
          "Tibet",
          "United Kingdom",
          "Utah",
          "Vermont",
          "Victoria",
          "Virgin Islands",
          "Virginia",
          "Washington",
          "West Virginia",
          "Western Australia",
          "Wisconsin",
          "Wyoming",
          "Xinjiang",
          "Yunnan",
          "Zhejiang"
         ],
         "hoverinfo": "text",
         "lat": [
          32.29729880641683,
          61.36863284660443,
          53.93216983572374,
          31.851751647049543,
          33.73102418712204,
          34.987852023440084,
          12.487756829000283,
          -35.46805566184077,
          40.177997811582024,
          32.29788223769458,
          49.317263549971386,
          36.118154134712654,
          19.341586327142025,
          49.36470568445707,
          30.059861773733978,
          39.05366778015106,
          41.59490421090389,
          12.162599342424626,
          39.31991538025276,
          56.2795317762557,
          70.8878666566508,
          38.86899477270296,
          61.904522680156425,
          27.77787925751493,
          46.26778523297111,
          3.964023733911669,
          -17.68815381981604,
          35.4336687640324,
          26.074232972170453,
          37.81858983984632,
          33.04088802822669,
          36.120741692446494,
          75.27799224094454,
          71.68862440492113,
          16.249371263619224,
          13.404801084008168,
          23.329526830490455,
          23.80218317961922,
          26.85415790901535,
          19.144857919151395,
          21.08700946741132,
          39.55433438583925,
          47.826869947056274,
          33.88650338252264,
          22.273886181386214,
          30.94529966287639,
          27.60056459727151,
          44.211457607316326,
          40.36174682687997,
          39.847151258057,
          44.09542398539556,
          41.99520086254956,
          54.2280528525472,
          32.99905452845058,
          27.594375129479,
          43.63929903078992,
          38.550100697559074,
          37.67542463094656,
          41.3063769351336,
          31.16429177015009,
          22.136696751869117,
          44.66000595288983,
          53.75572323601641,
          39.088364922266656,
          42.21375703506126,
          -12.872844009580474,
          43.346394424913264,
          45.69811844272067,
          32.72841877246463,
          38.44468457115841,
          46.92265379697141,
          16.75403209302016,
          41.093215888407975,
          52.133619246465614,
          38.30956583829915,
          46.565946877761874,
          -20.91549381065836,
          43.47312470973284,
          40.28964093574317,
          34.84826169569741,
          -33.89189228803962,
          42.160517427493325,
          53.13482710902726,
          37.227003483043816,
          35.61922148598768,
          47.53896062977771,
          -12.467364251047695,
          64.83314588701619,
          44.67162590470088,
          40.37387417713031,
          35.55401533268151,
          51.22034162537849,
          44.57253377219426,
          40.52850971090766,
          46.53445028123565,
          18.22369554041763,
          35.73182062368747,
          52.93634643085653,
          -28.02451050115652,
          -21.117962487531905,
          41.668553185126896,
          17.90982002841147,
          52.95463105199691,
          35.20956174344357,
          36.33570197384603,
          31.202952174277335,
          37.60147058864563,
          30.595202700379364,
          18.034327488613602,
          -34.90195777118443,
          33.85813905286486,
          44.304743081068686,
          18.09500416704721,
          -41.443451282484034,
          35.74872573698568,
          31.07299892231444,
          39.32430955160999,
          31.67651110576076,
          55.385860803575504,
          40.185976014462504,
          44.06210962642933,
          -37.804146604847766,
          18.3421677027643,
          37.73512820317589,
          47.38568279011773,
          38.48548172936231,
          -31.92435262174031,
          44.268689945237654,
          42.77414496221554,
          41.078638112735646,
          24.97030118546214,
          29.17429136742868
         ],
         "lon": [
          -86.89678161444039,
          -152.39568402839623,
          -116.5666460098284,
          117.20658893612676,
          -111.44228150323134,
          -92.37604395183966,
          -70.04590334402918,
          149.04785361512276,
          116.41825291617893,
          -64.73826741812634,
          -123.13075687694041,
          -119.7046498593066,
          -81.26653051866109,
          -2.3629375570833218,
          107.87930220849627,
          -105.31757908438762,
          -72.74023331867949,
          -69.00177162327512,
          -75.50978196167522,
          9.489343546289083,
          279.2853057156778,
          -77.03460633847315,
          -6.925518231386545,
          -81.63221294648031,
          2.2117540621851544,
          -53.11468229343947,
          149.40664020374004,
          139.64260475261887,
          118.0165126881494,
          101.05339388075829,
          -83.64461378869373,
          -5.342317574030613,
          -245.33777392902306,
          -42.60708196811434,
          -61.542313242301134,
          144.8232799346872,
          113.44668401274187,
          108.80789125762684,
          106.87462464293326,
          109.73787773751697,
          -157.46996361792822,
          116.14684194057354,
          127.77957653896212,
          113.6591074882768,
          114.17866707517766,
          112.25542141992675,
          111.72748777103841,
          -114.48518838680586,
          -88.94423703940227,
          -86.28784309581614,
          113.88815336843818,
          -93.21703977851074,
          -4.537177498061983,
          119.47910049828552,
          115.72599136152816,
          126.18680110457854,
          -96.77371400270344,
          -84.68005534256974,
          122.59922802164266,
          -91.86873584464075,
          113.5774025469109,
          -69.37678046260847,
          -98.81647888531792,
          -76.79537316286678,
          -71.53084656274316,
          45.15899547216256,
          -84.5473722561459,
          -93.89966867572058,
          -89.663770081195,
          -92.28367307070572,
          -110.42017679479898,
          -62.203617325739245,
          -98.30880319244403,
          5.292219407780339,
          -117.07398951035839,
          -66.44215298433124,
          165.60785286522122,
          -71.58397807447255,
          -74.51744511427623,
          -106.27232443917808,
          151.21913688283686,
          -74.95188660412332,
          -57.6696890780817,
          106.16054362266031,
          -79.82525223303325,
          -99.80248407170932,
          130.8085685898865,
          -124.83857599401942,
          -63.761810335942236,
          -82.75798971911233,
          -96.91388975541247,
          -85.3308278853915,
          -122.05497846893694,
          -77.25390545077835,
          -63.423134114378875,
          -66.57903593573889,
          95.99846094494386,
          -73.47757464635174,
          153.3985846055352,
          55.23181824346001,
          -71.4906875827888,
          -62.837573731886614,
          -106.46868168770321,
          108.88020251239237,
          118.15418466997431,
          121.46495356145122,
          112.281145605794,
          102.72578843519932,
          -63.061865890321364,
          138.6004295216251,
          -80.96050306986179,
          -99.4429267676806,
          -63.03169408965013,
          145.9892807591835,
          -86.7047106467821,
          -97.59655949252306,
          117.36718705049522,
          88.07950580538468,
          -3.451919980606918,
          -111.86183564979405,
          -72.74015021634747,
          144.95939027933522,
          -64.88257683773799,
          -78.15871799841358,
          -121.50803658043144,
          -81.04205733410322,
          115.86188550941522,
          -89.60313699644001,
          -107.29413733572004,
          85.23922921508799,
          101.44806950228896,
          120.08003272863796
         ],
         "marker": {
          "color": "yellow",
          "size": [
           138,
           21,
           259,
           990,
           152,
           165,
           8,
           19,
           514,
           2,
           424,
           1642,
           3,
           32,
           577,
           476,
           223,
           3,
           47,
           1395,
           761,
           102,
           115,
           830,
           16018,
           18,
           15,
           0,
           307,
           136,
           600,
           15,
           43,
           4,
           56,
           27,
           1407,
           254,
           146,
           168,
           48,
           319,
           484,
           1273,
           317,
           67800,
           1018,
           42,
           1049,
           201,
           75,
           90,
           5,
           633,
           936,
           93,
           64,
           99,
           126,
           837,
           20,
           89,
           19,
           244,
           646,
           11,
           1037,
           169,
           207,
           100,
           31,
           1,
           51,
           4204,
           190,
           17,
           4,
           65,
           1914,
           57,
           533,
           15793,
           6,
           75,
           302,
           28,
           3,
           1,
           28,
           355,
           67,
           425,
           161,
           509,
           2,
           23,
           18,
           219,
           221,
           47,
           83,
           3,
           52,
           248,
           766,
           394,
           133,
           543,
           1,
           100,
           196,
           21,
           4,
           22,
           505,
           627,
           137,
           1,
           5683,
           181,
           52,
           296,
           3,
           221,
           1996,
           12,
           120,
           381,
           24,
           76,
           176,
           1237
          ],
          "sizemin": 3,
          "sizeref": 950.74
         },
         "mode": "markers",
         "text": [
          "Alabama<br>Total Cases at 03/22/20 : 138",
          "Alaska<br>Total Cases at 03/22/20 : 21",
          "Alberta<br>Total Cases at 03/22/20 : 259",
          "Anhui<br>Total Cases at 03/22/20 : 990",
          "Arizona<br>Total Cases at 03/22/20 : 152",
          "Arkansas<br>Total Cases at 03/22/20 : 165",
          "Aruba<br>Total Cases at 03/22/20 : 8",
          "Australian Capital Territory<br>Total Cases at 03/22/20 : 19",
          "Beijing<br>Total Cases at 03/22/20 : 514",
          "Bermuda<br>Total Cases at 03/22/20 : 2",
          "British Columbia<br>Total Cases at 03/22/20 : 424",
          "California<br>Total Cases at 03/22/20 : 1642",
          "Cayman Islands<br>Total Cases at 03/22/20 : 3",
          "Channel Islands<br>Total Cases at 03/22/20 : 32",
          "Chongqing<br>Total Cases at 03/22/20 : 577",
          "Colorado<br>Total Cases at 03/22/20 : 476",
          "Connecticut<br>Total Cases at 03/22/20 : 223",
          "Curacao<br>Total Cases at 03/22/20 : 3",
          "Delaware<br>Total Cases at 03/22/20 : 47",
          "Denmark<br>Total Cases at 03/22/20 : 1395",
          "Diamond Princess<br>Total Cases at 03/22/20 : 761",
          "District of Columbia<br>Total Cases at 03/22/20 : 102",
          "Faroe Islands<br>Total Cases at 03/22/20 : 115",
          "Florida<br>Total Cases at 03/22/20 : 830",
          "France<br>Total Cases at 03/22/20 : 16018",
          "French Guiana<br>Total Cases at 03/22/20 : 18",
          "French Polynesia<br>Total Cases at 03/22/20 : 15",
          "From Diamond Princess<br>Total Cases at 03/22/20 : 0",
          "Fujian<br>Total Cases at 03/22/20 : 307",
          "Gansu<br>Total Cases at 03/22/20 : 136",
          "Georgia<br>Total Cases at 03/22/20 : 600",
          "Gibraltar<br>Total Cases at 03/22/20 : 15",
          "Grand Princess<br>Total Cases at 03/22/20 : 43",
          "Greenland<br>Total Cases at 03/22/20 : 4",
          "Guadeloupe<br>Total Cases at 03/22/20 : 56",
          "Guam<br>Total Cases at 03/22/20 : 27",
          "Guangdong<br>Total Cases at 03/22/20 : 1407",
          "Guangxi<br>Total Cases at 03/22/20 : 254",
          "Guizhou<br>Total Cases at 03/22/20 : 146",
          "Hainan<br>Total Cases at 03/22/20 : 168",
          "Hawaii<br>Total Cases at 03/22/20 : 48",
          "Hebei<br>Total Cases at 03/22/20 : 319",
          "Heilongjiang<br>Total Cases at 03/22/20 : 484",
          "Henan<br>Total Cases at 03/22/20 : 1273",
          "Hong Kong<br>Total Cases at 03/22/20 : 317",
          "Hubei<br>Total Cases at 03/22/20 : 67800",
          "Hunan<br>Total Cases at 03/22/20 : 1018",
          "Idaho<br>Total Cases at 03/22/20 : 42",
          "Illinois<br>Total Cases at 03/22/20 : 1049",
          "Indiana<br>Total Cases at 03/22/20 : 201",
          "Inner Mongolia<br>Total Cases at 03/22/20 : 75",
          "Iowa<br>Total Cases at 03/22/20 : 90",
          "Isle of Man<br>Total Cases at 03/22/20 : 5",
          "Jiangsu<br>Total Cases at 03/22/20 : 633",
          "Jiangxi<br>Total Cases at 03/22/20 : 936",
          "Jilin<br>Total Cases at 03/22/20 : 93",
          "Kansas<br>Total Cases at 03/22/20 : 64",
          "Kentucky<br>Total Cases at 03/22/20 : 99",
          "Liaoning<br>Total Cases at 03/22/20 : 126",
          "Louisiana<br>Total Cases at 03/22/20 : 837",
          "Macau<br>Total Cases at 03/22/20 : 20",
          "Maine<br>Total Cases at 03/22/20 : 89",
          "Manitoba<br>Total Cases at 03/22/20 : 19",
          "Maryland<br>Total Cases at 03/22/20 : 244",
          "Massachusetts<br>Total Cases at 03/22/20 : 646",
          "Mayotte<br>Total Cases at 03/22/20 : 11",
          "Michigan<br>Total Cases at 03/22/20 : 1037",
          "Minnesota<br>Total Cases at 03/22/20 : 169",
          "Mississippi<br>Total Cases at 03/22/20 : 207",
          "Missouri<br>Total Cases at 03/22/20 : 100",
          "Montana<br>Total Cases at 03/22/20 : 31",
          "Montserrat<br>Total Cases at 03/22/20 : 1",
          "Nebraska<br>Total Cases at 03/22/20 : 51",
          "Netherlands<br>Total Cases at 03/22/20 : 4204",
          "Nevada<br>Total Cases at 03/22/20 : 190",
          "New Brunswick<br>Total Cases at 03/22/20 : 17",
          "New Caledonia<br>Total Cases at 03/22/20 : 4",
          "New Hampshire<br>Total Cases at 03/22/20 : 65",
          "New Jersey<br>Total Cases at 03/22/20 : 1914",
          "New Mexico<br>Total Cases at 03/22/20 : 57",
          "New South Wales<br>Total Cases at 03/22/20 : 533",
          "New York<br>Total Cases at 03/22/20 : 15793",
          "Newfoundland and Labrador<br>Total Cases at 03/22/20 : 6",
          "Ningxia<br>Total Cases at 03/22/20 : 75",
          "North Carolina<br>Total Cases at 03/22/20 : 302",
          "North Dakota<br>Total Cases at 03/22/20 : 28",
          "Northern Territory<br>Total Cases at 03/22/20 : 3",
          "Northwest Territories<br>Total Cases at 03/22/20 : 1",
          "Nova Scotia<br>Total Cases at 03/22/20 : 28",
          "Ohio<br>Total Cases at 03/22/20 : 355",
          "Oklahoma<br>Total Cases at 03/22/20 : 67",
          "Ontario<br>Total Cases at 03/22/20 : 425",
          "Oregon<br>Total Cases at 03/22/20 : 161",
          "Pennsylvania<br>Total Cases at 03/22/20 : 509",
          "Prince Edward Island<br>Total Cases at 03/22/20 : 2",
          "Puerto Rico<br>Total Cases at 03/22/20 : 23",
          "Qinghai<br>Total Cases at 03/22/20 : 18",
          "Quebec<br>Total Cases at 03/22/20 : 219",
          "Queensland<br>Total Cases at 03/22/20 : 221",
          "Reunion<br>Total Cases at 03/22/20 : 47",
          "Rhode Island<br>Total Cases at 03/22/20 : 83",
          "Saint Barthelemy<br>Total Cases at 03/22/20 : 3",
          "Saskatchewan<br>Total Cases at 03/22/20 : 52",
          "Shaanxi<br>Total Cases at 03/22/20 : 248",
          "Shandong<br>Total Cases at 03/22/20 : 766",
          "Shanghai<br>Total Cases at 03/22/20 : 394",
          "Shanxi<br>Total Cases at 03/22/20 : 133",
          "Sichuan<br>Total Cases at 03/22/20 : 543",
          "Sint Maarten<br>Total Cases at 03/22/20 : 1",
          "South Australia<br>Total Cases at 03/22/20 : 100",
          "South Carolina<br>Total Cases at 03/22/20 : 196",
          "South Dakota<br>Total Cases at 03/22/20 : 21",
          "St Martin<br>Total Cases at 03/22/20 : 4",
          "Tasmania<br>Total Cases at 03/22/20 : 22",
          "Tennessee<br>Total Cases at 03/22/20 : 505",
          "Texas<br>Total Cases at 03/22/20 : 627",
          "Tianjin<br>Total Cases at 03/22/20 : 137",
          "Tibet<br>Total Cases at 03/22/20 : 1",
          "United Kingdom<br>Total Cases at 03/22/20 : 5683",
          "Utah<br>Total Cases at 03/22/20 : 181",
          "Vermont<br>Total Cases at 03/22/20 : 52",
          "Victoria<br>Total Cases at 03/22/20 : 296",
          "Virgin Islands<br>Total Cases at 03/22/20 : 3",
          "Virginia<br>Total Cases at 03/22/20 : 221",
          "Washington<br>Total Cases at 03/22/20 : 1996",
          "West Virginia<br>Total Cases at 03/22/20 : 12",
          "Western Australia<br>Total Cases at 03/22/20 : 120",
          "Wisconsin<br>Total Cases at 03/22/20 : 381",
          "Wyoming<br>Total Cases at 03/22/20 : 24",
          "Xinjiang<br>Total Cases at 03/22/20 : 76",
          "Yunnan<br>Total Cases at 03/22/20 : 176",
          "Zhejiang<br>Total Cases at 03/22/20 : 1237"
         ],
         "textposition": "top right",
         "type": "scattermapbox"
        }
       ],
       "layout": {
        "autosize": true,
        "dragmode": "pan",
        "mapbox": {
         "accesstoken": "pk.eyJ1IjoiandpbGxpczA3MjAiLCJhIjoiY2s4MHhoYmF6MDFoODNpcnVyNGR2bWk1bSJ9.YNwklD1Aa6DihVblHr3GVg\n",
         "center": {
          "lat": 15.74,
          "lon": -1.4
         },
         "style": "dark",
         "zoom": 1.6
        },
        "margin": {
         "b": 0,
         "l": 0,
         "r": 0,
         "t": 0
        },
        "showlegend": false,
        "template": {
         "data": {
          "bar": [
           {
            "error_x": {
             "color": "#2a3f5f"
            },
            "error_y": {
             "color": "#2a3f5f"
            },
            "marker": {
             "line": {
              "color": "#E5ECF6",
              "width": 0.5
             }
            },
            "type": "bar"
           }
          ],
          "barpolar": [
           {
            "marker": {
             "line": {
              "color": "#E5ECF6",
              "width": 0.5
             }
            },
            "type": "barpolar"
           }
          ],
          "carpet": [
           {
            "aaxis": {
             "endlinecolor": "#2a3f5f",
             "gridcolor": "white",
             "linecolor": "white",
             "minorgridcolor": "white",
             "startlinecolor": "#2a3f5f"
            },
            "baxis": {
             "endlinecolor": "#2a3f5f",
             "gridcolor": "white",
             "linecolor": "white",
             "minorgridcolor": "white",
             "startlinecolor": "#2a3f5f"
            },
            "type": "carpet"
           }
          ],
          "choropleth": [
           {
            "colorbar": {
             "outlinewidth": 0,
             "ticks": ""
            },
            "type": "choropleth"
           }
          ],
          "contour": [
           {
            "colorbar": {
             "outlinewidth": 0,
             "ticks": ""
            },
            "colorscale": [
             [
              0,
              "#0d0887"
             ],
             [
              0.1111111111111111,
              "#46039f"
             ],
             [
              0.2222222222222222,
              "#7201a8"
             ],
             [
              0.3333333333333333,
              "#9c179e"
             ],
             [
              0.4444444444444444,
              "#bd3786"
             ],
             [
              0.5555555555555556,
              "#d8576b"
             ],
             [
              0.6666666666666666,
              "#ed7953"
             ],
             [
              0.7777777777777778,
              "#fb9f3a"
             ],
             [
              0.8888888888888888,
              "#fdca26"
             ],
             [
              1,
              "#f0f921"
             ]
            ],
            "type": "contour"
           }
          ],
          "contourcarpet": [
           {
            "colorbar": {
             "outlinewidth": 0,
             "ticks": ""
            },
            "type": "contourcarpet"
           }
          ],
          "heatmap": [
           {
            "colorbar": {
             "outlinewidth": 0,
             "ticks": ""
            },
            "colorscale": [
             [
              0,
              "#0d0887"
             ],
             [
              0.1111111111111111,
              "#46039f"
             ],
             [
              0.2222222222222222,
              "#7201a8"
             ],
             [
              0.3333333333333333,
              "#9c179e"
             ],
             [
              0.4444444444444444,
              "#bd3786"
             ],
             [
              0.5555555555555556,
              "#d8576b"
             ],
             [
              0.6666666666666666,
              "#ed7953"
             ],
             [
              0.7777777777777778,
              "#fb9f3a"
             ],
             [
              0.8888888888888888,
              "#fdca26"
             ],
             [
              1,
              "#f0f921"
             ]
            ],
            "type": "heatmap"
           }
          ],
          "heatmapgl": [
           {
            "colorbar": {
             "outlinewidth": 0,
             "ticks": ""
            },
            "colorscale": [
             [
              0,
              "#0d0887"
             ],
             [
              0.1111111111111111,
              "#46039f"
             ],
             [
              0.2222222222222222,
              "#7201a8"
             ],
             [
              0.3333333333333333,
              "#9c179e"
             ],
             [
              0.4444444444444444,
              "#bd3786"
             ],
             [
              0.5555555555555556,
              "#d8576b"
             ],
             [
              0.6666666666666666,
              "#ed7953"
             ],
             [
              0.7777777777777778,
              "#fb9f3a"
             ],
             [
              0.8888888888888888,
              "#fdca26"
             ],
             [
              1,
              "#f0f921"
             ]
            ],
            "type": "heatmapgl"
           }
          ],
          "histogram": [
           {
            "marker": {
             "colorbar": {
              "outlinewidth": 0,
              "ticks": ""
             }
            },
            "type": "histogram"
           }
          ],
          "histogram2d": [
           {
            "colorbar": {
             "outlinewidth": 0,
             "ticks": ""
            },
            "colorscale": [
             [
              0,
              "#0d0887"
             ],
             [
              0.1111111111111111,
              "#46039f"
             ],
             [
              0.2222222222222222,
              "#7201a8"
             ],
             [
              0.3333333333333333,
              "#9c179e"
             ],
             [
              0.4444444444444444,
              "#bd3786"
             ],
             [
              0.5555555555555556,
              "#d8576b"
             ],
             [
              0.6666666666666666,
              "#ed7953"
             ],
             [
              0.7777777777777778,
              "#fb9f3a"
             ],
             [
              0.8888888888888888,
              "#fdca26"
             ],
             [
              1,
              "#f0f921"
             ]
            ],
            "type": "histogram2d"
           }
          ],
          "histogram2dcontour": [
           {
            "colorbar": {
             "outlinewidth": 0,
             "ticks": ""
            },
            "colorscale": [
             [
              0,
              "#0d0887"
             ],
             [
              0.1111111111111111,
              "#46039f"
             ],
             [
              0.2222222222222222,
              "#7201a8"
             ],
             [
              0.3333333333333333,
              "#9c179e"
             ],
             [
              0.4444444444444444,
              "#bd3786"
             ],
             [
              0.5555555555555556,
              "#d8576b"
             ],
             [
              0.6666666666666666,
              "#ed7953"
             ],
             [
              0.7777777777777778,
              "#fb9f3a"
             ],
             [
              0.8888888888888888,
              "#fdca26"
             ],
             [
              1,
              "#f0f921"
             ]
            ],
            "type": "histogram2dcontour"
           }
          ],
          "mesh3d": [
           {
            "colorbar": {
             "outlinewidth": 0,
             "ticks": ""
            },
            "type": "mesh3d"
           }
          ],
          "parcoords": [
           {
            "line": {
             "colorbar": {
              "outlinewidth": 0,
              "ticks": ""
             }
            },
            "type": "parcoords"
           }
          ],
          "pie": [
           {
            "automargin": true,
            "type": "pie"
           }
          ],
          "scatter": [
           {
            "marker": {
             "colorbar": {
              "outlinewidth": 0,
              "ticks": ""
             }
            },
            "type": "scatter"
           }
          ],
          "scatter3d": [
           {
            "line": {
             "colorbar": {
              "outlinewidth": 0,
              "ticks": ""
             }
            },
            "marker": {
             "colorbar": {
              "outlinewidth": 0,
              "ticks": ""
             }
            },
            "type": "scatter3d"
           }
          ],
          "scattercarpet": [
           {
            "marker": {
             "colorbar": {
              "outlinewidth": 0,
              "ticks": ""
             }
            },
            "type": "scattercarpet"
           }
          ],
          "scattergeo": [
           {
            "marker": {
             "colorbar": {
              "outlinewidth": 0,
              "ticks": ""
             }
            },
            "type": "scattergeo"
           }
          ],
          "scattergl": [
           {
            "marker": {
             "colorbar": {
              "outlinewidth": 0,
              "ticks": ""
             }
            },
            "type": "scattergl"
           }
          ],
          "scattermapbox": [
           {
            "marker": {
             "colorbar": {
              "outlinewidth": 0,
              "ticks": ""
             }
            },
            "type": "scattermapbox"
           }
          ],
          "scatterpolar": [
           {
            "marker": {
             "colorbar": {
              "outlinewidth": 0,
              "ticks": ""
             }
            },
            "type": "scatterpolar"
           }
          ],
          "scatterpolargl": [
           {
            "marker": {
             "colorbar": {
              "outlinewidth": 0,
              "ticks": ""
             }
            },
            "type": "scatterpolargl"
           }
          ],
          "scatterternary": [
           {
            "marker": {
             "colorbar": {
              "outlinewidth": 0,
              "ticks": ""
             }
            },
            "type": "scatterternary"
           }
          ],
          "surface": [
           {
            "colorbar": {
             "outlinewidth": 0,
             "ticks": ""
            },
            "colorscale": [
             [
              0,
              "#0d0887"
             ],
             [
              0.1111111111111111,
              "#46039f"
             ],
             [
              0.2222222222222222,
              "#7201a8"
             ],
             [
              0.3333333333333333,
              "#9c179e"
             ],
             [
              0.4444444444444444,
              "#bd3786"
             ],
             [
              0.5555555555555556,
              "#d8576b"
             ],
             [
              0.6666666666666666,
              "#ed7953"
             ],
             [
              0.7777777777777778,
              "#fb9f3a"
             ],
             [
              0.8888888888888888,
              "#fdca26"
             ],
             [
              1,
              "#f0f921"
             ]
            ],
            "type": "surface"
           }
          ],
          "table": [
           {
            "cells": {
             "fill": {
              "color": "#EBF0F8"
             },
             "line": {
              "color": "white"
             }
            },
            "header": {
             "fill": {
              "color": "#C8D4E3"
             },
             "line": {
              "color": "white"
             }
            },
            "type": "table"
           }
          ]
         },
         "layout": {
          "annotationdefaults": {
           "arrowcolor": "#2a3f5f",
           "arrowhead": 0,
           "arrowwidth": 1
          },
          "coloraxis": {
           "colorbar": {
            "outlinewidth": 0,
            "ticks": ""
           }
          },
          "colorscale": {
           "diverging": [
            [
             0,
             "#8e0152"
            ],
            [
             0.1,
             "#c51b7d"
            ],
            [
             0.2,
             "#de77ae"
            ],
            [
             0.3,
             "#f1b6da"
            ],
            [
             0.4,
             "#fde0ef"
            ],
            [
             0.5,
             "#f7f7f7"
            ],
            [
             0.6,
             "#e6f5d0"
            ],
            [
             0.7,
             "#b8e186"
            ],
            [
             0.8,
             "#7fbc41"
            ],
            [
             0.9,
             "#4d9221"
            ],
            [
             1,
             "#276419"
            ]
           ],
           "sequential": [
            [
             0,
             "#0d0887"
            ],
            [
             0.1111111111111111,
             "#46039f"
            ],
            [
             0.2222222222222222,
             "#7201a8"
            ],
            [
             0.3333333333333333,
             "#9c179e"
            ],
            [
             0.4444444444444444,
             "#bd3786"
            ],
            [
             0.5555555555555556,
             "#d8576b"
            ],
            [
             0.6666666666666666,
             "#ed7953"
            ],
            [
             0.7777777777777778,
             "#fb9f3a"
            ],
            [
             0.8888888888888888,
             "#fdca26"
            ],
            [
             1,
             "#f0f921"
            ]
           ],
           "sequentialminus": [
            [
             0,
             "#0d0887"
            ],
            [
             0.1111111111111111,
             "#46039f"
            ],
            [
             0.2222222222222222,
             "#7201a8"
            ],
            [
             0.3333333333333333,
             "#9c179e"
            ],
            [
             0.4444444444444444,
             "#bd3786"
            ],
            [
             0.5555555555555556,
             "#d8576b"
            ],
            [
             0.6666666666666666,
             "#ed7953"
            ],
            [
             0.7777777777777778,
             "#fb9f3a"
            ],
            [
             0.8888888888888888,
             "#fdca26"
            ],
            [
             1,
             "#f0f921"
            ]
           ]
          },
          "colorway": [
           "#636efa",
           "#EF553B",
           "#00cc96",
           "#ab63fa",
           "#FFA15A",
           "#19d3f3",
           "#FF6692",
           "#B6E880",
           "#FF97FF",
           "#FECB52"
          ],
          "font": {
           "color": "#2a3f5f"
          },
          "geo": {
           "bgcolor": "white",
           "lakecolor": "white",
           "landcolor": "#E5ECF6",
           "showlakes": true,
           "showland": true,
           "subunitcolor": "white"
          },
          "hoverlabel": {
           "align": "left"
          },
          "hovermode": "closest",
          "mapbox": {
           "style": "light"
          },
          "paper_bgcolor": "white",
          "plot_bgcolor": "#E5ECF6",
          "polar": {
           "angularaxis": {
            "gridcolor": "white",
            "linecolor": "white",
            "ticks": ""
           },
           "bgcolor": "#E5ECF6",
           "radialaxis": {
            "gridcolor": "white",
            "linecolor": "white",
            "ticks": ""
           }
          },
          "scene": {
           "xaxis": {
            "backgroundcolor": "#E5ECF6",
            "gridcolor": "white",
            "gridwidth": 2,
            "linecolor": "white",
            "showbackground": true,
            "ticks": "",
            "zerolinecolor": "white"
           },
           "yaxis": {
            "backgroundcolor": "#E5ECF6",
            "gridcolor": "white",
            "gridwidth": 2,
            "linecolor": "white",
            "showbackground": true,
            "ticks": "",
            "zerolinecolor": "white"
           },
           "zaxis": {
            "backgroundcolor": "#E5ECF6",
            "gridcolor": "white",
            "gridwidth": 2,
            "linecolor": "white",
            "showbackground": true,
            "ticks": "",
            "zerolinecolor": "white"
           }
          },
          "shapedefaults": {
           "line": {
            "color": "#2a3f5f"
           }
          },
          "ternary": {
           "aaxis": {
            "gridcolor": "white",
            "linecolor": "white",
            "ticks": ""
           },
           "baxis": {
            "gridcolor": "white",
            "linecolor": "white",
            "ticks": ""
           },
           "bgcolor": "#E5ECF6",
           "caxis": {
            "gridcolor": "white",
            "linecolor": "white",
            "ticks": ""
           }
          },
          "title": {
           "x": 0.05
          },
          "xaxis": {
           "automargin": true,
           "gridcolor": "white",
           "linecolor": "white",
           "ticks": "",
           "title": {
            "standoff": 15
           },
           "zerolinecolor": "white",
           "zerolinewidth": 2
          },
          "yaxis": {
           "automargin": true,
           "gridcolor": "white",
           "linecolor": "white",
           "ticks": "",
           "title": {
            "standoff": 15
           },
           "zerolinecolor": "white",
           "zerolinewidth": 2
          }
         }
        },
        "title": {
         "text": "The Corona is Coming"
        }
       }
      },
      "text/html": [
       "<div>\n",
       "        \n",
       "        \n",
       "            <div id=\"7944305f-4fac-49d0-9d7e-804d3ae8305d\" class=\"plotly-graph-div\" style=\"height:525px; width:100%;\"></div>\n",
       "            <script type=\"text/javascript\">\n",
       "                require([\"plotly\"], function(Plotly) {\n",
       "                    window.PLOTLYENV=window.PLOTLYENV || {};\n",
       "                    \n",
       "                if (document.getElementById(\"7944305f-4fac-49d0-9d7e-804d3ae8305d\")) {\n",
       "                    Plotly.newPlot(\n",
       "                        '7944305f-4fac-49d0-9d7e-804d3ae8305d',\n",
       "                        [{\"customdata\": [\"Alabama\", \"Alaska\", \"Alberta\", \"Anhui\", \"Arizona\", \"Arkansas\", \"Aruba\", \"Australian Capital Territory\", \"Beijing\", \"Bermuda\", \"British Columbia\", \"California\", \"Cayman Islands\", \"Channel Islands\", \"Chongqing\", \"Colorado\", \"Connecticut\", \"Curacao\", \"Delaware\", \"Denmark\", \"Diamond Princess\", \"District of Columbia\", \"Faroe Islands\", \"Florida\", \"France\", \"French Guiana\", \"French Polynesia\", \"From Diamond Princess\", \"Fujian\", \"Gansu\", \"Georgia\", \"Gibraltar\", \"Grand Princess\", \"Greenland\", \"Guadeloupe\", \"Guam\", \"Guangdong\", \"Guangxi\", \"Guizhou\", \"Hainan\", \"Hawaii\", \"Hebei\", \"Heilongjiang\", \"Henan\", \"Hong Kong\", \"Hubei\", \"Hunan\", \"Idaho\", \"Illinois\", \"Indiana\", \"Inner Mongolia\", \"Iowa\", \"Isle of Man\", \"Jiangsu\", \"Jiangxi\", \"Jilin\", \"Kansas\", \"Kentucky\", \"Liaoning\", \"Louisiana\", \"Macau\", \"Maine\", \"Manitoba\", \"Maryland\", \"Massachusetts\", \"Mayotte\", \"Michigan\", \"Minnesota\", \"Mississippi\", \"Missouri\", \"Montana\", \"Montserrat\", \"Nebraska\", \"Netherlands\", \"Nevada\", \"New Brunswick\", \"New Caledonia\", \"New Hampshire\", \"New Jersey\", \"New Mexico\", \"New South Wales\", \"New York\", \"Newfoundland and Labrador\", \"Ningxia\", \"North Carolina\", \"North Dakota\", \"Northern Territory\", \"Northwest Territories\", \"Nova Scotia\", \"Ohio\", \"Oklahoma\", \"Ontario\", \"Oregon\", \"Pennsylvania\", \"Prince Edward Island\", \"Puerto Rico\", \"Qinghai\", \"Quebec\", \"Queensland\", \"Reunion\", \"Rhode Island\", \"Saint Barthelemy\", \"Saskatchewan\", \"Shaanxi\", \"Shandong\", \"Shanghai\", \"Shanxi\", \"Sichuan\", \"Sint Maarten\", \"South Australia\", \"South Carolina\", \"South Dakota\", \"St Martin\", \"Tasmania\", \"Tennessee\", \"Texas\", \"Tianjin\", \"Tibet\", \"United Kingdom\", \"Utah\", \"Vermont\", \"Victoria\", \"Virgin Islands\", \"Virginia\", \"Washington\", \"West Virginia\", \"Western Australia\", \"Wisconsin\", \"Wyoming\", \"Xinjiang\", \"Yunnan\", \"Zhejiang\"], \"hoverinfo\": \"text\", \"lat\": [32.29729880641683, 61.36863284660443, 53.93216983572374, 31.851751647049543, 33.73102418712204, 34.987852023440084, 12.487756829000283, -35.46805566184077, 40.177997811582024, 32.29788223769458, 49.317263549971386, 36.118154134712654, 19.341586327142025, 49.36470568445707, 30.059861773733978, 39.05366778015106, 41.59490421090389, 12.162599342424626, 39.31991538025276, 56.2795317762557, 70.8878666566508, 38.86899477270296, 61.904522680156425, 27.77787925751493, 46.26778523297111, 3.964023733911669, -17.68815381981604, 35.4336687640324, 26.074232972170453, 37.81858983984632, 33.04088802822669, 36.120741692446494, 75.27799224094454, 71.68862440492113, 16.249371263619224, 13.404801084008168, 23.329526830490455, 23.80218317961922, 26.85415790901535, 19.144857919151395, 21.08700946741132, 39.55433438583925, 47.826869947056274, 33.88650338252264, 22.273886181386214, 30.94529966287639, 27.60056459727151, 44.211457607316326, 40.36174682687997, 39.847151258057, 44.09542398539556, 41.99520086254956, 54.2280528525472, 32.99905452845058, 27.594375129479, 43.63929903078992, 38.550100697559074, 37.67542463094656, 41.3063769351336, 31.16429177015009, 22.136696751869117, 44.66000595288983, 53.75572323601641, 39.088364922266656, 42.21375703506126, -12.872844009580474, 43.346394424913264, 45.69811844272067, 32.72841877246463, 38.44468457115841, 46.92265379697141, 16.75403209302016, 41.093215888407975, 52.133619246465614, 38.30956583829915, 46.565946877761874, -20.91549381065836, 43.47312470973284, 40.28964093574317, 34.84826169569741, -33.89189228803962, 42.160517427493325, 53.13482710902726, 37.227003483043816, 35.61922148598768, 47.53896062977771, -12.467364251047695, 64.83314588701619, 44.67162590470088, 40.37387417713031, 35.55401533268151, 51.22034162537849, 44.57253377219426, 40.52850971090766, 46.53445028123565, 18.22369554041763, 35.73182062368747, 52.93634643085653, -28.02451050115652, -21.117962487531905, 41.668553185126896, 17.90982002841147, 52.95463105199691, 35.20956174344357, 36.33570197384603, 31.202952174277335, 37.60147058864563, 30.595202700379364, 18.034327488613602, -34.90195777118443, 33.85813905286486, 44.304743081068686, 18.09500416704721, -41.443451282484034, 35.74872573698568, 31.07299892231444, 39.32430955160999, 31.67651110576076, 55.385860803575504, 40.185976014462504, 44.06210962642933, -37.804146604847766, 18.3421677027643, 37.73512820317589, 47.38568279011773, 38.48548172936231, -31.92435262174031, 44.268689945237654, 42.77414496221554, 41.078638112735646, 24.97030118546214, 29.17429136742868], \"lon\": [-86.89678161444039, -152.39568402839623, -116.5666460098284, 117.20658893612676, -111.44228150323134, -92.37604395183966, -70.04590334402918, 149.04785361512276, 116.41825291617893, -64.73826741812634, -123.13075687694041, -119.7046498593066, -81.26653051866109, -2.3629375570833218, 107.87930220849627, -105.31757908438762, -72.74023331867949, -69.00177162327512, -75.50978196167522, 9.489343546289083, 279.2853057156778, -77.03460633847315, -6.925518231386545, -81.63221294648031, 2.2117540621851544, -53.11468229343947, 149.40664020374004, 139.64260475261887, 118.0165126881494, 101.05339388075829, -83.64461378869373, -5.342317574030613, -245.33777392902306, -42.60708196811434, -61.542313242301134, 144.8232799346872, 113.44668401274187, 108.80789125762684, 106.87462464293326, 109.73787773751697, -157.46996361792822, 116.14684194057354, 127.77957653896212, 113.6591074882768, 114.17866707517766, 112.25542141992675, 111.72748777103841, -114.48518838680586, -88.94423703940227, -86.28784309581614, 113.88815336843818, -93.21703977851074, -4.537177498061983, 119.47910049828552, 115.72599136152816, 126.18680110457854, -96.77371400270344, -84.68005534256974, 122.59922802164266, -91.86873584464075, 113.5774025469109, -69.37678046260847, -98.81647888531792, -76.79537316286678, -71.53084656274316, 45.15899547216256, -84.5473722561459, -93.89966867572058, -89.663770081195, -92.28367307070572, -110.42017679479898, -62.203617325739245, -98.30880319244403, 5.292219407780339, -117.07398951035839, -66.44215298433124, 165.60785286522122, -71.58397807447255, -74.51744511427623, -106.27232443917808, 151.21913688283686, -74.95188660412332, -57.6696890780817, 106.16054362266031, -79.82525223303325, -99.80248407170932, 130.8085685898865, -124.83857599401942, -63.761810335942236, -82.75798971911233, -96.91388975541247, -85.3308278853915, -122.05497846893694, -77.25390545077835, -63.423134114378875, -66.57903593573889, 95.99846094494386, -73.47757464635174, 153.3985846055352, 55.23181824346001, -71.4906875827888, -62.837573731886614, -106.46868168770321, 108.88020251239237, 118.15418466997431, 121.46495356145122, 112.281145605794, 102.72578843519932, -63.061865890321364, 138.6004295216251, -80.96050306986179, -99.4429267676806, -63.03169408965013, 145.9892807591835, -86.7047106467821, -97.59655949252306, 117.36718705049522, 88.07950580538468, -3.451919980606918, -111.86183564979405, -72.74015021634747, 144.95939027933522, -64.88257683773799, -78.15871799841358, -121.50803658043144, -81.04205733410322, 115.86188550941522, -89.60313699644001, -107.29413733572004, 85.23922921508799, 101.44806950228896, 120.08003272863796], \"marker\": {\"color\": \"yellow\", \"size\": [138, 21, 259, 990, 152, 165, 8, 19, 514, 2, 424, 1642, 3, 32, 577, 476, 223, 3, 47, 1395, 761, 102, 115, 830, 16018, 18, 15, 0, 307, 136, 600, 15, 43, 4, 56, 27, 1407, 254, 146, 168, 48, 319, 484, 1273, 317, 67800, 1018, 42, 1049, 201, 75, 90, 5, 633, 936, 93, 64, 99, 126, 837, 20, 89, 19, 244, 646, 11, 1037, 169, 207, 100, 31, 1, 51, 4204, 190, 17, 4, 65, 1914, 57, 533, 15793, 6, 75, 302, 28, 3, 1, 28, 355, 67, 425, 161, 509, 2, 23, 18, 219, 221, 47, 83, 3, 52, 248, 766, 394, 133, 543, 1, 100, 196, 21, 4, 22, 505, 627, 137, 1, 5683, 181, 52, 296, 3, 221, 1996, 12, 120, 381, 24, 76, 176, 1237], \"sizemin\": 3, \"sizeref\": 950.74}, \"mode\": \"markers\", \"text\": [\"Alabama<br>Total Cases at 03/22/20 : 138\", \"Alaska<br>Total Cases at 03/22/20 : 21\", \"Alberta<br>Total Cases at 03/22/20 : 259\", \"Anhui<br>Total Cases at 03/22/20 : 990\", \"Arizona<br>Total Cases at 03/22/20 : 152\", \"Arkansas<br>Total Cases at 03/22/20 : 165\", \"Aruba<br>Total Cases at 03/22/20 : 8\", \"Australian Capital Territory<br>Total Cases at 03/22/20 : 19\", \"Beijing<br>Total Cases at 03/22/20 : 514\", \"Bermuda<br>Total Cases at 03/22/20 : 2\", \"British Columbia<br>Total Cases at 03/22/20 : 424\", \"California<br>Total Cases at 03/22/20 : 1642\", \"Cayman Islands<br>Total Cases at 03/22/20 : 3\", \"Channel Islands<br>Total Cases at 03/22/20 : 32\", \"Chongqing<br>Total Cases at 03/22/20 : 577\", \"Colorado<br>Total Cases at 03/22/20 : 476\", \"Connecticut<br>Total Cases at 03/22/20 : 223\", \"Curacao<br>Total Cases at 03/22/20 : 3\", \"Delaware<br>Total Cases at 03/22/20 : 47\", \"Denmark<br>Total Cases at 03/22/20 : 1395\", \"Diamond Princess<br>Total Cases at 03/22/20 : 761\", \"District of Columbia<br>Total Cases at 03/22/20 : 102\", \"Faroe Islands<br>Total Cases at 03/22/20 : 115\", \"Florida<br>Total Cases at 03/22/20 : 830\", \"France<br>Total Cases at 03/22/20 : 16018\", \"French Guiana<br>Total Cases at 03/22/20 : 18\", \"French Polynesia<br>Total Cases at 03/22/20 : 15\", \"From Diamond Princess<br>Total Cases at 03/22/20 : 0\", \"Fujian<br>Total Cases at 03/22/20 : 307\", \"Gansu<br>Total Cases at 03/22/20 : 136\", \"Georgia<br>Total Cases at 03/22/20 : 600\", \"Gibraltar<br>Total Cases at 03/22/20 : 15\", \"Grand Princess<br>Total Cases at 03/22/20 : 43\", \"Greenland<br>Total Cases at 03/22/20 : 4\", \"Guadeloupe<br>Total Cases at 03/22/20 : 56\", \"Guam<br>Total Cases at 03/22/20 : 27\", \"Guangdong<br>Total Cases at 03/22/20 : 1407\", \"Guangxi<br>Total Cases at 03/22/20 : 254\", \"Guizhou<br>Total Cases at 03/22/20 : 146\", \"Hainan<br>Total Cases at 03/22/20 : 168\", \"Hawaii<br>Total Cases at 03/22/20 : 48\", \"Hebei<br>Total Cases at 03/22/20 : 319\", \"Heilongjiang<br>Total Cases at 03/22/20 : 484\", \"Henan<br>Total Cases at 03/22/20 : 1273\", \"Hong Kong<br>Total Cases at 03/22/20 : 317\", \"Hubei<br>Total Cases at 03/22/20 : 67800\", \"Hunan<br>Total Cases at 03/22/20 : 1018\", \"Idaho<br>Total Cases at 03/22/20 : 42\", \"Illinois<br>Total Cases at 03/22/20 : 1049\", \"Indiana<br>Total Cases at 03/22/20 : 201\", \"Inner Mongolia<br>Total Cases at 03/22/20 : 75\", \"Iowa<br>Total Cases at 03/22/20 : 90\", \"Isle of Man<br>Total Cases at 03/22/20 : 5\", \"Jiangsu<br>Total Cases at 03/22/20 : 633\", \"Jiangxi<br>Total Cases at 03/22/20 : 936\", \"Jilin<br>Total Cases at 03/22/20 : 93\", \"Kansas<br>Total Cases at 03/22/20 : 64\", \"Kentucky<br>Total Cases at 03/22/20 : 99\", \"Liaoning<br>Total Cases at 03/22/20 : 126\", \"Louisiana<br>Total Cases at 03/22/20 : 837\", \"Macau<br>Total Cases at 03/22/20 : 20\", \"Maine<br>Total Cases at 03/22/20 : 89\", \"Manitoba<br>Total Cases at 03/22/20 : 19\", \"Maryland<br>Total Cases at 03/22/20 : 244\", \"Massachusetts<br>Total Cases at 03/22/20 : 646\", \"Mayotte<br>Total Cases at 03/22/20 : 11\", \"Michigan<br>Total Cases at 03/22/20 : 1037\", \"Minnesota<br>Total Cases at 03/22/20 : 169\", \"Mississippi<br>Total Cases at 03/22/20 : 207\", \"Missouri<br>Total Cases at 03/22/20 : 100\", \"Montana<br>Total Cases at 03/22/20 : 31\", \"Montserrat<br>Total Cases at 03/22/20 : 1\", \"Nebraska<br>Total Cases at 03/22/20 : 51\", \"Netherlands<br>Total Cases at 03/22/20 : 4204\", \"Nevada<br>Total Cases at 03/22/20 : 190\", \"New Brunswick<br>Total Cases at 03/22/20 : 17\", \"New Caledonia<br>Total Cases at 03/22/20 : 4\", \"New Hampshire<br>Total Cases at 03/22/20 : 65\", \"New Jersey<br>Total Cases at 03/22/20 : 1914\", \"New Mexico<br>Total Cases at 03/22/20 : 57\", \"New South Wales<br>Total Cases at 03/22/20 : 533\", \"New York<br>Total Cases at 03/22/20 : 15793\", \"Newfoundland and Labrador<br>Total Cases at 03/22/20 : 6\", \"Ningxia<br>Total Cases at 03/22/20 : 75\", \"North Carolina<br>Total Cases at 03/22/20 : 302\", \"North Dakota<br>Total Cases at 03/22/20 : 28\", \"Northern Territory<br>Total Cases at 03/22/20 : 3\", \"Northwest Territories<br>Total Cases at 03/22/20 : 1\", \"Nova Scotia<br>Total Cases at 03/22/20 : 28\", \"Ohio<br>Total Cases at 03/22/20 : 355\", \"Oklahoma<br>Total Cases at 03/22/20 : 67\", \"Ontario<br>Total Cases at 03/22/20 : 425\", \"Oregon<br>Total Cases at 03/22/20 : 161\", \"Pennsylvania<br>Total Cases at 03/22/20 : 509\", \"Prince Edward Island<br>Total Cases at 03/22/20 : 2\", \"Puerto Rico<br>Total Cases at 03/22/20 : 23\", \"Qinghai<br>Total Cases at 03/22/20 : 18\", \"Quebec<br>Total Cases at 03/22/20 : 219\", \"Queensland<br>Total Cases at 03/22/20 : 221\", \"Reunion<br>Total Cases at 03/22/20 : 47\", \"Rhode Island<br>Total Cases at 03/22/20 : 83\", \"Saint Barthelemy<br>Total Cases at 03/22/20 : 3\", \"Saskatchewan<br>Total Cases at 03/22/20 : 52\", \"Shaanxi<br>Total Cases at 03/22/20 : 248\", \"Shandong<br>Total Cases at 03/22/20 : 766\", \"Shanghai<br>Total Cases at 03/22/20 : 394\", \"Shanxi<br>Total Cases at 03/22/20 : 133\", \"Sichuan<br>Total Cases at 03/22/20 : 543\", \"Sint Maarten<br>Total Cases at 03/22/20 : 1\", \"South Australia<br>Total Cases at 03/22/20 : 100\", \"South Carolina<br>Total Cases at 03/22/20 : 196\", \"South Dakota<br>Total Cases at 03/22/20 : 21\", \"St Martin<br>Total Cases at 03/22/20 : 4\", \"Tasmania<br>Total Cases at 03/22/20 : 22\", \"Tennessee<br>Total Cases at 03/22/20 : 505\", \"Texas<br>Total Cases at 03/22/20 : 627\", \"Tianjin<br>Total Cases at 03/22/20 : 137\", \"Tibet<br>Total Cases at 03/22/20 : 1\", \"United Kingdom<br>Total Cases at 03/22/20 : 5683\", \"Utah<br>Total Cases at 03/22/20 : 181\", \"Vermont<br>Total Cases at 03/22/20 : 52\", \"Victoria<br>Total Cases at 03/22/20 : 296\", \"Virgin Islands<br>Total Cases at 03/22/20 : 3\", \"Virginia<br>Total Cases at 03/22/20 : 221\", \"Washington<br>Total Cases at 03/22/20 : 1996\", \"West Virginia<br>Total Cases at 03/22/20 : 12\", \"Western Australia<br>Total Cases at 03/22/20 : 120\", \"Wisconsin<br>Total Cases at 03/22/20 : 381\", \"Wyoming<br>Total Cases at 03/22/20 : 24\", \"Xinjiang<br>Total Cases at 03/22/20 : 76\", \"Yunnan<br>Total Cases at 03/22/20 : 176\", \"Zhejiang<br>Total Cases at 03/22/20 : 1237\"], \"textposition\": \"top right\", \"type\": \"scattermapbox\"}],\n",
       "                        {\"autosize\": true, \"dragmode\": \"pan\", \"mapbox\": {\"accesstoken\": \"pk.eyJ1IjoiandpbGxpczA3MjAiLCJhIjoiY2s4MHhoYmF6MDFoODNpcnVyNGR2bWk1bSJ9.YNwklD1Aa6DihVblHr3GVg\\n\", \"center\": {\"lat\": 15.74, \"lon\": -1.4}, \"style\": \"dark\", \"zoom\": 1.6}, \"margin\": {\"b\": 0, \"l\": 0, \"r\": 0, \"t\": 0}, \"showlegend\": false, \"template\": {\"data\": {\"bar\": [{\"error_x\": {\"color\": \"#2a3f5f\"}, \"error_y\": {\"color\": \"#2a3f5f\"}, \"marker\": {\"line\": {\"color\": \"#E5ECF6\", \"width\": 0.5}}, \"type\": \"bar\"}], \"barpolar\": [{\"marker\": {\"line\": {\"color\": \"#E5ECF6\", \"width\": 0.5}}, \"type\": \"barpolar\"}], \"carpet\": [{\"aaxis\": {\"endlinecolor\": \"#2a3f5f\", \"gridcolor\": \"white\", \"linecolor\": \"white\", \"minorgridcolor\": \"white\", \"startlinecolor\": \"#2a3f5f\"}, \"baxis\": {\"endlinecolor\": \"#2a3f5f\", \"gridcolor\": \"white\", \"linecolor\": \"white\", \"minorgridcolor\": \"white\", \"startlinecolor\": \"#2a3f5f\"}, \"type\": \"carpet\"}], \"choropleth\": [{\"colorbar\": {\"outlinewidth\": 0, \"ticks\": \"\"}, \"type\": \"choropleth\"}], \"contour\": [{\"colorbar\": {\"outlinewidth\": 0, \"ticks\": \"\"}, \"colorscale\": [[0.0, \"#0d0887\"], [0.1111111111111111, \"#46039f\"], [0.2222222222222222, \"#7201a8\"], [0.3333333333333333, \"#9c179e\"], [0.4444444444444444, \"#bd3786\"], [0.5555555555555556, \"#d8576b\"], [0.6666666666666666, \"#ed7953\"], [0.7777777777777778, \"#fb9f3a\"], [0.8888888888888888, \"#fdca26\"], [1.0, \"#f0f921\"]], \"type\": \"contour\"}], \"contourcarpet\": [{\"colorbar\": {\"outlinewidth\": 0, \"ticks\": \"\"}, \"type\": \"contourcarpet\"}], \"heatmap\": [{\"colorbar\": {\"outlinewidth\": 0, \"ticks\": \"\"}, \"colorscale\": [[0.0, \"#0d0887\"], [0.1111111111111111, \"#46039f\"], [0.2222222222222222, \"#7201a8\"], [0.3333333333333333, \"#9c179e\"], [0.4444444444444444, \"#bd3786\"], [0.5555555555555556, \"#d8576b\"], [0.6666666666666666, \"#ed7953\"], [0.7777777777777778, \"#fb9f3a\"], [0.8888888888888888, \"#fdca26\"], [1.0, \"#f0f921\"]], \"type\": \"heatmap\"}], \"heatmapgl\": [{\"colorbar\": {\"outlinewidth\": 0, \"ticks\": \"\"}, \"colorscale\": [[0.0, \"#0d0887\"], [0.1111111111111111, \"#46039f\"], [0.2222222222222222, \"#7201a8\"], [0.3333333333333333, \"#9c179e\"], [0.4444444444444444, \"#bd3786\"], [0.5555555555555556, \"#d8576b\"], [0.6666666666666666, \"#ed7953\"], [0.7777777777777778, \"#fb9f3a\"], [0.8888888888888888, \"#fdca26\"], [1.0, \"#f0f921\"]], \"type\": \"heatmapgl\"}], \"histogram\": [{\"marker\": {\"colorbar\": {\"outlinewidth\": 0, \"ticks\": \"\"}}, \"type\": \"histogram\"}], \"histogram2d\": [{\"colorbar\": {\"outlinewidth\": 0, \"ticks\": \"\"}, \"colorscale\": [[0.0, \"#0d0887\"], [0.1111111111111111, \"#46039f\"], [0.2222222222222222, \"#7201a8\"], [0.3333333333333333, \"#9c179e\"], [0.4444444444444444, \"#bd3786\"], [0.5555555555555556, \"#d8576b\"], [0.6666666666666666, \"#ed7953\"], [0.7777777777777778, \"#fb9f3a\"], [0.8888888888888888, \"#fdca26\"], [1.0, \"#f0f921\"]], \"type\": \"histogram2d\"}], \"histogram2dcontour\": [{\"colorbar\": {\"outlinewidth\": 0, \"ticks\": \"\"}, \"colorscale\": [[0.0, \"#0d0887\"], [0.1111111111111111, \"#46039f\"], [0.2222222222222222, \"#7201a8\"], [0.3333333333333333, \"#9c179e\"], [0.4444444444444444, \"#bd3786\"], [0.5555555555555556, \"#d8576b\"], [0.6666666666666666, \"#ed7953\"], [0.7777777777777778, \"#fb9f3a\"], [0.8888888888888888, \"#fdca26\"], [1.0, \"#f0f921\"]], \"type\": \"histogram2dcontour\"}], \"mesh3d\": [{\"colorbar\": {\"outlinewidth\": 0, \"ticks\": \"\"}, \"type\": \"mesh3d\"}], \"parcoords\": [{\"line\": {\"colorbar\": {\"outlinewidth\": 0, \"ticks\": \"\"}}, \"type\": \"parcoords\"}], \"pie\": [{\"automargin\": true, \"type\": \"pie\"}], \"scatter\": [{\"marker\": {\"colorbar\": {\"outlinewidth\": 0, \"ticks\": \"\"}}, \"type\": \"scatter\"}], \"scatter3d\": [{\"line\": {\"colorbar\": {\"outlinewidth\": 0, \"ticks\": \"\"}}, \"marker\": {\"colorbar\": {\"outlinewidth\": 0, \"ticks\": \"\"}}, \"type\": \"scatter3d\"}], \"scattercarpet\": [{\"marker\": {\"colorbar\": {\"outlinewidth\": 0, \"ticks\": \"\"}}, \"type\": \"scattercarpet\"}], \"scattergeo\": [{\"marker\": {\"colorbar\": {\"outlinewidth\": 0, \"ticks\": \"\"}}, \"type\": \"scattergeo\"}], \"scattergl\": [{\"marker\": {\"colorbar\": {\"outlinewidth\": 0, \"ticks\": \"\"}}, \"type\": \"scattergl\"}], \"scattermapbox\": [{\"marker\": {\"colorbar\": {\"outlinewidth\": 0, \"ticks\": \"\"}}, \"type\": \"scattermapbox\"}], \"scatterpolar\": [{\"marker\": {\"colorbar\": {\"outlinewidth\": 0, \"ticks\": \"\"}}, \"type\": \"scatterpolar\"}], \"scatterpolargl\": [{\"marker\": {\"colorbar\": {\"outlinewidth\": 0, \"ticks\": \"\"}}, \"type\": \"scatterpolargl\"}], \"scatterternary\": [{\"marker\": {\"colorbar\": {\"outlinewidth\": 0, \"ticks\": \"\"}}, \"type\": \"scatterternary\"}], \"surface\": [{\"colorbar\": {\"outlinewidth\": 0, \"ticks\": \"\"}, \"colorscale\": [[0.0, \"#0d0887\"], [0.1111111111111111, \"#46039f\"], [0.2222222222222222, \"#7201a8\"], [0.3333333333333333, \"#9c179e\"], [0.4444444444444444, \"#bd3786\"], [0.5555555555555556, \"#d8576b\"], [0.6666666666666666, \"#ed7953\"], [0.7777777777777778, \"#fb9f3a\"], [0.8888888888888888, \"#fdca26\"], [1.0, \"#f0f921\"]], \"type\": \"surface\"}], \"table\": [{\"cells\": {\"fill\": {\"color\": \"#EBF0F8\"}, \"line\": {\"color\": \"white\"}}, \"header\": {\"fill\": {\"color\": \"#C8D4E3\"}, \"line\": {\"color\": \"white\"}}, \"type\": \"table\"}]}, \"layout\": {\"annotationdefaults\": {\"arrowcolor\": \"#2a3f5f\", \"arrowhead\": 0, \"arrowwidth\": 1}, \"coloraxis\": {\"colorbar\": {\"outlinewidth\": 0, \"ticks\": \"\"}}, \"colorscale\": {\"diverging\": [[0, \"#8e0152\"], [0.1, \"#c51b7d\"], [0.2, \"#de77ae\"], [0.3, \"#f1b6da\"], [0.4, \"#fde0ef\"], [0.5, \"#f7f7f7\"], [0.6, \"#e6f5d0\"], [0.7, \"#b8e186\"], [0.8, \"#7fbc41\"], [0.9, \"#4d9221\"], [1, \"#276419\"]], \"sequential\": [[0.0, \"#0d0887\"], [0.1111111111111111, \"#46039f\"], [0.2222222222222222, \"#7201a8\"], [0.3333333333333333, \"#9c179e\"], [0.4444444444444444, \"#bd3786\"], [0.5555555555555556, \"#d8576b\"], [0.6666666666666666, \"#ed7953\"], [0.7777777777777778, \"#fb9f3a\"], [0.8888888888888888, \"#fdca26\"], [1.0, \"#f0f921\"]], \"sequentialminus\": [[0.0, \"#0d0887\"], [0.1111111111111111, \"#46039f\"], [0.2222222222222222, \"#7201a8\"], [0.3333333333333333, \"#9c179e\"], [0.4444444444444444, \"#bd3786\"], [0.5555555555555556, \"#d8576b\"], [0.6666666666666666, \"#ed7953\"], [0.7777777777777778, \"#fb9f3a\"], [0.8888888888888888, \"#fdca26\"], [1.0, \"#f0f921\"]]}, \"colorway\": [\"#636efa\", \"#EF553B\", \"#00cc96\", \"#ab63fa\", \"#FFA15A\", \"#19d3f3\", \"#FF6692\", \"#B6E880\", \"#FF97FF\", \"#FECB52\"], \"font\": {\"color\": \"#2a3f5f\"}, \"geo\": {\"bgcolor\": \"white\", \"lakecolor\": \"white\", \"landcolor\": \"#E5ECF6\", \"showlakes\": true, \"showland\": true, \"subunitcolor\": \"white\"}, \"hoverlabel\": {\"align\": \"left\"}, \"hovermode\": \"closest\", \"mapbox\": {\"style\": \"light\"}, \"paper_bgcolor\": \"white\", \"plot_bgcolor\": \"#E5ECF6\", \"polar\": {\"angularaxis\": {\"gridcolor\": \"white\", \"linecolor\": \"white\", \"ticks\": \"\"}, \"bgcolor\": \"#E5ECF6\", \"radialaxis\": {\"gridcolor\": \"white\", \"linecolor\": \"white\", \"ticks\": \"\"}}, \"scene\": {\"xaxis\": {\"backgroundcolor\": \"#E5ECF6\", \"gridcolor\": \"white\", \"gridwidth\": 2, \"linecolor\": \"white\", \"showbackground\": true, \"ticks\": \"\", \"zerolinecolor\": \"white\"}, \"yaxis\": {\"backgroundcolor\": \"#E5ECF6\", \"gridcolor\": \"white\", \"gridwidth\": 2, \"linecolor\": \"white\", \"showbackground\": true, \"ticks\": \"\", \"zerolinecolor\": \"white\"}, \"zaxis\": {\"backgroundcolor\": \"#E5ECF6\", \"gridcolor\": \"white\", \"gridwidth\": 2, \"linecolor\": \"white\", \"showbackground\": true, \"ticks\": \"\", \"zerolinecolor\": \"white\"}}, \"shapedefaults\": {\"line\": {\"color\": \"#2a3f5f\"}}, \"ternary\": {\"aaxis\": {\"gridcolor\": \"white\", \"linecolor\": \"white\", \"ticks\": \"\"}, \"baxis\": {\"gridcolor\": \"white\", \"linecolor\": \"white\", \"ticks\": \"\"}, \"bgcolor\": \"#E5ECF6\", \"caxis\": {\"gridcolor\": \"white\", \"linecolor\": \"white\", \"ticks\": \"\"}}, \"title\": {\"x\": 0.05}, \"xaxis\": {\"automargin\": true, \"gridcolor\": \"white\", \"linecolor\": \"white\", \"ticks\": \"\", \"title\": {\"standoff\": 15}, \"zerolinecolor\": \"white\", \"zerolinewidth\": 2}, \"yaxis\": {\"automargin\": true, \"gridcolor\": \"white\", \"linecolor\": \"white\", \"ticks\": \"\", \"title\": {\"standoff\": 15}, \"zerolinecolor\": \"white\", \"zerolinewidth\": 2}}}, \"title\": {\"text\": \"The Corona is Coming\"}},\n",
       "                        {\"responsive\": true}\n",
       "                    ).then(function(){\n",
       "                            \n",
       "var gd = document.getElementById('7944305f-4fac-49d0-9d7e-804d3ae8305d');\n",
       "var x = new MutationObserver(function (mutations, observer) {{\n",
       "        var display = window.getComputedStyle(gd).display;\n",
       "        if (!display || display === 'none') {{\n",
       "            console.log([gd, 'removed!']);\n",
       "            Plotly.purge(gd);\n",
       "            observer.disconnect();\n",
       "        }}\n",
       "}});\n",
       "\n",
       "// Listen for the removal of the full notebook cells\n",
       "var notebookContainer = gd.closest('#notebook-container');\n",
       "if (notebookContainer) {{\n",
       "    x.observe(notebookContainer, {childList: true});\n",
       "}}\n",
       "\n",
       "// Listen for the clearing of the current output cell\n",
       "var outputEl = gd.closest('.output');\n",
       "if (outputEl) {{\n",
       "    x.observe(outputEl, {childList: true});\n",
       "}}\n",
       "\n",
       "                        })\n",
       "                };\n",
       "                });\n",
       "            </script>\n",
       "        </div>"
      ]
     },
     "metadata": {},
     "output_type": "display_data"
    }
   ],
   "source": [
    "lat = 15.74\n",
    "lon = -1.4\n",
    "zoom = 1.6\n",
    "group = 'Province/State'\n",
    "sizeref = 2. * merged_df.groupby(\n",
    "        ['Date', group]).sum().max()['Cases'] / (20 ** 2)\n",
    "fig = go.Figure()\n",
    "fig.add_trace(go.Scattermapbox(\n",
    "    lon=sub_df['Long'] +\n",
    "    np.random.normal(0, .02, len(sub_df['Long'])),\n",
    "    lat=sub_df['Lat'] +\n",
    "    np.random.normal(0, .02, len(sub_df['Lat'])),\n",
    "    customdata=sub_df[group],\n",
    "    textposition='top right',\n",
    "    text=sub_df['Text_Cases'],\n",
    "    hoverinfo='text',\n",
    "    mode='markers',\n",
    "    marker=dict(\n",
    "        sizeref=sizeref,\n",
    "        sizemin=3,\n",
    "        size=sub_df['Cases'],\n",
    "        color='yellow')))\n",
    "    \n",
    "layout = dict(\n",
    "    title_text='The Corona is Coming',\n",
    "    autosize=True,\n",
    "    showlegend=False,\n",
    "    mapbox=dict(\n",
    "        accesstoken=mapbox_access_token,\n",
    "        style=mapbox_style,\n",
    "        zoom=zoom,\n",
    "        center=dict(lat=lat, lon=lon)\n",
    "    ),\n",
    "    #hovermode=\"closest\",\n",
    "    margin=dict(r=0, l=0, t=0, b=0),\n",
    "    dragmode=\"pan\",\n",
    ")\n",
    "\n",
    "fig.update_layout(layout)\n",
    "fig"
   ]
  },
  {
   "cell_type": "code",
   "execution_count": 27,
   "metadata": {},
   "outputs": [
    {
     "data": {
      "text/plain": [
       "[6,\n",
       " 1,\n",
       " 29,\n",
       " 990,\n",
       " 12,\n",
       " 12,\n",
       " 2,\n",
       " 1,\n",
       " 437,\n",
       " 0,\n",
       " 64,\n",
       " 340,\n",
       " 1,\n",
       " 2,\n",
       " 576,\n",
       " 101,\n",
       " 22,\n",
       " 1,\n",
       " 6,\n",
       " 827,\n",
       " 742,\n",
       " 10,\n",
       " 9,\n",
       " 76,\n",
       " 4469,\n",
       " 5,\n",
       " 3,\n",
       " 0,\n",
       " 296,\n",
       " 129,\n",
       " 66,\n",
       " 1,\n",
       " 23,\n",
       " 0,\n",
       " 1,\n",
       " 0,\n",
       " 1356,\n",
       " 252,\n",
       " 146,\n",
       " 168,\n",
       " 4,\n",
       " 318,\n",
       " 482,\n",
       " 1273,\n",
       " 140,\n",
       " 67790,\n",
       " 1018,\n",
       " 2,\n",
       " 64,\n",
       " 16,\n",
       " 75,\n",
       " 17,\n",
       " 0,\n",
       " 631,\n",
       " 935,\n",
       " 93,\n",
       " 8,\n",
       " 14,\n",
       " 125,\n",
       " 77,\n",
       " 10,\n",
       " 3,\n",
       " 4,\n",
       " 26,\n",
       " 138,\n",
       " 0,\n",
       " 25,\n",
       " 21,\n",
       " 6,\n",
       " 4,\n",
       " 5,\n",
       " 0,\n",
       " 14,\n",
       " 959,\n",
       " 21,\n",
       " 1,\n",
       " 0,\n",
       " 7,\n",
       " 69,\n",
       " 10,\n",
       " 112,\n",
       " 525,\n",
       " 0,\n",
       " 75,\n",
       " 24,\n",
       " 1,\n",
       " 1,\n",
       " 0,\n",
       " 0,\n",
       " 26,\n",
       " 4,\n",
       " 79,\n",
       " 32,\n",
       " 47,\n",
       " 0,\n",
       " 3,\n",
       " 18,\n",
       " 17,\n",
       " 46,\n",
       " 6,\n",
       " 20,\n",
       " 1,\n",
       " 2,\n",
       " 245,\n",
       " 760,\n",
       " 353,\n",
       " 133,\n",
       " 539,\n",
       " 0,\n",
       " 19,\n",
       " 19,\n",
       " 9,\n",
       " 2,\n",
       " 5,\n",
       " 32,\n",
       " 57,\n",
       " 136,\n",
       " 1,\n",
       " 1140,\n",
       " 10,\n",
       " 5,\n",
       " 49,\n",
       " 1,\n",
       " 41,\n",
       " 572,\n",
       " 0,\n",
       " 17,\n",
       " 27,\n",
       " 2,\n",
       " 76,\n",
       " 174,\n",
       " 1227]"
      ]
     },
     "execution_count": 27,
     "metadata": {},
     "output_type": "execute_result"
    }
   ],
   "source": [
    "list(sub_df['Cases'])"
   ]
  },
  {
   "cell_type": "code",
   "execution_count": null,
   "metadata": {},
   "outputs": [],
   "source": []
  }
 ],
 "metadata": {
  "kernelspec": {
   "display_name": "Python 3",
   "language": "python",
   "name": "python3"
  },
  "language_info": {
   "codemirror_mode": {
    "name": "ipython",
    "version": 3
   },
   "file_extension": ".py",
   "mimetype": "text/x-python",
   "name": "python",
   "nbconvert_exporter": "python",
   "pygments_lexer": "ipython3",
   "version": "3.7.4"
  },
  "toc": {
   "base_numbering": 1,
   "nav_menu": {},
   "number_sections": true,
   "sideBar": true,
   "skip_h1_title": false,
   "title_cell": "Table of Contents",
   "title_sidebar": "Contents",
   "toc_cell": false,
   "toc_position": {},
   "toc_section_display": true,
   "toc_window_display": false
  }
 },
 "nbformat": 4,
 "nbformat_minor": 2
}
