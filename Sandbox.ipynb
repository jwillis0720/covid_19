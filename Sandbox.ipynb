{
 "cells": [
  {
   "cell_type": "code",
   "execution_count": 175,
   "metadata": {},
   "outputs": [],
   "source": [
    "import data\n",
    "import pandas as pd\n",
    "import math\n",
    "import plotly.graph_objects as go\n",
    "import numpy as np\n",
    "#from tools import write_pandas_to_gsheet\n",
    "\n",
    "MERGE_NO_US, MERGED_CSBS_JHU, JHU_TIME, JHU_RECENT, DATE_MAPPER, CSBS, CENTROID_MAPPER = data.get_data() "
   ]
  },
  {
   "cell_type": "code",
   "execution_count": 188,
   "metadata": {},
   "outputs": [],
   "source": [
    "JHU_DF_AGG_COUNTRY = JHU_TIME.sort_values('confirmed')[::-1].groupby(['Date','country']).agg(\n",
    "            {'lat': 'first', 'lon': 'first', 'confirmed': 'sum', 'deaths': 'sum'}).reset_index()\n",
    "\n",
    "JHU_DF_AGG_PROVINCE = JHU_TIME[JHU_TIME['province']!=''].sort_values('confirmed')[::-1].groupby(['Date','province']).agg(\n",
    "            {'lat': 'first', 'lon': 'first', 'confirmed': 'sum', 'deaths': 'sum'}).reset_index()\n",
    "\n",
    "CSBS_DF_AGG_STATE = CSBS[CSBS['province'] != ''].sort_values('confirmed')[::-1].groupby(['Date','province']).agg(\n",
    "            {'lat': 'first', 'lon': 'first', 'confirmed': 'sum', 'deaths': 'sum'}).reset_index().rename({'province': 'state'}, axis=1)\n",
    "\n",
    "CSBS_DF_AGG_COUNTY = CSBS[CSBS['county'] != ''].sort_values('confirmed')[::-1].groupby(['Date','county']).agg(\n",
    "            {'lat': 'first', 'lon': 'first', 'confirmed': 'sum', 'deaths': 'sum'}).reset_index()"
   ]
  },
  {
   "cell_type": "code",
   "execution_count": 463,
   "metadata": {},
   "outputs": [
    {
     "data": {
      "application/vnd.plotly.v1+json": {
       "config": {
        "plotlyServerURL": "https://plot.ly"
       },
       "data": [
        {
         "hovertemplate": "On %{text} <br> Total Cases: %{x}<br> Cummulative Cases Last Week %{y}",
         "legendgroup": "US",
         "line": {
          "color": "rgb(95, 70, 144)",
          "shape": "linear"
         },
         "marker": {
          "size": 5,
          "symbol": "circle-open"
         },
         "mode": "lines",
         "name": "US",
         "showlegend": false,
         "text": [
          "03/05/2020",
          "03/06/2020",
          "03/07/2020",
          "03/08/2020",
          "03/09/2020",
          "03/10/2020",
          "03/11/2020",
          "03/12/2020",
          "03/13/2020",
          "03/14/2020",
          "03/15/2020",
          "03/16/2020",
          "03/17/2020",
          "03/18/2020",
          "03/19/2020",
          "03/20/2020",
          "03/21/2020",
          "03/22/2020",
          "03/23/2020",
          "03/24/2020",
          "03/25/2020",
          "03/26/2020"
         ],
         "type": "scatter",
         "x": [
          217,
          262,
          402,
          518,
          583,
          959,
          1281,
          1663,
          2179,
          2727,
          3499,
          4632,
          6421,
          7783,
          13677,
          19100,
          25489,
          33276,
          43847,
          53740,
          65778,
          83836
         ],
         "y": [
          160,
          204,
          342,
          450,
          509,
          861,
          1163,
          1514,
          1962,
          2465,
          3097,
          4114,
          5838,
          6824,
          12396,
          17437,
          23310,
          30549,
          40348,
          49108,
          59357,
          76053
         ]
        },
        {
         "hoverlabel": {
          "align": "left"
         },
         "hovertemplate": "On %{text} <br> Total Cases: %{x}<br> Cummulative Cases Last Week %{y}",
         "legendgroup": "US",
         "marker": {
          "color": "rgb(95, 70, 144)",
          "size": 14,
          "symbol": "circle"
         },
         "mode": "markers",
         "name": "US",
         "text": [
          "03/26/2020"
         ],
         "type": "scatter",
         "x": [
          83836
         ],
         "y": [
          76053
         ]
        },
        {
         "hovertemplate": "On %{text} <br> Total Cases: %{x}<br> Cummulative Cases Last Week %{y}",
         "legendgroup": "China",
         "line": {
          "color": "rgb(29, 105, 150)",
          "shape": "linear"
         },
         "marker": {
          "size": 5,
          "symbol": "circle-open"
         },
         "mode": "lines",
         "name": "China",
         "showlegend": false,
         "text": [
          "01/24/2020",
          "01/25/2020",
          "01/26/2020",
          "01/27/2020",
          "01/28/2020",
          "01/29/2020",
          "01/30/2020",
          "01/31/2020",
          "02/01/2020",
          "02/02/2020",
          "02/03/2020",
          "02/04/2020",
          "02/05/2020",
          "02/06/2020",
          "02/07/2020",
          "02/08/2020",
          "02/09/2020",
          "02/10/2020",
          "02/11/2020",
          "02/12/2020",
          "02/13/2020",
          "02/14/2020",
          "02/15/2020",
          "02/16/2020",
          "02/17/2020",
          "02/18/2020",
          "02/19/2020",
          "02/20/2020",
          "02/21/2020",
          "02/22/2020",
          "02/23/2020",
          "02/24/2020",
          "02/25/2020",
          "02/26/2020",
          "02/27/2020",
          "02/28/2020",
          "02/29/2020",
          "03/01/2020",
          "03/02/2020",
          "03/03/2020",
          "03/04/2020",
          "03/05/2020",
          "03/06/2020",
          "03/07/2020",
          "03/08/2020",
          "03/09/2020",
          "03/10/2020",
          "03/11/2020",
          "03/12/2020",
          "03/13/2020",
          "03/14/2020",
          "03/15/2020",
          "03/16/2020",
          "03/17/2020",
          "03/18/2020",
          "03/19/2020",
          "03/20/2020",
          "03/21/2020",
          "03/22/2020",
          "03/23/2020",
          "03/24/2020",
          "03/25/2020",
          "03/26/2020"
         ],
         "type": "scatter",
         "x": [
          920,
          1406,
          2075,
          2877,
          5509,
          6087,
          8141,
          9802,
          11891,
          16630,
          19716,
          23707,
          27440,
          30587,
          34110,
          36814,
          39829,
          42354,
          44386,
          44759,
          59895,
          66358,
          68413,
          70513,
          72434,
          74211,
          74619,
          75077,
          75550,
          77001,
          77022,
          77241,
          77754,
          78166,
          78600,
          78928,
          79356,
          79932,
          80136,
          80261,
          80386,
          80537,
          80690,
          80770,
          80823,
          80860,
          80887,
          80921,
          80932,
          80945,
          80977,
          81003,
          81033,
          81058,
          81102,
          81156,
          81250,
          81305,
          81435,
          81498,
          81591,
          81661,
          81782
         ],
         "y": [
          372,
          858,
          1527,
          2329,
          4961,
          5539,
          7593,
          9159,
          10971,
          15224,
          17641,
          20830,
          21931,
          24500,
          25969,
          27012,
          27938,
          25724,
          24670,
          21052,
          32455,
          35771,
          34303,
          33699,
          32605,
          31857,
          30233,
          30318,
          15655,
          10643,
          8609,
          6728,
          5320,
          3955,
          3981,
          3851,
          3806,
          2931,
          3114,
          3020,
          2632,
          2371,
          2090,
          1842,
          1467,
          928,
          751,
          660,
          546,
          408,
          287,
          233,
          210,
          198,
          215,
          235,
          318,
          360,
          458,
          495,
          558,
          603,
          680
         ]
        },
        {
         "hoverlabel": {
          "align": "left"
         },
         "hovertemplate": "On %{text} <br> Total Cases: %{x}<br> Cummulative Cases Last Week %{y}",
         "legendgroup": "China",
         "marker": {
          "color": "rgb(29, 105, 150)",
          "size": 14,
          "symbol": "circle"
         },
         "mode": "markers",
         "name": "China",
         "text": [
          "03/26/2020"
         ],
         "type": "scatter",
         "x": [
          81782
         ],
         "y": [
          680
         ]
        },
        {
         "hovertemplate": "On %{text} <br> Total Cases: %{x}<br> Cummulative Cases Last Week %{y}",
         "legendgroup": "France",
         "line": {
          "color": "rgb(56, 166, 165)",
          "shape": "linear"
         },
         "marker": {
          "size": 5,
          "symbol": "circle-open"
         },
         "mode": "lines",
         "name": "France",
         "showlegend": false,
         "text": [
          "03/01/2020",
          "03/02/2020",
          "03/03/2020",
          "03/04/2020",
          "03/05/2020",
          "03/06/2020",
          "03/07/2020",
          "03/08/2020",
          "03/09/2020",
          "03/10/2020",
          "03/11/2020",
          "03/12/2020",
          "03/13/2020",
          "03/14/2020",
          "03/15/2020",
          "03/16/2020",
          "03/17/2020",
          "03/18/2020",
          "03/19/2020",
          "03/20/2020",
          "03/21/2020",
          "03/22/2020",
          "03/23/2020",
          "03/24/2020",
          "03/25/2020",
          "03/26/2020"
         ],
         "type": "scatter",
         "x": [
          130,
          191,
          204,
          288,
          380,
          656,
          959,
          1136,
          1219,
          1794,
          2293,
          2293,
          3681,
          4496,
          4532,
          6683,
          7715,
          9124,
          10970,
          12758,
          14463,
          16243,
          20123,
          22622,
          25600,
          29551
         ],
         "y": [
          118,
          179,
          192,
          274,
          362,
          618,
          902,
          1036,
          1089,
          1603,
          2089,
          2005,
          3301,
          3840,
          3573,
          5547,
          6496,
          7330,
          8677,
          10465,
          10782,
          11747,
          15591,
          15939,
          17885,
          20427
         ]
        },
        {
         "hoverlabel": {
          "align": "left"
         },
         "hovertemplate": "On %{text} <br> Total Cases: %{x}<br> Cummulative Cases Last Week %{y}",
         "legendgroup": "France",
         "marker": {
          "color": "rgb(56, 166, 165)",
          "size": 14,
          "symbol": "circle"
         },
         "mode": "markers",
         "name": "France",
         "text": [
          "03/26/2020"
         ],
         "type": "scatter",
         "x": [
          29551
         ],
         "y": [
          20427
         ]
        },
        {
         "hovertemplate": "On %{text} <br> Total Cases: %{x}<br> Cummulative Cases Last Week %{y}",
         "legendgroup": "Mexico",
         "line": {
          "color": "rgb(15, 133, 84)",
          "shape": "linear"
         },
         "marker": {
          "size": 5,
          "symbol": "circle-open"
         },
         "mode": "lines",
         "name": "Mexico",
         "showlegend": false,
         "text": [
          "03/19/2020",
          "03/20/2020",
          "03/21/2020",
          "03/22/2020",
          "03/23/2020",
          "03/24/2020",
          "03/25/2020",
          "03/26/2020"
         ],
         "type": "scatter",
         "x": [
          118,
          164,
          203,
          251,
          316,
          367,
          405,
          475
         ],
         "y": [
          110,
          152,
          191,
          225,
          275,
          314,
          323,
          382
         ]
        },
        {
         "hoverlabel": {
          "align": "left"
         },
         "hovertemplate": "On %{text} <br> Total Cases: %{x}<br> Cummulative Cases Last Week %{y}",
         "legendgroup": "Mexico",
         "marker": {
          "color": "rgb(15, 133, 84)",
          "size": 14,
          "symbol": "circle"
         },
         "mode": "markers",
         "name": "Mexico",
         "text": [
          "03/26/2020"
         ],
         "type": "scatter",
         "x": [
          475
         ],
         "y": [
          382
         ]
        },
        {
         "hovertemplate": "On %{text} <br> Total Cases: %{x}<br> Cummulative Cases Last Week %{y}",
         "legendgroup": "Germany",
         "line": {
          "color": "rgb(115, 175, 72)",
          "shape": "linear"
         },
         "marker": {
          "size": 5,
          "symbol": "circle-open"
         },
         "mode": "lines",
         "name": "Germany",
         "showlegend": false,
         "text": [
          "03/01/2020",
          "03/02/2020",
          "03/03/2020",
          "03/04/2020",
          "03/05/2020",
          "03/06/2020",
          "03/07/2020",
          "03/08/2020",
          "03/09/2020",
          "03/10/2020",
          "03/11/2020",
          "03/12/2020",
          "03/13/2020",
          "03/14/2020",
          "03/15/2020",
          "03/16/2020",
          "03/17/2020",
          "03/18/2020",
          "03/19/2020",
          "03/20/2020",
          "03/21/2020",
          "03/22/2020",
          "03/23/2020",
          "03/24/2020",
          "03/25/2020",
          "03/26/2020"
         ],
         "type": "scatter",
         "x": [
          130,
          159,
          196,
          262,
          482,
          670,
          799,
          1040,
          1176,
          1457,
          1908,
          2078,
          3675,
          4585,
          5795,
          7272,
          9257,
          12327,
          15320,
          19848,
          22213,
          24873,
          29056,
          32986,
          37323,
          43938
         ],
         "y": [
          114,
          143,
          180,
          245,
          455,
          624,
          751,
          961,
          1046,
          1298,
          1712,
          1816,
          3193,
          3915,
          4996,
          6232,
          8081,
          10870,
          13412,
          17770,
          18538,
          20288,
          23261,
          25714,
          28066,
          31611
         ]
        },
        {
         "hoverlabel": {
          "align": "left"
         },
         "hovertemplate": "On %{text} <br> Total Cases: %{x}<br> Cummulative Cases Last Week %{y}",
         "legendgroup": "Germany",
         "marker": {
          "color": "rgb(115, 175, 72)",
          "size": 14,
          "symbol": "circle"
         },
         "mode": "markers",
         "name": "Germany",
         "text": [
          "03/26/2020"
         ],
         "type": "scatter",
         "x": [
          43938
         ],
         "y": [
          31611
         ]
        },
        {
         "hovertemplate": "On %{text} <br> Total Cases: %{x}<br> Cummulative Cases Last Week %{y}",
         "legendgroup": "Italy",
         "line": {
          "color": "rgb(237, 173, 8)",
          "shape": "linear"
         },
         "marker": {
          "size": 5,
          "symbol": "circle-open"
         },
         "mode": "lines",
         "name": "Italy",
         "showlegend": false,
         "text": [
          "02/23/2020",
          "02/24/2020",
          "02/25/2020",
          "02/26/2020",
          "02/27/2020",
          "02/28/2020",
          "02/29/2020",
          "03/01/2020",
          "03/02/2020",
          "03/03/2020",
          "03/04/2020",
          "03/05/2020",
          "03/06/2020",
          "03/07/2020",
          "03/08/2020",
          "03/09/2020",
          "03/10/2020",
          "03/11/2020",
          "03/12/2020",
          "03/13/2020",
          "03/14/2020",
          "03/15/2020",
          "03/16/2020",
          "03/17/2020",
          "03/18/2020",
          "03/19/2020",
          "03/20/2020",
          "03/21/2020",
          "03/22/2020",
          "03/23/2020",
          "03/24/2020",
          "03/25/2020",
          "03/26/2020"
         ],
         "type": "scatter",
         "x": [
          155,
          229,
          322,
          453,
          655,
          888,
          1128,
          1694,
          2036,
          2502,
          3089,
          3858,
          4636,
          5883,
          7375,
          9172,
          10149,
          12462,
          12462,
          17660,
          21157,
          24747,
          27980,
          31506,
          35713,
          41035,
          47021,
          53578,
          59138,
          63927,
          69176,
          74386,
          80589
         ],
         "y": [
          152,
          226,
          319,
          450,
          652,
          885,
          1108,
          1632,
          1881,
          2273,
          2767,
          3405,
          3981,
          4995,
          6247,
          7478,
          8113,
          9960,
          9373,
          13802,
          16521,
          18864,
          20605,
          22334,
          25564,
          28573,
          34559,
          35918,
          37981,
          39180,
          41196,
          42880,
          44876
         ]
        },
        {
         "hoverlabel": {
          "align": "left"
         },
         "hovertemplate": "On %{text} <br> Total Cases: %{x}<br> Cummulative Cases Last Week %{y}",
         "legendgroup": "Italy",
         "marker": {
          "color": "rgb(237, 173, 8)",
          "size": 14,
          "symbol": "circle"
         },
         "mode": "markers",
         "name": "Italy",
         "text": [
          "03/26/2020"
         ],
         "type": "scatter",
         "x": [
          80589
         ],
         "y": [
          44876
         ]
        },
        {
         "hovertemplate": "On %{text} <br> Total Cases: %{x}<br> Cummulative Cases Last Week %{y}",
         "legendgroup": "Spain",
         "line": {
          "color": "rgb(225, 124, 5)",
          "shape": "linear"
         },
         "marker": {
          "size": 5,
          "symbol": "circle-open"
         },
         "mode": "lines",
         "name": "Spain",
         "showlegend": false,
         "text": [
          "03/02/2020",
          "03/03/2020",
          "03/04/2020",
          "03/05/2020",
          "03/06/2020",
          "03/07/2020",
          "03/08/2020",
          "03/09/2020",
          "03/10/2020",
          "03/11/2020",
          "03/12/2020",
          "03/13/2020",
          "03/14/2020",
          "03/15/2020",
          "03/16/2020",
          "03/17/2020",
          "03/18/2020",
          "03/19/2020",
          "03/20/2020",
          "03/21/2020",
          "03/22/2020",
          "03/23/2020",
          "03/24/2020",
          "03/25/2020",
          "03/26/2020"
         ],
         "type": "scatter",
         "x": [
          120,
          165,
          222,
          259,
          400,
          500,
          673,
          1073,
          1695,
          2277,
          2277,
          5232,
          6391,
          7798,
          9942,
          11748,
          13910,
          17963,
          20410,
          25374,
          28768,
          35136,
          39885,
          49515,
          57786
         ],
         "y": [
          118,
          163,
          216,
          246,
          385,
          468,
          628,
          989,
          1575,
          2112,
          2055,
          4973,
          5991,
          7298,
          9269,
          10675,
          12215,
          15686,
          18133,
          20142,
          22377,
          27338,
          29943,
          37767,
          43876
         ]
        },
        {
         "hoverlabel": {
          "align": "left"
         },
         "hovertemplate": "On %{text} <br> Total Cases: %{x}<br> Cummulative Cases Last Week %{y}",
         "legendgroup": "Spain",
         "marker": {
          "color": "rgb(225, 124, 5)",
          "size": 14,
          "symbol": "circle"
         },
         "mode": "markers",
         "name": "Spain",
         "text": [
          "03/26/2020"
         ],
         "type": "scatter",
         "x": [
          57786
         ],
         "y": [
          43876
         ]
        },
        {
         "line": {
          "color": "grey",
          "dash": "dash",
          "width": 4
         },
         "mode": "lines",
         "name": "Exponential",
         "type": "scatter",
         "x": [
          100,
          83836
         ],
         "y": [
          100,
          83836
         ]
        }
       ],
       "layout": {
        "annotations": [
         {
          "arrowhead": 2,
          "font": {
           "color": "grey",
           "family": "Arial",
           "size": 20
          },
          "showarrow": true,
          "text": "Exponential Growth",
          "x": 0.9,
          "xref": "paper",
          "y": 0.95,
          "yref": "paper"
         }
        ],
        "legend": {
         "title": {
          "text": "Click to Toggle"
         }
        },
        "plot_bgcolor": "white",
        "template": {
         "data": {
          "bar": [
           {
            "error_x": {
             "color": "#2a3f5f"
            },
            "error_y": {
             "color": "#2a3f5f"
            },
            "marker": {
             "line": {
              "color": "#E5ECF6",
              "width": 0.5
             }
            },
            "type": "bar"
           }
          ],
          "barpolar": [
           {
            "marker": {
             "line": {
              "color": "#E5ECF6",
              "width": 0.5
             }
            },
            "type": "barpolar"
           }
          ],
          "carpet": [
           {
            "aaxis": {
             "endlinecolor": "#2a3f5f",
             "gridcolor": "white",
             "linecolor": "white",
             "minorgridcolor": "white",
             "startlinecolor": "#2a3f5f"
            },
            "baxis": {
             "endlinecolor": "#2a3f5f",
             "gridcolor": "white",
             "linecolor": "white",
             "minorgridcolor": "white",
             "startlinecolor": "#2a3f5f"
            },
            "type": "carpet"
           }
          ],
          "choropleth": [
           {
            "colorbar": {
             "outlinewidth": 0,
             "ticks": ""
            },
            "type": "choropleth"
           }
          ],
          "contour": [
           {
            "colorbar": {
             "outlinewidth": 0,
             "ticks": ""
            },
            "colorscale": [
             [
              0,
              "#0d0887"
             ],
             [
              0.1111111111111111,
              "#46039f"
             ],
             [
              0.2222222222222222,
              "#7201a8"
             ],
             [
              0.3333333333333333,
              "#9c179e"
             ],
             [
              0.4444444444444444,
              "#bd3786"
             ],
             [
              0.5555555555555556,
              "#d8576b"
             ],
             [
              0.6666666666666666,
              "#ed7953"
             ],
             [
              0.7777777777777778,
              "#fb9f3a"
             ],
             [
              0.8888888888888888,
              "#fdca26"
             ],
             [
              1,
              "#f0f921"
             ]
            ],
            "type": "contour"
           }
          ],
          "contourcarpet": [
           {
            "colorbar": {
             "outlinewidth": 0,
             "ticks": ""
            },
            "type": "contourcarpet"
           }
          ],
          "heatmap": [
           {
            "colorbar": {
             "outlinewidth": 0,
             "ticks": ""
            },
            "colorscale": [
             [
              0,
              "#0d0887"
             ],
             [
              0.1111111111111111,
              "#46039f"
             ],
             [
              0.2222222222222222,
              "#7201a8"
             ],
             [
              0.3333333333333333,
              "#9c179e"
             ],
             [
              0.4444444444444444,
              "#bd3786"
             ],
             [
              0.5555555555555556,
              "#d8576b"
             ],
             [
              0.6666666666666666,
              "#ed7953"
             ],
             [
              0.7777777777777778,
              "#fb9f3a"
             ],
             [
              0.8888888888888888,
              "#fdca26"
             ],
             [
              1,
              "#f0f921"
             ]
            ],
            "type": "heatmap"
           }
          ],
          "heatmapgl": [
           {
            "colorbar": {
             "outlinewidth": 0,
             "ticks": ""
            },
            "colorscale": [
             [
              0,
              "#0d0887"
             ],
             [
              0.1111111111111111,
              "#46039f"
             ],
             [
              0.2222222222222222,
              "#7201a8"
             ],
             [
              0.3333333333333333,
              "#9c179e"
             ],
             [
              0.4444444444444444,
              "#bd3786"
             ],
             [
              0.5555555555555556,
              "#d8576b"
             ],
             [
              0.6666666666666666,
              "#ed7953"
             ],
             [
              0.7777777777777778,
              "#fb9f3a"
             ],
             [
              0.8888888888888888,
              "#fdca26"
             ],
             [
              1,
              "#f0f921"
             ]
            ],
            "type": "heatmapgl"
           }
          ],
          "histogram": [
           {
            "marker": {
             "colorbar": {
              "outlinewidth": 0,
              "ticks": ""
             }
            },
            "type": "histogram"
           }
          ],
          "histogram2d": [
           {
            "colorbar": {
             "outlinewidth": 0,
             "ticks": ""
            },
            "colorscale": [
             [
              0,
              "#0d0887"
             ],
             [
              0.1111111111111111,
              "#46039f"
             ],
             [
              0.2222222222222222,
              "#7201a8"
             ],
             [
              0.3333333333333333,
              "#9c179e"
             ],
             [
              0.4444444444444444,
              "#bd3786"
             ],
             [
              0.5555555555555556,
              "#d8576b"
             ],
             [
              0.6666666666666666,
              "#ed7953"
             ],
             [
              0.7777777777777778,
              "#fb9f3a"
             ],
             [
              0.8888888888888888,
              "#fdca26"
             ],
             [
              1,
              "#f0f921"
             ]
            ],
            "type": "histogram2d"
           }
          ],
          "histogram2dcontour": [
           {
            "colorbar": {
             "outlinewidth": 0,
             "ticks": ""
            },
            "colorscale": [
             [
              0,
              "#0d0887"
             ],
             [
              0.1111111111111111,
              "#46039f"
             ],
             [
              0.2222222222222222,
              "#7201a8"
             ],
             [
              0.3333333333333333,
              "#9c179e"
             ],
             [
              0.4444444444444444,
              "#bd3786"
             ],
             [
              0.5555555555555556,
              "#d8576b"
             ],
             [
              0.6666666666666666,
              "#ed7953"
             ],
             [
              0.7777777777777778,
              "#fb9f3a"
             ],
             [
              0.8888888888888888,
              "#fdca26"
             ],
             [
              1,
              "#f0f921"
             ]
            ],
            "type": "histogram2dcontour"
           }
          ],
          "mesh3d": [
           {
            "colorbar": {
             "outlinewidth": 0,
             "ticks": ""
            },
            "type": "mesh3d"
           }
          ],
          "parcoords": [
           {
            "line": {
             "colorbar": {
              "outlinewidth": 0,
              "ticks": ""
             }
            },
            "type": "parcoords"
           }
          ],
          "pie": [
           {
            "automargin": true,
            "type": "pie"
           }
          ],
          "scatter": [
           {
            "marker": {
             "colorbar": {
              "outlinewidth": 0,
              "ticks": ""
             }
            },
            "type": "scatter"
           }
          ],
          "scatter3d": [
           {
            "line": {
             "colorbar": {
              "outlinewidth": 0,
              "ticks": ""
             }
            },
            "marker": {
             "colorbar": {
              "outlinewidth": 0,
              "ticks": ""
             }
            },
            "type": "scatter3d"
           }
          ],
          "scattercarpet": [
           {
            "marker": {
             "colorbar": {
              "outlinewidth": 0,
              "ticks": ""
             }
            },
            "type": "scattercarpet"
           }
          ],
          "scattergeo": [
           {
            "marker": {
             "colorbar": {
              "outlinewidth": 0,
              "ticks": ""
             }
            },
            "type": "scattergeo"
           }
          ],
          "scattergl": [
           {
            "marker": {
             "colorbar": {
              "outlinewidth": 0,
              "ticks": ""
             }
            },
            "type": "scattergl"
           }
          ],
          "scattermapbox": [
           {
            "marker": {
             "colorbar": {
              "outlinewidth": 0,
              "ticks": ""
             }
            },
            "type": "scattermapbox"
           }
          ],
          "scatterpolar": [
           {
            "marker": {
             "colorbar": {
              "outlinewidth": 0,
              "ticks": ""
             }
            },
            "type": "scatterpolar"
           }
          ],
          "scatterpolargl": [
           {
            "marker": {
             "colorbar": {
              "outlinewidth": 0,
              "ticks": ""
             }
            },
            "type": "scatterpolargl"
           }
          ],
          "scatterternary": [
           {
            "marker": {
             "colorbar": {
              "outlinewidth": 0,
              "ticks": ""
             }
            },
            "type": "scatterternary"
           }
          ],
          "surface": [
           {
            "colorbar": {
             "outlinewidth": 0,
             "ticks": ""
            },
            "colorscale": [
             [
              0,
              "#0d0887"
             ],
             [
              0.1111111111111111,
              "#46039f"
             ],
             [
              0.2222222222222222,
              "#7201a8"
             ],
             [
              0.3333333333333333,
              "#9c179e"
             ],
             [
              0.4444444444444444,
              "#bd3786"
             ],
             [
              0.5555555555555556,
              "#d8576b"
             ],
             [
              0.6666666666666666,
              "#ed7953"
             ],
             [
              0.7777777777777778,
              "#fb9f3a"
             ],
             [
              0.8888888888888888,
              "#fdca26"
             ],
             [
              1,
              "#f0f921"
             ]
            ],
            "type": "surface"
           }
          ],
          "table": [
           {
            "cells": {
             "fill": {
              "color": "#EBF0F8"
             },
             "line": {
              "color": "white"
             }
            },
            "header": {
             "fill": {
              "color": "#C8D4E3"
             },
             "line": {
              "color": "white"
             }
            },
            "type": "table"
           }
          ]
         },
         "layout": {
          "annotationdefaults": {
           "arrowcolor": "#2a3f5f",
           "arrowhead": 0,
           "arrowwidth": 1
          },
          "coloraxis": {
           "colorbar": {
            "outlinewidth": 0,
            "ticks": ""
           }
          },
          "colorscale": {
           "diverging": [
            [
             0,
             "#8e0152"
            ],
            [
             0.1,
             "#c51b7d"
            ],
            [
             0.2,
             "#de77ae"
            ],
            [
             0.3,
             "#f1b6da"
            ],
            [
             0.4,
             "#fde0ef"
            ],
            [
             0.5,
             "#f7f7f7"
            ],
            [
             0.6,
             "#e6f5d0"
            ],
            [
             0.7,
             "#b8e186"
            ],
            [
             0.8,
             "#7fbc41"
            ],
            [
             0.9,
             "#4d9221"
            ],
            [
             1,
             "#276419"
            ]
           ],
           "sequential": [
            [
             0,
             "#0d0887"
            ],
            [
             0.1111111111111111,
             "#46039f"
            ],
            [
             0.2222222222222222,
             "#7201a8"
            ],
            [
             0.3333333333333333,
             "#9c179e"
            ],
            [
             0.4444444444444444,
             "#bd3786"
            ],
            [
             0.5555555555555556,
             "#d8576b"
            ],
            [
             0.6666666666666666,
             "#ed7953"
            ],
            [
             0.7777777777777778,
             "#fb9f3a"
            ],
            [
             0.8888888888888888,
             "#fdca26"
            ],
            [
             1,
             "#f0f921"
            ]
           ],
           "sequentialminus": [
            [
             0,
             "#0d0887"
            ],
            [
             0.1111111111111111,
             "#46039f"
            ],
            [
             0.2222222222222222,
             "#7201a8"
            ],
            [
             0.3333333333333333,
             "#9c179e"
            ],
            [
             0.4444444444444444,
             "#bd3786"
            ],
            [
             0.5555555555555556,
             "#d8576b"
            ],
            [
             0.6666666666666666,
             "#ed7953"
            ],
            [
             0.7777777777777778,
             "#fb9f3a"
            ],
            [
             0.8888888888888888,
             "#fdca26"
            ],
            [
             1,
             "#f0f921"
            ]
           ]
          },
          "colorway": [
           "#636efa",
           "#EF553B",
           "#00cc96",
           "#ab63fa",
           "#FFA15A",
           "#19d3f3",
           "#FF6692",
           "#B6E880",
           "#FF97FF",
           "#FECB52"
          ],
          "font": {
           "color": "#2a3f5f"
          },
          "geo": {
           "bgcolor": "white",
           "lakecolor": "white",
           "landcolor": "#E5ECF6",
           "showlakes": true,
           "showland": true,
           "subunitcolor": "white"
          },
          "hoverlabel": {
           "align": "left"
          },
          "hovermode": "closest",
          "mapbox": {
           "style": "light"
          },
          "paper_bgcolor": "white",
          "plot_bgcolor": "#E5ECF6",
          "polar": {
           "angularaxis": {
            "gridcolor": "white",
            "linecolor": "white",
            "ticks": ""
           },
           "bgcolor": "#E5ECF6",
           "radialaxis": {
            "gridcolor": "white",
            "linecolor": "white",
            "ticks": ""
           }
          },
          "scene": {
           "xaxis": {
            "backgroundcolor": "#E5ECF6",
            "gridcolor": "white",
            "gridwidth": 2,
            "linecolor": "white",
            "showbackground": true,
            "ticks": "",
            "zerolinecolor": "white"
           },
           "yaxis": {
            "backgroundcolor": "#E5ECF6",
            "gridcolor": "white",
            "gridwidth": 2,
            "linecolor": "white",
            "showbackground": true,
            "ticks": "",
            "zerolinecolor": "white"
           },
           "zaxis": {
            "backgroundcolor": "#E5ECF6",
            "gridcolor": "white",
            "gridwidth": 2,
            "linecolor": "white",
            "showbackground": true,
            "ticks": "",
            "zerolinecolor": "white"
           }
          },
          "shapedefaults": {
           "line": {
            "color": "#2a3f5f"
           }
          },
          "ternary": {
           "aaxis": {
            "gridcolor": "white",
            "linecolor": "white",
            "ticks": ""
           },
           "baxis": {
            "gridcolor": "white",
            "linecolor": "white",
            "ticks": ""
           },
           "bgcolor": "#E5ECF6",
           "caxis": {
            "gridcolor": "white",
            "linecolor": "white",
            "ticks": ""
           }
          },
          "title": {
           "x": 0.05
          },
          "xaxis": {
           "automargin": true,
           "gridcolor": "white",
           "linecolor": "white",
           "ticks": "",
           "title": {
            "standoff": 15
           },
           "zerolinecolor": "white",
           "zerolinewidth": 2
          },
          "yaxis": {
           "automargin": true,
           "gridcolor": "white",
           "linecolor": "white",
           "ticks": "",
           "title": {
            "standoff": 15
           },
           "zerolinecolor": "white",
           "zerolinewidth": 2
          }
         }
        },
        "xaxis": {
         "linecolor": "black",
         "linewidth": 3,
         "showgrid": false,
         "showline": true,
         "showticklabels": true,
         "tickfont": {
          "color": "rgb(82, 82, 82)",
          "family": "Arial",
          "size": 16
         },
         "title": {
          "font": {
           "color": "black",
           "family": "arial",
           "size": 20
          },
          "text": "All Cases"
         }
        },
        "yaxis": {
         "linecolor": "black",
         "linewidth": 3,
         "showgrid": false,
         "showline": true,
         "showticklabels": true,
         "tickfont": {
          "color": "rgb(82, 82, 82)",
          "family": "Arial",
          "size": 16
         },
         "title": {
          "font": {
           "color": "black",
           "family": "arial",
           "size": 20
          },
          "text": "New Cases Past Week"
         }
        }
       }
      },
      "text/html": [
       "<div>\n",
       "        \n",
       "        \n",
       "            <div id=\"5190d5c7-fac4-401a-a159-a97e08756a28\" class=\"plotly-graph-div\" style=\"height:525px; width:100%;\"></div>\n",
       "            <script type=\"text/javascript\">\n",
       "                require([\"plotly\"], function(Plotly) {\n",
       "                    window.PLOTLYENV=window.PLOTLYENV || {};\n",
       "                    \n",
       "                if (document.getElementById(\"5190d5c7-fac4-401a-a159-a97e08756a28\")) {\n",
       "                    Plotly.newPlot(\n",
       "                        '5190d5c7-fac4-401a-a159-a97e08756a28',\n",
       "                        [{\"hovertemplate\": \"On %{text} <br> Total Cases: %{x}<br> Cummulative Cases Last Week %{y}\", \"legendgroup\": \"US\", \"line\": {\"color\": \"rgb(95, 70, 144)\", \"shape\": \"linear\"}, \"marker\": {\"size\": 5, \"symbol\": \"circle-open\"}, \"mode\": \"lines\", \"name\": \"US\", \"showlegend\": false, \"text\": [\"03/05/2020\", \"03/06/2020\", \"03/07/2020\", \"03/08/2020\", \"03/09/2020\", \"03/10/2020\", \"03/11/2020\", \"03/12/2020\", \"03/13/2020\", \"03/14/2020\", \"03/15/2020\", \"03/16/2020\", \"03/17/2020\", \"03/18/2020\", \"03/19/2020\", \"03/20/2020\", \"03/21/2020\", \"03/22/2020\", \"03/23/2020\", \"03/24/2020\", \"03/25/2020\", \"03/26/2020\"], \"type\": \"scatter\", \"x\": [217.0, 262.0, 402.0, 518.0, 583.0, 959.0, 1281.0, 1663.0, 2179.0, 2727.0, 3499.0, 4632.0, 6421.0, 7783.0, 13677.0, 19100.0, 25489.0, 33276.0, 43847.0, 53740.0, 65778.0, 83836.0], \"y\": [160.0, 204.0, 342.0, 450.0, 509.0, 861.0, 1163.0, 1514.0, 1962.0, 2465.0, 3097.0, 4114.0, 5838.0, 6824.0, 12396.0, 17437.0, 23310.0, 30549.0, 40348.0, 49108.0, 59357.0, 76053.0]}, {\"hoverlabel\": {\"align\": \"left\"}, \"hovertemplate\": \"On %{text} <br> Total Cases: %{x}<br> Cummulative Cases Last Week %{y}\", \"legendgroup\": \"US\", \"marker\": {\"color\": \"rgb(95, 70, 144)\", \"size\": 14, \"symbol\": \"circle\"}, \"mode\": \"markers\", \"name\": \"US\", \"text\": [\"03/26/2020\"], \"type\": \"scatter\", \"x\": [83836.0], \"y\": [76053.0]}, {\"hovertemplate\": \"On %{text} <br> Total Cases: %{x}<br> Cummulative Cases Last Week %{y}\", \"legendgroup\": \"China\", \"line\": {\"color\": \"rgb(29, 105, 150)\", \"shape\": \"linear\"}, \"marker\": {\"size\": 5, \"symbol\": \"circle-open\"}, \"mode\": \"lines\", \"name\": \"China\", \"showlegend\": false, \"text\": [\"01/24/2020\", \"01/25/2020\", \"01/26/2020\", \"01/27/2020\", \"01/28/2020\", \"01/29/2020\", \"01/30/2020\", \"01/31/2020\", \"02/01/2020\", \"02/02/2020\", \"02/03/2020\", \"02/04/2020\", \"02/05/2020\", \"02/06/2020\", \"02/07/2020\", \"02/08/2020\", \"02/09/2020\", \"02/10/2020\", \"02/11/2020\", \"02/12/2020\", \"02/13/2020\", \"02/14/2020\", \"02/15/2020\", \"02/16/2020\", \"02/17/2020\", \"02/18/2020\", \"02/19/2020\", \"02/20/2020\", \"02/21/2020\", \"02/22/2020\", \"02/23/2020\", \"02/24/2020\", \"02/25/2020\", \"02/26/2020\", \"02/27/2020\", \"02/28/2020\", \"02/29/2020\", \"03/01/2020\", \"03/02/2020\", \"03/03/2020\", \"03/04/2020\", \"03/05/2020\", \"03/06/2020\", \"03/07/2020\", \"03/08/2020\", \"03/09/2020\", \"03/10/2020\", \"03/11/2020\", \"03/12/2020\", \"03/13/2020\", \"03/14/2020\", \"03/15/2020\", \"03/16/2020\", \"03/17/2020\", \"03/18/2020\", \"03/19/2020\", \"03/20/2020\", \"03/21/2020\", \"03/22/2020\", \"03/23/2020\", \"03/24/2020\", \"03/25/2020\", \"03/26/2020\"], \"type\": \"scatter\", \"x\": [920.0, 1406.0, 2075.0, 2877.0, 5509.0, 6087.0, 8141.0, 9802.0, 11891.0, 16630.0, 19716.0, 23707.0, 27440.0, 30587.0, 34110.0, 36814.0, 39829.0, 42354.0, 44386.0, 44759.0, 59895.0, 66358.0, 68413.0, 70513.0, 72434.0, 74211.0, 74619.0, 75077.0, 75550.0, 77001.0, 77022.0, 77241.0, 77754.0, 78166.0, 78600.0, 78928.0, 79356.0, 79932.0, 80136.0, 80261.0, 80386.0, 80537.0, 80690.0, 80770.0, 80823.0, 80860.0, 80887.0, 80921.0, 80932.0, 80945.0, 80977.0, 81003.0, 81033.0, 81058.0, 81102.0, 81156.0, 81250.0, 81305.0, 81435.0, 81498.0, 81591.0, 81661.0, 81782.0], \"y\": [372.0, 858.0, 1527.0, 2329.0, 4961.0, 5539.0, 7593.0, 9159.0, 10971.0, 15224.0, 17641.0, 20830.0, 21931.0, 24500.0, 25969.0, 27012.0, 27938.0, 25724.0, 24670.0, 21052.0, 32455.0, 35771.0, 34303.0, 33699.0, 32605.0, 31857.0, 30233.0, 30318.0, 15655.0, 10643.0, 8609.0, 6728.0, 5320.0, 3955.0, 3981.0, 3851.0, 3806.0, 2931.0, 3114.0, 3020.0, 2632.0, 2371.0, 2090.0, 1842.0, 1467.0, 928.0, 751.0, 660.0, 546.0, 408.0, 287.0, 233.0, 210.0, 198.0, 215.0, 235.0, 318.0, 360.0, 458.0, 495.0, 558.0, 603.0, 680.0]}, {\"hoverlabel\": {\"align\": \"left\"}, \"hovertemplate\": \"On %{text} <br> Total Cases: %{x}<br> Cummulative Cases Last Week %{y}\", \"legendgroup\": \"China\", \"marker\": {\"color\": \"rgb(29, 105, 150)\", \"size\": 14, \"symbol\": \"circle\"}, \"mode\": \"markers\", \"name\": \"China\", \"text\": [\"03/26/2020\"], \"type\": \"scatter\", \"x\": [81782.0], \"y\": [680.0]}, {\"hovertemplate\": \"On %{text} <br> Total Cases: %{x}<br> Cummulative Cases Last Week %{y}\", \"legendgroup\": \"France\", \"line\": {\"color\": \"rgb(56, 166, 165)\", \"shape\": \"linear\"}, \"marker\": {\"size\": 5, \"symbol\": \"circle-open\"}, \"mode\": \"lines\", \"name\": \"France\", \"showlegend\": false, \"text\": [\"03/01/2020\", \"03/02/2020\", \"03/03/2020\", \"03/04/2020\", \"03/05/2020\", \"03/06/2020\", \"03/07/2020\", \"03/08/2020\", \"03/09/2020\", \"03/10/2020\", \"03/11/2020\", \"03/12/2020\", \"03/13/2020\", \"03/14/2020\", \"03/15/2020\", \"03/16/2020\", \"03/17/2020\", \"03/18/2020\", \"03/19/2020\", \"03/20/2020\", \"03/21/2020\", \"03/22/2020\", \"03/23/2020\", \"03/24/2020\", \"03/25/2020\", \"03/26/2020\"], \"type\": \"scatter\", \"x\": [130.0, 191.0, 204.0, 288.0, 380.0, 656.0, 959.0, 1136.0, 1219.0, 1794.0, 2293.0, 2293.0, 3681.0, 4496.0, 4532.0, 6683.0, 7715.0, 9124.0, 10970.0, 12758.0, 14463.0, 16243.0, 20123.0, 22622.0, 25600.0, 29551.0], \"y\": [118.0, 179.0, 192.0, 274.0, 362.0, 618.0, 902.0, 1036.0, 1089.0, 1603.0, 2089.0, 2005.0, 3301.0, 3840.0, 3573.0, 5547.0, 6496.0, 7330.0, 8677.0, 10465.0, 10782.0, 11747.0, 15591.0, 15939.0, 17885.0, 20427.0]}, {\"hoverlabel\": {\"align\": \"left\"}, \"hovertemplate\": \"On %{text} <br> Total Cases: %{x}<br> Cummulative Cases Last Week %{y}\", \"legendgroup\": \"France\", \"marker\": {\"color\": \"rgb(56, 166, 165)\", \"size\": 14, \"symbol\": \"circle\"}, \"mode\": \"markers\", \"name\": \"France\", \"text\": [\"03/26/2020\"], \"type\": \"scatter\", \"x\": [29551.0], \"y\": [20427.0]}, {\"hovertemplate\": \"On %{text} <br> Total Cases: %{x}<br> Cummulative Cases Last Week %{y}\", \"legendgroup\": \"Mexico\", \"line\": {\"color\": \"rgb(15, 133, 84)\", \"shape\": \"linear\"}, \"marker\": {\"size\": 5, \"symbol\": \"circle-open\"}, \"mode\": \"lines\", \"name\": \"Mexico\", \"showlegend\": false, \"text\": [\"03/19/2020\", \"03/20/2020\", \"03/21/2020\", \"03/22/2020\", \"03/23/2020\", \"03/24/2020\", \"03/25/2020\", \"03/26/2020\"], \"type\": \"scatter\", \"x\": [118.0, 164.0, 203.0, 251.0, 316.0, 367.0, 405.0, 475.0], \"y\": [110.0, 152.0, 191.0, 225.0, 275.0, 314.0, 323.0, 382.0]}, {\"hoverlabel\": {\"align\": \"left\"}, \"hovertemplate\": \"On %{text} <br> Total Cases: %{x}<br> Cummulative Cases Last Week %{y}\", \"legendgroup\": \"Mexico\", \"marker\": {\"color\": \"rgb(15, 133, 84)\", \"size\": 14, \"symbol\": \"circle\"}, \"mode\": \"markers\", \"name\": \"Mexico\", \"text\": [\"03/26/2020\"], \"type\": \"scatter\", \"x\": [475.0], \"y\": [382.0]}, {\"hovertemplate\": \"On %{text} <br> Total Cases: %{x}<br> Cummulative Cases Last Week %{y}\", \"legendgroup\": \"Germany\", \"line\": {\"color\": \"rgb(115, 175, 72)\", \"shape\": \"linear\"}, \"marker\": {\"size\": 5, \"symbol\": \"circle-open\"}, \"mode\": \"lines\", \"name\": \"Germany\", \"showlegend\": false, \"text\": [\"03/01/2020\", \"03/02/2020\", \"03/03/2020\", \"03/04/2020\", \"03/05/2020\", \"03/06/2020\", \"03/07/2020\", \"03/08/2020\", \"03/09/2020\", \"03/10/2020\", \"03/11/2020\", \"03/12/2020\", \"03/13/2020\", \"03/14/2020\", \"03/15/2020\", \"03/16/2020\", \"03/17/2020\", \"03/18/2020\", \"03/19/2020\", \"03/20/2020\", \"03/21/2020\", \"03/22/2020\", \"03/23/2020\", \"03/24/2020\", \"03/25/2020\", \"03/26/2020\"], \"type\": \"scatter\", \"x\": [130.0, 159.0, 196.0, 262.0, 482.0, 670.0, 799.0, 1040.0, 1176.0, 1457.0, 1908.0, 2078.0, 3675.0, 4585.0, 5795.0, 7272.0, 9257.0, 12327.0, 15320.0, 19848.0, 22213.0, 24873.0, 29056.0, 32986.0, 37323.0, 43938.0], \"y\": [114.0, 143.0, 180.0, 245.0, 455.0, 624.0, 751.0, 961.0, 1046.0, 1298.0, 1712.0, 1816.0, 3193.0, 3915.0, 4996.0, 6232.0, 8081.0, 10870.0, 13412.0, 17770.0, 18538.0, 20288.0, 23261.0, 25714.0, 28066.0, 31611.0]}, {\"hoverlabel\": {\"align\": \"left\"}, \"hovertemplate\": \"On %{text} <br> Total Cases: %{x}<br> Cummulative Cases Last Week %{y}\", \"legendgroup\": \"Germany\", \"marker\": {\"color\": \"rgb(115, 175, 72)\", \"size\": 14, \"symbol\": \"circle\"}, \"mode\": \"markers\", \"name\": \"Germany\", \"text\": [\"03/26/2020\"], \"type\": \"scatter\", \"x\": [43938.0], \"y\": [31611.0]}, {\"hovertemplate\": \"On %{text} <br> Total Cases: %{x}<br> Cummulative Cases Last Week %{y}\", \"legendgroup\": \"Italy\", \"line\": {\"color\": \"rgb(237, 173, 8)\", \"shape\": \"linear\"}, \"marker\": {\"size\": 5, \"symbol\": \"circle-open\"}, \"mode\": \"lines\", \"name\": \"Italy\", \"showlegend\": false, \"text\": [\"02/23/2020\", \"02/24/2020\", \"02/25/2020\", \"02/26/2020\", \"02/27/2020\", \"02/28/2020\", \"02/29/2020\", \"03/01/2020\", \"03/02/2020\", \"03/03/2020\", \"03/04/2020\", \"03/05/2020\", \"03/06/2020\", \"03/07/2020\", \"03/08/2020\", \"03/09/2020\", \"03/10/2020\", \"03/11/2020\", \"03/12/2020\", \"03/13/2020\", \"03/14/2020\", \"03/15/2020\", \"03/16/2020\", \"03/17/2020\", \"03/18/2020\", \"03/19/2020\", \"03/20/2020\", \"03/21/2020\", \"03/22/2020\", \"03/23/2020\", \"03/24/2020\", \"03/25/2020\", \"03/26/2020\"], \"type\": \"scatter\", \"x\": [155.0, 229.0, 322.0, 453.0, 655.0, 888.0, 1128.0, 1694.0, 2036.0, 2502.0, 3089.0, 3858.0, 4636.0, 5883.0, 7375.0, 9172.0, 10149.0, 12462.0, 12462.0, 17660.0, 21157.0, 24747.0, 27980.0, 31506.0, 35713.0, 41035.0, 47021.0, 53578.0, 59138.0, 63927.0, 69176.0, 74386.0, 80589.0], \"y\": [152.0, 226.0, 319.0, 450.0, 652.0, 885.0, 1108.0, 1632.0, 1881.0, 2273.0, 2767.0, 3405.0, 3981.0, 4995.0, 6247.0, 7478.0, 8113.0, 9960.0, 9373.0, 13802.0, 16521.0, 18864.0, 20605.0, 22334.0, 25564.0, 28573.0, 34559.0, 35918.0, 37981.0, 39180.0, 41196.0, 42880.0, 44876.0]}, {\"hoverlabel\": {\"align\": \"left\"}, \"hovertemplate\": \"On %{text} <br> Total Cases: %{x}<br> Cummulative Cases Last Week %{y}\", \"legendgroup\": \"Italy\", \"marker\": {\"color\": \"rgb(237, 173, 8)\", \"size\": 14, \"symbol\": \"circle\"}, \"mode\": \"markers\", \"name\": \"Italy\", \"text\": [\"03/26/2020\"], \"type\": \"scatter\", \"x\": [80589.0], \"y\": [44876.0]}, {\"hovertemplate\": \"On %{text} <br> Total Cases: %{x}<br> Cummulative Cases Last Week %{y}\", \"legendgroup\": \"Spain\", \"line\": {\"color\": \"rgb(225, 124, 5)\", \"shape\": \"linear\"}, \"marker\": {\"size\": 5, \"symbol\": \"circle-open\"}, \"mode\": \"lines\", \"name\": \"Spain\", \"showlegend\": false, \"text\": [\"03/02/2020\", \"03/03/2020\", \"03/04/2020\", \"03/05/2020\", \"03/06/2020\", \"03/07/2020\", \"03/08/2020\", \"03/09/2020\", \"03/10/2020\", \"03/11/2020\", \"03/12/2020\", \"03/13/2020\", \"03/14/2020\", \"03/15/2020\", \"03/16/2020\", \"03/17/2020\", \"03/18/2020\", \"03/19/2020\", \"03/20/2020\", \"03/21/2020\", \"03/22/2020\", \"03/23/2020\", \"03/24/2020\", \"03/25/2020\", \"03/26/2020\"], \"type\": \"scatter\", \"x\": [120.0, 165.0, 222.0, 259.0, 400.0, 500.0, 673.0, 1073.0, 1695.0, 2277.0, 2277.0, 5232.0, 6391.0, 7798.0, 9942.0, 11748.0, 13910.0, 17963.0, 20410.0, 25374.0, 28768.0, 35136.0, 39885.0, 49515.0, 57786.0], \"y\": [118.0, 163.0, 216.0, 246.0, 385.0, 468.0, 628.0, 989.0, 1575.0, 2112.0, 2055.0, 4973.0, 5991.0, 7298.0, 9269.0, 10675.0, 12215.0, 15686.0, 18133.0, 20142.0, 22377.0, 27338.0, 29943.0, 37767.0, 43876.0]}, {\"hoverlabel\": {\"align\": \"left\"}, \"hovertemplate\": \"On %{text} <br> Total Cases: %{x}<br> Cummulative Cases Last Week %{y}\", \"legendgroup\": \"Spain\", \"marker\": {\"color\": \"rgb(225, 124, 5)\", \"size\": 14, \"symbol\": \"circle\"}, \"mode\": \"markers\", \"name\": \"Spain\", \"text\": [\"03/26/2020\"], \"type\": \"scatter\", \"x\": [57786.0], \"y\": [43876.0]}, {\"line\": {\"color\": \"grey\", \"dash\": \"dash\", \"width\": 4}, \"mode\": \"lines\", \"name\": \"Exponential\", \"type\": \"scatter\", \"x\": [100, 83836.0], \"y\": [100, 83836.0]}],\n",
       "                        {\"annotations\": [{\"arrowhead\": 2, \"font\": {\"color\": \"grey\", \"family\": \"Arial\", \"size\": 20}, \"showarrow\": true, \"text\": \"Exponential Growth\", \"x\": 0.9, \"xref\": \"paper\", \"y\": 0.95, \"yref\": \"paper\"}], \"legend\": {\"title\": {\"text\": \"Click to Toggle\"}}, \"plot_bgcolor\": \"white\", \"template\": {\"data\": {\"bar\": [{\"error_x\": {\"color\": \"#2a3f5f\"}, \"error_y\": {\"color\": \"#2a3f5f\"}, \"marker\": {\"line\": {\"color\": \"#E5ECF6\", \"width\": 0.5}}, \"type\": \"bar\"}], \"barpolar\": [{\"marker\": {\"line\": {\"color\": \"#E5ECF6\", \"width\": 0.5}}, \"type\": \"barpolar\"}], \"carpet\": [{\"aaxis\": {\"endlinecolor\": \"#2a3f5f\", \"gridcolor\": \"white\", \"linecolor\": \"white\", \"minorgridcolor\": \"white\", \"startlinecolor\": \"#2a3f5f\"}, \"baxis\": {\"endlinecolor\": \"#2a3f5f\", \"gridcolor\": \"white\", \"linecolor\": \"white\", \"minorgridcolor\": \"white\", \"startlinecolor\": \"#2a3f5f\"}, \"type\": \"carpet\"}], \"choropleth\": [{\"colorbar\": {\"outlinewidth\": 0, \"ticks\": \"\"}, \"type\": \"choropleth\"}], \"contour\": [{\"colorbar\": {\"outlinewidth\": 0, \"ticks\": \"\"}, \"colorscale\": [[0.0, \"#0d0887\"], [0.1111111111111111, \"#46039f\"], [0.2222222222222222, \"#7201a8\"], [0.3333333333333333, \"#9c179e\"], [0.4444444444444444, \"#bd3786\"], [0.5555555555555556, \"#d8576b\"], [0.6666666666666666, \"#ed7953\"], [0.7777777777777778, \"#fb9f3a\"], [0.8888888888888888, \"#fdca26\"], [1.0, \"#f0f921\"]], \"type\": \"contour\"}], \"contourcarpet\": [{\"colorbar\": {\"outlinewidth\": 0, \"ticks\": \"\"}, \"type\": \"contourcarpet\"}], \"heatmap\": [{\"colorbar\": {\"outlinewidth\": 0, \"ticks\": \"\"}, \"colorscale\": [[0.0, \"#0d0887\"], [0.1111111111111111, \"#46039f\"], [0.2222222222222222, \"#7201a8\"], [0.3333333333333333, \"#9c179e\"], [0.4444444444444444, \"#bd3786\"], [0.5555555555555556, \"#d8576b\"], [0.6666666666666666, \"#ed7953\"], [0.7777777777777778, \"#fb9f3a\"], [0.8888888888888888, \"#fdca26\"], [1.0, \"#f0f921\"]], \"type\": \"heatmap\"}], \"heatmapgl\": [{\"colorbar\": {\"outlinewidth\": 0, \"ticks\": \"\"}, \"colorscale\": [[0.0, \"#0d0887\"], [0.1111111111111111, \"#46039f\"], [0.2222222222222222, \"#7201a8\"], [0.3333333333333333, \"#9c179e\"], [0.4444444444444444, \"#bd3786\"], [0.5555555555555556, \"#d8576b\"], [0.6666666666666666, \"#ed7953\"], [0.7777777777777778, \"#fb9f3a\"], [0.8888888888888888, \"#fdca26\"], [1.0, \"#f0f921\"]], \"type\": \"heatmapgl\"}], \"histogram\": [{\"marker\": {\"colorbar\": {\"outlinewidth\": 0, \"ticks\": \"\"}}, \"type\": \"histogram\"}], \"histogram2d\": [{\"colorbar\": {\"outlinewidth\": 0, \"ticks\": \"\"}, \"colorscale\": [[0.0, \"#0d0887\"], [0.1111111111111111, \"#46039f\"], [0.2222222222222222, \"#7201a8\"], [0.3333333333333333, \"#9c179e\"], [0.4444444444444444, \"#bd3786\"], [0.5555555555555556, \"#d8576b\"], [0.6666666666666666, \"#ed7953\"], [0.7777777777777778, \"#fb9f3a\"], [0.8888888888888888, \"#fdca26\"], [1.0, \"#f0f921\"]], \"type\": \"histogram2d\"}], \"histogram2dcontour\": [{\"colorbar\": {\"outlinewidth\": 0, \"ticks\": \"\"}, \"colorscale\": [[0.0, \"#0d0887\"], [0.1111111111111111, \"#46039f\"], [0.2222222222222222, \"#7201a8\"], [0.3333333333333333, \"#9c179e\"], [0.4444444444444444, \"#bd3786\"], [0.5555555555555556, \"#d8576b\"], [0.6666666666666666, \"#ed7953\"], [0.7777777777777778, \"#fb9f3a\"], [0.8888888888888888, \"#fdca26\"], [1.0, \"#f0f921\"]], \"type\": \"histogram2dcontour\"}], \"mesh3d\": [{\"colorbar\": {\"outlinewidth\": 0, \"ticks\": \"\"}, \"type\": \"mesh3d\"}], \"parcoords\": [{\"line\": {\"colorbar\": {\"outlinewidth\": 0, \"ticks\": \"\"}}, \"type\": \"parcoords\"}], \"pie\": [{\"automargin\": true, \"type\": \"pie\"}], \"scatter\": [{\"marker\": {\"colorbar\": {\"outlinewidth\": 0, \"ticks\": \"\"}}, \"type\": \"scatter\"}], \"scatter3d\": [{\"line\": {\"colorbar\": {\"outlinewidth\": 0, \"ticks\": \"\"}}, \"marker\": {\"colorbar\": {\"outlinewidth\": 0, \"ticks\": \"\"}}, \"type\": \"scatter3d\"}], \"scattercarpet\": [{\"marker\": {\"colorbar\": {\"outlinewidth\": 0, \"ticks\": \"\"}}, \"type\": \"scattercarpet\"}], \"scattergeo\": [{\"marker\": {\"colorbar\": {\"outlinewidth\": 0, \"ticks\": \"\"}}, \"type\": \"scattergeo\"}], \"scattergl\": [{\"marker\": {\"colorbar\": {\"outlinewidth\": 0, \"ticks\": \"\"}}, \"type\": \"scattergl\"}], \"scattermapbox\": [{\"marker\": {\"colorbar\": {\"outlinewidth\": 0, \"ticks\": \"\"}}, \"type\": \"scattermapbox\"}], \"scatterpolar\": [{\"marker\": {\"colorbar\": {\"outlinewidth\": 0, \"ticks\": \"\"}}, \"type\": \"scatterpolar\"}], \"scatterpolargl\": [{\"marker\": {\"colorbar\": {\"outlinewidth\": 0, \"ticks\": \"\"}}, \"type\": \"scatterpolargl\"}], \"scatterternary\": [{\"marker\": {\"colorbar\": {\"outlinewidth\": 0, \"ticks\": \"\"}}, \"type\": \"scatterternary\"}], \"surface\": [{\"colorbar\": {\"outlinewidth\": 0, \"ticks\": \"\"}, \"colorscale\": [[0.0, \"#0d0887\"], [0.1111111111111111, \"#46039f\"], [0.2222222222222222, \"#7201a8\"], [0.3333333333333333, \"#9c179e\"], [0.4444444444444444, \"#bd3786\"], [0.5555555555555556, \"#d8576b\"], [0.6666666666666666, \"#ed7953\"], [0.7777777777777778, \"#fb9f3a\"], [0.8888888888888888, \"#fdca26\"], [1.0, \"#f0f921\"]], \"type\": \"surface\"}], \"table\": [{\"cells\": {\"fill\": {\"color\": \"#EBF0F8\"}, \"line\": {\"color\": \"white\"}}, \"header\": {\"fill\": {\"color\": \"#C8D4E3\"}, \"line\": {\"color\": \"white\"}}, \"type\": \"table\"}]}, \"layout\": {\"annotationdefaults\": {\"arrowcolor\": \"#2a3f5f\", \"arrowhead\": 0, \"arrowwidth\": 1}, \"coloraxis\": {\"colorbar\": {\"outlinewidth\": 0, \"ticks\": \"\"}}, \"colorscale\": {\"diverging\": [[0, \"#8e0152\"], [0.1, \"#c51b7d\"], [0.2, \"#de77ae\"], [0.3, \"#f1b6da\"], [0.4, \"#fde0ef\"], [0.5, \"#f7f7f7\"], [0.6, \"#e6f5d0\"], [0.7, \"#b8e186\"], [0.8, \"#7fbc41\"], [0.9, \"#4d9221\"], [1, \"#276419\"]], \"sequential\": [[0.0, \"#0d0887\"], [0.1111111111111111, \"#46039f\"], [0.2222222222222222, \"#7201a8\"], [0.3333333333333333, \"#9c179e\"], [0.4444444444444444, \"#bd3786\"], [0.5555555555555556, \"#d8576b\"], [0.6666666666666666, \"#ed7953\"], [0.7777777777777778, \"#fb9f3a\"], [0.8888888888888888, \"#fdca26\"], [1.0, \"#f0f921\"]], \"sequentialminus\": [[0.0, \"#0d0887\"], [0.1111111111111111, \"#46039f\"], [0.2222222222222222, \"#7201a8\"], [0.3333333333333333, \"#9c179e\"], [0.4444444444444444, \"#bd3786\"], [0.5555555555555556, \"#d8576b\"], [0.6666666666666666, \"#ed7953\"], [0.7777777777777778, \"#fb9f3a\"], [0.8888888888888888, \"#fdca26\"], [1.0, \"#f0f921\"]]}, \"colorway\": [\"#636efa\", \"#EF553B\", \"#00cc96\", \"#ab63fa\", \"#FFA15A\", \"#19d3f3\", \"#FF6692\", \"#B6E880\", \"#FF97FF\", \"#FECB52\"], \"font\": {\"color\": \"#2a3f5f\"}, \"geo\": {\"bgcolor\": \"white\", \"lakecolor\": \"white\", \"landcolor\": \"#E5ECF6\", \"showlakes\": true, \"showland\": true, \"subunitcolor\": \"white\"}, \"hoverlabel\": {\"align\": \"left\"}, \"hovermode\": \"closest\", \"mapbox\": {\"style\": \"light\"}, \"paper_bgcolor\": \"white\", \"plot_bgcolor\": \"#E5ECF6\", \"polar\": {\"angularaxis\": {\"gridcolor\": \"white\", \"linecolor\": \"white\", \"ticks\": \"\"}, \"bgcolor\": \"#E5ECF6\", \"radialaxis\": {\"gridcolor\": \"white\", \"linecolor\": \"white\", \"ticks\": \"\"}}, \"scene\": {\"xaxis\": {\"backgroundcolor\": \"#E5ECF6\", \"gridcolor\": \"white\", \"gridwidth\": 2, \"linecolor\": \"white\", \"showbackground\": true, \"ticks\": \"\", \"zerolinecolor\": \"white\"}, \"yaxis\": {\"backgroundcolor\": \"#E5ECF6\", \"gridcolor\": \"white\", \"gridwidth\": 2, \"linecolor\": \"white\", \"showbackground\": true, \"ticks\": \"\", \"zerolinecolor\": \"white\"}, \"zaxis\": {\"backgroundcolor\": \"#E5ECF6\", \"gridcolor\": \"white\", \"gridwidth\": 2, \"linecolor\": \"white\", \"showbackground\": true, \"ticks\": \"\", \"zerolinecolor\": \"white\"}}, \"shapedefaults\": {\"line\": {\"color\": \"#2a3f5f\"}}, \"ternary\": {\"aaxis\": {\"gridcolor\": \"white\", \"linecolor\": \"white\", \"ticks\": \"\"}, \"baxis\": {\"gridcolor\": \"white\", \"linecolor\": \"white\", \"ticks\": \"\"}, \"bgcolor\": \"#E5ECF6\", \"caxis\": {\"gridcolor\": \"white\", \"linecolor\": \"white\", \"ticks\": \"\"}}, \"title\": {\"x\": 0.05}, \"xaxis\": {\"automargin\": true, \"gridcolor\": \"white\", \"linecolor\": \"white\", \"ticks\": \"\", \"title\": {\"standoff\": 15}, \"zerolinecolor\": \"white\", \"zerolinewidth\": 2}, \"yaxis\": {\"automargin\": true, \"gridcolor\": \"white\", \"linecolor\": \"white\", \"ticks\": \"\", \"title\": {\"standoff\": 15}, \"zerolinecolor\": \"white\", \"zerolinewidth\": 2}}}, \"xaxis\": {\"linecolor\": \"black\", \"linewidth\": 3, \"showgrid\": false, \"showline\": true, \"showticklabels\": true, \"tickfont\": {\"color\": \"rgb(82, 82, 82)\", \"family\": \"Arial\", \"size\": 16}, \"title\": {\"font\": {\"color\": \"black\", \"family\": \"arial\", \"size\": 20}, \"text\": \"All Cases\"}}, \"yaxis\": {\"linecolor\": \"black\", \"linewidth\": 3, \"showgrid\": false, \"showline\": true, \"showticklabels\": true, \"tickfont\": {\"color\": \"rgb(82, 82, 82)\", \"family\": \"Arial\", \"size\": 16}, \"title\": {\"font\": {\"color\": \"black\", \"family\": \"arial\", \"size\": 20}, \"text\": \"New Cases Past Week\"}}},\n",
       "                        {\"responsive\": true}\n",
       "                    ).then(function(){\n",
       "                            \n",
       "var gd = document.getElementById('5190d5c7-fac4-401a-a159-a97e08756a28');\n",
       "var x = new MutationObserver(function (mutations, observer) {{\n",
       "        var display = window.getComputedStyle(gd).display;\n",
       "        if (!display || display === 'none') {{\n",
       "            console.log([gd, 'removed!']);\n",
       "            Plotly.purge(gd);\n",
       "            observer.disconnect();\n",
       "        }}\n",
       "}});\n",
       "\n",
       "// Listen for the removal of the full notebook cells\n",
       "var notebookContainer = gd.closest('#notebook-container');\n",
       "if (notebookContainer) {{\n",
       "    x.observe(notebookContainer, {childList: true});\n",
       "}}\n",
       "\n",
       "// Listen for the clearing of the current output cell\n",
       "var outputEl = gd.closest('.output');\n",
       "if (outputEl) {{\n",
       "    x.observe(outputEl, {childList: true});\n",
       "}}\n",
       "\n",
       "                        })\n",
       "                };\n",
       "                });\n",
       "            </script>\n",
       "        </div>"
      ]
     },
     "metadata": {},
     "output_type": "display_data"
    }
   ],
   "source": [
    "##Lets find out exponential \n",
    "def plot_countries(countries,backtrack=7,log=True):\n",
    "    fig = go.Figure()\n",
    "    \n",
    "    colors = plotly.colors.qualitative.Prism \n",
    "    max_number = 0\n",
    "    for country_enum, country in enumerate(countries):\n",
    "        full_report = JHU_DF_AGG_COUNTRY[JHU_DF_AGG_COUNTRY['country']==country].groupby('Date').sum().drop(['lat','lon'],axis=1)\n",
    "        per_day = full_report.diff()\n",
    "        plottable = full_report.join(per_day,lsuffix='_cum',rsuffix='_diff')\n",
    "        plottable = plottable.fillna(0)\n",
    "\n",
    "        xs = []\n",
    "        ys = []\n",
    "        dates = []\n",
    "        indexes = plottable.index\n",
    "        for indexer in range(1,len(indexes)):\n",
    "\n",
    "\n",
    "            x = plottable.loc[indexes[indexer]]['confirmed_cum']\n",
    "\n",
    "            if indexer > backtrack:\n",
    "                y = plottable.loc[indexes[indexer-backtrack]:indexes[indexer]].sum()['confirmed_diff']\n",
    "            else:  \n",
    "                y = plottable.loc[:indexes[indexer]].sum()['confirmed_diff']\n",
    "\n",
    "            if y < 100 or x < 100:\n",
    "                continue\n",
    "\n",
    "            if x > max_number:\n",
    "                max_number = x\n",
    "            if y > max_number:\n",
    "                max_number = y\n",
    "            xs.append(x)\n",
    "            ys.append(y)\n",
    "            \n",
    "            dates.append(indexes[indexer].strftime('%m/%d/%Y'))\n",
    "            #print(indexes[indexer].strftime('%m/%d/%Y'))\n",
    "    \n",
    "        \n",
    "\n",
    "        fig.add_trace(\n",
    "            go.Scatter(\n",
    "                x=xs,\n",
    "                y=ys,\n",
    "                mode='lines',\n",
    "                name=country,\n",
    "                text=dates,\n",
    "                showlegend=False,\n",
    "                legendgroup=country,\n",
    "                line=dict(shape='linear',color=colors[country_enum]),\n",
    "                marker=dict(\n",
    "                    symbol='circle-open',\n",
    "                    size=5\n",
    "                    ),\n",
    "               hovertemplate=\"On %{text} <br> Total Cases: %{x}<br> Cummulative Cases Last Week %{y}\"\n",
    "            )\n",
    "        )\n",
    "        fig.add_trace(\n",
    "            go.Scatter(\n",
    "                x=[xs[-1]],\n",
    "                y=[ys[-1]],\n",
    "                mode='markers',\n",
    "                name=country,\n",
    "                text=[dates[-1]],\n",
    "                legendgroup=country,\n",
    "                hoverlabel=dict(align='left'),\n",
    "                marker=dict(\n",
    "                    symbol='circle',\n",
    "                    size=14,\n",
    "                    color=colors[country_enum]\n",
    "                    ),\n",
    "                hovertemplate=\"On %{text} <br> Total Cases: %{x}<br> Cummulative Cases Last Week %{y}\"\n",
    "            )\n",
    "        )\n",
    "    fig.add_trace(\n",
    "        go.Scatter(\n",
    "            x=[100,max_number],\n",
    "            y=[100,max_number],\n",
    "            mode='lines',\n",
    "            name='Exponential',\n",
    "            line=dict(color='grey',width=4,dash='dash')\n",
    "        )\n",
    "    )\n",
    "    if log:\n",
    "        fig.update_xaxes(type=\"log\",dtick=1)\n",
    "        fig.update_yaxes(type=\"log\",dtick=1)\n",
    "    fig.update_layout(\n",
    "    xaxis=dict(\n",
    "        showline=True,\n",
    "        showgrid=False,\n",
    "        showticklabels=True,\n",
    "        linecolor='black',\n",
    "        linewidth=3,\n",
    "        title=dict(text='All Cases',font=dict(color='black',family='arial',size=20)),\n",
    "\n",
    "        tickfont=dict(\n",
    "            family='Arial',\n",
    "            size=16,\n",
    "            color='rgb(82, 82, 82)',\n",
    "        ),\n",
    "    ),\n",
    "    yaxis=dict(\n",
    "        showline=True,\n",
    "        showgrid=False,\n",
    "        showticklabels=True,\n",
    "        linecolor='black',\n",
    "        linewidth=3,\n",
    "        title=dict(text='New Cases Past Week',font=dict(color='black',family='arial',size=20)),\n",
    "        tickfont=dict(\n",
    "            family='Arial',\n",
    "            size=16,\n",
    "            color='rgb(82, 82, 82)',\n",
    "        ),\n",
    "    ),\n",
    "    plot_bgcolor='white'\n",
    "    )\n",
    "    annotations=[]\n",
    "    annotations.append(dict(xref='paper', x=0.9, yref='paper',y=.95,\n",
    "                                  #xanchor='center', yanchor='middle',\n",
    "                                  text=\"Exponential Growth\",\n",
    "                                  font=dict(family='Arial',\n",
    "                                            size=20,\n",
    "                                           color='grey'),\n",
    "                                  showarrow=True,\n",
    "                                  arrowhead=2))\n",
    "\n",
    "    fig.update_layout(legend=dict(title='Click to Toggle'),annotations=annotations)\n",
    "  \n",
    "    return fig\n",
    "    \n",
    "fig = plot_countries(['US','China','France','Mexico','Germany','Italy','Spain'],7,log=False)\n",
    "\n",
    "fig.show()\n"
   ]
  },
  {
   "cell_type": "code",
   "execution_count": 439,
   "metadata": {},
   "outputs": [
    {
     "data": {
      "text/plain": [
       "'03/05/2020'"
      ]
     },
     "execution_count": 439,
     "metadata": {},
     "output_type": "execute_result"
    }
   ],
   "source": [
    "fig.strftime('%m/%d/%Y')"
   ]
  },
  {
   "cell_type": "code",
   "execution_count": null,
   "metadata": {},
   "outputs": [],
   "source": []
  },
  {
   "cell_type": "code",
   "execution_count": null,
   "metadata": {},
   "outputs": [],
   "source": []
  }
 ],
 "metadata": {
  "kernelspec": {
   "display_name": "Python 3",
   "language": "python",
   "name": "python3"
  },
  "language_info": {
   "codemirror_mode": {
    "name": "ipython",
    "version": 3
   },
   "file_extension": ".py",
   "mimetype": "text/x-python",
   "name": "python",
   "nbconvert_exporter": "python",
   "pygments_lexer": "ipython3",
   "version": "3.7.4"
  },
  "toc": {
   "base_numbering": 1,
   "nav_menu": {},
   "number_sections": true,
   "sideBar": true,
   "skip_h1_title": false,
   "title_cell": "Table of Contents",
   "title_sidebar": "Contents",
   "toc_cell": false,
   "toc_position": {},
   "toc_section_display": true,
   "toc_window_display": false
  }
 },
 "nbformat": 4,
 "nbformat_minor": 2
}
